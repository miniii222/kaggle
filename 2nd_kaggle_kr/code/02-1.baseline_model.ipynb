{
 "cells": [
  {
   "cell_type": "code",
   "execution_count": 1,
   "metadata": {
    "ExecuteTime": {
     "end_time": "2019-03-11T11:02:49.234156Z",
     "start_time": "2019-03-11T11:02:48.226296Z"
    }
   },
   "outputs": [],
   "source": [
    "import pandas as pd\n",
    "import numpy as np"
   ]
  },
  {
   "cell_type": "code",
   "execution_count": 2,
   "metadata": {
    "ExecuteTime": {
     "end_time": "2019-03-11T11:02:49.250007Z",
     "start_time": "2019-03-11T11:02:49.238280Z"
    }
   },
   "outputs": [],
   "source": [
    "pd.set_option('display.max_columns', 100)"
   ]
  },
  {
   "cell_type": "code",
   "execution_count": 3,
   "metadata": {
    "ExecuteTime": {
     "end_time": "2019-03-11T11:02:50.727503Z",
     "start_time": "2019-03-11T11:02:50.220829Z"
    }
   },
   "outputs": [],
   "source": [
    "train = pd.read_csv('../input/train.csv')\n",
    "test = pd.read_csv('../input/test.csv')"
   ]
  },
  {
   "cell_type": "markdown",
   "metadata": {},
   "source": [
    "# baseline_model\n",
    "- original data"
   ]
  },
  {
   "cell_type": "code",
   "execution_count": 4,
   "metadata": {
    "ExecuteTime": {
     "end_time": "2019-03-11T11:02:54.740446Z",
     "start_time": "2019-03-11T11:02:52.202751Z"
    }
   },
   "outputs": [],
   "source": [
    "#models\n",
    "from lightgbm import LGBMRegressor\n",
    "from xgboost import XGBRegressor\n",
    "from sklearn.ensemble import RandomForestRegressor\n",
    "\n",
    "#cv\n",
    "from sklearn.model_selection import KFold\n",
    "cv = KFold(5, shuffle=True, random_state=0)\n",
    "#mse\n",
    "from sklearn.metrics import mean_squared_error as mse"
   ]
  },
  {
   "cell_type": "markdown",
   "metadata": {},
   "source": [
    "## models"
   ]
  },
  {
   "cell_type": "code",
   "execution_count": 5,
   "metadata": {
    "ExecuteTime": {
     "end_time": "2019-03-11T11:02:54.755895Z",
     "start_time": "2019-03-11T11:02:54.744906Z"
    }
   },
   "outputs": [],
   "source": [
    "lgb = LGBMRegressor()\n",
    "xgb = XGBRegressor()\n",
    "rf = RandomForestRegressor()"
   ]
  },
  {
   "cell_type": "code",
   "execution_count": 6,
   "metadata": {
    "ExecuteTime": {
     "end_time": "2019-03-11T11:02:54.918114Z",
     "start_time": "2019-03-11T11:02:54.910362Z"
    }
   },
   "outputs": [],
   "source": [
    "import warnings\n",
    "warnings.simplefilter(action='ignore', category=FutureWarning)"
   ]
  },
  {
   "cell_type": "markdown",
   "metadata": {},
   "source": [
    "## cv"
   ]
  },
  {
   "cell_type": "code",
   "execution_count": 23,
   "metadata": {
    "ExecuteTime": {
     "end_time": "2019-03-11T10:50:45.199416Z",
     "start_time": "2019-03-11T10:50:13.199799Z"
    }
   },
   "outputs": [
    {
     "name": "stdout",
     "output_type": "stream",
     "text": [
      "[K = 0 ]\n",
      "<lgb>\n",
      "train rmse = 83044.657378767, cv rmse = 130610.25214137646\n",
      "<xgb>\n",
      "train rmse = 114152.52949062479, cv rmse = 145346.46344708913\n",
      "<rf>\n",
      "train rmse = 60421.77394767747, cv rmse = 147473.64249790806\n",
      "[K = 1 ]\n",
      "<lgb>\n",
      "train rmse = 85958.41592234666, cv rmse = 124540.47332799023\n",
      "<xgb>\n",
      "train rmse = 111637.6008043531, cv rmse = 136988.9528353131\n",
      "<rf>\n",
      "train rmse = 62938.16665008253, cv rmse = 142354.74236064777\n",
      "[K = 2 ]\n",
      "<lgb>\n",
      "train rmse = 88268.79426692182, cv rmse = 111535.54619914056\n",
      "<xgb>\n",
      "train rmse = 114239.04741278247, cv rmse = 128288.03396857729\n",
      "<rf>\n",
      "train rmse = 61882.26177829107, cv rmse = 146889.1494059129\n",
      "[K = 3 ]\n",
      "<lgb>\n",
      "train rmse = 81099.55193654148, cv rmse = 143204.88912336438\n",
      "<xgb>\n",
      "train rmse = 111408.14534547333, cv rmse = 147255.98004644827\n",
      "<rf>\n",
      "train rmse = 57852.0889260127, cv rmse = 151263.72091744666\n",
      "[K = 4 ]\n",
      "<lgb>\n",
      "train rmse = 86417.28199958829, cv rmse = 118652.22766446463\n",
      "<xgb>\n",
      "train rmse = 113951.15552531635, cv rmse = 134950.9518736607\n",
      "<rf>\n",
      "train rmse = 59775.43923406422, cv rmse = 144093.5383297481\n"
     ]
    }
   ],
   "source": [
    "#train data cv\n",
    "for i, (idx_train, idx_cv) in enumerate(cv.split(train)):\n",
    "    df_train = train.iloc[idx_train]\n",
    "    df_cv = train.iloc[idx_cv]\n",
    "    \n",
    "    x_train = df_train.drop(['price','id','date'], axis=1)\n",
    "    y_train = df_train['price']\n",
    "    x_cv = df_cv.drop(['price','id','date'], axis=1)\n",
    "    y_cv = df_cv['price']\n",
    "    \n",
    "    print('[K =',i,']')\n",
    "    \n",
    "    print('<lgb>')\n",
    "    lgb.fit(x_train, y_train)\n",
    "    print(\"train rmse = {}, cv rmse = {}\".format(np.sqrt(mse(y_train, lgb.predict(x_train))),\n",
    "                                                np.sqrt(mse(y_cv, lgb.predict(x_cv)))) )\n",
    "    print('<xgb>')\n",
    "    xgb.fit(x_train, y_train)\n",
    "    print(\"train rmse = {}, cv rmse = {}\".format(np.sqrt(mse(y_train, xgb.predict(x_train))),\n",
    "                                                np.sqrt(mse(y_cv, xgb.predict(x_cv)))) )\n",
    "    print('<rf>')\n",
    "    rf.fit(x_train, y_train)\n",
    "    print(\"train rmse = {}, cv rmse = {}\".format(np.sqrt(mse(y_train, rf.predict(x_train))),\n",
    "                                                np.sqrt(mse(y_cv, rf.predict(x_cv)))) )"
   ]
  },
  {
   "cell_type": "markdown",
   "metadata": {},
   "source": [
    "## lgb_sub"
   ]
  },
  {
   "cell_type": "code",
   "execution_count": 7,
   "metadata": {
    "ExecuteTime": {
     "end_time": "2019-03-11T11:03:12.270141Z",
     "start_time": "2019-03-11T11:03:12.256473Z"
    }
   },
   "outputs": [],
   "source": [
    "x_train = train.drop(['price','id','date'], axis=1)\n",
    "y_train = train['price']\n",
    "x_test = test.drop(['id','date'], axis=1)"
   ]
  },
  {
   "cell_type": "code",
   "execution_count": 8,
   "metadata": {
    "ExecuteTime": {
     "end_time": "2019-03-11T11:03:20.125535Z",
     "start_time": "2019-03-11T11:03:12.955476Z"
    }
   },
   "outputs": [],
   "source": [
    "lgb.fit(x_train, y_train)\n",
    "lgb_pred = lgb.predict(x_test)\n",
    "\n",
    "xgb.fit(x_train, y_train)\n",
    "xgb_pred = xgb.predict(x_test)\n",
    "\n",
    "rf.fit(x_train, y_train)\n",
    "rf_pred = rf.predict(x_test)"
   ]
  },
  {
   "cell_type": "code",
   "execution_count": 10,
   "metadata": {
    "ExecuteTime": {
     "end_time": "2019-03-11T11:04:23.493506Z",
     "start_time": "2019-03-11T11:04:22.786134Z"
    }
   },
   "outputs": [
    {
     "data": {
      "image/png": "[encoded data removed]",
      "text/plain": [
       "<Figure size 1440x720 with 1 Axes>"
      ]
     },
     "metadata": {
      "needs_background": "light"
     },
     "output_type": "display_data"
    }
   ],
   "source": [
    "import matplotlib.pyplot as plt\n",
    "import seaborn as sns\n",
    "\n",
    "# sorted(zip(clf.feature_importances_, X.columns), reverse=True)\n",
    "feature_imp = pd.DataFrame(sorted(zip(lgb.feature_importances_, x_train.columns)), columns=['Value','Feature'])\n",
    "\n",
    "plt.figure(figsize=(20, 10))\n",
    "sns.barplot(x=\"Value\", y=\"Feature\", data=feature_imp.sort_values(by=\"Value\", ascending=False))\n",
    "plt.title('LightGBM Features (avg over folds)')\n",
    "plt.tight_layout()\n",
    "plt.show()"
   ]
  },
  {
   "cell_type": "code",
   "execution_count": 42,
   "metadata": {
    "ExecuteTime": {
     "end_time": "2019-03-11T10:59:37.777997Z",
     "start_time": "2019-03-11T10:59:37.718723Z"
    }
   },
   "outputs": [],
   "source": [
    "lgb_sub = pd.DataFrame({'id' : test.id, 'price' : lgb_pred})\n",
    "#lgb_sub.to_csv('../sub/190311_lgb_base.csv', index = False) - 97477.86490"
   ]
  },
  {
   "cell_type": "markdown",
   "metadata": {},
   "source": [
    "## ensemble_sub(xgb,lgb,rf 평균)"
   ]
  },
  {
   "cell_type": "code",
   "execution_count": 44,
   "metadata": {
    "ExecuteTime": {
     "end_time": "2019-03-11T10:59:54.712229Z",
     "start_time": "2019-03-11T10:59:54.648891Z"
    }
   },
   "outputs": [],
   "source": [
    "esb_pred = (lgb_pred+xgb_pred+rf_pred)/3\n",
    "esb_sub = pd.DataFrame({'id' : test.id, 'price' : esb_pred})\n",
    "#esb_sub.to_csv('../sub/190311_ensemble_base.csv', index = False) - 99665.60234"
   ]
  }
 ],
 "metadata": {
  "hide_input": false,
  "kernelspec": {
   "display_name": "Python 3",
   "language": "python",
   "name": "python3"
  },
  "language_info": {
   "codemirror_mode": {
    "name": "ipython",
    "version": 3
   },
   "file_extension": ".py",
   "mimetype": "text/x-python",
   "name": "python",
   "nbconvert_exporter": "python",
   "pygments_lexer": "ipython3",
   "version": "3.7.1"
  },
  "toc": {
   "base_numbering": 1,
   "nav_menu": {},
   "number_sections": true,
   "sideBar": true,
   "skip_h1_title": false,
   "title_cell": "Table of Contents",
   "title_sidebar": "Contents",
   "toc_cell": false,
   "toc_position": {},
   "toc_section_display": true,
   "toc_window_display": true
  }
 },
 "nbformat": 4,
 "nbformat_minor": 2
}
