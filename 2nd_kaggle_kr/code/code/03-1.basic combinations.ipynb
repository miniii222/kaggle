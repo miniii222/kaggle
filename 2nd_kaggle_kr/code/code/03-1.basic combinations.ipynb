{
 "cells": [
  {
   "cell_type": "code",
   "execution_count": 5,
   "metadata": {
    "ExecuteTime": {
     "end_time": "2019-03-12T12:24:30.994537Z",
     "start_time": "2019-03-12T12:24:30.988552Z"
    }
   },
   "outputs": [],
   "source": [
    "import pandas as pd\n",
    "import numpy as np\n",
    "import warnings; warnings.simplefilter('ignore',FutureWarning)"
   ]
  },
  {
   "cell_type": "code",
   "execution_count": 2,
   "metadata": {
    "ExecuteTime": {
     "end_time": "2019-03-12T12:23:58.766659Z",
     "start_time": "2019-03-12T12:23:58.762669Z"
    }
   },
   "outputs": [],
   "source": [
    "pd.set_option('display.max_columns', 100)"
   ]
  },
  {
   "cell_type": "code",
   "execution_count": 3,
   "metadata": {
    "ExecuteTime": {
     "end_time": "2019-03-12T12:24:05.087232Z",
     "start_time": "2019-03-12T12:24:04.617387Z"
    }
   },
   "outputs": [],
   "source": [
    "train = pd.read_csv('../input/train.csv')\n",
    "test = pd.read_csv('../input/test.csv')"
   ]
  },
  {
   "cell_type": "code",
   "execution_count": 8,
   "metadata": {
    "ExecuteTime": {
     "end_time": "2019-03-12T12:26:55.911988Z",
     "start_time": "2019-03-12T12:26:55.907005Z"
    }
   },
   "outputs": [],
   "source": [
    "feartures = ['bedrooms', 'bathrooms', 'sqft_living',\n",
    "       'sqft_lot', 'floors', 'waterfront', 'view', 'condition', 'grade',\n",
    "       'sqft_above', 'sqft_basement', 'yr_built', 'yr_renovated', 'zipcode',\n",
    "       'lat', 'long', 'sqft_living15', 'sqft_lot15']\n",
    "\n",
    "new_col = ['_^2','_log','_reci']"
   ]
  },
  {
   "cell_type": "code",
   "execution_count": 10,
   "metadata": {
    "ExecuteTime": {
     "end_time": "2019-03-12T12:30:13.103666Z",
     "start_time": "2019-03-12T12:30:12.972945Z"
    }
   },
   "outputs": [],
   "source": [
    "for col in feartures :\n",
    "    #square\n",
    "    col_name = col + new_col[0]\n",
    "    train[col_name] = train[col] ** 2\n",
    "    test[col_name] = test[col] ** 2\n",
    "    \n",
    "    #log\n",
    "    col_name = col + new_col[1]\n",
    "    train[col_name] = np.log(train[col] - train[col].min() + 0.00001)\n",
    "    test[col_name] = np.log(test[col] - test[col].min() + 0.00001)\n",
    "    \n",
    "    #reciprocal\n",
    "    col_name = col + new_col[2]\n",
    "    train[col_name] = 1 / (train[col] + 0.00001)\n",
    "    test[col_name] = 1 / (test[col] + 0.00001)"
   ]
  },
  {
   "cell_type": "code",
   "execution_count": 12,
   "metadata": {
    "ExecuteTime": {
     "end_time": "2019-03-12T12:30:46.380919Z",
     "start_time": "2019-03-12T12:30:46.373939Z"
    }
   },
   "outputs": [
    {
     "name": "stdout",
     "output_type": "stream",
     "text": [
      "train shape :  (15035, 88)\n",
      "test shape :  (6468, 87)\n"
     ]
    }
   ],
   "source": [
    "print('train shape : ', train.shape)\n",
    "print('test shape : ', test.shape)"
   ]
  },
  {
   "cell_type": "code",
   "execution_count": 14,
   "metadata": {
    "ExecuteTime": {
     "end_time": "2019-03-12T12:31:31.609849Z",
     "start_time": "2019-03-12T12:31:28.695215Z"
    }
   },
   "outputs": [],
   "source": [
    "train.to_csv('../input/train2.csv', index = False)\n",
    "test.to_csv('../input/test2.csv', index = False)"
   ]
  }
 ],
 "metadata": {
  "hide_input": false,
  "kernelspec": {
   "display_name": "Python 3",
   "language": "python",
   "name": "python3"
  },
  "language_info": {
   "codemirror_mode": {
    "name": "ipython",
    "version": 3
   },
   "file_extension": ".py",
   "mimetype": "text/x-python",
   "name": "python",
   "nbconvert_exporter": "python",
   "pygments_lexer": "ipython3",
   "version": "3.7.1"
  },
  "toc": {
   "base_numbering": 1,
   "nav_menu": {},
   "number_sections": true,
   "sideBar": true,
   "skip_h1_title": false,
   "title_cell": "Table of Contents",
   "title_sidebar": "Contents",
   "toc_cell": false,
   "toc_position": {},
   "toc_section_display": true,
   "toc_window_display": false
  }
 },
 "nbformat": 4,
 "nbformat_minor": 2
}
