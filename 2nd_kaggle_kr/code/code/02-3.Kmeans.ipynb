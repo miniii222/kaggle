{
 "cells": [
  {
   "cell_type": "code",
   "execution_count": 1,
   "metadata": {
    "ExecuteTime": {
     "end_time": "2019-03-25T05:19:37.912281Z",
     "start_time": "2019-03-25T05:19:34.788962Z"
    }
   },
   "outputs": [
    {
     "data": {
      "text/plain": [
       "['sample_submission.csv',\n",
       " 'test.csv',\n",
       " 'test2.csv',\n",
       " 'test_original.csv',\n",
       " 'test_sqft.csv',\n",
       " 'train.csv',\n",
       " 'train2.csv',\n",
       " 'train_original.csv',\n",
       " 'train_sqft.csv']"
      ]
     },
     "execution_count": 1,
     "metadata": {},
     "output_type": "execute_result"
    }
   ],
   "source": [
    "import pandas as pd\n",
    "import numpy as  np\n",
    "\n",
    "import os\n",
    "os.listdir('../input')"
   ]
  },
  {
   "cell_type": "code",
   "execution_count": 2,
   "metadata": {
    "ExecuteTime": {
     "end_time": "2019-03-25T05:20:30.047267Z",
     "start_time": "2019-03-25T05:20:26.667885Z"
    }
   },
   "outputs": [],
   "source": [
    "train = pd.read_csv('../input/train2.csv')\n",
    "test = pd.read_csv('../input/test2.csv')"
   ]
  },
  {
   "cell_type": "code",
   "execution_count": 4,
   "metadata": {
    "ExecuteTime": {
     "end_time": "2019-03-25T05:21:58.511843Z",
     "start_time": "2019-03-25T05:21:58.506661Z"
    }
   },
   "outputs": [],
   "source": [
    "from sklearn.cluster import KMeans\n",
    "from sklearn.preprocessing import MinMaxScaler"
   ]
  },
  {
   "cell_type": "markdown",
   "metadata": {},
   "source": [
    "# Kmeans train-test separate"
   ]
  },
  {
   "cell_type": "code",
   "execution_count": 10,
   "metadata": {
    "ExecuteTime": {
     "end_time": "2019-03-25T05:24:20.834142Z",
     "start_time": "2019-03-25T05:24:20.822486Z"
    }
   },
   "outputs": [],
   "source": [
    "position = train[['long','lat']]\n",
    "\n",
    "mms = MinMaxScaler()\n",
    "position_transformed = mms.fit_transform(position)"
   ]
  },
  {
   "cell_type": "code",
   "execution_count": 15,
   "metadata": {
    "ExecuteTime": {
     "end_time": "2019-03-25T05:25:43.024319Z",
     "start_time": "2019-03-25T05:25:42.598269Z"
    }
   },
   "outputs": [],
   "source": [
    "import matplotlib.pyplot as plt"
   ]
  },
  {
   "cell_type": "code",
   "execution_count": 16,
   "metadata": {
    "ExecuteTime": {
     "end_time": "2019-03-25T05:25:52.621504Z",
     "start_time": "2019-03-25T05:25:43.767833Z"
    }
   },
   "outputs": [
    {
     "data": {
      "image/png": "[encoded data removed]",
      "text/plain": [
       "<Figure size 432x288 with 1 Axes>"
      ]
     },
     "metadata": {
      "needs_background": "light"
     },
     "output_type": "display_data"
    }
   ],
   "source": [
    "SSD = []\n",
    "\n",
    "for k in range(1,10):\n",
    "    km = KMeans(n_clusters = k)\n",
    "    km = km.fit(position_transformed)\n",
    "    SSD.append(km.inertia_)\n",
    "    \n",
    "plt.plot(range(1,10), SSD, 'bx-')\n",
    "plt.xlabel('k')\n",
    "plt.ylabel('Sum_of_squared_distances')\n",
    "plt.title('Elbow Method For Optimal k')\n",
    "plt.show()"
   ]
  },
  {
   "cell_type": "code",
   "execution_count": 18,
   "metadata": {
    "ExecuteTime": {
     "end_time": "2019-03-25T05:28:26.176559Z",
     "start_time": "2019-03-25T05:28:25.727937Z"
    }
   },
   "outputs": [
    {
     "data": {
      "text/plain": [
       "KMeans(algorithm='auto', copy_x=True, init='k-means++', max_iter=300,\n",
       "    n_clusters=3, n_init=10, n_jobs=None, precompute_distances='auto',\n",
       "    random_state=None, tol=0.0001, verbose=0)"
      ]
     },
     "execution_count": 18,
     "metadata": {},
     "output_type": "execute_result"
    }
   ],
   "source": [
    "k=3\n",
    "km = KMeans(n_clusters = k, algorithm = 'auto')\n",
    "km.fit(position_transformed)"
   ]
  },
  {
   "cell_type": "code",
   "execution_count": 23,
   "metadata": {
    "ExecuteTime": {
     "end_time": "2019-03-25T05:31:26.366759Z",
     "start_time": "2019-03-25T05:31:26.354886Z"
    }
   },
   "outputs": [],
   "source": [
    "train['position'] = km.predict(position_transformed)"
   ]
  },
  {
   "cell_type": "code",
   "execution_count": 24,
   "metadata": {
    "ExecuteTime": {
     "end_time": "2019-03-25T05:32:56.863567Z",
     "start_time": "2019-03-25T05:32:56.849476Z"
    }
   },
   "outputs": [],
   "source": [
    "position = test[['long','lat']]\n",
    "\n",
    "mms = MinMaxScaler()\n",
    "position_transformed = mms.fit_transform(position)"
   ]
  },
  {
   "cell_type": "code",
   "execution_count": 25,
   "metadata": {
    "ExecuteTime": {
     "end_time": "2019-03-25T05:33:16.319432Z",
     "start_time": "2019-03-25T05:33:16.067633Z"
    }
   },
   "outputs": [],
   "source": [
    "k=3\n",
    "km = KMeans(n_clusters = k, algorithm = 'auto')\n",
    "km.fit(position_transformed)\n",
    "test['position'] = km.predict(position_transformed)"
   ]
  },
  {
   "cell_type": "markdown",
   "metadata": {},
   "source": [
    "## xgboost"
   ]
  },
  {
   "cell_type": "code",
   "execution_count": 29,
   "metadata": {
    "ExecuteTime": {
     "end_time": "2019-03-25T05:33:49.123814Z",
     "start_time": "2019-03-25T05:33:48.691119Z"
    }
   },
   "outputs": [],
   "source": [
    "import xgboost as xgb"
   ]
  },
  {
   "cell_type": "code",
   "execution_count": 31,
   "metadata": {
    "ExecuteTime": {
     "end_time": "2019-03-25T05:34:12.667230Z",
     "start_time": "2019-03-25T05:34:12.643103Z"
    }
   },
   "outputs": [],
   "source": [
    "x_train = train.drop(['id', 'price','date'], axis = 1)\n",
    "y_train = train['price']\n",
    "x_test = test.drop(['id','date'], axis = 1)"
   ]
  },
  {
   "cell_type": "code",
   "execution_count": 32,
   "metadata": {
    "ExecuteTime": {
     "end_time": "2019-03-25T05:42:30.310059Z",
     "start_time": "2019-03-25T05:34:14.078212Z"
    }
   },
   "outputs": [
    {
     "name": "stdout",
     "output_type": "stream",
     "text": [
      "Transform DMatrix...\n",
      "Start Cross Validation...\n"
     ]
    },
    {
     "name": "stderr",
     "output_type": "stream",
     "text": [
      "C:\\Users\\wjssm\\Anaconda3\\lib\\site-packages\\xgboost\\core.py:587: FutureWarning: Series.base is deprecated and will be removed in a future version\n",
      "  if getattr(data, 'base', None) is not None and \\\n",
      "C:\\Users\\wjssm\\Anaconda3\\lib\\site-packages\\xgboost\\core.py:588: FutureWarning: Series.base is deprecated and will be removed in a future version\n",
      "  data.base is not None and isinstance(data, np.ndarray) \\\n"
     ]
    },
    {
     "name": "stdout",
     "output_type": "stream",
     "text": [
      "[0]\ttrain-rmse:650014\ttest-rmse:650101\n",
      "[50]\ttrain-rmse:416368\ttest-rmse:420421\n",
      "[100]\ttrain-rmse:276690\ttest-rmse:286702\n",
      "[150]\ttrain-rmse:194584\ttest-rmse:211197\n",
      "[200]\ttrain-rmse:147502\ttest-rmse:171314\n",
      "[250]\ttrain-rmse:120835\ttest-rmse:151186\n",
      "[300]\ttrain-rmse:105719\ttest-rmse:141109\n",
      "[350]\ttrain-rmse:97097\ttest-rmse:135700\n",
      "[400]\ttrain-rmse:91806.4\ttest-rmse:132749\n",
      "[450]\ttrain-rmse:88028.8\ttest-rmse:130776\n",
      "[500]\ttrain-rmse:85193.5\ttest-rmse:129480\n",
      "[550]\ttrain-rmse:82888.2\ttest-rmse:128423\n",
      "[600]\ttrain-rmse:80950.9\ttest-rmse:127624\n",
      "[650]\ttrain-rmse:79245\ttest-rmse:126999\n",
      "[700]\ttrain-rmse:77706.1\ttest-rmse:126573\n",
      "[750]\ttrain-rmse:76114.2\ttest-rmse:126031\n",
      "[800]\ttrain-rmse:74532.3\ttest-rmse:125524\n",
      "[850]\ttrain-rmse:73055.1\ttest-rmse:125113\n",
      "[900]\ttrain-rmse:71689.7\ttest-rmse:124780\n",
      "[950]\ttrain-rmse:70272.7\ttest-rmse:124413\n",
      "[1000]\ttrain-rmse:69011.2\ttest-rmse:124148\n",
      "[1050]\ttrain-rmse:67726.6\ttest-rmse:123865\n",
      "[1100]\ttrain-rmse:66549\ttest-rmse:123592\n",
      "[1150]\ttrain-rmse:65472.5\ttest-rmse:123395\n",
      "[1200]\ttrain-rmse:64322.9\ttest-rmse:123141\n",
      "[1250]\ttrain-rmse:63298\ttest-rmse:122926\n",
      "[1300]\ttrain-rmse:62311.4\ttest-rmse:122729\n",
      "[1350]\ttrain-rmse:61341.2\ttest-rmse:122562\n",
      "[1400]\ttrain-rmse:60434.7\ttest-rmse:122412\n",
      "[1450]\ttrain-rmse:59535.5\ttest-rmse:122307\n",
      "[1500]\ttrain-rmse:58688.6\ttest-rmse:122177\n",
      "[1550]\ttrain-rmse:57870.7\ttest-rmse:122054\n",
      "[1600]\ttrain-rmse:57072\ttest-rmse:121927\n",
      "[1650]\ttrain-rmse:56293.5\ttest-rmse:121794\n",
      "[1700]\ttrain-rmse:55548.5\ttest-rmse:121677\n",
      "[1750]\ttrain-rmse:54806.5\ttest-rmse:121604\n",
      "[1800]\ttrain-rmse:54079.9\ttest-rmse:121512\n",
      "[1850]\ttrain-rmse:53393.3\ttest-rmse:121445\n",
      "[1900]\ttrain-rmse:52724.3\ttest-rmse:121370\n",
      "[1950]\ttrain-rmse:52060.3\ttest-rmse:121288\n",
      "[2000]\ttrain-rmse:51408\ttest-rmse:121228\n",
      "[2050]\ttrain-rmse:50785.1\ttest-rmse:121163\n",
      "[2100]\ttrain-rmse:50161.6\ttest-rmse:121088\n",
      "[2150]\ttrain-rmse:49548.1\ttest-rmse:121038\n",
      "[2200]\ttrain-rmse:48972\ttest-rmse:120994\n",
      "[2250]\ttrain-rmse:48380.8\ttest-rmse:120954\n",
      "[2300]\ttrain-rmse:47853.1\ttest-rmse:120907\n",
      "[2350]\ttrain-rmse:47303.7\ttest-rmse:120863\n",
      "[2400]\ttrain-rmse:46763\ttest-rmse:120822\n",
      "[2450]\ttrain-rmse:46205.8\ttest-rmse:120795\n"
     ]
    }
   ],
   "source": [
    "xgb_params = {\n",
    "    'eta': 0.01,\n",
    "    'max_depth': 6,\n",
    "    'subsample': 0.8,\n",
    "    'colsample_bytree': 0.8,\n",
    "    'objective': 'reg:linear',\n",
    "    'eval_metric': 'rmse',\n",
    "    'silent': 1\n",
    "}\n",
    "\n",
    "print('Transform DMatrix...')\n",
    "dtrain = xgb.DMatrix(x_train, y_train)\n",
    "dtest = xgb.DMatrix(x_test)\n",
    "\n",
    "print('Start Cross Validation...')\n",
    "\n",
    "cv_output = xgb.cv(xgb_params, dtrain, num_boost_round=5000, early_stopping_rounds=20,verbose_eval=50, show_stdv=False)\n"
   ]
  },
  {
   "cell_type": "code",
   "execution_count": 33,
   "metadata": {
    "ExecuteTime": {
     "end_time": "2019-03-25T05:44:05.039571Z",
     "start_time": "2019-03-25T05:44:04.720561Z"
    }
   },
   "outputs": [
    {
     "data": {
      "text/plain": [
       "<matplotlib.axes._subplots.AxesSubplot at 0x196f1271b00>"
      ]
     },
     "execution_count": 33,
     "metadata": {},
     "output_type": "execute_result"
    },
    {
     "data": {
      "image/png": "[encoded data removed]",
      "text/plain": [
       "<Figure size 432x288 with 1 Axes>"
      ]
     },
     "metadata": {
      "needs_background": "light"
     },
     "output_type": "display_data"
    }
   ],
   "source": [
    "cv_output[['train-rmse-mean', 'test-rmse-mean']].plot()"
   ]
  },
  {
   "cell_type": "code",
   "execution_count": 34,
   "metadata": {
    "ExecuteTime": {
     "end_time": "2019-03-25T05:44:21.926938Z",
     "start_time": "2019-03-25T05:44:21.917539Z"
    }
   },
   "outputs": [
    {
     "name": "stdout",
     "output_type": "stream",
     "text": [
      "best num_boost_rounds =  2448\n"
     ]
    },
    {
     "data": {
      "text/plain": [
       "2448"
      ]
     },
     "execution_count": 34,
     "metadata": {},
     "output_type": "execute_result"
    }
   ],
   "source": [
    "print('best num_boost_rounds = ', len(cv_output))\n",
    "rounds = len(cv_output)\n",
    "rounds"
   ]
  },
  {
   "cell_type": "code",
   "execution_count": 35,
   "metadata": {
    "ExecuteTime": {
     "end_time": "2019-03-25T05:48:14.322916Z",
     "start_time": "2019-03-25T05:44:36.170240Z"
    }
   },
   "outputs": [],
   "source": [
    "model = xgb.train(xgb_params, dtrain, num_boost_round = rounds)\n",
    "preds = model.predict(dtest)\n",
    "sub = pd.DataFrame({'id':test.id, 'price' : preds} )"
   ]
  },
  {
   "cell_type": "code",
   "execution_count": 36,
   "metadata": {
    "ExecuteTime": {
     "end_time": "2019-03-25T05:48:14.407851Z",
     "start_time": "2019-03-25T05:48:14.327967Z"
    }
   },
   "outputs": [],
   "source": [
    "#sub.to_csv('../sub/sub_xgb_train_knn_190325.csv', index=False) - 110105.41487"
   ]
  }
 ],
 "metadata": {
  "hide_input": false,
  "kernelspec": {
   "display_name": "Python 3",
   "language": "python",
   "name": "python3"
  },
  "language_info": {
   "codemirror_mode": {
    "name": "ipython",
    "version": 3
   },
   "file_extension": ".py",
   "mimetype": "text/x-python",
   "name": "python",
   "nbconvert_exporter": "python",
   "pygments_lexer": "ipython3",
   "version": "3.7.1"
  },
  "toc": {
   "base_numbering": 1,
   "nav_menu": {},
   "number_sections": true,
   "sideBar": true,
   "skip_h1_title": false,
   "title_cell": "Table of Contents",
   "title_sidebar": "Contents",
   "toc_cell": false,
   "toc_position": {
    "height": "calc(100% - 180px)",
    "left": "10px",
    "top": "150px",
    "width": "279.273px"
   },
   "toc_section_display": true,
   "toc_window_display": true
  }
 },
 "nbformat": 4,
 "nbformat_minor": 2
}
