{
 "cells": [
  {
   "cell_type": "code",
   "execution_count": 1,
   "metadata": {
    "ExecuteTime": {
     "end_time": "2019-03-25T05:10:00.940156Z",
     "start_time": "2019-03-25T05:09:57.355189Z"
    }
   },
   "outputs": [
    {
     "data": {
      "text/plain": [
       "['sample_submission.csv',\n",
       " 'test.csv',\n",
       " 'test2.csv',\n",
       " 'test_original.csv',\n",
       " 'test_sqft.csv',\n",
       " 'train.csv',\n",
       " 'train2.csv',\n",
       " 'train_original.csv',\n",
       " 'train_sqft.csv']"
      ]
     },
     "execution_count": 1,
     "metadata": {},
     "output_type": "execute_result"
    }
   ],
   "source": [
    "import pandas as pd\n",
    "import numpy as  np\n",
    "\n",
    "import os\n",
    "os.listdir('../input')"
   ]
  },
  {
   "cell_type": "code",
   "execution_count": 2,
   "metadata": {
    "ExecuteTime": {
     "end_time": "2019-03-25T05:10:04.534968Z",
     "start_time": "2019-03-25T05:10:00.944849Z"
    }
   },
   "outputs": [],
   "source": [
    "train = pd.read_csv('../input/train2.csv')\n",
    "test = pd.read_csv('../input/test2.csv')"
   ]
  },
  {
   "cell_type": "code",
   "execution_count": 3,
   "metadata": {
    "ExecuteTime": {
     "end_time": "2019-03-25T05:10:04.556814Z",
     "start_time": "2019-03-25T05:10:04.535968Z"
    }
   },
   "outputs": [
    {
     "data": {
      "text/plain": [
       "Index(['id', 'date', 'price', 'bedrooms', 'bathrooms', 'sqft_living',\n",
       "       'sqft_lot', 'floors', 'waterfront', 'view', 'condition', 'grade',\n",
       "       'sqft_above', 'sqft_basement', 'yr_built', 'yr_renovated', 'zipcode',\n",
       "       'lat', 'long', 'sqft_living15', 'sqft_lot15', 'year', 'month', 'day',\n",
       "       'week', 'weekend', 'renovated_or_not', 'date_renovated_diff',\n",
       "       'date_renovated_diff_log', 'date_built_diff', 'date_built_diff_log',\n",
       "       'built_renovated_diff', 'log_lat', 'log_long', 'bedrooms_^2',\n",
       "       'bedrooms_log', 'bedrooms_reci', 'bathrooms_^2', 'bathrooms_log',\n",
       "       'bathrooms_reci', 'sqft_living_^2', 'sqft_living_log',\n",
       "       'sqft_living_reci', 'sqft_lot_^2', 'sqft_lot_log', 'sqft_lot_reci',\n",
       "       'floors_^2', 'floors_log', 'floors_reci', 'waterfront_^2',\n",
       "       'waterfront_log', 'waterfront_reci', 'view_^2', 'view_log', 'view_reci',\n",
       "       'condition_^2', 'condition_log', 'condition_reci', 'grade_^2',\n",
       "       'grade_log', 'grade_reci', 'sqft_above_^2', 'sqft_above_log',\n",
       "       'sqft_above_reci', 'sqft_basement_^2', 'sqft_basement_log',\n",
       "       'sqft_basement_reci', 'yr_built_^2', 'yr_built_log', 'yr_built_reci',\n",
       "       'yr_renovated_^2', 'yr_renovated_log', 'yr_renovated_reci',\n",
       "       'zipcode_^2', 'zipcode_log', 'zipcode_reci', 'lat_^2', 'lat_log',\n",
       "       'lat_reci', 'long_^2', 'long_log', 'long_reci', 'sqft_living15_^2',\n",
       "       'sqft_living15_log', 'sqft_living15_reci', 'sqft_lot15_^2',\n",
       "       'sqft_lot15_log', 'sqft_lot15_reci'],\n",
       "      dtype='object')"
      ]
     },
     "execution_count": 3,
     "metadata": {},
     "output_type": "execute_result"
    }
   ],
   "source": [
    "train.columns"
   ]
  },
  {
   "cell_type": "code",
   "execution_count": 4,
   "metadata": {
    "ExecuteTime": {
     "end_time": "2019-03-25T05:10:04.586530Z",
     "start_time": "2019-03-25T05:10:04.560803Z"
    }
   },
   "outputs": [],
   "source": [
    "x_train = train.drop(['id', 'price','date'], axis = 1)\n",
    "y_train = train['price']\n",
    "x_test = test.drop(['id','date'], axis = 1)"
   ]
  },
  {
   "cell_type": "code",
   "execution_count": 5,
   "metadata": {
    "ExecuteTime": {
     "end_time": "2019-03-25T05:10:08.069413Z",
     "start_time": "2019-03-25T05:10:04.590858Z"
    }
   },
   "outputs": [],
   "source": [
    "import xgboost as xgb"
   ]
  },
  {
   "cell_type": "code",
   "execution_count": 20,
   "metadata": {
    "ExecuteTime": {
     "end_time": "2019-03-16T12:36:13.175873Z",
     "start_time": "2019-03-16T12:27:35.220143Z"
    }
   },
   "outputs": [
    {
     "name": "stdout",
     "output_type": "stream",
     "text": [
      "Transform DMatrix...\n",
      "Start Cross Validation...\n"
     ]
    },
    {
     "name": "stderr",
     "output_type": "stream",
     "text": [
      "C:\\Users\\wjssm\\Anaconda3\\lib\\site-packages\\xgboost\\core.py:587: FutureWarning: Series.base is deprecated and will be removed in a future version\n",
      "  if getattr(data, 'base', None) is not None and \\\n",
      "C:\\Users\\wjssm\\Anaconda3\\lib\\site-packages\\xgboost\\core.py:588: FutureWarning: Series.base is deprecated and will be removed in a future version\n",
      "  data.base is not None and isinstance(data, np.ndarray) \\\n"
     ]
    },
    {
     "name": "stdout",
     "output_type": "stream",
     "text": [
      "[0]\ttrain-rmse:650014\ttest-rmse:650101\n",
      "[50]\ttrain-rmse:416346\ttest-rmse:420790\n",
      "[100]\ttrain-rmse:276738\ttest-rmse:287097\n",
      "[150]\ttrain-rmse:194684\ttest-rmse:212082\n",
      "[200]\ttrain-rmse:147560\ttest-rmse:172024\n",
      "[250]\ttrain-rmse:120745\ttest-rmse:151558\n",
      "[300]\ttrain-rmse:105588\ttest-rmse:141202\n",
      "[350]\ttrain-rmse:97051.6\ttest-rmse:135814\n",
      "[400]\ttrain-rmse:91689.6\ttest-rmse:132785\n",
      "[450]\ttrain-rmse:87879.5\ttest-rmse:130745\n",
      "[500]\ttrain-rmse:85125.2\ttest-rmse:129374\n",
      "[550]\ttrain-rmse:82763.1\ttest-rmse:128286\n",
      "[600]\ttrain-rmse:80802\ttest-rmse:127566\n",
      "[650]\ttrain-rmse:79081.1\ttest-rmse:126950\n",
      "[700]\ttrain-rmse:77280.8\ttest-rmse:126293\n",
      "[750]\ttrain-rmse:75672.3\ttest-rmse:125747\n",
      "[800]\ttrain-rmse:74167.2\ttest-rmse:125276\n",
      "[850]\ttrain-rmse:72722.4\ttest-rmse:124845\n",
      "[900]\ttrain-rmse:71315.1\ttest-rmse:124494\n",
      "[950]\ttrain-rmse:70066.7\ttest-rmse:124208\n",
      "[1000]\ttrain-rmse:68798.2\ttest-rmse:123939\n",
      "[1050]\ttrain-rmse:67540.9\ttest-rmse:123649\n",
      "[1100]\ttrain-rmse:66362.1\ttest-rmse:123380\n",
      "[1150]\ttrain-rmse:65287.8\ttest-rmse:123158\n",
      "[1200]\ttrain-rmse:64170.9\ttest-rmse:122924\n",
      "[1250]\ttrain-rmse:63106.1\ttest-rmse:122694\n",
      "[1300]\ttrain-rmse:62111.2\ttest-rmse:122549\n",
      "[1350]\ttrain-rmse:61161.6\ttest-rmse:122360\n",
      "[1400]\ttrain-rmse:60241.5\ttest-rmse:122213\n",
      "[1450]\ttrain-rmse:59371.2\ttest-rmse:122076\n",
      "[1500]\ttrain-rmse:58521.9\ttest-rmse:121951\n",
      "[1550]\ttrain-rmse:57708.7\ttest-rmse:121847\n",
      "[1600]\ttrain-rmse:56894.6\ttest-rmse:121730\n",
      "[1650]\ttrain-rmse:56098.5\ttest-rmse:121637\n",
      "[1700]\ttrain-rmse:55347.2\ttest-rmse:121551\n",
      "[1750]\ttrain-rmse:54622\ttest-rmse:121461\n",
      "[1800]\ttrain-rmse:53887.8\ttest-rmse:121386\n",
      "[1850]\ttrain-rmse:53216.3\ttest-rmse:121315\n",
      "[1900]\ttrain-rmse:52556.8\ttest-rmse:121220\n",
      "[1950]\ttrain-rmse:51881.8\ttest-rmse:121138\n",
      "[2000]\ttrain-rmse:51226.6\ttest-rmse:121080\n",
      "[2050]\ttrain-rmse:50559.7\ttest-rmse:121009\n",
      "[2100]\ttrain-rmse:49986.3\ttest-rmse:120944\n",
      "[2150]\ttrain-rmse:49376.4\ttest-rmse:120884\n",
      "[2200]\ttrain-rmse:48761.4\ttest-rmse:120818\n",
      "[2250]\ttrain-rmse:48232\ttest-rmse:120782\n",
      "[2300]\ttrain-rmse:47691.8\ttest-rmse:120760\n",
      "[2350]\ttrain-rmse:47137.6\ttest-rmse:120713\n",
      "[2400]\ttrain-rmse:46594.4\ttest-rmse:120675\n",
      "[2450]\ttrain-rmse:46066.1\ttest-rmse:120625\n",
      "[2500]\ttrain-rmse:45566\ttest-rmse:120583\n",
      "[2550]\ttrain-rmse:45017.1\ttest-rmse:120537\n",
      "[2600]\ttrain-rmse:44519.6\ttest-rmse:120510\n",
      "[2650]\ttrain-rmse:44038.7\ttest-rmse:120476\n",
      "[2700]\ttrain-rmse:43569.6\ttest-rmse:120449\n",
      "[2750]\ttrain-rmse:43097.7\ttest-rmse:120418\n",
      "[2800]\ttrain-rmse:42651.1\ttest-rmse:120381\n",
      "[2850]\ttrain-rmse:42183.5\ttest-rmse:120343\n",
      "[2900]\ttrain-rmse:41743.4\ttest-rmse:120323\n",
      "[2950]\ttrain-rmse:41330.9\ttest-rmse:120304\n",
      "[3000]\ttrain-rmse:40905.1\ttest-rmse:120280\n",
      "[3050]\ttrain-rmse:40465.9\ttest-rmse:120259\n",
      "[3100]\ttrain-rmse:40059.7\ttest-rmse:120230\n",
      "[3150]\ttrain-rmse:39659.6\ttest-rmse:120204\n",
      "[3200]\ttrain-rmse:39249.2\ttest-rmse:120187\n",
      "best num_boost_rounds =  3188\n"
     ]
    }
   ],
   "source": [
    "xgb_params = {\n",
    "    'eta': 0.01,\n",
    "    'max_depth': 6,\n",
    "    'subsample': 0.8,\n",
    "    'colsample_bytree': 0.8,\n",
    "    'objective': 'reg:linear',\n",
    "    'eval_metric': 'rmse',\n",
    "    'silent': 1\n",
    "}\n",
    "\n",
    "print('Transform DMatrix...')\n",
    "dtrain = xgb.DMatrix(x_train, y_train)\n",
    "dtest = xgb.DMatrix(x_test)\n",
    "\n",
    "print('Start Cross Validation...')\n",
    "\n",
    "cv_output = xgb.cv(xgb_params, dtrain, num_boost_round=5000, early_stopping_rounds=20,verbose_eval=50, show_stdv=False)\n"
   ]
  },
  {
   "cell_type": "code",
   "execution_count": 21,
   "metadata": {
    "ExecuteTime": {
     "end_time": "2019-03-16T12:37:23.368072Z",
     "start_time": "2019-03-16T12:37:23.181338Z"
    }
   },
   "outputs": [
    {
     "data": {
      "text/plain": [
       "<matplotlib.axes._subplots.AxesSubplot at 0x22a8fe09390>"
      ]
     },
     "execution_count": 21,
     "metadata": {},
     "output_type": "execute_result"
    },
    {
     "data": {
      "image/png": "[encoded data removed]",
      "text/plain": [
       "<Figure size 432x288 with 1 Axes>"
      ]
     },
     "metadata": {
      "needs_background": "light"
     },
     "output_type": "display_data"
    }
   ],
   "source": [
    "cv_output[['train-rmse-mean', 'test-rmse-mean']].plot()"
   ]
  },
  {
   "cell_type": "code",
   "execution_count": 22,
   "metadata": {
    "ExecuteTime": {
     "end_time": "2019-03-16T12:37:35.521240Z",
     "start_time": "2019-03-16T12:37:35.516253Z"
    }
   },
   "outputs": [
    {
     "name": "stdout",
     "output_type": "stream",
     "text": [
      "best num_boost_rounds =  3188\n"
     ]
    }
   ],
   "source": [
    "print('best num_boost_rounds = ', len(cv_output))\n",
    "rounds = len(cv_output)"
   ]
  },
  {
   "cell_type": "code",
   "execution_count": 23,
   "metadata": {
    "ExecuteTime": {
     "end_time": "2019-03-16T12:40:10.743712Z",
     "start_time": "2019-03-16T12:37:46.139354Z"
    }
   },
   "outputs": [],
   "source": [
    "model = xgb.train(xgb_params, dtrain, num_boost_round = rounds)\n",
    "preds = model.predict(dtest)"
   ]
  },
  {
   "cell_type": "code",
   "execution_count": 24,
   "metadata": {
    "ExecuteTime": {
     "end_time": "2019-03-16T12:40:10.904597Z",
     "start_time": "2019-03-16T12:40:10.743712Z"
    }
   },
   "outputs": [
    {
     "name": "stderr",
     "output_type": "stream",
     "text": [
      "C:\\Users\\wjssm\\Anaconda3\\lib\\site-packages\\ipykernel_launcher.py:2: SettingWithCopyWarning: \n",
      "A value is trying to be set on a copy of a slice from a DataFrame.\n",
      "Try using .loc[row_indexer,col_indexer] = value instead\n",
      "\n",
      "See the caveats in the documentation: http://pandas.pydata.org/pandas-docs/stable/indexing.html#indexing-view-versus-copy\n",
      "  \n"
     ]
    }
   ],
   "source": [
    "sub = test[['id']]\n",
    "sub['price'] = preds\n",
    "#sub.to_csv('../sub/sub_xgb_train2_190316.csv', index=False) - 110017.59854"
   ]
  },
  {
   "cell_type": "markdown",
   "metadata": {},
   "source": [
    "# 190318 train_sqft, test_sqft"
   ]
  },
  {
   "cell_type": "code",
   "execution_count": 2,
   "metadata": {
    "ExecuteTime": {
     "end_time": "2019-03-18T05:45:31.503448Z",
     "start_time": "2019-03-18T05:45:27.264344Z"
    }
   },
   "outputs": [],
   "source": [
    "train = pd.read_csv('../input/train_sqft.csv')\n",
    "test = pd.read_csv('../input/test_sqft.csv')"
   ]
  },
  {
   "cell_type": "code",
   "execution_count": 3,
   "metadata": {
    "ExecuteTime": {
     "end_time": "2019-03-18T05:45:33.548422Z",
     "start_time": "2019-03-18T05:45:33.539160Z"
    }
   },
   "outputs": [
    {
     "data": {
      "text/plain": [
       "Index(['id', 'date', 'price', 'bedrooms', 'bathrooms', 'sqft_living',\n",
       "       'sqft_lot', 'floors', 'waterfront', 'view', 'condition', 'grade',\n",
       "       'sqft_above', 'sqft_basement', 'yr_built', 'yr_renovated', 'zipcode',\n",
       "       'lat', 'long', 'sqft_living15', 'sqft_lot15', 'year', 'month', 'day',\n",
       "       'week', 'weekend', 'renovated_or_not', 'date_renovated_diff',\n",
       "       'date_renovated_diff_log', 'date_built_diff', 'date_built_diff_log',\n",
       "       'built_renovated_diff', 'log_lat', 'log_long', 'bedrooms_^2',\n",
       "       'bedrooms_log', 'bedrooms_reci', 'bathrooms_^2', 'bathrooms_log',\n",
       "       'bathrooms_reci', 'sqft_living_^2', 'sqft_living_log',\n",
       "       'sqft_living_reci', 'sqft_lot_^2', 'sqft_lot_log', 'sqft_lot_reci',\n",
       "       'floors_^2', 'floors_log', 'floors_reci', 'waterfront_^2',\n",
       "       'waterfront_log', 'waterfront_reci', 'view_^2', 'view_log', 'view_reci',\n",
       "       'condition_^2', 'condition_log', 'condition_reci', 'grade_^2',\n",
       "       'grade_log', 'grade_reci', 'sqft_above_^2', 'sqft_above_log',\n",
       "       'sqft_above_reci', 'sqft_basement_^2', 'sqft_basement_log',\n",
       "       'sqft_basement_reci', 'yr_built_^2', 'yr_built_log', 'yr_built_reci',\n",
       "       'yr_renovated_^2', 'yr_renovated_log', 'yr_renovated_reci',\n",
       "       'zipcode_^2', 'zipcode_log', 'zipcode_reci', 'lat_^2', 'lat_log',\n",
       "       'lat_reci', 'long_^2', 'long_log', 'long_reci', 'sqft_living15_^2',\n",
       "       'sqft_living15_log', 'sqft_living15_reci', 'sqft_lot15_^2',\n",
       "       'sqft_lot15_log', 'sqft_lot15_reci', 'sqft_living_new', 'sqft_lot_new',\n",
       "       'sqft_living_per_lot', 'sqft_living_per_lot_log',\n",
       "       'sqft_living_per_lot15', 'sqft_living_per_lot15_log',\n",
       "       'sqft_above_per_living'],\n",
       "      dtype='object')"
      ]
     },
     "execution_count": 3,
     "metadata": {},
     "output_type": "execute_result"
    }
   ],
   "source": [
    "train.columns"
   ]
  },
  {
   "cell_type": "code",
   "execution_count": 6,
   "metadata": {
    "ExecuteTime": {
     "end_time": "2019-03-18T06:00:40.089298Z",
     "start_time": "2019-03-18T05:46:20.330337Z"
    }
   },
   "outputs": [
    {
     "name": "stdout",
     "output_type": "stream",
     "text": [
      "Transform DMatrix...\n",
      "Start Cross Validation...\n"
     ]
    },
    {
     "name": "stderr",
     "output_type": "stream",
     "text": [
      "C:\\Users\\wjssm\\Anaconda3\\lib\\site-packages\\xgboost\\core.py:587: FutureWarning: Series.base is deprecated and will be removed in a future version\n",
      "  if getattr(data, 'base', None) is not None and \\\n",
      "C:\\Users\\wjssm\\Anaconda3\\lib\\site-packages\\xgboost\\core.py:588: FutureWarning: Series.base is deprecated and will be removed in a future version\n",
      "  data.base is not None and isinstance(data, np.ndarray) \\\n"
     ]
    },
    {
     "name": "stdout",
     "output_type": "stream",
     "text": [
      "[0]\ttrain-rmse:650013\ttest-rmse:650101\n",
      "[50]\ttrain-rmse:416131\ttest-rmse:420736\n",
      "[100]\ttrain-rmse:276498\ttest-rmse:287109\n",
      "[150]\ttrain-rmse:194423\ttest-rmse:211940\n",
      "[200]\ttrain-rmse:147204\ttest-rmse:171758\n",
      "[250]\ttrain-rmse:120372\ttest-rmse:151629\n",
      "[300]\ttrain-rmse:105161\ttest-rmse:141363\n",
      "[350]\ttrain-rmse:96537\ttest-rmse:135837\n",
      "[400]\ttrain-rmse:91165.9\ttest-rmse:132811\n",
      "[450]\ttrain-rmse:87411.3\ttest-rmse:130957\n",
      "[500]\ttrain-rmse:84548\ttest-rmse:129526\n",
      "[550]\ttrain-rmse:82201.1\ttest-rmse:128529\n",
      "[600]\ttrain-rmse:80016.5\ttest-rmse:127701\n",
      "[650]\ttrain-rmse:78159.3\ttest-rmse:127117\n",
      "[700]\ttrain-rmse:76460.9\ttest-rmse:126603\n",
      "[750]\ttrain-rmse:74786.9\ttest-rmse:126059\n",
      "[800]\ttrain-rmse:73254.5\ttest-rmse:125667\n",
      "[850]\ttrain-rmse:71802\ttest-rmse:125282\n",
      "[900]\ttrain-rmse:70302.1\ttest-rmse:124892\n",
      "[950]\ttrain-rmse:69001.3\ttest-rmse:124590\n",
      "[1000]\ttrain-rmse:67719.3\ttest-rmse:124349\n",
      "[1050]\ttrain-rmse:66542.5\ttest-rmse:124099\n",
      "[1100]\ttrain-rmse:65331.4\ttest-rmse:123841\n",
      "[1150]\ttrain-rmse:64267.9\ttest-rmse:123631\n",
      "[1200]\ttrain-rmse:63202\ttest-rmse:123458\n",
      "[1250]\ttrain-rmse:62176.5\ttest-rmse:123236\n",
      "[1300]\ttrain-rmse:61138\ttest-rmse:123046\n",
      "[1350]\ttrain-rmse:60223.3\ttest-rmse:122933\n",
      "[1400]\ttrain-rmse:59285.4\ttest-rmse:122788\n",
      "[1450]\ttrain-rmse:58394.2\ttest-rmse:122656\n",
      "[1500]\ttrain-rmse:57520.9\ttest-rmse:122545\n",
      "[1550]\ttrain-rmse:56704.6\ttest-rmse:122429\n",
      "[1600]\ttrain-rmse:55843.1\ttest-rmse:122292\n",
      "[1650]\ttrain-rmse:55044.2\ttest-rmse:122193\n",
      "[1700]\ttrain-rmse:54243\ttest-rmse:122103\n",
      "[1750]\ttrain-rmse:53499.6\ttest-rmse:122023\n",
      "[1800]\ttrain-rmse:52774.5\ttest-rmse:121948\n",
      "[1850]\ttrain-rmse:52059.9\ttest-rmse:121894\n",
      "[1900]\ttrain-rmse:51378.3\ttest-rmse:121831\n",
      "[1950]\ttrain-rmse:50687.6\ttest-rmse:121780\n",
      "[2000]\ttrain-rmse:50019.2\ttest-rmse:121738\n",
      "[2050]\ttrain-rmse:49373.1\ttest-rmse:121684\n",
      "[2100]\ttrain-rmse:48726.2\ttest-rmse:121644\n",
      "[2150]\ttrain-rmse:48088.2\ttest-rmse:121588\n",
      "[2200]\ttrain-rmse:47482.5\ttest-rmse:121552\n",
      "[2250]\ttrain-rmse:46925.8\ttest-rmse:121518\n",
      "[2300]\ttrain-rmse:46341.2\ttest-rmse:121474\n",
      "[2350]\ttrain-rmse:45773.8\ttest-rmse:121435\n",
      "[2400]\ttrain-rmse:45250.5\ttest-rmse:121400\n",
      "[2450]\ttrain-rmse:44717.4\ttest-rmse:121378\n",
      "[2500]\ttrain-rmse:44164.6\ttest-rmse:121345\n",
      "[2550]\ttrain-rmse:43669\ttest-rmse:121316\n",
      "[2600]\ttrain-rmse:43146.9\ttest-rmse:121286\n",
      "[2650]\ttrain-rmse:42623.9\ttest-rmse:121268\n",
      "[2700]\ttrain-rmse:42160.7\ttest-rmse:121241\n",
      "[2750]\ttrain-rmse:41687.2\ttest-rmse:121219\n",
      "[2800]\ttrain-rmse:41215.1\ttest-rmse:121195\n",
      "[2850]\ttrain-rmse:40761.4\ttest-rmse:121181\n",
      "[2900]\ttrain-rmse:40306.6\ttest-rmse:121150\n",
      "[2950]\ttrain-rmse:39843.2\ttest-rmse:121125\n",
      "[3000]\ttrain-rmse:39395.3\ttest-rmse:121093\n",
      "[3050]\ttrain-rmse:38971\ttest-rmse:121085\n",
      "[3100]\ttrain-rmse:38540.8\ttest-rmse:121061\n",
      "[3150]\ttrain-rmse:38106.8\ttest-rmse:121035\n",
      "[3200]\ttrain-rmse:37669.3\ttest-rmse:121012\n",
      "[3250]\ttrain-rmse:37282.7\ttest-rmse:120994\n",
      "[3300]\ttrain-rmse:36885.4\ttest-rmse:120983\n",
      "[3350]\ttrain-rmse:36495.9\ttest-rmse:120974\n"
     ]
    }
   ],
   "source": [
    "xgb_params = {\n",
    "    'eta': 0.01,\n",
    "    'max_depth': 6,\n",
    "    'subsample': 0.8,\n",
    "    'colsample_bytree': 0.8,\n",
    "    'objective': 'reg:linear',\n",
    "    'eval_metric': 'rmse',\n",
    "    'silent': 1\n",
    "}\n",
    "\n",
    "print('Transform DMatrix...')\n",
    "dtrain = xgb.DMatrix(x_train, y_train)\n",
    "dtest = xgb.DMatrix(x_test)\n",
    "\n",
    "print('Start Cross Validation...')\n",
    "\n",
    "cv_output = xgb.cv(xgb_params, dtrain, num_boost_round=5000, early_stopping_rounds=20,verbose_eval=50, show_stdv=False)\n"
   ]
  },
  {
   "cell_type": "code",
   "execution_count": 8,
   "metadata": {
    "ExecuteTime": {
     "end_time": "2019-03-18T06:01:10.074700Z",
     "start_time": "2019-03-18T06:01:09.686671Z"
    }
   },
   "outputs": [
    {
     "data": {
      "text/plain": [
       "<matplotlib.axes._subplots.AxesSubplot at 0x1b3721e1780>"
      ]
     },
     "execution_count": 8,
     "metadata": {},
     "output_type": "execute_result"
    },
    {
     "data": {
      "image/png": "[encoded data removed]",
      "text/plain": [
       "<Figure size 432x288 with 1 Axes>"
      ]
     },
     "metadata": {
      "needs_background": "light"
     },
     "output_type": "display_data"
    }
   ],
   "source": [
    "cv_output[['train-rmse-mean', 'test-rmse-mean']].plot()"
   ]
  },
  {
   "cell_type": "code",
   "execution_count": 9,
   "metadata": {
    "ExecuteTime": {
     "end_time": "2019-03-18T06:05:15.398846Z",
     "start_time": "2019-03-18T06:05:15.391359Z"
    }
   },
   "outputs": [
    {
     "name": "stdout",
     "output_type": "stream",
     "text": [
      "best num_boost_rounds =  3343\n"
     ]
    }
   ],
   "source": [
    "print('best num_boost_rounds = ', len(cv_output))\n",
    "rounds = len(cv_output)"
   ]
  },
  {
   "cell_type": "code",
   "execution_count": 10,
   "metadata": {
    "ExecuteTime": {
     "end_time": "2019-03-18T06:11:36.652303Z",
     "start_time": "2019-03-18T06:05:44.634171Z"
    }
   },
   "outputs": [],
   "source": [
    "model = xgb.train(xgb_params, dtrain, num_boost_round = rounds)\n",
    "preds = model.predict(dtest)\n",
    "sub = pd.DataFrame({'id':test.id, 'price' : preds} )"
   ]
  },
  {
   "cell_type": "code",
   "execution_count": 14,
   "metadata": {
    "ExecuteTime": {
     "end_time": "2019-03-18T06:13:37.398596Z",
     "start_time": "2019-03-18T06:13:37.358657Z"
    }
   },
   "outputs": [],
   "source": [
    "#sub.to_csv('../sub/sub_xgb_train_sqcf_190318.csv', index=False) - 110590.43827"
   ]
  }
 ],
 "metadata": {
  "hide_input": false,
  "kernelspec": {
   "display_name": "Python 3",
   "language": "python",
   "name": "python3"
  },
  "language_info": {
   "codemirror_mode": {
    "name": "ipython",
    "version": 3
   },
   "file_extension": ".py",
   "mimetype": "text/x-python",
   "name": "python",
   "nbconvert_exporter": "python",
   "pygments_lexer": "ipython3",
   "version": "3.7.1"
  },
  "notify_time": "30",
  "toc": {
   "base_numbering": 1,
   "nav_menu": {},
   "number_sections": true,
   "sideBar": true,
   "skip_h1_title": false,
   "title_cell": "Table of Contents",
   "title_sidebar": "Contents",
   "toc_cell": false,
   "toc_position": {},
   "toc_section_display": true,
   "toc_window_display": true
  }
 },
 "nbformat": 4,
 "nbformat_minor": 2
}
