{
 "cells": [
  {
   "cell_type": "code",
   "execution_count": 2,
   "metadata": {
    "ExecuteTime": {
     "end_time": "2019-03-12T04:47:06.650686Z",
     "start_time": "2019-03-12T04:47:01.672913Z"
    }
   },
   "outputs": [],
   "source": [
    "import pandas as pd\n",
    "import numpy as np\n",
    "\n",
    "import matplotlib.pyplot as plt\n",
    "import seaborn as sns"
   ]
  },
  {
   "cell_type": "code",
   "execution_count": 3,
   "metadata": {
    "ExecuteTime": {
     "end_time": "2019-03-12T04:47:07.465103Z",
     "start_time": "2019-03-12T04:47:06.654172Z"
    }
   },
   "outputs": [],
   "source": [
    "pd.set_option('display.max_columns', 100)\n",
    "train = pd.read_csv('../input/train.csv')\n",
    "test = pd.read_csv('../input/test.csv')\n",
    "\n",
    "df = pd.concat([train.drop('price', axis = 1),test], axis = 0)"
   ]
  },
  {
   "cell_type": "code",
   "execution_count": 4,
   "metadata": {
    "ExecuteTime": {
     "end_time": "2019-03-12T04:47:21.019211Z",
     "start_time": "2019-03-12T04:47:21.007063Z"
    }
   },
   "outputs": [
    {
     "data": {
      "text/plain": [
       "Index(['id', 'date', 'price', 'bedrooms', 'bathrooms', 'sqft_living',\n",
       "       'sqft_lot', 'floors', 'waterfront', 'view', 'condition', 'grade',\n",
       "       'sqft_above', 'sqft_basement', 'yr_built', 'yr_renovated', 'zipcode',\n",
       "       'lat', 'long', 'sqft_living15', 'sqft_lot15', 'year', 'month', 'day',\n",
       "       'week', 'weekend', 'renovated_or_not', 'date_renovated_diff',\n",
       "       'date_renovated_diff_log', 'date_built_diff', 'date_built_diff_log',\n",
       "       'built_renovated_diff'],\n",
       "      dtype='object')"
      ]
     },
     "execution_count": 4,
     "metadata": {},
     "output_type": "execute_result"
    }
   ],
   "source": [
    "train.columns"
   ]
  },
  {
   "cell_type": "markdown",
   "metadata": {},
   "source": [
    "# correlation"
   ]
  },
  {
   "cell_type": "code",
   "execution_count": 4,
   "metadata": {
    "ExecuteTime": {
     "end_time": "2019-03-12T04:07:04.898748Z",
     "start_time": "2019-03-12T04:07:04.843895Z"
    }
   },
   "outputs": [
    {
     "data": {
      "text/html": [
       "<div>\n",
       "<style scoped>\n",
       "    .dataframe tbody tr th:only-of-type {\n",
       "        vertical-align: middle;\n",
       "    }\n",
       "\n",
       "    .dataframe tbody tr th {\n",
       "        vertical-align: top;\n",
       "    }\n",
       "\n",
       "    .dataframe thead th {\n",
       "        text-align: right;\n",
       "    }\n",
       "</style>\n",
       "<table border=\"1\" class=\"dataframe\">\n",
       "  <thead>\n",
       "    <tr style=\"text-align: right;\">\n",
       "      <th></th>\n",
       "      <th>price</th>\n",
       "      <th>bedrooms</th>\n",
       "      <th>bathrooms</th>\n",
       "      <th>sqft_living</th>\n",
       "      <th>sqft_lot</th>\n",
       "      <th>floors</th>\n",
       "      <th>waterfront</th>\n",
       "      <th>view</th>\n",
       "      <th>condition</th>\n",
       "      <th>grade</th>\n",
       "      <th>sqft_above</th>\n",
       "      <th>sqft_basement</th>\n",
       "      <th>yr_built</th>\n",
       "      <th>yr_renovated</th>\n",
       "      <th>zipcode</th>\n",
       "      <th>lat</th>\n",
       "      <th>long</th>\n",
       "      <th>sqft_living15</th>\n",
       "      <th>sqft_lot15</th>\n",
       "      <th>year</th>\n",
       "      <th>month</th>\n",
       "      <th>day</th>\n",
       "    </tr>\n",
       "  </thead>\n",
       "  <tbody>\n",
       "    <tr>\n",
       "      <th>price</th>\n",
       "      <td>1.000000</td>\n",
       "      <td>0.323672</td>\n",
       "      <td>0.525479</td>\n",
       "      <td>0.702899</td>\n",
       "      <td>0.096793</td>\n",
       "      <td>0.262588</td>\n",
       "      <td>0.265738</td>\n",
       "      <td>0.400806</td>\n",
       "      <td>0.039740</td>\n",
       "      <td>0.667211</td>\n",
       "      <td>0.608577</td>\n",
       "      <td>0.322218</td>\n",
       "      <td>0.047290</td>\n",
       "      <td>0.140808</td>\n",
       "      <td>-0.051498</td>\n",
       "      <td>0.301604</td>\n",
       "      <td>0.023547</td>\n",
       "      <td>0.586419</td>\n",
       "      <td>0.086384</td>\n",
       "      <td>0.008012</td>\n",
       "      <td>-0.010352</td>\n",
       "      <td>-0.013625</td>\n",
       "    </tr>\n",
       "    <tr>\n",
       "      <th>bedrooms</th>\n",
       "      <td>0.323672</td>\n",
       "      <td>1.000000</td>\n",
       "      <td>0.530548</td>\n",
       "      <td>0.596974</td>\n",
       "      <td>0.033475</td>\n",
       "      <td>0.189532</td>\n",
       "      <td>-0.004819</td>\n",
       "      <td>0.085703</td>\n",
       "      <td>0.034885</td>\n",
       "      <td>0.375286</td>\n",
       "      <td>0.494867</td>\n",
       "      <td>0.315183</td>\n",
       "      <td>0.158799</td>\n",
       "      <td>0.022729</td>\n",
       "      <td>-0.162081</td>\n",
       "      <td>-0.011190</td>\n",
       "      <td>0.135802</td>\n",
       "      <td>0.407394</td>\n",
       "      <td>0.027242</td>\n",
       "      <td>-0.002067</td>\n",
       "      <td>-0.007382</td>\n",
       "      <td>-0.012671</td>\n",
       "    </tr>\n",
       "    <tr>\n",
       "      <th>bathrooms</th>\n",
       "      <td>0.525479</td>\n",
       "      <td>0.530548</td>\n",
       "      <td>1.000000</td>\n",
       "      <td>0.755853</td>\n",
       "      <td>0.089308</td>\n",
       "      <td>0.508649</td>\n",
       "      <td>0.075452</td>\n",
       "      <td>0.187488</td>\n",
       "      <td>-0.125907</td>\n",
       "      <td>0.666278</td>\n",
       "      <td>0.688255</td>\n",
       "      <td>0.282642</td>\n",
       "      <td>0.503964</td>\n",
       "      <td>0.065423</td>\n",
       "      <td>-0.207500</td>\n",
       "      <td>0.018110</td>\n",
       "      <td>0.227669</td>\n",
       "      <td>0.573541</td>\n",
       "      <td>0.088120</td>\n",
       "      <td>-0.022161</td>\n",
       "      <td>0.007759</td>\n",
       "      <td>-0.010256</td>\n",
       "    </tr>\n",
       "    <tr>\n",
       "      <th>sqft_living</th>\n",
       "      <td>0.702899</td>\n",
       "      <td>0.596974</td>\n",
       "      <td>0.755853</td>\n",
       "      <td>1.000000</td>\n",
       "      <td>0.176500</td>\n",
       "      <td>0.363193</td>\n",
       "      <td>0.108137</td>\n",
       "      <td>0.282821</td>\n",
       "      <td>-0.054213</td>\n",
       "      <td>0.762543</td>\n",
       "      <td>0.878736</td>\n",
       "      <td>0.434017</td>\n",
       "      <td>0.315927</td>\n",
       "      <td>0.064893</td>\n",
       "      <td>-0.200745</td>\n",
       "      <td>0.051609</td>\n",
       "      <td>0.245429</td>\n",
       "      <td>0.760271</td>\n",
       "      <td>0.184176</td>\n",
       "      <td>-0.021638</td>\n",
       "      <td>0.009763</td>\n",
       "      <td>-0.011125</td>\n",
       "    </tr>\n",
       "    <tr>\n",
       "      <th>sqft_lot</th>\n",
       "      <td>0.096793</td>\n",
       "      <td>0.033475</td>\n",
       "      <td>0.089308</td>\n",
       "      <td>0.176500</td>\n",
       "      <td>1.000000</td>\n",
       "      <td>0.001535</td>\n",
       "      <td>0.025584</td>\n",
       "      <td>0.080441</td>\n",
       "      <td>-0.002099</td>\n",
       "      <td>0.119906</td>\n",
       "      <td>0.186242</td>\n",
       "      <td>0.017818</td>\n",
       "      <td>0.058686</td>\n",
       "      <td>-0.001451</td>\n",
       "      <td>-0.127709</td>\n",
       "      <td>-0.082234</td>\n",
       "      <td>0.227451</td>\n",
       "      <td>0.147562</td>\n",
       "      <td>0.728458</td>\n",
       "      <td>0.007243</td>\n",
       "      <td>-0.001897</td>\n",
       "      <td>0.003807</td>\n",
       "    </tr>\n",
       "    <tr>\n",
       "      <th>floors</th>\n",
       "      <td>0.262588</td>\n",
       "      <td>0.189532</td>\n",
       "      <td>0.508649</td>\n",
       "      <td>0.363193</td>\n",
       "      <td>0.001535</td>\n",
       "      <td>1.000000</td>\n",
       "      <td>0.031159</td>\n",
       "      <td>0.034511</td>\n",
       "      <td>-0.261016</td>\n",
       "      <td>0.462598</td>\n",
       "      <td>0.529476</td>\n",
       "      <td>-0.239350</td>\n",
       "      <td>0.490436</td>\n",
       "      <td>0.009752</td>\n",
       "      <td>-0.059107</td>\n",
       "      <td>0.049004</td>\n",
       "      <td>0.126983</td>\n",
       "      <td>0.287125</td>\n",
       "      <td>-0.010287</td>\n",
       "      <td>-0.020852</td>\n",
       "      <td>0.015441</td>\n",
       "      <td>-0.008965</td>\n",
       "    </tr>\n",
       "    <tr>\n",
       "      <th>waterfront</th>\n",
       "      <td>0.265738</td>\n",
       "      <td>-0.004819</td>\n",
       "      <td>0.075452</td>\n",
       "      <td>0.108137</td>\n",
       "      <td>0.025584</td>\n",
       "      <td>0.031159</td>\n",
       "      <td>1.000000</td>\n",
       "      <td>0.389669</td>\n",
       "      <td>0.011613</td>\n",
       "      <td>0.088061</td>\n",
       "      <td>0.081968</td>\n",
       "      <td>0.071576</td>\n",
       "      <td>-0.026523</td>\n",
       "      <td>0.104168</td>\n",
       "      <td>0.028632</td>\n",
       "      <td>-0.014772</td>\n",
       "      <td>-0.037922</td>\n",
       "      <td>0.091810</td>\n",
       "      <td>0.028255</td>\n",
       "      <td>-0.002041</td>\n",
       "      <td>0.005828</td>\n",
       "      <td>0.014694</td>\n",
       "    </tr>\n",
       "    <tr>\n",
       "      <th>view</th>\n",
       "      <td>0.400806</td>\n",
       "      <td>0.085703</td>\n",
       "      <td>0.187488</td>\n",
       "      <td>0.282821</td>\n",
       "      <td>0.080441</td>\n",
       "      <td>0.034511</td>\n",
       "      <td>0.389669</td>\n",
       "      <td>1.000000</td>\n",
       "      <td>0.045255</td>\n",
       "      <td>0.247924</td>\n",
       "      <td>0.172693</td>\n",
       "      <td>0.265880</td>\n",
       "      <td>-0.061670</td>\n",
       "      <td>0.107605</td>\n",
       "      <td>0.089247</td>\n",
       "      <td>0.005285</td>\n",
       "      <td>-0.073151</td>\n",
       "      <td>0.278267</td>\n",
       "      <td>0.076501</td>\n",
       "      <td>0.014233</td>\n",
       "      <td>-0.014440</td>\n",
       "      <td>0.013287</td>\n",
       "    </tr>\n",
       "    <tr>\n",
       "      <th>condition</th>\n",
       "      <td>0.039740</td>\n",
       "      <td>0.034885</td>\n",
       "      <td>-0.125907</td>\n",
       "      <td>-0.054213</td>\n",
       "      <td>-0.002099</td>\n",
       "      <td>-0.261016</td>\n",
       "      <td>0.011613</td>\n",
       "      <td>0.045255</td>\n",
       "      <td>1.000000</td>\n",
       "      <td>-0.143599</td>\n",
       "      <td>-0.152856</td>\n",
       "      <td>0.175064</td>\n",
       "      <td>-0.366590</td>\n",
       "      <td>-0.062342</td>\n",
       "      <td>0.001106</td>\n",
       "      <td>-0.015974</td>\n",
       "      <td>-0.110742</td>\n",
       "      <td>-0.091407</td>\n",
       "      <td>-0.003873</td>\n",
       "      <td>-0.045968</td>\n",
       "      <td>0.020182</td>\n",
       "      <td>-0.003907</td>\n",
       "    </tr>\n",
       "    <tr>\n",
       "      <th>grade</th>\n",
       "      <td>0.667211</td>\n",
       "      <td>0.375286</td>\n",
       "      <td>0.666278</td>\n",
       "      <td>0.762543</td>\n",
       "      <td>0.119906</td>\n",
       "      <td>0.462598</td>\n",
       "      <td>0.088061</td>\n",
       "      <td>0.247924</td>\n",
       "      <td>-0.143599</td>\n",
       "      <td>1.000000</td>\n",
       "      <td>0.759240</td>\n",
       "      <td>0.162657</td>\n",
       "      <td>0.440608</td>\n",
       "      <td>0.030155</td>\n",
       "      <td>-0.186541</td>\n",
       "      <td>0.112319</td>\n",
       "      <td>0.202130</td>\n",
       "      <td>0.715321</td>\n",
       "      <td>0.119734</td>\n",
       "      <td>-0.022660</td>\n",
       "      <td>0.009230</td>\n",
       "      <td>-0.019799</td>\n",
       "    </tr>\n",
       "    <tr>\n",
       "      <th>sqft_above</th>\n",
       "      <td>0.608577</td>\n",
       "      <td>0.494867</td>\n",
       "      <td>0.688255</td>\n",
       "      <td>0.878736</td>\n",
       "      <td>0.186242</td>\n",
       "      <td>0.529476</td>\n",
       "      <td>0.081968</td>\n",
       "      <td>0.172693</td>\n",
       "      <td>-0.152856</td>\n",
       "      <td>0.759240</td>\n",
       "      <td>1.000000</td>\n",
       "      <td>-0.048623</td>\n",
       "      <td>0.422431</td>\n",
       "      <td>0.031441</td>\n",
       "      <td>-0.258474</td>\n",
       "      <td>0.001074</td>\n",
       "      <td>0.347226</td>\n",
       "      <td>0.737795</td>\n",
       "      <td>0.194226</td>\n",
       "      <td>-0.019124</td>\n",
       "      <td>0.010427</td>\n",
       "      <td>-0.007108</td>\n",
       "    </tr>\n",
       "    <tr>\n",
       "      <th>sqft_basement</th>\n",
       "      <td>0.322218</td>\n",
       "      <td>0.315183</td>\n",
       "      <td>0.282642</td>\n",
       "      <td>0.434017</td>\n",
       "      <td>0.017818</td>\n",
       "      <td>-0.239350</td>\n",
       "      <td>0.071576</td>\n",
       "      <td>0.265880</td>\n",
       "      <td>0.175064</td>\n",
       "      <td>0.162657</td>\n",
       "      <td>-0.048623</td>\n",
       "      <td>1.000000</td>\n",
       "      <td>-0.136214</td>\n",
       "      <td>0.076452</td>\n",
       "      <td>0.067782</td>\n",
       "      <td>0.105969</td>\n",
       "      <td>-0.141792</td>\n",
       "      <td>0.198380</td>\n",
       "      <td>0.018813</td>\n",
       "      <td>-0.009185</td>\n",
       "      <td>0.000750</td>\n",
       "      <td>-0.009863</td>\n",
       "    </tr>\n",
       "    <tr>\n",
       "      <th>yr_built</th>\n",
       "      <td>0.047290</td>\n",
       "      <td>0.158799</td>\n",
       "      <td>0.503964</td>\n",
       "      <td>0.315927</td>\n",
       "      <td>0.058686</td>\n",
       "      <td>0.490436</td>\n",
       "      <td>-0.026523</td>\n",
       "      <td>-0.061670</td>\n",
       "      <td>-0.366590</td>\n",
       "      <td>0.440608</td>\n",
       "      <td>0.422431</td>\n",
       "      <td>-0.136214</td>\n",
       "      <td>1.000000</td>\n",
       "      <td>-0.215760</td>\n",
       "      <td>-0.354280</td>\n",
       "      <td>-0.156563</td>\n",
       "      <td>0.414565</td>\n",
       "      <td>0.324221</td>\n",
       "      <td>0.076009</td>\n",
       "      <td>0.004381</td>\n",
       "      <td>-0.001425</td>\n",
       "      <td>-0.011638</td>\n",
       "    </tr>\n",
       "    <tr>\n",
       "      <th>yr_renovated</th>\n",
       "      <td>0.140808</td>\n",
       "      <td>0.022729</td>\n",
       "      <td>0.065423</td>\n",
       "      <td>0.064893</td>\n",
       "      <td>-0.001451</td>\n",
       "      <td>0.009752</td>\n",
       "      <td>0.104168</td>\n",
       "      <td>0.107605</td>\n",
       "      <td>-0.062342</td>\n",
       "      <td>0.030155</td>\n",
       "      <td>0.031441</td>\n",
       "      <td>0.076452</td>\n",
       "      <td>-0.215760</td>\n",
       "      <td>1.000000</td>\n",
       "      <td>0.068307</td>\n",
       "      <td>0.034844</td>\n",
       "      <td>-0.070134</td>\n",
       "      <td>0.007995</td>\n",
       "      <td>-0.000348</td>\n",
       "      <td>-0.019075</td>\n",
       "      <td>0.006802</td>\n",
       "      <td>0.016533</td>\n",
       "    </tr>\n",
       "    <tr>\n",
       "      <th>zipcode</th>\n",
       "      <td>-0.051498</td>\n",
       "      <td>-0.162081</td>\n",
       "      <td>-0.207500</td>\n",
       "      <td>-0.200745</td>\n",
       "      <td>-0.127709</td>\n",
       "      <td>-0.059107</td>\n",
       "      <td>0.028632</td>\n",
       "      <td>0.089247</td>\n",
       "      <td>0.001106</td>\n",
       "      <td>-0.186541</td>\n",
       "      <td>-0.258474</td>\n",
       "      <td>0.067782</td>\n",
       "      <td>-0.354280</td>\n",
       "      <td>0.068307</td>\n",
       "      <td>1.000000</td>\n",
       "      <td>0.261312</td>\n",
       "      <td>-0.563455</td>\n",
       "      <td>-0.274176</td>\n",
       "      <td>-0.145710</td>\n",
       "      <td>-0.000743</td>\n",
       "      <td>0.000282</td>\n",
       "      <td>-0.007562</td>\n",
       "    </tr>\n",
       "    <tr>\n",
       "      <th>lat</th>\n",
       "      <td>0.301604</td>\n",
       "      <td>-0.011190</td>\n",
       "      <td>0.018110</td>\n",
       "      <td>0.051609</td>\n",
       "      <td>-0.082234</td>\n",
       "      <td>0.049004</td>\n",
       "      <td>-0.014772</td>\n",
       "      <td>0.005285</td>\n",
       "      <td>-0.015974</td>\n",
       "      <td>0.112319</td>\n",
       "      <td>0.001074</td>\n",
       "      <td>0.105969</td>\n",
       "      <td>-0.156563</td>\n",
       "      <td>0.034844</td>\n",
       "      <td>0.261312</td>\n",
       "      <td>1.000000</td>\n",
       "      <td>-0.133460</td>\n",
       "      <td>0.048924</td>\n",
       "      <td>-0.081725</td>\n",
       "      <td>-0.031389</td>\n",
       "      <td>0.019899</td>\n",
       "      <td>-0.015690</td>\n",
       "    </tr>\n",
       "    <tr>\n",
       "      <th>long</th>\n",
       "      <td>0.023547</td>\n",
       "      <td>0.135802</td>\n",
       "      <td>0.227669</td>\n",
       "      <td>0.245429</td>\n",
       "      <td>0.227451</td>\n",
       "      <td>0.126983</td>\n",
       "      <td>-0.037922</td>\n",
       "      <td>-0.073151</td>\n",
       "      <td>-0.110742</td>\n",
       "      <td>0.202130</td>\n",
       "      <td>0.347226</td>\n",
       "      <td>-0.141792</td>\n",
       "      <td>0.414565</td>\n",
       "      <td>-0.070134</td>\n",
       "      <td>-0.563455</td>\n",
       "      <td>-0.133460</td>\n",
       "      <td>1.000000</td>\n",
       "      <td>0.333673</td>\n",
       "      <td>0.256201</td>\n",
       "      <td>0.003253</td>\n",
       "      <td>-0.007618</td>\n",
       "      <td>-0.006330</td>\n",
       "    </tr>\n",
       "    <tr>\n",
       "      <th>sqft_living15</th>\n",
       "      <td>0.586419</td>\n",
       "      <td>0.407394</td>\n",
       "      <td>0.573541</td>\n",
       "      <td>0.760271</td>\n",
       "      <td>0.147562</td>\n",
       "      <td>0.287125</td>\n",
       "      <td>0.091810</td>\n",
       "      <td>0.278267</td>\n",
       "      <td>-0.091407</td>\n",
       "      <td>0.715321</td>\n",
       "      <td>0.737795</td>\n",
       "      <td>0.198380</td>\n",
       "      <td>0.324221</td>\n",
       "      <td>0.007995</td>\n",
       "      <td>-0.274176</td>\n",
       "      <td>0.048924</td>\n",
       "      <td>0.333673</td>\n",
       "      <td>1.000000</td>\n",
       "      <td>0.183599</td>\n",
       "      <td>-0.013523</td>\n",
       "      <td>-0.001068</td>\n",
       "      <td>-0.009914</td>\n",
       "    </tr>\n",
       "    <tr>\n",
       "      <th>sqft_lot15</th>\n",
       "      <td>0.086384</td>\n",
       "      <td>0.027242</td>\n",
       "      <td>0.088120</td>\n",
       "      <td>0.184176</td>\n",
       "      <td>0.728458</td>\n",
       "      <td>-0.010287</td>\n",
       "      <td>0.028255</td>\n",
       "      <td>0.076501</td>\n",
       "      <td>-0.003873</td>\n",
       "      <td>0.119734</td>\n",
       "      <td>0.194226</td>\n",
       "      <td>0.018813</td>\n",
       "      <td>0.076009</td>\n",
       "      <td>-0.000348</td>\n",
       "      <td>-0.145710</td>\n",
       "      <td>-0.081725</td>\n",
       "      <td>0.256201</td>\n",
       "      <td>0.183599</td>\n",
       "      <td>1.000000</td>\n",
       "      <td>0.003022</td>\n",
       "      <td>0.004651</td>\n",
       "      <td>0.005678</td>\n",
       "    </tr>\n",
       "    <tr>\n",
       "      <th>year</th>\n",
       "      <td>0.008012</td>\n",
       "      <td>-0.002067</td>\n",
       "      <td>-0.022161</td>\n",
       "      <td>-0.021638</td>\n",
       "      <td>0.007243</td>\n",
       "      <td>-0.020852</td>\n",
       "      <td>-0.002041</td>\n",
       "      <td>0.014233</td>\n",
       "      <td>-0.045968</td>\n",
       "      <td>-0.022660</td>\n",
       "      <td>-0.019124</td>\n",
       "      <td>-0.009185</td>\n",
       "      <td>0.004381</td>\n",
       "      <td>-0.019075</td>\n",
       "      <td>-0.000743</td>\n",
       "      <td>-0.031389</td>\n",
       "      <td>0.003253</td>\n",
       "      <td>-0.013523</td>\n",
       "      <td>0.003022</td>\n",
       "      <td>1.000000</td>\n",
       "      <td>-0.781074</td>\n",
       "      <td>-0.005003</td>\n",
       "    </tr>\n",
       "    <tr>\n",
       "      <th>month</th>\n",
       "      <td>-0.010352</td>\n",
       "      <td>-0.007382</td>\n",
       "      <td>0.007759</td>\n",
       "      <td>0.009763</td>\n",
       "      <td>-0.001897</td>\n",
       "      <td>0.015441</td>\n",
       "      <td>0.005828</td>\n",
       "      <td>-0.014440</td>\n",
       "      <td>0.020182</td>\n",
       "      <td>0.009230</td>\n",
       "      <td>0.010427</td>\n",
       "      <td>0.000750</td>\n",
       "      <td>-0.001425</td>\n",
       "      <td>0.006802</td>\n",
       "      <td>0.000282</td>\n",
       "      <td>0.019899</td>\n",
       "      <td>-0.007618</td>\n",
       "      <td>-0.001068</td>\n",
       "      <td>0.004651</td>\n",
       "      <td>-0.781074</td>\n",
       "      <td>1.000000</td>\n",
       "      <td>-0.061457</td>\n",
       "    </tr>\n",
       "    <tr>\n",
       "      <th>day</th>\n",
       "      <td>-0.013625</td>\n",
       "      <td>-0.012671</td>\n",
       "      <td>-0.010256</td>\n",
       "      <td>-0.011125</td>\n",
       "      <td>0.003807</td>\n",
       "      <td>-0.008965</td>\n",
       "      <td>0.014694</td>\n",
       "      <td>0.013287</td>\n",
       "      <td>-0.003907</td>\n",
       "      <td>-0.019799</td>\n",
       "      <td>-0.007108</td>\n",
       "      <td>-0.009863</td>\n",
       "      <td>-0.011638</td>\n",
       "      <td>0.016533</td>\n",
       "      <td>-0.007562</td>\n",
       "      <td>-0.015690</td>\n",
       "      <td>-0.006330</td>\n",
       "      <td>-0.009914</td>\n",
       "      <td>0.005678</td>\n",
       "      <td>-0.005003</td>\n",
       "      <td>-0.061457</td>\n",
       "      <td>1.000000</td>\n",
       "    </tr>\n",
       "  </tbody>\n",
       "</table>\n",
       "</div>"
      ],
      "text/plain": [
       "                  price  bedrooms  bathrooms  sqft_living  sqft_lot    floors  \\\n",
       "price          1.000000  0.323672   0.525479     0.702899  0.096793  0.262588   \n",
       "bedrooms       0.323672  1.000000   0.530548     0.596974  0.033475  0.189532   \n",
       "bathrooms      0.525479  0.530548   1.000000     0.755853  0.089308  0.508649   \n",
       "sqft_living    0.702899  0.596974   0.755853     1.000000  0.176500  0.363193   \n",
       "sqft_lot       0.096793  0.033475   0.089308     0.176500  1.000000  0.001535   \n",
       "floors         0.262588  0.189532   0.508649     0.363193  0.001535  1.000000   \n",
       "waterfront     0.265738 -0.004819   0.075452     0.108137  0.025584  0.031159   \n",
       "view           0.400806  0.085703   0.187488     0.282821  0.080441  0.034511   \n",
       "condition      0.039740  0.034885  -0.125907    -0.054213 -0.002099 -0.261016   \n",
       "grade          0.667211  0.375286   0.666278     0.762543  0.119906  0.462598   \n",
       "sqft_above     0.608577  0.494867   0.688255     0.878736  0.186242  0.529476   \n",
       "sqft_basement  0.322218  0.315183   0.282642     0.434017  0.017818 -0.239350   \n",
       "yr_built       0.047290  0.158799   0.503964     0.315927  0.058686  0.490436   \n",
       "yr_renovated   0.140808  0.022729   0.065423     0.064893 -0.001451  0.009752   \n",
       "zipcode       -0.051498 -0.162081  -0.207500    -0.200745 -0.127709 -0.059107   \n",
       "lat            0.301604 -0.011190   0.018110     0.051609 -0.082234  0.049004   \n",
       "long           0.023547  0.135802   0.227669     0.245429  0.227451  0.126983   \n",
       "sqft_living15  0.586419  0.407394   0.573541     0.760271  0.147562  0.287125   \n",
       "sqft_lot15     0.086384  0.027242   0.088120     0.184176  0.728458 -0.010287   \n",
       "year           0.008012 -0.002067  -0.022161    -0.021638  0.007243 -0.020852   \n",
       "month         -0.010352 -0.007382   0.007759     0.009763 -0.001897  0.015441   \n",
       "day           -0.013625 -0.012671  -0.010256    -0.011125  0.003807 -0.008965   \n",
       "\n",
       "               waterfront      view  condition     grade  sqft_above  \\\n",
       "price            0.265738  0.400806   0.039740  0.667211    0.608577   \n",
       "bedrooms        -0.004819  0.085703   0.034885  0.375286    0.494867   \n",
       "bathrooms        0.075452  0.187488  -0.125907  0.666278    0.688255   \n",
       "sqft_living      0.108137  0.282821  -0.054213  0.762543    0.878736   \n",
       "sqft_lot         0.025584  0.080441  -0.002099  0.119906    0.186242   \n",
       "floors           0.031159  0.034511  -0.261016  0.462598    0.529476   \n",
       "waterfront       1.000000  0.389669   0.011613  0.088061    0.081968   \n",
       "view             0.389669  1.000000   0.045255  0.247924    0.172693   \n",
       "condition        0.011613  0.045255   1.000000 -0.143599   -0.152856   \n",
       "grade            0.088061  0.247924  -0.143599  1.000000    0.759240   \n",
       "sqft_above       0.081968  0.172693  -0.152856  0.759240    1.000000   \n",
       "sqft_basement    0.071576  0.265880   0.175064  0.162657   -0.048623   \n",
       "yr_built        -0.026523 -0.061670  -0.366590  0.440608    0.422431   \n",
       "yr_renovated     0.104168  0.107605  -0.062342  0.030155    0.031441   \n",
       "zipcode          0.028632  0.089247   0.001106 -0.186541   -0.258474   \n",
       "lat             -0.014772  0.005285  -0.015974  0.112319    0.001074   \n",
       "long            -0.037922 -0.073151  -0.110742  0.202130    0.347226   \n",
       "sqft_living15    0.091810  0.278267  -0.091407  0.715321    0.737795   \n",
       "sqft_lot15       0.028255  0.076501  -0.003873  0.119734    0.194226   \n",
       "year            -0.002041  0.014233  -0.045968 -0.022660   -0.019124   \n",
       "month            0.005828 -0.014440   0.020182  0.009230    0.010427   \n",
       "day              0.014694  0.013287  -0.003907 -0.019799   -0.007108   \n",
       "\n",
       "               sqft_basement  yr_built  yr_renovated   zipcode       lat  \\\n",
       "price               0.322218  0.047290      0.140808 -0.051498  0.301604   \n",
       "bedrooms            0.315183  0.158799      0.022729 -0.162081 -0.011190   \n",
       "bathrooms           0.282642  0.503964      0.065423 -0.207500  0.018110   \n",
       "sqft_living         0.434017  0.315927      0.064893 -0.200745  0.051609   \n",
       "sqft_lot            0.017818  0.058686     -0.001451 -0.127709 -0.082234   \n",
       "floors             -0.239350  0.490436      0.009752 -0.059107  0.049004   \n",
       "waterfront          0.071576 -0.026523      0.104168  0.028632 -0.014772   \n",
       "view                0.265880 -0.061670      0.107605  0.089247  0.005285   \n",
       "condition           0.175064 -0.366590     -0.062342  0.001106 -0.015974   \n",
       "grade               0.162657  0.440608      0.030155 -0.186541  0.112319   \n",
       "sqft_above         -0.048623  0.422431      0.031441 -0.258474  0.001074   \n",
       "sqft_basement       1.000000 -0.136214      0.076452  0.067782  0.105969   \n",
       "yr_built           -0.136214  1.000000     -0.215760 -0.354280 -0.156563   \n",
       "yr_renovated        0.076452 -0.215760      1.000000  0.068307  0.034844   \n",
       "zipcode             0.067782 -0.354280      0.068307  1.000000  0.261312   \n",
       "lat                 0.105969 -0.156563      0.034844  0.261312  1.000000   \n",
       "long               -0.141792  0.414565     -0.070134 -0.563455 -0.133460   \n",
       "sqft_living15       0.198380  0.324221      0.007995 -0.274176  0.048924   \n",
       "sqft_lot15          0.018813  0.076009     -0.000348 -0.145710 -0.081725   \n",
       "year               -0.009185  0.004381     -0.019075 -0.000743 -0.031389   \n",
       "month               0.000750 -0.001425      0.006802  0.000282  0.019899   \n",
       "day                -0.009863 -0.011638      0.016533 -0.007562 -0.015690   \n",
       "\n",
       "                   long  sqft_living15  sqft_lot15      year     month  \\\n",
       "price          0.023547       0.586419    0.086384  0.008012 -0.010352   \n",
       "bedrooms       0.135802       0.407394    0.027242 -0.002067 -0.007382   \n",
       "bathrooms      0.227669       0.573541    0.088120 -0.022161  0.007759   \n",
       "sqft_living    0.245429       0.760271    0.184176 -0.021638  0.009763   \n",
       "sqft_lot       0.227451       0.147562    0.728458  0.007243 -0.001897   \n",
       "floors         0.126983       0.287125   -0.010287 -0.020852  0.015441   \n",
       "waterfront    -0.037922       0.091810    0.028255 -0.002041  0.005828   \n",
       "view          -0.073151       0.278267    0.076501  0.014233 -0.014440   \n",
       "condition     -0.110742      -0.091407   -0.003873 -0.045968  0.020182   \n",
       "grade          0.202130       0.715321    0.119734 -0.022660  0.009230   \n",
       "sqft_above     0.347226       0.737795    0.194226 -0.019124  0.010427   \n",
       "sqft_basement -0.141792       0.198380    0.018813 -0.009185  0.000750   \n",
       "yr_built       0.414565       0.324221    0.076009  0.004381 -0.001425   \n",
       "yr_renovated  -0.070134       0.007995   -0.000348 -0.019075  0.006802   \n",
       "zipcode       -0.563455      -0.274176   -0.145710 -0.000743  0.000282   \n",
       "lat           -0.133460       0.048924   -0.081725 -0.031389  0.019899   \n",
       "long           1.000000       0.333673    0.256201  0.003253 -0.007618   \n",
       "sqft_living15  0.333673       1.000000    0.183599 -0.013523 -0.001068   \n",
       "sqft_lot15     0.256201       0.183599    1.000000  0.003022  0.004651   \n",
       "year           0.003253      -0.013523    0.003022  1.000000 -0.781074   \n",
       "month         -0.007618      -0.001068    0.004651 -0.781074  1.000000   \n",
       "day           -0.006330      -0.009914    0.005678 -0.005003 -0.061457   \n",
       "\n",
       "                    day  \n",
       "price         -0.013625  \n",
       "bedrooms      -0.012671  \n",
       "bathrooms     -0.010256  \n",
       "sqft_living   -0.011125  \n",
       "sqft_lot       0.003807  \n",
       "floors        -0.008965  \n",
       "waterfront     0.014694  \n",
       "view           0.013287  \n",
       "condition     -0.003907  \n",
       "grade         -0.019799  \n",
       "sqft_above    -0.007108  \n",
       "sqft_basement -0.009863  \n",
       "yr_built      -0.011638  \n",
       "yr_renovated   0.016533  \n",
       "zipcode       -0.007562  \n",
       "lat           -0.015690  \n",
       "long          -0.006330  \n",
       "sqft_living15 -0.009914  \n",
       "sqft_lot15     0.005678  \n",
       "year          -0.005003  \n",
       "month         -0.061457  \n",
       "day            1.000000  "
      ]
     },
     "execution_count": 4,
     "metadata": {},
     "output_type": "execute_result"
    }
   ],
   "source": [
    "train.iloc[:,1:].corr()"
   ]
  },
  {
   "cell_type": "code",
   "execution_count": 5,
   "metadata": {
    "ExecuteTime": {
     "end_time": "2019-03-12T04:07:08.476018Z",
     "start_time": "2019-03-12T04:07:08.075432Z"
    }
   },
   "outputs": [
    {
     "data": {
      "text/plain": [
       "<Figure size 1440x1440 with 0 Axes>"
      ]
     },
     "metadata": {},
     "output_type": "display_data"
    },
    {
     "data": {
      "image/png": "[encoded data removed]",
      "text/plain": [
       "<Figure size 288x288 with 2 Axes>"
      ]
     },
     "metadata": {
      "needs_background": "light"
     },
     "output_type": "display_data"
    }
   ],
   "source": [
    "plt.figure(figsize = (20,20))\n",
    "plt.matshow(train.iloc[:,1:].corr())\n",
    "plt.xticks(range(len(train.columns)-1), train.iloc[:,1:].columns)\n",
    "plt.yticks(range(len(train.columns)-1), train.iloc[:,1:].columns)\n",
    "plt.colorbar()\n",
    "plt.show()"
   ]
  },
  {
   "cell_type": "code",
   "execution_count": 6,
   "metadata": {
    "ExecuteTime": {
     "end_time": "2019-03-12T04:07:11.505556Z",
     "start_time": "2019-03-12T04:07:10.486204Z"
    }
   },
   "outputs": [
    {
     "data": {
      "text/html": [
       "<style  type=\"text/css\" >\n",
       "    #T_4fab14d4_447c_11e9_832e_85e15676d974row0_col0 {\n",
       "            background-color:  #b40426;\n",
       "        }    #T_4fab14d4_447c_11e9_832e_85e15676d974row0_col1 {\n",
       "            background-color:  #c6d6f1;\n",
       "        }    #T_4fab14d4_447c_11e9_832e_85e15676d974row0_col2 {\n",
       "            background-color:  #f2c9b4;\n",
       "        }    #T_4fab14d4_447c_11e9_832e_85e15676d974row0_col3 {\n",
       "            background-color:  #f4987a;\n",
       "        }    #T_4fab14d4_447c_11e9_832e_85e15676d974row0_col4 {\n",
       "            background-color:  #7a9df8;\n",
       "        }    #T_4fab14d4_447c_11e9_832e_85e15676d974row0_col5 {\n",
       "            background-color:  #c5d6f2;\n",
       "        }    #T_4fab14d4_447c_11e9_832e_85e15676d974row0_col6 {\n",
       "            background-color:  #9bbcff;\n",
       "        }    #T_4fab14d4_447c_11e9_832e_85e15676d974row0_col7 {\n",
       "            background-color:  #cdd9ec;\n",
       "        }    #T_4fab14d4_447c_11e9_832e_85e15676d974row0_col8 {\n",
       "            background-color:  #9ebeff;\n",
       "        }    #T_4fab14d4_447c_11e9_832e_85e15676d974row0_col9 {\n",
       "            background-color:  #f6a586;\n",
       "        }    #T_4fab14d4_447c_11e9_832e_85e15676d974row0_col10 {\n",
       "            background-color:  #f7b093;\n",
       "        }    #T_4fab14d4_447c_11e9_832e_85e15676d974row0_col11 {\n",
       "            background-color:  #cfdaea;\n",
       "        }    #T_4fab14d4_447c_11e9_832e_85e15676d974row0_col12 {\n",
       "            background-color:  #9fbfff;\n",
       "        }    #T_4fab14d4_447c_11e9_832e_85e15676d974row0_col13 {\n",
       "            background-color:  #9dbdff;\n",
       "        }    #T_4fab14d4_447c_11e9_832e_85e15676d974row0_col14 {\n",
       "            background-color:  #a7c5fe;\n",
       "        }    #T_4fab14d4_447c_11e9_832e_85e15676d974row0_col15 {\n",
       "            background-color:  #bfd3f6;\n",
       "        }    #T_4fab14d4_447c_11e9_832e_85e15676d974row0_col16 {\n",
       "            background-color:  #b9d0f9;\n",
       "        }    #T_4fab14d4_447c_11e9_832e_85e15676d974row0_col17 {\n",
       "            background-color:  #f7b599;\n",
       "        }    #T_4fab14d4_447c_11e9_832e_85e15676d974row0_col18 {\n",
       "            background-color:  #7b9ff9;\n",
       "        }    #T_4fab14d4_447c_11e9_832e_85e15676d974row0_col19 {\n",
       "            background-color:  #cdd9ec;\n",
       "        }    #T_4fab14d4_447c_11e9_832e_85e15676d974row0_col20 {\n",
       "            background-color:  #cad8ef;\n",
       "        }    #T_4fab14d4_447c_11e9_832e_85e15676d974row0_col21 {\n",
       "            background-color:  #485fd1;\n",
       "        }    #T_4fab14d4_447c_11e9_832e_85e15676d974row1_col0 {\n",
       "            background-color:  #b2ccfb;\n",
       "        }    #T_4fab14d4_447c_11e9_832e_85e15676d974row1_col1 {\n",
       "            background-color:  #b40426;\n",
       "        }    #T_4fab14d4_447c_11e9_832e_85e15676d974row1_col2 {\n",
       "            background-color:  #f3c8b2;\n",
       "        }    #T_4fab14d4_447c_11e9_832e_85e15676d974row1_col3 {\n",
       "            background-color:  #f7b89c;\n",
       "        }    #T_4fab14d4_447c_11e9_832e_85e15676d974row1_col4 {\n",
       "            background-color:  #6788ee;\n",
       "        }    #T_4fab14d4_447c_11e9_832e_85e15676d974row1_col5 {\n",
       "            background-color:  #b2ccfb;\n",
       "        }    #T_4fab14d4_447c_11e9_832e_85e15676d974row1_col6 {\n",
       "            background-color:  #445acc;\n",
       "        }    #T_4fab14d4_447c_11e9_832e_85e15676d974row1_col7 {\n",
       "            background-color:  #688aef;\n",
       "        }    #T_4fab14d4_447c_11e9_832e_85e15676d974row1_col8 {\n",
       "            background-color:  #9dbdff;\n",
       "        }    #T_4fab14d4_447c_11e9_832e_85e15676d974row1_col9 {\n",
       "            background-color:  #d6dce4;\n",
       "        }    #T_4fab14d4_447c_11e9_832e_85e15676d974row1_col10 {\n",
       "            background-color:  #f2cbb7;\n",
       "        }    #T_4fab14d4_447c_11e9_832e_85e15676d974row1_col11 {\n",
       "            background-color:  #cedaeb;\n",
       "        }    #T_4fab14d4_447c_11e9_832e_85e15676d974row1_col12 {\n",
       "            background-color:  #bbd1f8;\n",
       "        }    #T_4fab14d4_447c_11e9_832e_85e15676d974row1_col13 {\n",
       "            background-color:  #7a9df8;\n",
       "        }    #T_4fab14d4_447c_11e9_832e_85e15676d974row1_col14 {\n",
       "            background-color:  #8fb1fe;\n",
       "        }    #T_4fab14d4_447c_11e9_832e_85e15676d974row1_col15 {\n",
       "            background-color:  #6282ea;\n",
       "        }    #T_4fab14d4_447c_11e9_832e_85e15676d974row1_col16 {\n",
       "            background-color:  #cedaeb;\n",
       "        }    #T_4fab14d4_447c_11e9_832e_85e15676d974row1_col17 {\n",
       "            background-color:  #e5d8d1;\n",
       "        }    #T_4fab14d4_447c_11e9_832e_85e15676d974row1_col18 {\n",
       "            background-color:  #6a8bef;\n",
       "        }    #T_4fab14d4_447c_11e9_832e_85e15676d974row1_col19 {\n",
       "            background-color:  #cbd8ee;\n",
       "        }    #T_4fab14d4_447c_11e9_832e_85e15676d974row1_col20 {\n",
       "            background-color:  #cbd8ee;\n",
       "        }    #T_4fab14d4_447c_11e9_832e_85e15676d974row1_col21 {\n",
       "            background-color:  #485fd1;\n",
       "        }    #T_4fab14d4_447c_11e9_832e_85e15676d974row2_col0 {\n",
       "            background-color:  #e9d5cb;\n",
       "        }    #T_4fab14d4_447c_11e9_832e_85e15676d974row2_col1 {\n",
       "            background-color:  #f1ccb8;\n",
       "        }    #T_4fab14d4_447c_11e9_832e_85e15676d974row2_col2 {\n",
       "            background-color:  #b40426;\n",
       "        }    #T_4fab14d4_447c_11e9_832e_85e15676d974row2_col3 {\n",
       "            background-color:  #ee8669;\n",
       "        }    #T_4fab14d4_447c_11e9_832e_85e15676d974row2_col4 {\n",
       "            background-color:  #799cf8;\n",
       "        }    #T_4fab14d4_447c_11e9_832e_85e15676d974row2_col5 {\n",
       "            background-color:  #f3c8b2;\n",
       "        }    #T_4fab14d4_447c_11e9_832e_85e15676d974row2_col6 {\n",
       "            background-color:  #5b7ae5;\n",
       "        }    #T_4fab14d4_447c_11e9_832e_85e15676d974row2_col7 {\n",
       "            background-color:  #8badfd;\n",
       "        }    #T_4fab14d4_447c_11e9_832e_85e15676d974row2_col8 {\n",
       "            background-color:  #7396f5;\n",
       "        }    #T_4fab14d4_447c_11e9_832e_85e15676d974row2_col9 {\n",
       "            background-color:  #f7a688;\n",
       "        }    #T_4fab14d4_447c_11e9_832e_85e15676d974row2_col10 {\n",
       "            background-color:  #f4987a;\n",
       "        }    #T_4fab14d4_447c_11e9_832e_85e15676d974row2_col11 {\n",
       "            background-color:  #c6d6f1;\n",
       "        }    #T_4fab14d4_447c_11e9_832e_85e15676d974row2_col12 {\n",
       "            background-color:  #f5c0a7;\n",
       "        }    #T_4fab14d4_447c_11e9_832e_85e15676d974row2_col13 {\n",
       "            background-color:  #86a9fc;\n",
       "        }    #T_4fab14d4_447c_11e9_832e_85e15676d974row2_col14 {\n",
       "            background-color:  #85a8fc;\n",
       "        }    #T_4fab14d4_447c_11e9_832e_85e15676d974row2_col15 {\n",
       "            background-color:  #6a8bef;\n",
       "        }    #T_4fab14d4_447c_11e9_832e_85e15676d974row2_col16 {\n",
       "            background-color:  #dedcdb;\n",
       "        }    #T_4fab14d4_447c_11e9_832e_85e15676d974row2_col17 {\n",
       "            background-color:  #f7b89c;\n",
       "        }    #T_4fab14d4_447c_11e9_832e_85e15676d974row2_col18 {\n",
       "            background-color:  #7da0f9;\n",
       "        }    #T_4fab14d4_447c_11e9_832e_85e15676d974row2_col19 {\n",
       "            background-color:  #c9d7f0;\n",
       "        }    #T_4fab14d4_447c_11e9_832e_85e15676d974row2_col20 {\n",
       "            background-color:  #cdd9ec;\n",
       "        }    #T_4fab14d4_447c_11e9_832e_85e15676d974row2_col21 {\n",
       "            background-color:  #4961d2;\n",
       "        }    #T_4fab14d4_447c_11e9_832e_85e15676d974row3_col0 {\n",
       "            background-color:  #f7a688;\n",
       "        }    #T_4fab14d4_447c_11e9_832e_85e15676d974row3_col1 {\n",
       "            background-color:  #f7bca1;\n",
       "        }    #T_4fab14d4_447c_11e9_832e_85e15676d974row3_col2 {\n",
       "            background-color:  #ee8468;\n",
       "        }    #T_4fab14d4_447c_11e9_832e_85e15676d974row3_col3 {\n",
       "            background-color:  #b40426;\n",
       "        }    #T_4fab14d4_447c_11e9_832e_85e15676d974row3_col4 {\n",
       "            background-color:  #94b6ff;\n",
       "        }    #T_4fab14d4_447c_11e9_832e_85e15676d974row3_col5 {\n",
       "            background-color:  #dbdcde;\n",
       "        }    #T_4fab14d4_447c_11e9_832e_85e15676d974row3_col6 {\n",
       "            background-color:  #6788ee;\n",
       "        }    #T_4fab14d4_447c_11e9_832e_85e15676d974row3_col7 {\n",
       "            background-color:  #a9c6fd;\n",
       "        }    #T_4fab14d4_447c_11e9_832e_85e15676d974row3_col8 {\n",
       "            background-color:  #85a8fc;\n",
       "        }    #T_4fab14d4_447c_11e9_832e_85e15676d974row3_col9 {\n",
       "            background-color:  #ee8468;\n",
       "        }    #T_4fab14d4_447c_11e9_832e_85e15676d974row3_col10 {\n",
       "            background-color:  #d55042;\n",
       "        }    #T_4fab14d4_447c_11e9_832e_85e15676d974row3_col11 {\n",
       "            background-color:  #e8d6cc;\n",
       "        }    #T_4fab14d4_447c_11e9_832e_85e15676d974row3_col12 {\n",
       "            background-color:  #dcdddd;\n",
       "        }    #T_4fab14d4_447c_11e9_832e_85e15676d974row3_col13 {\n",
       "            background-color:  #86a9fc;\n",
       "        }    #T_4fab14d4_447c_11e9_832e_85e15676d974row3_col14 {\n",
       "            background-color:  #86a9fc;\n",
       "        }    #T_4fab14d4_447c_11e9_832e_85e15676d974row3_col15 {\n",
       "            background-color:  #7597f6;\n",
       "        }    #T_4fab14d4_447c_11e9_832e_85e15676d974row3_col16 {\n",
       "            background-color:  #e1dad6;\n",
       "        }    #T_4fab14d4_447c_11e9_832e_85e15676d974row3_col17 {\n",
       "            background-color:  #ec7f63;\n",
       "        }    #T_4fab14d4_447c_11e9_832e_85e15676d974row3_col18 {\n",
       "            background-color:  #9abbff;\n",
       "        }    #T_4fab14d4_447c_11e9_832e_85e15676d974row3_col19 {\n",
       "            background-color:  #c9d7f0;\n",
       "        }    #T_4fab14d4_447c_11e9_832e_85e15676d974row3_col20 {\n",
       "            background-color:  #cdd9ec;\n",
       "        }    #T_4fab14d4_447c_11e9_832e_85e15676d974row3_col21 {\n",
       "            background-color:  #4961d2;\n",
       "        }    #T_4fab14d4_447c_11e9_832e_85e15676d974row4_col0 {\n",
       "            background-color:  #6788ee;\n",
       "        }    #T_4fab14d4_447c_11e9_832e_85e15676d974row4_col1 {\n",
       "            background-color:  #7093f3;\n",
       "        }    #T_4fab14d4_447c_11e9_832e_85e15676d974row4_col2 {\n",
       "            background-color:  #8badfd;\n",
       "        }    #T_4fab14d4_447c_11e9_832e_85e15676d974row4_col3 {\n",
       "            background-color:  #a3c2fe;\n",
       "        }    #T_4fab14d4_447c_11e9_832e_85e15676d974row4_col4 {\n",
       "            background-color:  #b40426;\n",
       "        }    #T_4fab14d4_447c_11e9_832e_85e15676d974row4_col5 {\n",
       "            background-color:  #7ea1fa;\n",
       "        }    #T_4fab14d4_447c_11e9_832e_85e15676d974row4_col6 {\n",
       "            background-color:  #4c66d6;\n",
       "        }    #T_4fab14d4_447c_11e9_832e_85e15676d974row4_col7 {\n",
       "            background-color:  #6788ee;\n",
       "        }    #T_4fab14d4_447c_11e9_832e_85e15676d974row4_col8 {\n",
       "            background-color:  #93b5fe;\n",
       "        }    #T_4fab14d4_447c_11e9_832e_85e15676d974row4_col9 {\n",
       "            background-color:  #90b2fe;\n",
       "        }    #T_4fab14d4_447c_11e9_832e_85e15676d974row4_col10 {\n",
       "            background-color:  #b1cbfc;\n",
       "        }    #T_4fab14d4_447c_11e9_832e_85e15676d974row4_col11 {\n",
       "            background-color:  #7ea1fa;\n",
       "        }    #T_4fab14d4_447c_11e9_832e_85e15676d974row4_col12 {\n",
       "            background-color:  #a2c1ff;\n",
       "        }    #T_4fab14d4_447c_11e9_832e_85e15676d974row4_col13 {\n",
       "            background-color:  #7396f5;\n",
       "        }    #T_4fab14d4_447c_11e9_832e_85e15676d974row4_col14 {\n",
       "            background-color:  #97b8ff;\n",
       "        }    #T_4fab14d4_447c_11e9_832e_85e15676d974row4_col15 {\n",
       "            background-color:  #4e68d8;\n",
       "        }    #T_4fab14d4_447c_11e9_832e_85e15676d974row4_col16 {\n",
       "            background-color:  #dedcdb;\n",
       "        }    #T_4fab14d4_447c_11e9_832e_85e15676d974row4_col17 {\n",
       "            background-color:  #a9c6fd;\n",
       "        }    #T_4fab14d4_447c_11e9_832e_85e15676d974row4_col18 {\n",
       "            background-color:  #f39475;\n",
       "        }    #T_4fab14d4_447c_11e9_832e_85e15676d974row4_col19 {\n",
       "            background-color:  #cdd9ec;\n",
       "        }    #T_4fab14d4_447c_11e9_832e_85e15676d974row4_col20 {\n",
       "            background-color:  #cbd8ee;\n",
       "        }    #T_4fab14d4_447c_11e9_832e_85e15676d974row4_col21 {\n",
       "            background-color:  #4c66d6;\n",
       "        }    #T_4fab14d4_447c_11e9_832e_85e15676d974row5_col0 {\n",
       "            background-color:  #9ebeff;\n",
       "        }    #T_4fab14d4_447c_11e9_832e_85e15676d974row5_col1 {\n",
       "            background-color:  #9fbfff;\n",
       "        }    #T_4fab14d4_447c_11e9_832e_85e15676d974row5_col2 {\n",
       "            background-color:  #f1cdba;\n",
       "        }    #T_4fab14d4_447c_11e9_832e_85e15676d974row5_col3 {\n",
       "            background-color:  #d5dbe5;\n",
       "        }    #T_4fab14d4_447c_11e9_832e_85e15676d974row5_col4 {\n",
       "            background-color:  #5e7de7;\n",
       "        }    #T_4fab14d4_447c_11e9_832e_85e15676d974row5_col5 {\n",
       "            background-color:  #b40426;\n",
       "        }    #T_4fab14d4_447c_11e9_832e_85e15676d974row5_col6 {\n",
       "            background-color:  #4f69d9;\n",
       "        }    #T_4fab14d4_447c_11e9_832e_85e15676d974row5_col7 {\n",
       "            background-color:  #5977e3;\n",
       "        }    #T_4fab14d4_447c_11e9_832e_85e15676d974row5_col8 {\n",
       "            background-color:  #516ddb;\n",
       "        }    #T_4fab14d4_447c_11e9_832e_85e15676d974row5_col9 {\n",
       "            background-color:  #e9d5cb;\n",
       "        }    #T_4fab14d4_447c_11e9_832e_85e15676d974row5_col10 {\n",
       "            background-color:  #f5c4ac;\n",
       "        }    #T_4fab14d4_447c_11e9_832e_85e15676d974row5_col11 {\n",
       "            background-color:  #3b4cc0;\n",
       "        }    #T_4fab14d4_447c_11e9_832e_85e15676d974row5_col12 {\n",
       "            background-color:  #f5c4ac;\n",
       "        }    #T_4fab14d4_447c_11e9_832e_85e15676d974row5_col13 {\n",
       "            background-color:  #7699f6;\n",
       "        }    #T_4fab14d4_447c_11e9_832e_85e15676d974row5_col14 {\n",
       "            background-color:  #a6c4fe;\n",
       "        }    #T_4fab14d4_447c_11e9_832e_85e15676d974row5_col15 {\n",
       "            background-color:  #7396f5;\n",
       "        }    #T_4fab14d4_447c_11e9_832e_85e15676d974row5_col16 {\n",
       "            background-color:  #cdd9ec;\n",
       "        }    #T_4fab14d4_447c_11e9_832e_85e15676d974row5_col17 {\n",
       "            background-color:  #ccd9ed;\n",
       "        }    #T_4fab14d4_447c_11e9_832e_85e15676d974row5_col18 {\n",
       "            background-color:  #5f7fe8;\n",
       "        }    #T_4fab14d4_447c_11e9_832e_85e15676d974row5_col19 {\n",
       "            background-color:  #c9d7f0;\n",
       "        }    #T_4fab14d4_447c_11e9_832e_85e15676d974row5_col20 {\n",
       "            background-color:  #cedaeb;\n",
       "        }    #T_4fab14d4_447c_11e9_832e_85e15676d974row5_col21 {\n",
       "            background-color:  #4961d2;\n",
       "        }    #T_4fab14d4_447c_11e9_832e_85e15676d974row6_col0 {\n",
       "            background-color:  #9fbfff;\n",
       "        }    #T_4fab14d4_447c_11e9_832e_85e15676d974row6_col1 {\n",
       "            background-color:  #6485ec;\n",
       "        }    #T_4fab14d4_447c_11e9_832e_85e15676d974row6_col2 {\n",
       "            background-color:  #86a9fc;\n",
       "        }    #T_4fab14d4_447c_11e9_832e_85e15676d974row6_col3 {\n",
       "            background-color:  #8fb1fe;\n",
       "        }    #T_4fab14d4_447c_11e9_832e_85e15676d974row6_col4 {\n",
       "            background-color:  #6485ec;\n",
       "        }    #T_4fab14d4_447c_11e9_832e_85e15676d974row6_col5 {\n",
       "            background-color:  #86a9fc;\n",
       "        }    #T_4fab14d4_447c_11e9_832e_85e15676d974row6_col6 {\n",
       "            background-color:  #b40426;\n",
       "        }    #T_4fab14d4_447c_11e9_832e_85e15676d974row6_col7 {\n",
       "            background-color:  #cad8ef;\n",
       "        }    #T_4fab14d4_447c_11e9_832e_85e15676d974row6_col8 {\n",
       "            background-color:  #96b7ff;\n",
       "        }    #T_4fab14d4_447c_11e9_832e_85e15676d974row6_col9 {\n",
       "            background-color:  #86a9fc;\n",
       "        }    #T_4fab14d4_447c_11e9_832e_85e15676d974row6_col10 {\n",
       "            background-color:  #94b6ff;\n",
       "        }    #T_4fab14d4_447c_11e9_832e_85e15676d974row6_col11 {\n",
       "            background-color:  #8db0fe;\n",
       "        }    #T_4fab14d4_447c_11e9_832e_85e15676d974row6_col12 {\n",
       "            background-color:  #8caffe;\n",
       "        }    #T_4fab14d4_447c_11e9_832e_85e15676d974row6_col13 {\n",
       "            background-color:  #92b4fe;\n",
       "        }    #T_4fab14d4_447c_11e9_832e_85e15676d974row6_col14 {\n",
       "            background-color:  #b9d0f9;\n",
       "        }    #T_4fab14d4_447c_11e9_832e_85e15676d974row6_col15 {\n",
       "            background-color:  #6180e9;\n",
       "        }    #T_4fab14d4_447c_11e9_832e_85e15676d974row6_col16 {\n",
       "            background-color:  #abc8fd;\n",
       "        }    #T_4fab14d4_447c_11e9_832e_85e15676d974row6_col17 {\n",
       "            background-color:  #9abbff;\n",
       "        }    #T_4fab14d4_447c_11e9_832e_85e15676d974row6_col18 {\n",
       "            background-color:  #6a8bef;\n",
       "        }    #T_4fab14d4_447c_11e9_832e_85e15676d974row6_col19 {\n",
       "            background-color:  #cbd8ee;\n",
       "        }    #T_4fab14d4_447c_11e9_832e_85e15676d974row6_col20 {\n",
       "            background-color:  #cdd9ec;\n",
       "        }    #T_4fab14d4_447c_11e9_832e_85e15676d974row6_col21 {\n",
       "            background-color:  #506bda;\n",
       "        }    #T_4fab14d4_447c_11e9_832e_85e15676d974row7_col0 {\n",
       "            background-color:  #cad8ef;\n",
       "        }    #T_4fab14d4_447c_11e9_832e_85e15676d974row7_col1 {\n",
       "            background-color:  #80a3fa;\n",
       "        }    #T_4fab14d4_447c_11e9_832e_85e15676d974row7_col2 {\n",
       "            background-color:  #a7c5fe;\n",
       "        }    #T_4fab14d4_447c_11e9_832e_85e15676d974row7_col3 {\n",
       "            background-color:  #c1d4f4;\n",
       "        }    #T_4fab14d4_447c_11e9_832e_85e15676d974row7_col4 {\n",
       "            background-color:  #7699f6;\n",
       "        }    #T_4fab14d4_447c_11e9_832e_85e15676d974row7_col5 {\n",
       "            background-color:  #86a9fc;\n",
       "        }    #T_4fab14d4_447c_11e9_832e_85e15676d974row7_col6 {\n",
       "            background-color:  #c4d5f3;\n",
       "        }    #T_4fab14d4_447c_11e9_832e_85e15676d974row7_col7 {\n",
       "            background-color:  #b40426;\n",
       "        }    #T_4fab14d4_447c_11e9_832e_85e15676d974row7_col8 {\n",
       "            background-color:  #9fbfff;\n",
       "        }    #T_4fab14d4_447c_11e9_832e_85e15676d974row7_col9 {\n",
       "            background-color:  #b5cdfa;\n",
       "        }    #T_4fab14d4_447c_11e9_832e_85e15676d974row7_col10 {\n",
       "            background-color:  #adc9fd;\n",
       "        }    #T_4fab14d4_447c_11e9_832e_85e15676d974row7_col11 {\n",
       "            background-color:  #c3d5f4;\n",
       "        }    #T_4fab14d4_447c_11e9_832e_85e15676d974row7_col12 {\n",
       "            background-color:  #84a7fc;\n",
       "        }    #T_4fab14d4_447c_11e9_832e_85e15676d974row7_col13 {\n",
       "            background-color:  #93b5fe;\n",
       "        }    #T_4fab14d4_447c_11e9_832e_85e15676d974row7_col14 {\n",
       "            background-color:  #c5d6f2;\n",
       "        }    #T_4fab14d4_447c_11e9_832e_85e15676d974row7_col15 {\n",
       "            background-color:  #6687ed;\n",
       "        }    #T_4fab14d4_447c_11e9_832e_85e15676d974row7_col16 {\n",
       "            background-color:  #a3c2fe;\n",
       "        }    #T_4fab14d4_447c_11e9_832e_85e15676d974row7_col17 {\n",
       "            background-color:  #cad8ef;\n",
       "        }    #T_4fab14d4_447c_11e9_832e_85e15676d974row7_col18 {\n",
       "            background-color:  #799cf8;\n",
       "        }    #T_4fab14d4_447c_11e9_832e_85e15676d974row7_col19 {\n",
       "            background-color:  #cedaeb;\n",
       "        }    #T_4fab14d4_447c_11e9_832e_85e15676d974row7_col20 {\n",
       "            background-color:  #cad8ef;\n",
       "        }    #T_4fab14d4_447c_11e9_832e_85e15676d974row7_col21 {\n",
       "            background-color:  #506bda;\n",
       "        }    #T_4fab14d4_447c_11e9_832e_85e15676d974row8_col0 {\n",
       "            background-color:  #5572df;\n",
       "        }    #T_4fab14d4_447c_11e9_832e_85e15676d974row8_col1 {\n",
       "            background-color:  #7093f3;\n",
       "        }    #T_4fab14d4_447c_11e9_832e_85e15676d974row8_col2 {\n",
       "            background-color:  #4f69d9;\n",
       "        }    #T_4fab14d4_447c_11e9_832e_85e15676d974row8_col3 {\n",
       "            background-color:  #6180e9;\n",
       "        }    #T_4fab14d4_447c_11e9_832e_85e15676d974row8_col4 {\n",
       "            background-color:  #5d7ce6;\n",
       "        }    #T_4fab14d4_447c_11e9_832e_85e15676d974row8_col5 {\n",
       "            background-color:  #3b4cc0;\n",
       "        }    #T_4fab14d4_447c_11e9_832e_85e15676d974row8_col6 {\n",
       "            background-color:  #4961d2;\n",
       "        }    #T_4fab14d4_447c_11e9_832e_85e15676d974row8_col7 {\n",
       "            background-color:  #5d7ce6;\n",
       "        }    #T_4fab14d4_447c_11e9_832e_85e15676d974row8_col8 {\n",
       "            background-color:  #b40426;\n",
       "        }    #T_4fab14d4_447c_11e9_832e_85e15676d974row8_col9 {\n",
       "            background-color:  #455cce;\n",
       "        }    #T_4fab14d4_447c_11e9_832e_85e15676d974row8_col10 {\n",
       "            background-color:  #5470de;\n",
       "        }    #T_4fab14d4_447c_11e9_832e_85e15676d974row8_col11 {\n",
       "            background-color:  #aac7fd;\n",
       "        }    #T_4fab14d4_447c_11e9_832e_85e15676d974row8_col12 {\n",
       "            background-color:  #3b4cc0;\n",
       "        }    #T_4fab14d4_447c_11e9_832e_85e15676d974row8_col13 {\n",
       "            background-color:  #6282ea;\n",
       "        }    #T_4fab14d4_447c_11e9_832e_85e15676d974row8_col14 {\n",
       "            background-color:  #b3cdfb;\n",
       "        }    #T_4fab14d4_447c_11e9_832e_85e15676d974row8_col15 {\n",
       "            background-color:  #6180e9;\n",
       "        }    #T_4fab14d4_447c_11e9_832e_85e15676d974row8_col16 {\n",
       "            background-color:  #9bbcff;\n",
       "        }    #T_4fab14d4_447c_11e9_832e_85e15676d974row8_col17 {\n",
       "            background-color:  #6788ee;\n",
       "        }    #T_4fab14d4_447c_11e9_832e_85e15676d974row8_col18 {\n",
       "            background-color:  #6180e9;\n",
       "        }    #T_4fab14d4_447c_11e9_832e_85e15676d974row8_col19 {\n",
       "            background-color:  #c4d5f3;\n",
       "        }    #T_4fab14d4_447c_11e9_832e_85e15676d974row8_col20 {\n",
       "            background-color:  #cfdaea;\n",
       "        }    #T_4fab14d4_447c_11e9_832e_85e15676d974row8_col21 {\n",
       "            background-color:  #4a63d3;\n",
       "        }    #T_4fab14d4_447c_11e9_832e_85e15676d974row9_col0 {\n",
       "            background-color:  #f7b396;\n",
       "        }    #T_4fab14d4_447c_11e9_832e_85e15676d974row9_col1 {\n",
       "            background-color:  #d3dbe7;\n",
       "        }    #T_4fab14d4_447c_11e9_832e_85e15676d974row9_col2 {\n",
       "            background-color:  #f6a385;\n",
       "        }    #T_4fab14d4_447c_11e9_832e_85e15676d974row9_col3 {\n",
       "            background-color:  #ed8366;\n",
       "        }    #T_4fab14d4_447c_11e9_832e_85e15676d974row9_col4 {\n",
       "            background-color:  #82a6fb;\n",
       "        }    #T_4fab14d4_447c_11e9_832e_85e15676d974row9_col5 {\n",
       "            background-color:  #edd1c2;\n",
       "        }    #T_4fab14d4_447c_11e9_832e_85e15676d974row9_col6 {\n",
       "            background-color:  #6180e9;\n",
       "        }    #T_4fab14d4_447c_11e9_832e_85e15676d974row9_col7 {\n",
       "            background-color:  #9ebeff;\n",
       "        }    #T_4fab14d4_447c_11e9_832e_85e15676d974row9_col8 {\n",
       "            background-color:  #6e90f2;\n",
       "        }    #T_4fab14d4_447c_11e9_832e_85e15676d974row9_col9 {\n",
       "            background-color:  #b40426;\n",
       "        }    #T_4fab14d4_447c_11e9_832e_85e15676d974row9_col10 {\n",
       "            background-color:  #ec7f63;\n",
       "        }    #T_4fab14d4_447c_11e9_832e_85e15676d974row9_col11 {\n",
       "            background-color:  #a7c5fe;\n",
       "        }    #T_4fab14d4_447c_11e9_832e_85e15676d974row9_col12 {\n",
       "            background-color:  #f1cdba;\n",
       "        }    #T_4fab14d4_447c_11e9_832e_85e15676d974row9_col13 {\n",
       "            background-color:  #7b9ff9;\n",
       "        }    #T_4fab14d4_447c_11e9_832e_85e15676d974row9_col14 {\n",
       "            background-color:  #89acfd;\n",
       "        }    #T_4fab14d4_447c_11e9_832e_85e15676d974row9_col15 {\n",
       "            background-color:  #86a9fc;\n",
       "        }    #T_4fab14d4_447c_11e9_832e_85e15676d974row9_col16 {\n",
       "            background-color:  #dadce0;\n",
       "        }    #T_4fab14d4_447c_11e9_832e_85e15676d974row9_col17 {\n",
       "            background-color:  #f18f71;\n",
       "        }    #T_4fab14d4_447c_11e9_832e_85e15676d974row9_col18 {\n",
       "            background-color:  #86a9fc;\n",
       "        }    #T_4fab14d4_447c_11e9_832e_85e15676d974row9_col19 {\n",
       "            background-color:  #c9d7f0;\n",
       "        }    #T_4fab14d4_447c_11e9_832e_85e15676d974row9_col20 {\n",
       "            background-color:  #cdd9ec;\n",
       "        }    #T_4fab14d4_447c_11e9_832e_85e15676d974row9_col21 {\n",
       "            background-color:  #465ecf;\n",
       "        }    #T_4fab14d4_447c_11e9_832e_85e15676d974row10_col0 {\n",
       "            background-color:  #f5c4ac;\n",
       "        }    #T_4fab14d4_447c_11e9_832e_85e15676d974row10_col1 {\n",
       "            background-color:  #ecd3c5;\n",
       "        }    #T_4fab14d4_447c_11e9_832e_85e15676d974row10_col2 {\n",
       "            background-color:  #f59d7e;\n",
       "        }    #T_4fab14d4_447c_11e9_832e_85e15676d974row10_col3 {\n",
       "            background-color:  #d65244;\n",
       "        }    #T_4fab14d4_447c_11e9_832e_85e15676d974row10_col4 {\n",
       "            background-color:  #97b8ff;\n",
       "        }    #T_4fab14d4_447c_11e9_832e_85e15676d974row10_col5 {\n",
       "            background-color:  #f5c4ac;\n",
       "        }    #T_4fab14d4_447c_11e9_832e_85e15676d974row10_col6 {\n",
       "            background-color:  #5e7de7;\n",
       "        }    #T_4fab14d4_447c_11e9_832e_85e15676d974row10_col7 {\n",
       "            background-color:  #85a8fc;\n",
       "        }    #T_4fab14d4_447c_11e9_832e_85e15676d974row10_col8 {\n",
       "            background-color:  #6c8ff1;\n",
       "        }    #T_4fab14d4_447c_11e9_832e_85e15676d974row10_col9 {\n",
       "            background-color:  #ee8468;\n",
       "        }    #T_4fab14d4_447c_11e9_832e_85e15676d974row10_col10 {\n",
       "            background-color:  #b40426;\n",
       "        }    #T_4fab14d4_447c_11e9_832e_85e15676d974row10_col11 {\n",
       "            background-color:  #6b8df0;\n",
       "        }    #T_4fab14d4_447c_11e9_832e_85e15676d974row10_col12 {\n",
       "            background-color:  #eed0c0;\n",
       "        }    #T_4fab14d4_447c_11e9_832e_85e15676d974row10_col13 {\n",
       "            background-color:  #7da0f9;\n",
       "        }    #T_4fab14d4_447c_11e9_832e_85e15676d974row10_col14 {\n",
       "            background-color:  #799cf8;\n",
       "        }    #T_4fab14d4_447c_11e9_832e_85e15676d974row10_col15 {\n",
       "            background-color:  #6485ec;\n",
       "        }    #T_4fab14d4_447c_11e9_832e_85e15676d974row10_col16 {\n",
       "            background-color:  #efcebd;\n",
       "        }    #T_4fab14d4_447c_11e9_832e_85e15676d974row10_col17 {\n",
       "            background-color:  #ee8669;\n",
       "        }    #T_4fab14d4_447c_11e9_832e_85e15676d974row10_col18 {\n",
       "            background-color:  #9dbdff;\n",
       "        }    #T_4fab14d4_447c_11e9_832e_85e15676d974row10_col19 {\n",
       "            background-color:  #c9d7f0;\n",
       "        }    #T_4fab14d4_447c_11e9_832e_85e15676d974row10_col20 {\n",
       "            background-color:  #cdd9ec;\n",
       "        }    #T_4fab14d4_447c_11e9_832e_85e15676d974row10_col21 {\n",
       "            background-color:  #4a63d3;\n",
       "        }    #T_4fab14d4_447c_11e9_832e_85e15676d974row11_col0 {\n",
       "            background-color:  #b1cbfc;\n",
       "        }    #T_4fab14d4_447c_11e9_832e_85e15676d974row11_col1 {\n",
       "            background-color:  #c4d5f3;\n",
       "        }    #T_4fab14d4_447c_11e9_832e_85e15676d974row11_col2 {\n",
       "            background-color:  #c1d4f4;\n",
       "        }    #T_4fab14d4_447c_11e9_832e_85e15676d974row11_col3 {\n",
       "            background-color:  #e4d9d2;\n",
       "        }    #T_4fab14d4_447c_11e9_832e_85e15676d974row11_col4 {\n",
       "            background-color:  #6384eb;\n",
       "        }    #T_4fab14d4_447c_11e9_832e_85e15676d974row11_col5 {\n",
       "            background-color:  #3f53c6;\n",
       "        }    #T_4fab14d4_447c_11e9_832e_85e15676d974row11_col6 {\n",
       "            background-color:  #5b7ae5;\n",
       "        }    #T_4fab14d4_447c_11e9_832e_85e15676d974row11_col7 {\n",
       "            background-color:  #a3c2fe;\n",
       "        }    #T_4fab14d4_447c_11e9_832e_85e15676d974row11_col8 {\n",
       "            background-color:  #bfd3f6;\n",
       "        }    #T_4fab14d4_447c_11e9_832e_85e15676d974row11_col9 {\n",
       "            background-color:  #9dbdff;\n",
       "        }    #T_4fab14d4_447c_11e9_832e_85e15676d974row11_col10 {\n",
       "            background-color:  #6f92f3;\n",
       "        }    #T_4fab14d4_447c_11e9_832e_85e15676d974row11_col11 {\n",
       "            background-color:  #b40426;\n",
       "        }    #T_4fab14d4_447c_11e9_832e_85e15676d974row11_col12 {\n",
       "            background-color:  #7093f3;\n",
       "        }    #T_4fab14d4_447c_11e9_832e_85e15676d974row11_col13 {\n",
       "            background-color:  #89acfd;\n",
       "        }    #T_4fab14d4_447c_11e9_832e_85e15676d974row11_col14 {\n",
       "            background-color:  #c1d4f4;\n",
       "        }    #T_4fab14d4_447c_11e9_832e_85e15676d974row11_col15 {\n",
       "            background-color:  #85a8fc;\n",
       "        }    #T_4fab14d4_447c_11e9_832e_85e15676d974row11_col16 {\n",
       "            background-color:  #94b6ff;\n",
       "        }    #T_4fab14d4_447c_11e9_832e_85e15676d974row11_col17 {\n",
       "            background-color:  #b6cefa;\n",
       "        }    #T_4fab14d4_447c_11e9_832e_85e15676d974row11_col18 {\n",
       "            background-color:  #6788ee;\n",
       "        }    #T_4fab14d4_447c_11e9_832e_85e15676d974row11_col19 {\n",
       "            background-color:  #cad8ef;\n",
       "        }    #T_4fab14d4_447c_11e9_832e_85e15676d974row11_col20 {\n",
       "            background-color:  #ccd9ed;\n",
       "        }    #T_4fab14d4_447c_11e9_832e_85e15676d974row11_col21 {\n",
       "            background-color:  #4961d2;\n",
       "        }    #T_4fab14d4_447c_11e9_832e_85e15676d974row12_col0 {\n",
       "            background-color:  #5875e1;\n",
       "        }    #T_4fab14d4_447c_11e9_832e_85e15676d974row12_col1 {\n",
       "            background-color:  #96b7ff;\n",
       "        }    #T_4fab14d4_447c_11e9_832e_85e15676d974row12_col2 {\n",
       "            background-color:  #f0cdbb;\n",
       "        }    #T_4fab14d4_447c_11e9_832e_85e15676d974row12_col3 {\n",
       "            background-color:  #cad8ef;\n",
       "        }    #T_4fab14d4_447c_11e9_832e_85e15676d974row12_col4 {\n",
       "            background-color:  #6f92f3;\n",
       "        }    #T_4fab14d4_447c_11e9_832e_85e15676d974row12_col5 {\n",
       "            background-color:  #f1ccb8;\n",
       "        }    #T_4fab14d4_447c_11e9_832e_85e15676d974row12_col6 {\n",
       "            background-color:  #3d50c3;\n",
       "        }    #T_4fab14d4_447c_11e9_832e_85e15676d974row12_col7 {\n",
       "            background-color:  #3d50c3;\n",
       "        }    #T_4fab14d4_447c_11e9_832e_85e15676d974row12_col8 {\n",
       "            background-color:  #3b4cc0;\n",
       "        }    #T_4fab14d4_447c_11e9_832e_85e15676d974row12_col9 {\n",
       "            background-color:  #e4d9d2;\n",
       "        }    #T_4fab14d4_447c_11e9_832e_85e15676d974row12_col10 {\n",
       "            background-color:  #e7d7ce;\n",
       "        }    #T_4fab14d4_447c_11e9_832e_85e15676d974row12_col11 {\n",
       "            background-color:  #5470de;\n",
       "        }    #T_4fab14d4_447c_11e9_832e_85e15676d974row12_col12 {\n",
       "            background-color:  #b40426;\n",
       "        }    #T_4fab14d4_447c_11e9_832e_85e15676d974row12_col13 {\n",
       "            background-color:  #3b4cc0;\n",
       "        }    #T_4fab14d4_447c_11e9_832e_85e15676d974row12_col14 {\n",
       "            background-color:  #6485ec;\n",
       "        }    #T_4fab14d4_447c_11e9_832e_85e15676d974row12_col15 {\n",
       "            background-color:  #3b4cc0;\n",
       "        }    #T_4fab14d4_447c_11e9_832e_85e15676d974row12_col16 {\n",
       "            background-color:  #f5c4ac;\n",
       "        }    #T_4fab14d4_447c_11e9_832e_85e15676d974row12_col17 {\n",
       "            background-color:  #d5dbe5;\n",
       "        }    #T_4fab14d4_447c_11e9_832e_85e15676d974row12_col18 {\n",
       "            background-color:  #799cf8;\n",
       "        }    #T_4fab14d4_447c_11e9_832e_85e15676d974row12_col19 {\n",
       "            background-color:  #ccd9ed;\n",
       "        }    #T_4fab14d4_447c_11e9_832e_85e15676d974row12_col20 {\n",
       "            background-color:  #ccd9ed;\n",
       "        }    #T_4fab14d4_447c_11e9_832e_85e15676d974row12_col21 {\n",
       "            background-color:  #4961d2;\n",
       "        }    #T_4fab14d4_447c_11e9_832e_85e15676d974row13_col0 {\n",
       "            background-color:  #7597f6;\n",
       "        }    #T_4fab14d4_447c_11e9_832e_85e15676d974row13_col1 {\n",
       "            background-color:  #6c8ff1;\n",
       "        }    #T_4fab14d4_447c_11e9_832e_85e15676d974row13_col2 {\n",
       "            background-color:  #84a7fc;\n",
       "        }    #T_4fab14d4_447c_11e9_832e_85e15676d974row13_col3 {\n",
       "            background-color:  #82a6fb;\n",
       "        }    #T_4fab14d4_447c_11e9_832e_85e15676d974row13_col4 {\n",
       "            background-color:  #5d7ce6;\n",
       "        }    #T_4fab14d4_447c_11e9_832e_85e15676d974row13_col5 {\n",
       "            background-color:  #80a3fa;\n",
       "        }    #T_4fab14d4_447c_11e9_832e_85e15676d974row13_col6 {\n",
       "            background-color:  #6687ed;\n",
       "        }    #T_4fab14d4_447c_11e9_832e_85e15676d974row13_col7 {\n",
       "            background-color:  #7093f3;\n",
       "        }    #T_4fab14d4_447c_11e9_832e_85e15676d974row13_col8 {\n",
       "            background-color:  #82a6fb;\n",
       "        }    #T_4fab14d4_447c_11e9_832e_85e15676d974row13_col9 {\n",
       "            background-color:  #7597f6;\n",
       "        }    #T_4fab14d4_447c_11e9_832e_85e15676d974row13_col10 {\n",
       "            background-color:  #85a8fc;\n",
       "        }    #T_4fab14d4_447c_11e9_832e_85e15676d974row13_col11 {\n",
       "            background-color:  #8fb1fe;\n",
       "        }    #T_4fab14d4_447c_11e9_832e_85e15676d974row13_col12 {\n",
       "            background-color:  #5d7ce6;\n",
       "        }    #T_4fab14d4_447c_11e9_832e_85e15676d974row13_col13 {\n",
       "            background-color:  #b40426;\n",
       "        }    #T_4fab14d4_447c_11e9_832e_85e15676d974row13_col14 {\n",
       "            background-color:  #c1d4f4;\n",
       "        }    #T_4fab14d4_447c_11e9_832e_85e15676d974row13_col15 {\n",
       "            background-color:  #6f92f3;\n",
       "        }    #T_4fab14d4_447c_11e9_832e_85e15676d974row13_col16 {\n",
       "            background-color:  #a3c2fe;\n",
       "        }    #T_4fab14d4_447c_11e9_832e_85e15676d974row13_col17 {\n",
       "            background-color:  #82a6fb;\n",
       "        }    #T_4fab14d4_447c_11e9_832e_85e15676d974row13_col18 {\n",
       "            background-color:  #6282ea;\n",
       "        }    #T_4fab14d4_447c_11e9_832e_85e15676d974row13_col19 {\n",
       "            background-color:  #c9d7f0;\n",
       "        }    #T_4fab14d4_447c_11e9_832e_85e15676d974row13_col20 {\n",
       "            background-color:  #cdd9ec;\n",
       "        }    #T_4fab14d4_447c_11e9_832e_85e15676d974row13_col21 {\n",
       "            background-color:  #506bda;\n",
       "        }    #T_4fab14d4_447c_11e9_832e_85e15676d974row14_col0 {\n",
       "            background-color:  #3b4cc0;\n",
       "        }    #T_4fab14d4_447c_11e9_832e_85e15676d974row14_col1 {\n",
       "            background-color:  #3b4cc0;\n",
       "        }    #T_4fab14d4_447c_11e9_832e_85e15676d974row14_col2 {\n",
       "            background-color:  #3b4cc0;\n",
       "        }    #T_4fab14d4_447c_11e9_832e_85e15676d974row14_col3 {\n",
       "            background-color:  #3b4cc0;\n",
       "        }    #T_4fab14d4_447c_11e9_832e_85e15676d974row14_col4 {\n",
       "            background-color:  #3b4cc0;\n",
       "        }    #T_4fab14d4_447c_11e9_832e_85e15676d974row14_col5 {\n",
       "            background-color:  #6c8ff1;\n",
       "        }    #T_4fab14d4_447c_11e9_832e_85e15676d974row14_col6 {\n",
       "            background-color:  #4e68d8;\n",
       "        }    #T_4fab14d4_447c_11e9_832e_85e15676d974row14_col7 {\n",
       "            background-color:  #6a8bef;\n",
       "        }    #T_4fab14d4_447c_11e9_832e_85e15676d974row14_col8 {\n",
       "            background-color:  #93b5fe;\n",
       "        }    #T_4fab14d4_447c_11e9_832e_85e15676d974row14_col9 {\n",
       "            background-color:  #3b4cc0;\n",
       "        }    #T_4fab14d4_447c_11e9_832e_85e15676d974row14_col10 {\n",
       "            background-color:  #3b4cc0;\n",
       "        }    #T_4fab14d4_447c_11e9_832e_85e15676d974row14_col11 {\n",
       "            background-color:  #8caffe;\n",
       "        }    #T_4fab14d4_447c_11e9_832e_85e15676d974row14_col12 {\n",
       "            background-color:  #3d50c3;\n",
       "        }    #T_4fab14d4_447c_11e9_832e_85e15676d974row14_col13 {\n",
       "            background-color:  #86a9fc;\n",
       "        }    #T_4fab14d4_447c_11e9_832e_85e15676d974row14_col14 {\n",
       "            background-color:  #b40426;\n",
       "        }    #T_4fab14d4_447c_11e9_832e_85e15676d974row14_col15 {\n",
       "            background-color:  #b3cdfb;\n",
       "        }    #T_4fab14d4_447c_11e9_832e_85e15676d974row14_col16 {\n",
       "            background-color:  #3b4cc0;\n",
       "        }    #T_4fab14d4_447c_11e9_832e_85e15676d974row14_col17 {\n",
       "            background-color:  #3b4cc0;\n",
       "        }    #T_4fab14d4_447c_11e9_832e_85e15676d974row14_col18 {\n",
       "            background-color:  #3b4cc0;\n",
       "        }    #T_4fab14d4_447c_11e9_832e_85e15676d974row14_col19 {\n",
       "            background-color:  #ccd9ed;\n",
       "        }    #T_4fab14d4_447c_11e9_832e_85e15676d974row14_col20 {\n",
       "            background-color:  #ccd9ed;\n",
       "        }    #T_4fab14d4_447c_11e9_832e_85e15676d974row14_col21 {\n",
       "            background-color:  #4961d2;\n",
       "        }    #T_4fab14d4_447c_11e9_832e_85e15676d974row15_col0 {\n",
       "            background-color:  #aac7fd;\n",
       "        }    #T_4fab14d4_447c_11e9_832e_85e15676d974row15_col1 {\n",
       "            background-color:  #6384eb;\n",
       "        }    #T_4fab14d4_447c_11e9_832e_85e15676d974row15_col2 {\n",
       "            background-color:  #7699f6;\n",
       "        }    #T_4fab14d4_447c_11e9_832e_85e15676d974row15_col3 {\n",
       "            background-color:  #7ea1fa;\n",
       "        }    #T_4fab14d4_447c_11e9_832e_85e15676d974row15_col4 {\n",
       "            background-color:  #465ecf;\n",
       "        }    #T_4fab14d4_447c_11e9_832e_85e15676d974row15_col5 {\n",
       "            background-color:  #8badfd;\n",
       "        }    #T_4fab14d4_447c_11e9_832e_85e15676d974row15_col6 {\n",
       "            background-color:  #4055c8;\n",
       "        }    #T_4fab14d4_447c_11e9_832e_85e15676d974row15_col7 {\n",
       "            background-color:  #506bda;\n",
       "        }    #T_4fab14d4_447c_11e9_832e_85e15676d974row15_col8 {\n",
       "            background-color:  #8fb1fe;\n",
       "        }    #T_4fab14d4_447c_11e9_832e_85e15676d974row15_col9 {\n",
       "            background-color:  #8db0fe;\n",
       "        }    #T_4fab14d4_447c_11e9_832e_85e15676d974row15_col10 {\n",
       "            background-color:  #7da0f9;\n",
       "        }    #T_4fab14d4_447c_11e9_832e_85e15676d974row15_col11 {\n",
       "            background-color:  #97b8ff;\n",
       "        }    #T_4fab14d4_447c_11e9_832e_85e15676d974row15_col12 {\n",
       "            background-color:  #6b8df0;\n",
       "        }    #T_4fab14d4_447c_11e9_832e_85e15676d974row15_col13 {\n",
       "            background-color:  #7da0f9;\n",
       "        }    #T_4fab14d4_447c_11e9_832e_85e15676d974row15_col14 {\n",
       "            background-color:  #e4d9d2;\n",
       "        }    #T_4fab14d4_447c_11e9_832e_85e15676d974row15_col15 {\n",
       "            background-color:  #b40426;\n",
       "        }    #T_4fab14d4_447c_11e9_832e_85e15676d974row15_col16 {\n",
       "            background-color:  #96b7ff;\n",
       "        }    #T_4fab14d4_447c_11e9_832e_85e15676d974row15_col17 {\n",
       "            background-color:  #8db0fe;\n",
       "        }    #T_4fab14d4_447c_11e9_832e_85e15676d974row15_col18 {\n",
       "            background-color:  #4b64d5;\n",
       "        }    #T_4fab14d4_447c_11e9_832e_85e15676d974row15_col19 {\n",
       "            background-color:  #c6d6f1;\n",
       "        }    #T_4fab14d4_447c_11e9_832e_85e15676d974row15_col20 {\n",
       "            background-color:  #cfdaea;\n",
       "        }    #T_4fab14d4_447c_11e9_832e_85e15676d974row15_col21 {\n",
       "            background-color:  #485fd1;\n",
       "        }    #T_4fab14d4_447c_11e9_832e_85e15676d974row16_col0 {\n",
       "            background-color:  #506bda;\n",
       "        }    #T_4fab14d4_447c_11e9_832e_85e15676d974row16_col1 {\n",
       "            background-color:  #8fb1fe;\n",
       "        }    #T_4fab14d4_447c_11e9_832e_85e15676d974row16_col2 {\n",
       "            background-color:  #b3cdfb;\n",
       "        }    #T_4fab14d4_447c_11e9_832e_85e15676d974row16_col3 {\n",
       "            background-color:  #b7cff9;\n",
       "        }    #T_4fab14d4_447c_11e9_832e_85e15676d974row16_col4 {\n",
       "            background-color:  #a3c2fe;\n",
       "        }    #T_4fab14d4_447c_11e9_832e_85e15676d974row16_col5 {\n",
       "            background-color:  #a1c0ff;\n",
       "        }    #T_4fab14d4_447c_11e9_832e_85e15676d974row16_col6 {\n",
       "            background-color:  #3b4cc0;\n",
       "        }    #T_4fab14d4_447c_11e9_832e_85e15676d974row16_col7 {\n",
       "            background-color:  #3b4cc0;\n",
       "        }    #T_4fab14d4_447c_11e9_832e_85e15676d974row16_col8 {\n",
       "            background-color:  #7699f6;\n",
       "        }    #T_4fab14d4_447c_11e9_832e_85e15676d974row16_col9 {\n",
       "            background-color:  #a7c5fe;\n",
       "        }    #T_4fab14d4_447c_11e9_832e_85e15676d974row16_col10 {\n",
       "            background-color:  #d8dce2;\n",
       "        }    #T_4fab14d4_447c_11e9_832e_85e15676d974row16_col11 {\n",
       "            background-color:  #536edd;\n",
       "        }    #T_4fab14d4_447c_11e9_832e_85e15676d974row16_col12 {\n",
       "            background-color:  #edd1c2;\n",
       "        }    #T_4fab14d4_447c_11e9_832e_85e15676d974row16_col13 {\n",
       "            background-color:  #5f7fe8;\n",
       "        }    #T_4fab14d4_447c_11e9_832e_85e15676d974row16_col14 {\n",
       "            background-color:  #3b4cc0;\n",
       "        }    #T_4fab14d4_447c_11e9_832e_85e15676d974row16_col15 {\n",
       "            background-color:  #4055c8;\n",
       "        }    #T_4fab14d4_447c_11e9_832e_85e15676d974row16_col16 {\n",
       "            background-color:  #b40426;\n",
       "        }    #T_4fab14d4_447c_11e9_832e_85e15676d974row16_col17 {\n",
       "            background-color:  #d7dce3;\n",
       "        }    #T_4fab14d4_447c_11e9_832e_85e15676d974row16_col18 {\n",
       "            background-color:  #afcafc;\n",
       "        }    #T_4fab14d4_447c_11e9_832e_85e15676d974row16_col19 {\n",
       "            background-color:  #ccd9ed;\n",
       "        }    #T_4fab14d4_447c_11e9_832e_85e15676d974row16_col20 {\n",
       "            background-color:  #cbd8ee;\n",
       "        }    #T_4fab14d4_447c_11e9_832e_85e15676d974row16_col21 {\n",
       "            background-color:  #4a63d3;\n",
       "        }    #T_4fab14d4_447c_11e9_832e_85e15676d974row17_col0 {\n",
       "            background-color:  #f2c9b4;\n",
       "        }    #T_4fab14d4_447c_11e9_832e_85e15676d974row17_col1 {\n",
       "            background-color:  #dadce0;\n",
       "        }    #T_4fab14d4_447c_11e9_832e_85e15676d974row17_col2 {\n",
       "            background-color:  #f6bea4;\n",
       "        }    #T_4fab14d4_447c_11e9_832e_85e15676d974row17_col3 {\n",
       "            background-color:  #ee8468;\n",
       "        }    #T_4fab14d4_447c_11e9_832e_85e15676d974row17_col4 {\n",
       "            background-color:  #8badfd;\n",
       "        }    #T_4fab14d4_447c_11e9_832e_85e15676d974row17_col5 {\n",
       "            background-color:  #cbd8ee;\n",
       "        }    #T_4fab14d4_447c_11e9_832e_85e15676d974row17_col6 {\n",
       "            background-color:  #6180e9;\n",
       "        }    #T_4fab14d4_447c_11e9_832e_85e15676d974row17_col7 {\n",
       "            background-color:  #a7c5fe;\n",
       "        }    #T_4fab14d4_447c_11e9_832e_85e15676d974row17_col8 {\n",
       "            background-color:  #7b9ff9;\n",
       "        }    #T_4fab14d4_447c_11e9_832e_85e15676d974row17_col9 {\n",
       "            background-color:  #f39577;\n",
       "        }    #T_4fab14d4_447c_11e9_832e_85e15676d974row17_col10 {\n",
       "            background-color:  #ef886b;\n",
       "        }    #T_4fab14d4_447c_11e9_832e_85e15676d974row17_col11 {\n",
       "            background-color:  #b1cbfc;\n",
       "        }    #T_4fab14d4_447c_11e9_832e_85e15676d974row17_col12 {\n",
       "            background-color:  #dedcdb;\n",
       "        }    #T_4fab14d4_447c_11e9_832e_85e15676d974row17_col13 {\n",
       "            background-color:  #7699f6;\n",
       "        }    #T_4fab14d4_447c_11e9_832e_85e15676d974row17_col14 {\n",
       "            background-color:  #7699f6;\n",
       "        }    #T_4fab14d4_447c_11e9_832e_85e15676d974row17_col15 {\n",
       "            background-color:  #7396f5;\n",
       "        }    #T_4fab14d4_447c_11e9_832e_85e15676d974row17_col16 {\n",
       "            background-color:  #edd1c2;\n",
       "        }    #T_4fab14d4_447c_11e9_832e_85e15676d974row17_col17 {\n",
       "            background-color:  #b40426;\n",
       "        }    #T_4fab14d4_447c_11e9_832e_85e15676d974row17_col18 {\n",
       "            background-color:  #9abbff;\n",
       "        }    #T_4fab14d4_447c_11e9_832e_85e15676d974row17_col19 {\n",
       "            background-color:  #cad8ef;\n",
       "        }    #T_4fab14d4_447c_11e9_832e_85e15676d974row17_col20 {\n",
       "            background-color:  #ccd9ed;\n",
       "        }    #T_4fab14d4_447c_11e9_832e_85e15676d974row17_col21 {\n",
       "            background-color:  #4961d2;\n",
       "        }    #T_4fab14d4_447c_11e9_832e_85e15676d974row18_col0 {\n",
       "            background-color:  #6384eb;\n",
       "        }    #T_4fab14d4_447c_11e9_832e_85e15676d974row18_col1 {\n",
       "            background-color:  #6e90f2;\n",
       "        }    #T_4fab14d4_447c_11e9_832e_85e15676d974row18_col2 {\n",
       "            background-color:  #8badfd;\n",
       "        }    #T_4fab14d4_447c_11e9_832e_85e15676d974row18_col3 {\n",
       "            background-color:  #a6c4fe;\n",
       "        }    #T_4fab14d4_447c_11e9_832e_85e15676d974row18_col4 {\n",
       "            background-color:  #f39577;\n",
       "        }    #T_4fab14d4_447c_11e9_832e_85e15676d974row18_col5 {\n",
       "            background-color:  #7a9df8;\n",
       "        }    #T_4fab14d4_447c_11e9_832e_85e15676d974row18_col6 {\n",
       "            background-color:  #4e68d8;\n",
       "        }    #T_4fab14d4_447c_11e9_832e_85e15676d974row18_col7 {\n",
       "            background-color:  #6687ed;\n",
       "        }    #T_4fab14d4_447c_11e9_832e_85e15676d974row18_col8 {\n",
       "            background-color:  #92b4fe;\n",
       "        }    #T_4fab14d4_447c_11e9_832e_85e15676d974row18_col9 {\n",
       "            background-color:  #90b2fe;\n",
       "        }    #T_4fab14d4_447c_11e9_832e_85e15676d974row18_col10 {\n",
       "            background-color:  #b3cdfb;\n",
       "        }    #T_4fab14d4_447c_11e9_832e_85e15676d974row18_col11 {\n",
       "            background-color:  #7ea1fa;\n",
       "        }    #T_4fab14d4_447c_11e9_832e_85e15676d974row18_col12 {\n",
       "            background-color:  #a6c4fe;\n",
       "        }    #T_4fab14d4_447c_11e9_832e_85e15676d974row18_col13 {\n",
       "            background-color:  #7396f5;\n",
       "        }    #T_4fab14d4_447c_11e9_832e_85e15676d974row18_col14 {\n",
       "            background-color:  #93b5fe;\n",
       "        }    #T_4fab14d4_447c_11e9_832e_85e15676d974row18_col15 {\n",
       "            background-color:  #4e68d8;\n",
       "        }    #T_4fab14d4_447c_11e9_832e_85e15676d974row18_col16 {\n",
       "            background-color:  #e3d9d3;\n",
       "        }    #T_4fab14d4_447c_11e9_832e_85e15676d974row18_col17 {\n",
       "            background-color:  #b2ccfb;\n",
       "        }    #T_4fab14d4_447c_11e9_832e_85e15676d974row18_col18 {\n",
       "            background-color:  #b40426;\n",
       "        }    #T_4fab14d4_447c_11e9_832e_85e15676d974row18_col19 {\n",
       "            background-color:  #ccd9ed;\n",
       "        }    #T_4fab14d4_447c_11e9_832e_85e15676d974row18_col20 {\n",
       "            background-color:  #ccd9ed;\n",
       "        }    #T_4fab14d4_447c_11e9_832e_85e15676d974row18_col21 {\n",
       "            background-color:  #4e68d8;\n",
       "        }    #T_4fab14d4_447c_11e9_832e_85e15676d974row19_col0 {\n",
       "            background-color:  #4b64d5;\n",
       "        }    #T_4fab14d4_447c_11e9_832e_85e15676d974row19_col1 {\n",
       "            background-color:  #6687ed;\n",
       "        }    #T_4fab14d4_447c_11e9_832e_85e15676d974row19_col2 {\n",
       "            background-color:  #6b8df0;\n",
       "        }    #T_4fab14d4_447c_11e9_832e_85e15676d974row19_col3 {\n",
       "            background-color:  #6a8bef;\n",
       "        }    #T_4fab14d4_447c_11e9_832e_85e15676d974row19_col4 {\n",
       "            background-color:  #5f7fe8;\n",
       "        }    #T_4fab14d4_447c_11e9_832e_85e15676d974row19_col5 {\n",
       "            background-color:  #779af7;\n",
       "        }    #T_4fab14d4_447c_11e9_832e_85e15676d974row19_col6 {\n",
       "            background-color:  #445acc;\n",
       "        }    #T_4fab14d4_447c_11e9_832e_85e15676d974row19_col7 {\n",
       "            background-color:  #536edd;\n",
       "        }    #T_4fab14d4_447c_11e9_832e_85e15676d974row19_col8 {\n",
       "            background-color:  #88abfd;\n",
       "        }    #T_4fab14d4_447c_11e9_832e_85e15676d974row19_col9 {\n",
       "            background-color:  #6687ed;\n",
       "        }    #T_4fab14d4_447c_11e9_832e_85e15676d974row19_col10 {\n",
       "            background-color:  #779af7;\n",
       "        }    #T_4fab14d4_447c_11e9_832e_85e15676d974row19_col11 {\n",
       "            background-color:  #7699f6;\n",
       "        }    #T_4fab14d4_447c_11e9_832e_85e15676d974row19_col12 {\n",
       "            background-color:  #94b6ff;\n",
       "        }    #T_4fab14d4_447c_11e9_832e_85e15676d974row19_col13 {\n",
       "            background-color:  #6e90f2;\n",
       "        }    #T_4fab14d4_447c_11e9_832e_85e15676d974row19_col14 {\n",
       "            background-color:  #b3cdfb;\n",
       "        }    #T_4fab14d4_447c_11e9_832e_85e15676d974row19_col15 {\n",
       "            background-color:  #5b7ae5;\n",
       "        }    #T_4fab14d4_447c_11e9_832e_85e15676d974row19_col16 {\n",
       "            background-color:  #b3cdfb;\n",
       "        }    #T_4fab14d4_447c_11e9_832e_85e15676d974row19_col17 {\n",
       "            background-color:  #7da0f9;\n",
       "        }    #T_4fab14d4_447c_11e9_832e_85e15676d974row19_col18 {\n",
       "            background-color:  #6384eb;\n",
       "        }    #T_4fab14d4_447c_11e9_832e_85e15676d974row19_col19 {\n",
       "            background-color:  #b40426;\n",
       "        }    #T_4fab14d4_447c_11e9_832e_85e15676d974row19_col20 {\n",
       "            background-color:  #3b4cc0;\n",
       "        }    #T_4fab14d4_447c_11e9_832e_85e15676d974row19_col21 {\n",
       "            background-color:  #4a63d3;\n",
       "        }    #T_4fab14d4_447c_11e9_832e_85e15676d974row20_col0 {\n",
       "            background-color:  #465ecf;\n",
       "        }    #T_4fab14d4_447c_11e9_832e_85e15676d974row20_col1 {\n",
       "            background-color:  #6485ec;\n",
       "        }    #T_4fab14d4_447c_11e9_832e_85e15676d974row20_col2 {\n",
       "            background-color:  #7396f5;\n",
       "        }    #T_4fab14d4_447c_11e9_832e_85e15676d974row20_col3 {\n",
       "            background-color:  #7295f4;\n",
       "        }    #T_4fab14d4_447c_11e9_832e_85e15676d974row20_col4 {\n",
       "            background-color:  #5d7ce6;\n",
       "        }    #T_4fab14d4_447c_11e9_832e_85e15676d974row20_col5 {\n",
       "            background-color:  #82a6fb;\n",
       "        }    #T_4fab14d4_447c_11e9_832e_85e15676d974row20_col6 {\n",
       "            background-color:  #465ecf;\n",
       "        }    #T_4fab14d4_447c_11e9_832e_85e15676d974row20_col7 {\n",
       "            background-color:  #4b64d5;\n",
       "        }    #T_4fab14d4_447c_11e9_832e_85e15676d974row20_col8 {\n",
       "            background-color:  #98b9ff;\n",
       "        }    #T_4fab14d4_447c_11e9_832e_85e15676d974row20_col9 {\n",
       "            background-color:  #6f92f3;\n",
       "        }    #T_4fab14d4_447c_11e9_832e_85e15676d974row20_col10 {\n",
       "            background-color:  #80a3fa;\n",
       "        }    #T_4fab14d4_447c_11e9_832e_85e15676d974row20_col11 {\n",
       "            background-color:  #799cf8;\n",
       "        }    #T_4fab14d4_447c_11e9_832e_85e15676d974row20_col12 {\n",
       "            background-color:  #93b5fe;\n",
       "        }    #T_4fab14d4_447c_11e9_832e_85e15676d974row20_col13 {\n",
       "            background-color:  #7597f6;\n",
       "        }    #T_4fab14d4_447c_11e9_832e_85e15676d974row20_col14 {\n",
       "            background-color:  #b3cdfb;\n",
       "        }    #T_4fab14d4_447c_11e9_832e_85e15676d974row20_col15 {\n",
       "            background-color:  #6b8df0;\n",
       "        }    #T_4fab14d4_447c_11e9_832e_85e15676d974row20_col16 {\n",
       "            background-color:  #b2ccfb;\n",
       "        }    #T_4fab14d4_447c_11e9_832e_85e15676d974row20_col17 {\n",
       "            background-color:  #80a3fa;\n",
       "        }    #T_4fab14d4_447c_11e9_832e_85e15676d974row20_col18 {\n",
       "            background-color:  #6384eb;\n",
       "        }    #T_4fab14d4_447c_11e9_832e_85e15676d974row20_col19 {\n",
       "            background-color:  #3b4cc0;\n",
       "        }    #T_4fab14d4_447c_11e9_832e_85e15676d974row20_col20 {\n",
       "            background-color:  #b40426;\n",
       "        }    #T_4fab14d4_447c_11e9_832e_85e15676d974row20_col21 {\n",
       "            background-color:  #3b4cc0;\n",
       "        }    #T_4fab14d4_447c_11e9_832e_85e15676d974row21_col0 {\n",
       "            background-color:  #455cce;\n",
       "        }    #T_4fab14d4_447c_11e9_832e_85e15676d974row21_col1 {\n",
       "            background-color:  #6282ea;\n",
       "        }    #T_4fab14d4_447c_11e9_832e_85e15676d974row21_col2 {\n",
       "            background-color:  #6e90f2;\n",
       "        }    #T_4fab14d4_447c_11e9_832e_85e15676d974row21_col3 {\n",
       "            background-color:  #6c8ff1;\n",
       "        }    #T_4fab14d4_447c_11e9_832e_85e15676d974row21_col4 {\n",
       "            background-color:  #5e7de7;\n",
       "        }    #T_4fab14d4_447c_11e9_832e_85e15676d974row21_col5 {\n",
       "            background-color:  #7b9ff9;\n",
       "        }    #T_4fab14d4_447c_11e9_832e_85e15676d974row21_col6 {\n",
       "            background-color:  #4961d2;\n",
       "        }    #T_4fab14d4_447c_11e9_832e_85e15676d974row21_col7 {\n",
       "            background-color:  #536edd;\n",
       "        }    #T_4fab14d4_447c_11e9_832e_85e15676d974row21_col8 {\n",
       "            background-color:  #92b4fe;\n",
       "        }    #T_4fab14d4_447c_11e9_832e_85e15676d974row21_col9 {\n",
       "            background-color:  #6687ed;\n",
       "        }    #T_4fab14d4_447c_11e9_832e_85e15676d974row21_col10 {\n",
       "            background-color:  #7b9ff9;\n",
       "        }    #T_4fab14d4_447c_11e9_832e_85e15676d974row21_col11 {\n",
       "            background-color:  #7699f6;\n",
       "        }    #T_4fab14d4_447c_11e9_832e_85e15676d974row21_col12 {\n",
       "            background-color:  #90b2fe;\n",
       "        }    #T_4fab14d4_447c_11e9_832e_85e15676d974row21_col13 {\n",
       "            background-color:  #779af7;\n",
       "        }    #T_4fab14d4_447c_11e9_832e_85e15676d974row21_col14 {\n",
       "            background-color:  #b2ccfb;\n",
       "        }    #T_4fab14d4_447c_11e9_832e_85e15676d974row21_col15 {\n",
       "            background-color:  #6180e9;\n",
       "        }    #T_4fab14d4_447c_11e9_832e_85e15676d974row21_col16 {\n",
       "            background-color:  #b2ccfb;\n",
       "        }    #T_4fab14d4_447c_11e9_832e_85e15676d974row21_col17 {\n",
       "            background-color:  #7ea1fa;\n",
       "        }    #T_4fab14d4_447c_11e9_832e_85e15676d974row21_col18 {\n",
       "            background-color:  #6384eb;\n",
       "        }    #T_4fab14d4_447c_11e9_832e_85e15676d974row21_col19 {\n",
       "            background-color:  #cbd8ee;\n",
       "        }    #T_4fab14d4_447c_11e9_832e_85e15676d974row21_col20 {\n",
       "            background-color:  #c1d4f4;\n",
       "        }    #T_4fab14d4_447c_11e9_832e_85e15676d974row21_col21 {\n",
       "            background-color:  #b40426;\n",
       "        }</style>  \n",
       "<table id=\"T_4fab14d4_447c_11e9_832e_85e15676d974\" > \n",
       "<thead>    <tr> \n",
       "        <th class=\"blank level0\" ></th> \n",
       "        <th class=\"col_heading level0 col0\" >price</th> \n",
       "        <th class=\"col_heading level0 col1\" >bedrooms</th> \n",
       "        <th class=\"col_heading level0 col2\" >bathrooms</th> \n",
       "        <th class=\"col_heading level0 col3\" >sqft_living</th> \n",
       "        <th class=\"col_heading level0 col4\" >sqft_lot</th> \n",
       "        <th class=\"col_heading level0 col5\" >floors</th> \n",
       "        <th class=\"col_heading level0 col6\" >waterfront</th> \n",
       "        <th class=\"col_heading level0 col7\" >view</th> \n",
       "        <th class=\"col_heading level0 col8\" >condition</th> \n",
       "        <th class=\"col_heading level0 col9\" >grade</th> \n",
       "        <th class=\"col_heading level0 col10\" >sqft_above</th> \n",
       "        <th class=\"col_heading level0 col11\" >sqft_basement</th> \n",
       "        <th class=\"col_heading level0 col12\" >yr_built</th> \n",
       "        <th class=\"col_heading level0 col13\" >yr_renovated</th> \n",
       "        <th class=\"col_heading level0 col14\" >zipcode</th> \n",
       "        <th class=\"col_heading level0 col15\" >lat</th> \n",
       "        <th class=\"col_heading level0 col16\" >long</th> \n",
       "        <th class=\"col_heading level0 col17\" >sqft_living15</th> \n",
       "        <th class=\"col_heading level0 col18\" >sqft_lot15</th> \n",
       "        <th class=\"col_heading level0 col19\" >year</th> \n",
       "        <th class=\"col_heading level0 col20\" >month</th> \n",
       "        <th class=\"col_heading level0 col21\" >day</th> \n",
       "    </tr></thead> \n",
       "<tbody>    <tr> \n",
       "        <th id=\"T_4fab14d4_447c_11e9_832e_85e15676d974level0_row0\" class=\"row_heading level0 row0\" >price</th> \n",
       "        <td id=\"T_4fab14d4_447c_11e9_832e_85e15676d974row0_col0\" class=\"data row0 col0\" >1</td> \n",
       "        <td id=\"T_4fab14d4_447c_11e9_832e_85e15676d974row0_col1\" class=\"data row0 col1\" >0.323672</td> \n",
       "        <td id=\"T_4fab14d4_447c_11e9_832e_85e15676d974row0_col2\" class=\"data row0 col2\" >0.525479</td> \n",
       "        <td id=\"T_4fab14d4_447c_11e9_832e_85e15676d974row0_col3\" class=\"data row0 col3\" >0.702899</td> \n",
       "        <td id=\"T_4fab14d4_447c_11e9_832e_85e15676d974row0_col4\" class=\"data row0 col4\" >0.0967927</td> \n",
       "        <td id=\"T_4fab14d4_447c_11e9_832e_85e15676d974row0_col5\" class=\"data row0 col5\" >0.262588</td> \n",
       "        <td id=\"T_4fab14d4_447c_11e9_832e_85e15676d974row0_col6\" class=\"data row0 col6\" >0.265738</td> \n",
       "        <td id=\"T_4fab14d4_447c_11e9_832e_85e15676d974row0_col7\" class=\"data row0 col7\" >0.400806</td> \n",
       "        <td id=\"T_4fab14d4_447c_11e9_832e_85e15676d974row0_col8\" class=\"data row0 col8\" >0.0397398</td> \n",
       "        <td id=\"T_4fab14d4_447c_11e9_832e_85e15676d974row0_col9\" class=\"data row0 col9\" >0.667211</td> \n",
       "        <td id=\"T_4fab14d4_447c_11e9_832e_85e15676d974row0_col10\" class=\"data row0 col10\" >0.608577</td> \n",
       "        <td id=\"T_4fab14d4_447c_11e9_832e_85e15676d974row0_col11\" class=\"data row0 col11\" >0.322218</td> \n",
       "        <td id=\"T_4fab14d4_447c_11e9_832e_85e15676d974row0_col12\" class=\"data row0 col12\" >0.0472903</td> \n",
       "        <td id=\"T_4fab14d4_447c_11e9_832e_85e15676d974row0_col13\" class=\"data row0 col13\" >0.140808</td> \n",
       "        <td id=\"T_4fab14d4_447c_11e9_832e_85e15676d974row0_col14\" class=\"data row0 col14\" >-0.0514984</td> \n",
       "        <td id=\"T_4fab14d4_447c_11e9_832e_85e15676d974row0_col15\" class=\"data row0 col15\" >0.301604</td> \n",
       "        <td id=\"T_4fab14d4_447c_11e9_832e_85e15676d974row0_col16\" class=\"data row0 col16\" >0.0235465</td> \n",
       "        <td id=\"T_4fab14d4_447c_11e9_832e_85e15676d974row0_col17\" class=\"data row0 col17\" >0.586419</td> \n",
       "        <td id=\"T_4fab14d4_447c_11e9_832e_85e15676d974row0_col18\" class=\"data row0 col18\" >0.0863843</td> \n",
       "        <td id=\"T_4fab14d4_447c_11e9_832e_85e15676d974row0_col19\" class=\"data row0 col19\" >0.00801202</td> \n",
       "        <td id=\"T_4fab14d4_447c_11e9_832e_85e15676d974row0_col20\" class=\"data row0 col20\" >-0.0103516</td> \n",
       "        <td id=\"T_4fab14d4_447c_11e9_832e_85e15676d974row0_col21\" class=\"data row0 col21\" >-0.0136253</td> \n",
       "    </tr>    <tr> \n",
       "        <th id=\"T_4fab14d4_447c_11e9_832e_85e15676d974level0_row1\" class=\"row_heading level0 row1\" >bedrooms</th> \n",
       "        <td id=\"T_4fab14d4_447c_11e9_832e_85e15676d974row1_col0\" class=\"data row1 col0\" >0.323672</td> \n",
       "        <td id=\"T_4fab14d4_447c_11e9_832e_85e15676d974row1_col1\" class=\"data row1 col1\" >1</td> \n",
       "        <td id=\"T_4fab14d4_447c_11e9_832e_85e15676d974row1_col2\" class=\"data row1 col2\" >0.530548</td> \n",
       "        <td id=\"T_4fab14d4_447c_11e9_832e_85e15676d974row1_col3\" class=\"data row1 col3\" >0.596974</td> \n",
       "        <td id=\"T_4fab14d4_447c_11e9_832e_85e15676d974row1_col4\" class=\"data row1 col4\" >0.0334746</td> \n",
       "        <td id=\"T_4fab14d4_447c_11e9_832e_85e15676d974row1_col5\" class=\"data row1 col5\" >0.189532</td> \n",
       "        <td id=\"T_4fab14d4_447c_11e9_832e_85e15676d974row1_col6\" class=\"data row1 col6\" >-0.00481904</td> \n",
       "        <td id=\"T_4fab14d4_447c_11e9_832e_85e15676d974row1_col7\" class=\"data row1 col7\" >0.0857027</td> \n",
       "        <td id=\"T_4fab14d4_447c_11e9_832e_85e15676d974row1_col8\" class=\"data row1 col8\" >0.0348854</td> \n",
       "        <td id=\"T_4fab14d4_447c_11e9_832e_85e15676d974row1_col9\" class=\"data row1 col9\" >0.375286</td> \n",
       "        <td id=\"T_4fab14d4_447c_11e9_832e_85e15676d974row1_col10\" class=\"data row1 col10\" >0.494867</td> \n",
       "        <td id=\"T_4fab14d4_447c_11e9_832e_85e15676d974row1_col11\" class=\"data row1 col11\" >0.315183</td> \n",
       "        <td id=\"T_4fab14d4_447c_11e9_832e_85e15676d974row1_col12\" class=\"data row1 col12\" >0.158799</td> \n",
       "        <td id=\"T_4fab14d4_447c_11e9_832e_85e15676d974row1_col13\" class=\"data row1 col13\" >0.0227289</td> \n",
       "        <td id=\"T_4fab14d4_447c_11e9_832e_85e15676d974row1_col14\" class=\"data row1 col14\" >-0.162081</td> \n",
       "        <td id=\"T_4fab14d4_447c_11e9_832e_85e15676d974row1_col15\" class=\"data row1 col15\" >-0.0111896</td> \n",
       "        <td id=\"T_4fab14d4_447c_11e9_832e_85e15676d974row1_col16\" class=\"data row1 col16\" >0.135802</td> \n",
       "        <td id=\"T_4fab14d4_447c_11e9_832e_85e15676d974row1_col17\" class=\"data row1 col17\" >0.407394</td> \n",
       "        <td id=\"T_4fab14d4_447c_11e9_832e_85e15676d974row1_col18\" class=\"data row1 col18\" >0.0272419</td> \n",
       "        <td id=\"T_4fab14d4_447c_11e9_832e_85e15676d974row1_col19\" class=\"data row1 col19\" >-0.00206669</td> \n",
       "        <td id=\"T_4fab14d4_447c_11e9_832e_85e15676d974row1_col20\" class=\"data row1 col20\" >-0.00738206</td> \n",
       "        <td id=\"T_4fab14d4_447c_11e9_832e_85e15676d974row1_col21\" class=\"data row1 col21\" >-0.0126713</td> \n",
       "    </tr>    <tr> \n",
       "        <th id=\"T_4fab14d4_447c_11e9_832e_85e15676d974level0_row2\" class=\"row_heading level0 row2\" >bathrooms</th> \n",
       "        <td id=\"T_4fab14d4_447c_11e9_832e_85e15676d974row2_col0\" class=\"data row2 col0\" >0.525479</td> \n",
       "        <td id=\"T_4fab14d4_447c_11e9_832e_85e15676d974row2_col1\" class=\"data row2 col1\" >0.530548</td> \n",
       "        <td id=\"T_4fab14d4_447c_11e9_832e_85e15676d974row2_col2\" class=\"data row2 col2\" >1</td> \n",
       "        <td id=\"T_4fab14d4_447c_11e9_832e_85e15676d974row2_col3\" class=\"data row2 col3\" >0.755853</td> \n",
       "        <td id=\"T_4fab14d4_447c_11e9_832e_85e15676d974row2_col4\" class=\"data row2 col4\" >0.0893075</td> \n",
       "        <td id=\"T_4fab14d4_447c_11e9_832e_85e15676d974row2_col5\" class=\"data row2 col5\" >0.508649</td> \n",
       "        <td id=\"T_4fab14d4_447c_11e9_832e_85e15676d974row2_col6\" class=\"data row2 col6\" >0.0754524</td> \n",
       "        <td id=\"T_4fab14d4_447c_11e9_832e_85e15676d974row2_col7\" class=\"data row2 col7\" >0.187488</td> \n",
       "        <td id=\"T_4fab14d4_447c_11e9_832e_85e15676d974row2_col8\" class=\"data row2 col8\" >-0.125907</td> \n",
       "        <td id=\"T_4fab14d4_447c_11e9_832e_85e15676d974row2_col9\" class=\"data row2 col9\" >0.666278</td> \n",
       "        <td id=\"T_4fab14d4_447c_11e9_832e_85e15676d974row2_col10\" class=\"data row2 col10\" >0.688255</td> \n",
       "        <td id=\"T_4fab14d4_447c_11e9_832e_85e15676d974row2_col11\" class=\"data row2 col11\" >0.282642</td> \n",
       "        <td id=\"T_4fab14d4_447c_11e9_832e_85e15676d974row2_col12\" class=\"data row2 col12\" >0.503964</td> \n",
       "        <td id=\"T_4fab14d4_447c_11e9_832e_85e15676d974row2_col13\" class=\"data row2 col13\" >0.0654226</td> \n",
       "        <td id=\"T_4fab14d4_447c_11e9_832e_85e15676d974row2_col14\" class=\"data row2 col14\" >-0.2075</td> \n",
       "        <td id=\"T_4fab14d4_447c_11e9_832e_85e15676d974row2_col15\" class=\"data row2 col15\" >0.0181103</td> \n",
       "        <td id=\"T_4fab14d4_447c_11e9_832e_85e15676d974row2_col16\" class=\"data row2 col16\" >0.227669</td> \n",
       "        <td id=\"T_4fab14d4_447c_11e9_832e_85e15676d974row2_col17\" class=\"data row2 col17\" >0.573541</td> \n",
       "        <td id=\"T_4fab14d4_447c_11e9_832e_85e15676d974row2_col18\" class=\"data row2 col18\" >0.0881197</td> \n",
       "        <td id=\"T_4fab14d4_447c_11e9_832e_85e15676d974row2_col19\" class=\"data row2 col19\" >-0.0221606</td> \n",
       "        <td id=\"T_4fab14d4_447c_11e9_832e_85e15676d974row2_col20\" class=\"data row2 col20\" >0.00775864</td> \n",
       "        <td id=\"T_4fab14d4_447c_11e9_832e_85e15676d974row2_col21\" class=\"data row2 col21\" >-0.0102563</td> \n",
       "    </tr>    <tr> \n",
       "        <th id=\"T_4fab14d4_447c_11e9_832e_85e15676d974level0_row3\" class=\"row_heading level0 row3\" >sqft_living</th> \n",
       "        <td id=\"T_4fab14d4_447c_11e9_832e_85e15676d974row3_col0\" class=\"data row3 col0\" >0.702899</td> \n",
       "        <td id=\"T_4fab14d4_447c_11e9_832e_85e15676d974row3_col1\" class=\"data row3 col1\" >0.596974</td> \n",
       "        <td id=\"T_4fab14d4_447c_11e9_832e_85e15676d974row3_col2\" class=\"data row3 col2\" >0.755853</td> \n",
       "        <td id=\"T_4fab14d4_447c_11e9_832e_85e15676d974row3_col3\" class=\"data row3 col3\" >1</td> \n",
       "        <td id=\"T_4fab14d4_447c_11e9_832e_85e15676d974row3_col4\" class=\"data row3 col4\" >0.1765</td> \n",
       "        <td id=\"T_4fab14d4_447c_11e9_832e_85e15676d974row3_col5\" class=\"data row3 col5\" >0.363193</td> \n",
       "        <td id=\"T_4fab14d4_447c_11e9_832e_85e15676d974row3_col6\" class=\"data row3 col6\" >0.108137</td> \n",
       "        <td id=\"T_4fab14d4_447c_11e9_832e_85e15676d974row3_col7\" class=\"data row3 col7\" >0.282821</td> \n",
       "        <td id=\"T_4fab14d4_447c_11e9_832e_85e15676d974row3_col8\" class=\"data row3 col8\" >-0.0542132</td> \n",
       "        <td id=\"T_4fab14d4_447c_11e9_832e_85e15676d974row3_col9\" class=\"data row3 col9\" >0.762543</td> \n",
       "        <td id=\"T_4fab14d4_447c_11e9_832e_85e15676d974row3_col10\" class=\"data row3 col10\" >0.878736</td> \n",
       "        <td id=\"T_4fab14d4_447c_11e9_832e_85e15676d974row3_col11\" class=\"data row3 col11\" >0.434017</td> \n",
       "        <td id=\"T_4fab14d4_447c_11e9_832e_85e15676d974row3_col12\" class=\"data row3 col12\" >0.315927</td> \n",
       "        <td id=\"T_4fab14d4_447c_11e9_832e_85e15676d974row3_col13\" class=\"data row3 col13\" >0.0648934</td> \n",
       "        <td id=\"T_4fab14d4_447c_11e9_832e_85e15676d974row3_col14\" class=\"data row3 col14\" >-0.200745</td> \n",
       "        <td id=\"T_4fab14d4_447c_11e9_832e_85e15676d974row3_col15\" class=\"data row3 col15\" >0.0516087</td> \n",
       "        <td id=\"T_4fab14d4_447c_11e9_832e_85e15676d974row3_col16\" class=\"data row3 col16\" >0.245429</td> \n",
       "        <td id=\"T_4fab14d4_447c_11e9_832e_85e15676d974row3_col17\" class=\"data row3 col17\" >0.760271</td> \n",
       "        <td id=\"T_4fab14d4_447c_11e9_832e_85e15676d974row3_col18\" class=\"data row3 col18\" >0.184176</td> \n",
       "        <td id=\"T_4fab14d4_447c_11e9_832e_85e15676d974row3_col19\" class=\"data row3 col19\" >-0.0216383</td> \n",
       "        <td id=\"T_4fab14d4_447c_11e9_832e_85e15676d974row3_col20\" class=\"data row3 col20\" >0.00976339</td> \n",
       "        <td id=\"T_4fab14d4_447c_11e9_832e_85e15676d974row3_col21\" class=\"data row3 col21\" >-0.0111248</td> \n",
       "    </tr>    <tr> \n",
       "        <th id=\"T_4fab14d4_447c_11e9_832e_85e15676d974level0_row4\" class=\"row_heading level0 row4\" >sqft_lot</th> \n",
       "        <td id=\"T_4fab14d4_447c_11e9_832e_85e15676d974row4_col0\" class=\"data row4 col0\" >0.0967927</td> \n",
       "        <td id=\"T_4fab14d4_447c_11e9_832e_85e15676d974row4_col1\" class=\"data row4 col1\" >0.0334746</td> \n",
       "        <td id=\"T_4fab14d4_447c_11e9_832e_85e15676d974row4_col2\" class=\"data row4 col2\" >0.0893075</td> \n",
       "        <td id=\"T_4fab14d4_447c_11e9_832e_85e15676d974row4_col3\" class=\"data row4 col3\" >0.1765</td> \n",
       "        <td id=\"T_4fab14d4_447c_11e9_832e_85e15676d974row4_col4\" class=\"data row4 col4\" >1</td> \n",
       "        <td id=\"T_4fab14d4_447c_11e9_832e_85e15676d974row4_col5\" class=\"data row4 col5\" >0.00153453</td> \n",
       "        <td id=\"T_4fab14d4_447c_11e9_832e_85e15676d974row4_col6\" class=\"data row4 col6\" >0.0255838</td> \n",
       "        <td id=\"T_4fab14d4_447c_11e9_832e_85e15676d974row4_col7\" class=\"data row4 col7\" >0.080441</td> \n",
       "        <td id=\"T_4fab14d4_447c_11e9_832e_85e15676d974row4_col8\" class=\"data row4 col8\" >-0.00209894</td> \n",
       "        <td id=\"T_4fab14d4_447c_11e9_832e_85e15676d974row4_col9\" class=\"data row4 col9\" >0.119906</td> \n",
       "        <td id=\"T_4fab14d4_447c_11e9_832e_85e15676d974row4_col10\" class=\"data row4 col10\" >0.186242</td> \n",
       "        <td id=\"T_4fab14d4_447c_11e9_832e_85e15676d974row4_col11\" class=\"data row4 col11\" >0.0178184</td> \n",
       "        <td id=\"T_4fab14d4_447c_11e9_832e_85e15676d974row4_col12\" class=\"data row4 col12\" >0.058686</td> \n",
       "        <td id=\"T_4fab14d4_447c_11e9_832e_85e15676d974row4_col13\" class=\"data row4 col13\" >-0.00145131</td> \n",
       "        <td id=\"T_4fab14d4_447c_11e9_832e_85e15676d974row4_col14\" class=\"data row4 col14\" >-0.127709</td> \n",
       "        <td id=\"T_4fab14d4_447c_11e9_832e_85e15676d974row4_col15\" class=\"data row4 col15\" >-0.0822336</td> \n",
       "        <td id=\"T_4fab14d4_447c_11e9_832e_85e15676d974row4_col16\" class=\"data row4 col16\" >0.227451</td> \n",
       "        <td id=\"T_4fab14d4_447c_11e9_832e_85e15676d974row4_col17\" class=\"data row4 col17\" >0.147562</td> \n",
       "        <td id=\"T_4fab14d4_447c_11e9_832e_85e15676d974row4_col18\" class=\"data row4 col18\" >0.728458</td> \n",
       "        <td id=\"T_4fab14d4_447c_11e9_832e_85e15676d974row4_col19\" class=\"data row4 col19\" >0.00724319</td> \n",
       "        <td id=\"T_4fab14d4_447c_11e9_832e_85e15676d974row4_col20\" class=\"data row4 col20\" >-0.00189669</td> \n",
       "        <td id=\"T_4fab14d4_447c_11e9_832e_85e15676d974row4_col21\" class=\"data row4 col21\" >0.00380734</td> \n",
       "    </tr>    <tr> \n",
       "        <th id=\"T_4fab14d4_447c_11e9_832e_85e15676d974level0_row5\" class=\"row_heading level0 row5\" >floors</th> \n",
       "        <td id=\"T_4fab14d4_447c_11e9_832e_85e15676d974row5_col0\" class=\"data row5 col0\" >0.262588</td> \n",
       "        <td id=\"T_4fab14d4_447c_11e9_832e_85e15676d974row5_col1\" class=\"data row5 col1\" >0.189532</td> \n",
       "        <td id=\"T_4fab14d4_447c_11e9_832e_85e15676d974row5_col2\" class=\"data row5 col2\" >0.508649</td> \n",
       "        <td id=\"T_4fab14d4_447c_11e9_832e_85e15676d974row5_col3\" class=\"data row5 col3\" >0.363193</td> \n",
       "        <td id=\"T_4fab14d4_447c_11e9_832e_85e15676d974row5_col4\" class=\"data row5 col4\" >0.00153453</td> \n",
       "        <td id=\"T_4fab14d4_447c_11e9_832e_85e15676d974row5_col5\" class=\"data row5 col5\" >1</td> \n",
       "        <td id=\"T_4fab14d4_447c_11e9_832e_85e15676d974row5_col6\" class=\"data row5 col6\" >0.0311591</td> \n",
       "        <td id=\"T_4fab14d4_447c_11e9_832e_85e15676d974row5_col7\" class=\"data row5 col7\" >0.0345113</td> \n",
       "        <td id=\"T_4fab14d4_447c_11e9_832e_85e15676d974row5_col8\" class=\"data row5 col8\" >-0.261016</td> \n",
       "        <td id=\"T_4fab14d4_447c_11e9_832e_85e15676d974row5_col9\" class=\"data row5 col9\" >0.462598</td> \n",
       "        <td id=\"T_4fab14d4_447c_11e9_832e_85e15676d974row5_col10\" class=\"data row5 col10\" >0.529476</td> \n",
       "        <td id=\"T_4fab14d4_447c_11e9_832e_85e15676d974row5_col11\" class=\"data row5 col11\" >-0.23935</td> \n",
       "        <td id=\"T_4fab14d4_447c_11e9_832e_85e15676d974row5_col12\" class=\"data row5 col12\" >0.490436</td> \n",
       "        <td id=\"T_4fab14d4_447c_11e9_832e_85e15676d974row5_col13\" class=\"data row5 col13\" >0.00975179</td> \n",
       "        <td id=\"T_4fab14d4_447c_11e9_832e_85e15676d974row5_col14\" class=\"data row5 col14\" >-0.0591071</td> \n",
       "        <td id=\"T_4fab14d4_447c_11e9_832e_85e15676d974row5_col15\" class=\"data row5 col15\" >0.0490044</td> \n",
       "        <td id=\"T_4fab14d4_447c_11e9_832e_85e15676d974row5_col16\" class=\"data row5 col16\" >0.126983</td> \n",
       "        <td id=\"T_4fab14d4_447c_11e9_832e_85e15676d974row5_col17\" class=\"data row5 col17\" >0.287125</td> \n",
       "        <td id=\"T_4fab14d4_447c_11e9_832e_85e15676d974row5_col18\" class=\"data row5 col18\" >-0.0102874</td> \n",
       "        <td id=\"T_4fab14d4_447c_11e9_832e_85e15676d974row5_col19\" class=\"data row5 col19\" >-0.0208518</td> \n",
       "        <td id=\"T_4fab14d4_447c_11e9_832e_85e15676d974row5_col20\" class=\"data row5 col20\" >0.0154412</td> \n",
       "        <td id=\"T_4fab14d4_447c_11e9_832e_85e15676d974row5_col21\" class=\"data row5 col21\" >-0.00896531</td> \n",
       "    </tr>    <tr> \n",
       "        <th id=\"T_4fab14d4_447c_11e9_832e_85e15676d974level0_row6\" class=\"row_heading level0 row6\" >waterfront</th> \n",
       "        <td id=\"T_4fab14d4_447c_11e9_832e_85e15676d974row6_col0\" class=\"data row6 col0\" >0.265738</td> \n",
       "        <td id=\"T_4fab14d4_447c_11e9_832e_85e15676d974row6_col1\" class=\"data row6 col1\" >-0.00481904</td> \n",
       "        <td id=\"T_4fab14d4_447c_11e9_832e_85e15676d974row6_col2\" class=\"data row6 col2\" >0.0754524</td> \n",
       "        <td id=\"T_4fab14d4_447c_11e9_832e_85e15676d974row6_col3\" class=\"data row6 col3\" >0.108137</td> \n",
       "        <td id=\"T_4fab14d4_447c_11e9_832e_85e15676d974row6_col4\" class=\"data row6 col4\" >0.0255838</td> \n",
       "        <td id=\"T_4fab14d4_447c_11e9_832e_85e15676d974row6_col5\" class=\"data row6 col5\" >0.0311591</td> \n",
       "        <td id=\"T_4fab14d4_447c_11e9_832e_85e15676d974row6_col6\" class=\"data row6 col6\" >1</td> \n",
       "        <td id=\"T_4fab14d4_447c_11e9_832e_85e15676d974row6_col7\" class=\"data row6 col7\" >0.389669</td> \n",
       "        <td id=\"T_4fab14d4_447c_11e9_832e_85e15676d974row6_col8\" class=\"data row6 col8\" >0.0116129</td> \n",
       "        <td id=\"T_4fab14d4_447c_11e9_832e_85e15676d974row6_col9\" class=\"data row6 col9\" >0.0880613</td> \n",
       "        <td id=\"T_4fab14d4_447c_11e9_832e_85e15676d974row6_col10\" class=\"data row6 col10\" >0.0819683</td> \n",
       "        <td id=\"T_4fab14d4_447c_11e9_832e_85e15676d974row6_col11\" class=\"data row6 col11\" >0.0715759</td> \n",
       "        <td id=\"T_4fab14d4_447c_11e9_832e_85e15676d974row6_col12\" class=\"data row6 col12\" >-0.0265233</td> \n",
       "        <td id=\"T_4fab14d4_447c_11e9_832e_85e15676d974row6_col13\" class=\"data row6 col13\" >0.104168</td> \n",
       "        <td id=\"T_4fab14d4_447c_11e9_832e_85e15676d974row6_col14\" class=\"data row6 col14\" >0.0286323</td> \n",
       "        <td id=\"T_4fab14d4_447c_11e9_832e_85e15676d974row6_col15\" class=\"data row6 col15\" >-0.0147717</td> \n",
       "        <td id=\"T_4fab14d4_447c_11e9_832e_85e15676d974row6_col16\" class=\"data row6 col16\" >-0.0379216</td> \n",
       "        <td id=\"T_4fab14d4_447c_11e9_832e_85e15676d974row6_col17\" class=\"data row6 col17\" >0.0918099</td> \n",
       "        <td id=\"T_4fab14d4_447c_11e9_832e_85e15676d974row6_col18\" class=\"data row6 col18\" >0.0282548</td> \n",
       "        <td id=\"T_4fab14d4_447c_11e9_832e_85e15676d974row6_col19\" class=\"data row6 col19\" >-0.00204111</td> \n",
       "        <td id=\"T_4fab14d4_447c_11e9_832e_85e15676d974row6_col20\" class=\"data row6 col20\" >0.00582762</td> \n",
       "        <td id=\"T_4fab14d4_447c_11e9_832e_85e15676d974row6_col21\" class=\"data row6 col21\" >0.014694</td> \n",
       "    </tr>    <tr> \n",
       "        <th id=\"T_4fab14d4_447c_11e9_832e_85e15676d974level0_row7\" class=\"row_heading level0 row7\" >view</th> \n",
       "        <td id=\"T_4fab14d4_447c_11e9_832e_85e15676d974row7_col0\" class=\"data row7 col0\" >0.400806</td> \n",
       "        <td id=\"T_4fab14d4_447c_11e9_832e_85e15676d974row7_col1\" class=\"data row7 col1\" >0.0857027</td> \n",
       "        <td id=\"T_4fab14d4_447c_11e9_832e_85e15676d974row7_col2\" class=\"data row7 col2\" >0.187488</td> \n",
       "        <td id=\"T_4fab14d4_447c_11e9_832e_85e15676d974row7_col3\" class=\"data row7 col3\" >0.282821</td> \n",
       "        <td id=\"T_4fab14d4_447c_11e9_832e_85e15676d974row7_col4\" class=\"data row7 col4\" >0.080441</td> \n",
       "        <td id=\"T_4fab14d4_447c_11e9_832e_85e15676d974row7_col5\" class=\"data row7 col5\" >0.0345113</td> \n",
       "        <td id=\"T_4fab14d4_447c_11e9_832e_85e15676d974row7_col6\" class=\"data row7 col6\" >0.389669</td> \n",
       "        <td id=\"T_4fab14d4_447c_11e9_832e_85e15676d974row7_col7\" class=\"data row7 col7\" >1</td> \n",
       "        <td id=\"T_4fab14d4_447c_11e9_832e_85e15676d974row7_col8\" class=\"data row7 col8\" >0.0452546</td> \n",
       "        <td id=\"T_4fab14d4_447c_11e9_832e_85e15676d974row7_col9\" class=\"data row7 col9\" >0.247924</td> \n",
       "        <td id=\"T_4fab14d4_447c_11e9_832e_85e15676d974row7_col10\" class=\"data row7 col10\" >0.172693</td> \n",
       "        <td id=\"T_4fab14d4_447c_11e9_832e_85e15676d974row7_col11\" class=\"data row7 col11\" >0.26588</td> \n",
       "        <td id=\"T_4fab14d4_447c_11e9_832e_85e15676d974row7_col12\" class=\"data row7 col12\" >-0.0616704</td> \n",
       "        <td id=\"T_4fab14d4_447c_11e9_832e_85e15676d974row7_col13\" class=\"data row7 col13\" >0.107605</td> \n",
       "        <td id=\"T_4fab14d4_447c_11e9_832e_85e15676d974row7_col14\" class=\"data row7 col14\" >0.0892468</td> \n",
       "        <td id=\"T_4fab14d4_447c_11e9_832e_85e15676d974row7_col15\" class=\"data row7 col15\" >0.00528468</td> \n",
       "        <td id=\"T_4fab14d4_447c_11e9_832e_85e15676d974row7_col16\" class=\"data row7 col16\" >-0.073151</td> \n",
       "        <td id=\"T_4fab14d4_447c_11e9_832e_85e15676d974row7_col17\" class=\"data row7 col17\" >0.278267</td> \n",
       "        <td id=\"T_4fab14d4_447c_11e9_832e_85e15676d974row7_col18\" class=\"data row7 col18\" >0.0765012</td> \n",
       "        <td id=\"T_4fab14d4_447c_11e9_832e_85e15676d974row7_col19\" class=\"data row7 col19\" >0.014233</td> \n",
       "        <td id=\"T_4fab14d4_447c_11e9_832e_85e15676d974row7_col20\" class=\"data row7 col20\" >-0.0144402</td> \n",
       "        <td id=\"T_4fab14d4_447c_11e9_832e_85e15676d974row7_col21\" class=\"data row7 col21\" >0.0132874</td> \n",
       "    </tr>    <tr> \n",
       "        <th id=\"T_4fab14d4_447c_11e9_832e_85e15676d974level0_row8\" class=\"row_heading level0 row8\" >condition</th> \n",
       "        <td id=\"T_4fab14d4_447c_11e9_832e_85e15676d974row8_col0\" class=\"data row8 col0\" >0.0397398</td> \n",
       "        <td id=\"T_4fab14d4_447c_11e9_832e_85e15676d974row8_col1\" class=\"data row8 col1\" >0.0348854</td> \n",
       "        <td id=\"T_4fab14d4_447c_11e9_832e_85e15676d974row8_col2\" class=\"data row8 col2\" >-0.125907</td> \n",
       "        <td id=\"T_4fab14d4_447c_11e9_832e_85e15676d974row8_col3\" class=\"data row8 col3\" >-0.0542132</td> \n",
       "        <td id=\"T_4fab14d4_447c_11e9_832e_85e15676d974row8_col4\" class=\"data row8 col4\" >-0.00209894</td> \n",
       "        <td id=\"T_4fab14d4_447c_11e9_832e_85e15676d974row8_col5\" class=\"data row8 col5\" >-0.261016</td> \n",
       "        <td id=\"T_4fab14d4_447c_11e9_832e_85e15676d974row8_col6\" class=\"data row8 col6\" >0.0116129</td> \n",
       "        <td id=\"T_4fab14d4_447c_11e9_832e_85e15676d974row8_col7\" class=\"data row8 col7\" >0.0452546</td> \n",
       "        <td id=\"T_4fab14d4_447c_11e9_832e_85e15676d974row8_col8\" class=\"data row8 col8\" >1</td> \n",
       "        <td id=\"T_4fab14d4_447c_11e9_832e_85e15676d974row8_col9\" class=\"data row8 col9\" >-0.143599</td> \n",
       "        <td id=\"T_4fab14d4_447c_11e9_832e_85e15676d974row8_col10\" class=\"data row8 col10\" >-0.152856</td> \n",
       "        <td id=\"T_4fab14d4_447c_11e9_832e_85e15676d974row8_col11\" class=\"data row8 col11\" >0.175064</td> \n",
       "        <td id=\"T_4fab14d4_447c_11e9_832e_85e15676d974row8_col12\" class=\"data row8 col12\" >-0.36659</td> \n",
       "        <td id=\"T_4fab14d4_447c_11e9_832e_85e15676d974row8_col13\" class=\"data row8 col13\" >-0.0623424</td> \n",
       "        <td id=\"T_4fab14d4_447c_11e9_832e_85e15676d974row8_col14\" class=\"data row8 col14\" >0.00110616</td> \n",
       "        <td id=\"T_4fab14d4_447c_11e9_832e_85e15676d974row8_col15\" class=\"data row8 col15\" >-0.0159744</td> \n",
       "        <td id=\"T_4fab14d4_447c_11e9_832e_85e15676d974row8_col16\" class=\"data row8 col16\" >-0.110742</td> \n",
       "        <td id=\"T_4fab14d4_447c_11e9_832e_85e15676d974row8_col17\" class=\"data row8 col17\" >-0.0914069</td> \n",
       "        <td id=\"T_4fab14d4_447c_11e9_832e_85e15676d974row8_col18\" class=\"data row8 col18\" >-0.00387262</td> \n",
       "        <td id=\"T_4fab14d4_447c_11e9_832e_85e15676d974row8_col19\" class=\"data row8 col19\" >-0.0459685</td> \n",
       "        <td id=\"T_4fab14d4_447c_11e9_832e_85e15676d974row8_col20\" class=\"data row8 col20\" >0.020182</td> \n",
       "        <td id=\"T_4fab14d4_447c_11e9_832e_85e15676d974row8_col21\" class=\"data row8 col21\" >-0.00390739</td> \n",
       "    </tr>    <tr> \n",
       "        <th id=\"T_4fab14d4_447c_11e9_832e_85e15676d974level0_row9\" class=\"row_heading level0 row9\" >grade</th> \n",
       "        <td id=\"T_4fab14d4_447c_11e9_832e_85e15676d974row9_col0\" class=\"data row9 col0\" >0.667211</td> \n",
       "        <td id=\"T_4fab14d4_447c_11e9_832e_85e15676d974row9_col1\" class=\"data row9 col1\" >0.375286</td> \n",
       "        <td id=\"T_4fab14d4_447c_11e9_832e_85e15676d974row9_col2\" class=\"data row9 col2\" >0.666278</td> \n",
       "        <td id=\"T_4fab14d4_447c_11e9_832e_85e15676d974row9_col3\" class=\"data row9 col3\" >0.762543</td> \n",
       "        <td id=\"T_4fab14d4_447c_11e9_832e_85e15676d974row9_col4\" class=\"data row9 col4\" >0.119906</td> \n",
       "        <td id=\"T_4fab14d4_447c_11e9_832e_85e15676d974row9_col5\" class=\"data row9 col5\" >0.462598</td> \n",
       "        <td id=\"T_4fab14d4_447c_11e9_832e_85e15676d974row9_col6\" class=\"data row9 col6\" >0.0880613</td> \n",
       "        <td id=\"T_4fab14d4_447c_11e9_832e_85e15676d974row9_col7\" class=\"data row9 col7\" >0.247924</td> \n",
       "        <td id=\"T_4fab14d4_447c_11e9_832e_85e15676d974row9_col8\" class=\"data row9 col8\" >-0.143599</td> \n",
       "        <td id=\"T_4fab14d4_447c_11e9_832e_85e15676d974row9_col9\" class=\"data row9 col9\" >1</td> \n",
       "        <td id=\"T_4fab14d4_447c_11e9_832e_85e15676d974row9_col10\" class=\"data row9 col10\" >0.75924</td> \n",
       "        <td id=\"T_4fab14d4_447c_11e9_832e_85e15676d974row9_col11\" class=\"data row9 col11\" >0.162657</td> \n",
       "        <td id=\"T_4fab14d4_447c_11e9_832e_85e15676d974row9_col12\" class=\"data row9 col12\" >0.440608</td> \n",
       "        <td id=\"T_4fab14d4_447c_11e9_832e_85e15676d974row9_col13\" class=\"data row9 col13\" >0.0301552</td> \n",
       "        <td id=\"T_4fab14d4_447c_11e9_832e_85e15676d974row9_col14\" class=\"data row9 col14\" >-0.186541</td> \n",
       "        <td id=\"T_4fab14d4_447c_11e9_832e_85e15676d974row9_col15\" class=\"data row9 col15\" >0.112319</td> \n",
       "        <td id=\"T_4fab14d4_447c_11e9_832e_85e15676d974row9_col16\" class=\"data row9 col16\" >0.20213</td> \n",
       "        <td id=\"T_4fab14d4_447c_11e9_832e_85e15676d974row9_col17\" class=\"data row9 col17\" >0.715321</td> \n",
       "        <td id=\"T_4fab14d4_447c_11e9_832e_85e15676d974row9_col18\" class=\"data row9 col18\" >0.119734</td> \n",
       "        <td id=\"T_4fab14d4_447c_11e9_832e_85e15676d974row9_col19\" class=\"data row9 col19\" >-0.0226604</td> \n",
       "        <td id=\"T_4fab14d4_447c_11e9_832e_85e15676d974row9_col20\" class=\"data row9 col20\" >0.00922962</td> \n",
       "        <td id=\"T_4fab14d4_447c_11e9_832e_85e15676d974row9_col21\" class=\"data row9 col21\" >-0.0197986</td> \n",
       "    </tr>    <tr> \n",
       "        <th id=\"T_4fab14d4_447c_11e9_832e_85e15676d974level0_row10\" class=\"row_heading level0 row10\" >sqft_above</th> \n",
       "        <td id=\"T_4fab14d4_447c_11e9_832e_85e15676d974row10_col0\" class=\"data row10 col0\" >0.608577</td> \n",
       "        <td id=\"T_4fab14d4_447c_11e9_832e_85e15676d974row10_col1\" class=\"data row10 col1\" >0.494867</td> \n",
       "        <td id=\"T_4fab14d4_447c_11e9_832e_85e15676d974row10_col2\" class=\"data row10 col2\" >0.688255</td> \n",
       "        <td id=\"T_4fab14d4_447c_11e9_832e_85e15676d974row10_col3\" class=\"data row10 col3\" >0.878736</td> \n",
       "        <td id=\"T_4fab14d4_447c_11e9_832e_85e15676d974row10_col4\" class=\"data row10 col4\" >0.186242</td> \n",
       "        <td id=\"T_4fab14d4_447c_11e9_832e_85e15676d974row10_col5\" class=\"data row10 col5\" >0.529476</td> \n",
       "        <td id=\"T_4fab14d4_447c_11e9_832e_85e15676d974row10_col6\" class=\"data row10 col6\" >0.0819683</td> \n",
       "        <td id=\"T_4fab14d4_447c_11e9_832e_85e15676d974row10_col7\" class=\"data row10 col7\" >0.172693</td> \n",
       "        <td id=\"T_4fab14d4_447c_11e9_832e_85e15676d974row10_col8\" class=\"data row10 col8\" >-0.152856</td> \n",
       "        <td id=\"T_4fab14d4_447c_11e9_832e_85e15676d974row10_col9\" class=\"data row10 col9\" >0.75924</td> \n",
       "        <td id=\"T_4fab14d4_447c_11e9_832e_85e15676d974row10_col10\" class=\"data row10 col10\" >1</td> \n",
       "        <td id=\"T_4fab14d4_447c_11e9_832e_85e15676d974row10_col11\" class=\"data row10 col11\" >-0.0486226</td> \n",
       "        <td id=\"T_4fab14d4_447c_11e9_832e_85e15676d974row10_col12\" class=\"data row10 col12\" >0.422431</td> \n",
       "        <td id=\"T_4fab14d4_447c_11e9_832e_85e15676d974row10_col13\" class=\"data row10 col13\" >0.0314411</td> \n",
       "        <td id=\"T_4fab14d4_447c_11e9_832e_85e15676d974row10_col14\" class=\"data row10 col14\" >-0.258474</td> \n",
       "        <td id=\"T_4fab14d4_447c_11e9_832e_85e15676d974row10_col15\" class=\"data row10 col15\" >0.00107404</td> \n",
       "        <td id=\"T_4fab14d4_447c_11e9_832e_85e15676d974row10_col16\" class=\"data row10 col16\" >0.347226</td> \n",
       "        <td id=\"T_4fab14d4_447c_11e9_832e_85e15676d974row10_col17\" class=\"data row10 col17\" >0.737795</td> \n",
       "        <td id=\"T_4fab14d4_447c_11e9_832e_85e15676d974row10_col18\" class=\"data row10 col18\" >0.194226</td> \n",
       "        <td id=\"T_4fab14d4_447c_11e9_832e_85e15676d974row10_col19\" class=\"data row10 col19\" >-0.0191237</td> \n",
       "        <td id=\"T_4fab14d4_447c_11e9_832e_85e15676d974row10_col20\" class=\"data row10 col20\" >0.0104271</td> \n",
       "        <td id=\"T_4fab14d4_447c_11e9_832e_85e15676d974row10_col21\" class=\"data row10 col21\" >-0.00710818</td> \n",
       "    </tr>    <tr> \n",
       "        <th id=\"T_4fab14d4_447c_11e9_832e_85e15676d974level0_row11\" class=\"row_heading level0 row11\" >sqft_basement</th> \n",
       "        <td id=\"T_4fab14d4_447c_11e9_832e_85e15676d974row11_col0\" class=\"data row11 col0\" >0.322218</td> \n",
       "        <td id=\"T_4fab14d4_447c_11e9_832e_85e15676d974row11_col1\" class=\"data row11 col1\" >0.315183</td> \n",
       "        <td id=\"T_4fab14d4_447c_11e9_832e_85e15676d974row11_col2\" class=\"data row11 col2\" >0.282642</td> \n",
       "        <td id=\"T_4fab14d4_447c_11e9_832e_85e15676d974row11_col3\" class=\"data row11 col3\" >0.434017</td> \n",
       "        <td id=\"T_4fab14d4_447c_11e9_832e_85e15676d974row11_col4\" class=\"data row11 col4\" >0.0178184</td> \n",
       "        <td id=\"T_4fab14d4_447c_11e9_832e_85e15676d974row11_col5\" class=\"data row11 col5\" >-0.23935</td> \n",
       "        <td id=\"T_4fab14d4_447c_11e9_832e_85e15676d974row11_col6\" class=\"data row11 col6\" >0.0715759</td> \n",
       "        <td id=\"T_4fab14d4_447c_11e9_832e_85e15676d974row11_col7\" class=\"data row11 col7\" >0.26588</td> \n",
       "        <td id=\"T_4fab14d4_447c_11e9_832e_85e15676d974row11_col8\" class=\"data row11 col8\" >0.175064</td> \n",
       "        <td id=\"T_4fab14d4_447c_11e9_832e_85e15676d974row11_col9\" class=\"data row11 col9\" >0.162657</td> \n",
       "        <td id=\"T_4fab14d4_447c_11e9_832e_85e15676d974row11_col10\" class=\"data row11 col10\" >-0.0486226</td> \n",
       "        <td id=\"T_4fab14d4_447c_11e9_832e_85e15676d974row11_col11\" class=\"data row11 col11\" >1</td> \n",
       "        <td id=\"T_4fab14d4_447c_11e9_832e_85e15676d974row11_col12\" class=\"data row11 col12\" >-0.136214</td> \n",
       "        <td id=\"T_4fab14d4_447c_11e9_832e_85e15676d974row11_col13\" class=\"data row11 col13\" >0.076452</td> \n",
       "        <td id=\"T_4fab14d4_447c_11e9_832e_85e15676d974row11_col14\" class=\"data row11 col14\" >0.0677818</td> \n",
       "        <td id=\"T_4fab14d4_447c_11e9_832e_85e15676d974row11_col15\" class=\"data row11 col15\" >0.105969</td> \n",
       "        <td id=\"T_4fab14d4_447c_11e9_832e_85e15676d974row11_col16\" class=\"data row11 col16\" >-0.141792</td> \n",
       "        <td id=\"T_4fab14d4_447c_11e9_832e_85e15676d974row11_col17\" class=\"data row11 col17\" >0.19838</td> \n",
       "        <td id=\"T_4fab14d4_447c_11e9_832e_85e15676d974row11_col18\" class=\"data row11 col18\" >0.0188125</td> \n",
       "        <td id=\"T_4fab14d4_447c_11e9_832e_85e15676d974row11_col19\" class=\"data row11 col19\" >-0.00918493</td> \n",
       "        <td id=\"T_4fab14d4_447c_11e9_832e_85e15676d974row11_col20\" class=\"data row11 col20\" >0.000750109</td> \n",
       "        <td id=\"T_4fab14d4_447c_11e9_832e_85e15676d974row11_col21\" class=\"data row11 col21\" >-0.00986331</td> \n",
       "    </tr>    <tr> \n",
       "        <th id=\"T_4fab14d4_447c_11e9_832e_85e15676d974level0_row12\" class=\"row_heading level0 row12\" >yr_built</th> \n",
       "        <td id=\"T_4fab14d4_447c_11e9_832e_85e15676d974row12_col0\" class=\"data row12 col0\" >0.0472903</td> \n",
       "        <td id=\"T_4fab14d4_447c_11e9_832e_85e15676d974row12_col1\" class=\"data row12 col1\" >0.158799</td> \n",
       "        <td id=\"T_4fab14d4_447c_11e9_832e_85e15676d974row12_col2\" class=\"data row12 col2\" >0.503964</td> \n",
       "        <td id=\"T_4fab14d4_447c_11e9_832e_85e15676d974row12_col3\" class=\"data row12 col3\" >0.315927</td> \n",
       "        <td id=\"T_4fab14d4_447c_11e9_832e_85e15676d974row12_col4\" class=\"data row12 col4\" >0.058686</td> \n",
       "        <td id=\"T_4fab14d4_447c_11e9_832e_85e15676d974row12_col5\" class=\"data row12 col5\" >0.490436</td> \n",
       "        <td id=\"T_4fab14d4_447c_11e9_832e_85e15676d974row12_col6\" class=\"data row12 col6\" >-0.0265233</td> \n",
       "        <td id=\"T_4fab14d4_447c_11e9_832e_85e15676d974row12_col7\" class=\"data row12 col7\" >-0.0616704</td> \n",
       "        <td id=\"T_4fab14d4_447c_11e9_832e_85e15676d974row12_col8\" class=\"data row12 col8\" >-0.36659</td> \n",
       "        <td id=\"T_4fab14d4_447c_11e9_832e_85e15676d974row12_col9\" class=\"data row12 col9\" >0.440608</td> \n",
       "        <td id=\"T_4fab14d4_447c_11e9_832e_85e15676d974row12_col10\" class=\"data row12 col10\" >0.422431</td> \n",
       "        <td id=\"T_4fab14d4_447c_11e9_832e_85e15676d974row12_col11\" class=\"data row12 col11\" >-0.136214</td> \n",
       "        <td id=\"T_4fab14d4_447c_11e9_832e_85e15676d974row12_col12\" class=\"data row12 col12\" >1</td> \n",
       "        <td id=\"T_4fab14d4_447c_11e9_832e_85e15676d974row12_col13\" class=\"data row12 col13\" >-0.21576</td> \n",
       "        <td id=\"T_4fab14d4_447c_11e9_832e_85e15676d974row12_col14\" class=\"data row12 col14\" >-0.35428</td> \n",
       "        <td id=\"T_4fab14d4_447c_11e9_832e_85e15676d974row12_col15\" class=\"data row12 col15\" >-0.156563</td> \n",
       "        <td id=\"T_4fab14d4_447c_11e9_832e_85e15676d974row12_col16\" class=\"data row12 col16\" >0.414565</td> \n",
       "        <td id=\"T_4fab14d4_447c_11e9_832e_85e15676d974row12_col17\" class=\"data row12 col17\" >0.324221</td> \n",
       "        <td id=\"T_4fab14d4_447c_11e9_832e_85e15676d974row12_col18\" class=\"data row12 col18\" >0.0760086</td> \n",
       "        <td id=\"T_4fab14d4_447c_11e9_832e_85e15676d974row12_col19\" class=\"data row12 col19\" >0.00438116</td> \n",
       "        <td id=\"T_4fab14d4_447c_11e9_832e_85e15676d974row12_col20\" class=\"data row12 col20\" >-0.00142473</td> \n",
       "        <td id=\"T_4fab14d4_447c_11e9_832e_85e15676d974row12_col21\" class=\"data row12 col21\" >-0.0116378</td> \n",
       "    </tr>    <tr> \n",
       "        <th id=\"T_4fab14d4_447c_11e9_832e_85e15676d974level0_row13\" class=\"row_heading level0 row13\" >yr_renovated</th> \n",
       "        <td id=\"T_4fab14d4_447c_11e9_832e_85e15676d974row13_col0\" class=\"data row13 col0\" >0.140808</td> \n",
       "        <td id=\"T_4fab14d4_447c_11e9_832e_85e15676d974row13_col1\" class=\"data row13 col1\" >0.0227289</td> \n",
       "        <td id=\"T_4fab14d4_447c_11e9_832e_85e15676d974row13_col2\" class=\"data row13 col2\" >0.0654226</td> \n",
       "        <td id=\"T_4fab14d4_447c_11e9_832e_85e15676d974row13_col3\" class=\"data row13 col3\" >0.0648934</td> \n",
       "        <td id=\"T_4fab14d4_447c_11e9_832e_85e15676d974row13_col4\" class=\"data row13 col4\" >-0.00145131</td> \n",
       "        <td id=\"T_4fab14d4_447c_11e9_832e_85e15676d974row13_col5\" class=\"data row13 col5\" >0.00975179</td> \n",
       "        <td id=\"T_4fab14d4_447c_11e9_832e_85e15676d974row13_col6\" class=\"data row13 col6\" >0.104168</td> \n",
       "        <td id=\"T_4fab14d4_447c_11e9_832e_85e15676d974row13_col7\" class=\"data row13 col7\" >0.107605</td> \n",
       "        <td id=\"T_4fab14d4_447c_11e9_832e_85e15676d974row13_col8\" class=\"data row13 col8\" >-0.0623424</td> \n",
       "        <td id=\"T_4fab14d4_447c_11e9_832e_85e15676d974row13_col9\" class=\"data row13 col9\" >0.0301552</td> \n",
       "        <td id=\"T_4fab14d4_447c_11e9_832e_85e15676d974row13_col10\" class=\"data row13 col10\" >0.0314411</td> \n",
       "        <td id=\"T_4fab14d4_447c_11e9_832e_85e15676d974row13_col11\" class=\"data row13 col11\" >0.076452</td> \n",
       "        <td id=\"T_4fab14d4_447c_11e9_832e_85e15676d974row13_col12\" class=\"data row13 col12\" >-0.21576</td> \n",
       "        <td id=\"T_4fab14d4_447c_11e9_832e_85e15676d974row13_col13\" class=\"data row13 col13\" >1</td> \n",
       "        <td id=\"T_4fab14d4_447c_11e9_832e_85e15676d974row13_col14\" class=\"data row13 col14\" >0.0683066</td> \n",
       "        <td id=\"T_4fab14d4_447c_11e9_832e_85e15676d974row13_col15\" class=\"data row13 col15\" >0.0348443</td> \n",
       "        <td id=\"T_4fab14d4_447c_11e9_832e_85e15676d974row13_col16\" class=\"data row13 col16\" >-0.0701344</td> \n",
       "        <td id=\"T_4fab14d4_447c_11e9_832e_85e15676d974row13_col17\" class=\"data row13 col17\" >0.00799473</td> \n",
       "        <td id=\"T_4fab14d4_447c_11e9_832e_85e15676d974row13_col18\" class=\"data row13 col18\" >-0.000347868</td> \n",
       "        <td id=\"T_4fab14d4_447c_11e9_832e_85e15676d974row13_col19\" class=\"data row13 col19\" >-0.0190745</td> \n",
       "        <td id=\"T_4fab14d4_447c_11e9_832e_85e15676d974row13_col20\" class=\"data row13 col20\" >0.00680162</td> \n",
       "        <td id=\"T_4fab14d4_447c_11e9_832e_85e15676d974row13_col21\" class=\"data row13 col21\" >0.0165327</td> \n",
       "    </tr>    <tr> \n",
       "        <th id=\"T_4fab14d4_447c_11e9_832e_85e15676d974level0_row14\" class=\"row_heading level0 row14\" >zipcode</th> \n",
       "        <td id=\"T_4fab14d4_447c_11e9_832e_85e15676d974row14_col0\" class=\"data row14 col0\" >-0.0514984</td> \n",
       "        <td id=\"T_4fab14d4_447c_11e9_832e_85e15676d974row14_col1\" class=\"data row14 col1\" >-0.162081</td> \n",
       "        <td id=\"T_4fab14d4_447c_11e9_832e_85e15676d974row14_col2\" class=\"data row14 col2\" >-0.2075</td> \n",
       "        <td id=\"T_4fab14d4_447c_11e9_832e_85e15676d974row14_col3\" class=\"data row14 col3\" >-0.200745</td> \n",
       "        <td id=\"T_4fab14d4_447c_11e9_832e_85e15676d974row14_col4\" class=\"data row14 col4\" >-0.127709</td> \n",
       "        <td id=\"T_4fab14d4_447c_11e9_832e_85e15676d974row14_col5\" class=\"data row14 col5\" >-0.0591071</td> \n",
       "        <td id=\"T_4fab14d4_447c_11e9_832e_85e15676d974row14_col6\" class=\"data row14 col6\" >0.0286323</td> \n",
       "        <td id=\"T_4fab14d4_447c_11e9_832e_85e15676d974row14_col7\" class=\"data row14 col7\" >0.0892468</td> \n",
       "        <td id=\"T_4fab14d4_447c_11e9_832e_85e15676d974row14_col8\" class=\"data row14 col8\" >0.00110616</td> \n",
       "        <td id=\"T_4fab14d4_447c_11e9_832e_85e15676d974row14_col9\" class=\"data row14 col9\" >-0.186541</td> \n",
       "        <td id=\"T_4fab14d4_447c_11e9_832e_85e15676d974row14_col10\" class=\"data row14 col10\" >-0.258474</td> \n",
       "        <td id=\"T_4fab14d4_447c_11e9_832e_85e15676d974row14_col11\" class=\"data row14 col11\" >0.0677818</td> \n",
       "        <td id=\"T_4fab14d4_447c_11e9_832e_85e15676d974row14_col12\" class=\"data row14 col12\" >-0.35428</td> \n",
       "        <td id=\"T_4fab14d4_447c_11e9_832e_85e15676d974row14_col13\" class=\"data row14 col13\" >0.0683066</td> \n",
       "        <td id=\"T_4fab14d4_447c_11e9_832e_85e15676d974row14_col14\" class=\"data row14 col14\" >1</td> \n",
       "        <td id=\"T_4fab14d4_447c_11e9_832e_85e15676d974row14_col15\" class=\"data row14 col15\" >0.261312</td> \n",
       "        <td id=\"T_4fab14d4_447c_11e9_832e_85e15676d974row14_col16\" class=\"data row14 col16\" >-0.563455</td> \n",
       "        <td id=\"T_4fab14d4_447c_11e9_832e_85e15676d974row14_col17\" class=\"data row14 col17\" >-0.274176</td> \n",
       "        <td id=\"T_4fab14d4_447c_11e9_832e_85e15676d974row14_col18\" class=\"data row14 col18\" >-0.14571</td> \n",
       "        <td id=\"T_4fab14d4_447c_11e9_832e_85e15676d974row14_col19\" class=\"data row14 col19\" >-0.000742541</td> \n",
       "        <td id=\"T_4fab14d4_447c_11e9_832e_85e15676d974row14_col20\" class=\"data row14 col20\" >0.000281659</td> \n",
       "        <td id=\"T_4fab14d4_447c_11e9_832e_85e15676d974row14_col21\" class=\"data row14 col21\" >-0.00756196</td> \n",
       "    </tr>    <tr> \n",
       "        <th id=\"T_4fab14d4_447c_11e9_832e_85e15676d974level0_row15\" class=\"row_heading level0 row15\" >lat</th> \n",
       "        <td id=\"T_4fab14d4_447c_11e9_832e_85e15676d974row15_col0\" class=\"data row15 col0\" >0.301604</td> \n",
       "        <td id=\"T_4fab14d4_447c_11e9_832e_85e15676d974row15_col1\" class=\"data row15 col1\" >-0.0111896</td> \n",
       "        <td id=\"T_4fab14d4_447c_11e9_832e_85e15676d974row15_col2\" class=\"data row15 col2\" >0.0181103</td> \n",
       "        <td id=\"T_4fab14d4_447c_11e9_832e_85e15676d974row15_col3\" class=\"data row15 col3\" >0.0516087</td> \n",
       "        <td id=\"T_4fab14d4_447c_11e9_832e_85e15676d974row15_col4\" class=\"data row15 col4\" >-0.0822336</td> \n",
       "        <td id=\"T_4fab14d4_447c_11e9_832e_85e15676d974row15_col5\" class=\"data row15 col5\" >0.0490044</td> \n",
       "        <td id=\"T_4fab14d4_447c_11e9_832e_85e15676d974row15_col6\" class=\"data row15 col6\" >-0.0147717</td> \n",
       "        <td id=\"T_4fab14d4_447c_11e9_832e_85e15676d974row15_col7\" class=\"data row15 col7\" >0.00528468</td> \n",
       "        <td id=\"T_4fab14d4_447c_11e9_832e_85e15676d974row15_col8\" class=\"data row15 col8\" >-0.0159744</td> \n",
       "        <td id=\"T_4fab14d4_447c_11e9_832e_85e15676d974row15_col9\" class=\"data row15 col9\" >0.112319</td> \n",
       "        <td id=\"T_4fab14d4_447c_11e9_832e_85e15676d974row15_col10\" class=\"data row15 col10\" >0.00107404</td> \n",
       "        <td id=\"T_4fab14d4_447c_11e9_832e_85e15676d974row15_col11\" class=\"data row15 col11\" >0.105969</td> \n",
       "        <td id=\"T_4fab14d4_447c_11e9_832e_85e15676d974row15_col12\" class=\"data row15 col12\" >-0.156563</td> \n",
       "        <td id=\"T_4fab14d4_447c_11e9_832e_85e15676d974row15_col13\" class=\"data row15 col13\" >0.0348443</td> \n",
       "        <td id=\"T_4fab14d4_447c_11e9_832e_85e15676d974row15_col14\" class=\"data row15 col14\" >0.261312</td> \n",
       "        <td id=\"T_4fab14d4_447c_11e9_832e_85e15676d974row15_col15\" class=\"data row15 col15\" >1</td> \n",
       "        <td id=\"T_4fab14d4_447c_11e9_832e_85e15676d974row15_col16\" class=\"data row15 col16\" >-0.13346</td> \n",
       "        <td id=\"T_4fab14d4_447c_11e9_832e_85e15676d974row15_col17\" class=\"data row15 col17\" >0.0489236</td> \n",
       "        <td id=\"T_4fab14d4_447c_11e9_832e_85e15676d974row15_col18\" class=\"data row15 col18\" >-0.081725</td> \n",
       "        <td id=\"T_4fab14d4_447c_11e9_832e_85e15676d974row15_col19\" class=\"data row15 col19\" >-0.0313888</td> \n",
       "        <td id=\"T_4fab14d4_447c_11e9_832e_85e15676d974row15_col20\" class=\"data row15 col20\" >0.0198989</td> \n",
       "        <td id=\"T_4fab14d4_447c_11e9_832e_85e15676d974row15_col21\" class=\"data row15 col21\" >-0.0156899</td> \n",
       "    </tr>    <tr> \n",
       "        <th id=\"T_4fab14d4_447c_11e9_832e_85e15676d974level0_row16\" class=\"row_heading level0 row16\" >long</th> \n",
       "        <td id=\"T_4fab14d4_447c_11e9_832e_85e15676d974row16_col0\" class=\"data row16 col0\" >0.0235465</td> \n",
       "        <td id=\"T_4fab14d4_447c_11e9_832e_85e15676d974row16_col1\" class=\"data row16 col1\" >0.135802</td> \n",
       "        <td id=\"T_4fab14d4_447c_11e9_832e_85e15676d974row16_col2\" class=\"data row16 col2\" >0.227669</td> \n",
       "        <td id=\"T_4fab14d4_447c_11e9_832e_85e15676d974row16_col3\" class=\"data row16 col3\" >0.245429</td> \n",
       "        <td id=\"T_4fab14d4_447c_11e9_832e_85e15676d974row16_col4\" class=\"data row16 col4\" >0.227451</td> \n",
       "        <td id=\"T_4fab14d4_447c_11e9_832e_85e15676d974row16_col5\" class=\"data row16 col5\" >0.126983</td> \n",
       "        <td id=\"T_4fab14d4_447c_11e9_832e_85e15676d974row16_col6\" class=\"data row16 col6\" >-0.0379216</td> \n",
       "        <td id=\"T_4fab14d4_447c_11e9_832e_85e15676d974row16_col7\" class=\"data row16 col7\" >-0.073151</td> \n",
       "        <td id=\"T_4fab14d4_447c_11e9_832e_85e15676d974row16_col8\" class=\"data row16 col8\" >-0.110742</td> \n",
       "        <td id=\"T_4fab14d4_447c_11e9_832e_85e15676d974row16_col9\" class=\"data row16 col9\" >0.20213</td> \n",
       "        <td id=\"T_4fab14d4_447c_11e9_832e_85e15676d974row16_col10\" class=\"data row16 col10\" >0.347226</td> \n",
       "        <td id=\"T_4fab14d4_447c_11e9_832e_85e15676d974row16_col11\" class=\"data row16 col11\" >-0.141792</td> \n",
       "        <td id=\"T_4fab14d4_447c_11e9_832e_85e15676d974row16_col12\" class=\"data row16 col12\" >0.414565</td> \n",
       "        <td id=\"T_4fab14d4_447c_11e9_832e_85e15676d974row16_col13\" class=\"data row16 col13\" >-0.0701344</td> \n",
       "        <td id=\"T_4fab14d4_447c_11e9_832e_85e15676d974row16_col14\" class=\"data row16 col14\" >-0.563455</td> \n",
       "        <td id=\"T_4fab14d4_447c_11e9_832e_85e15676d974row16_col15\" class=\"data row16 col15\" >-0.13346</td> \n",
       "        <td id=\"T_4fab14d4_447c_11e9_832e_85e15676d974row16_col16\" class=\"data row16 col16\" >1</td> \n",
       "        <td id=\"T_4fab14d4_447c_11e9_832e_85e15676d974row16_col17\" class=\"data row16 col17\" >0.333673</td> \n",
       "        <td id=\"T_4fab14d4_447c_11e9_832e_85e15676d974row16_col18\" class=\"data row16 col18\" >0.256201</td> \n",
       "        <td id=\"T_4fab14d4_447c_11e9_832e_85e15676d974row16_col19\" class=\"data row16 col19\" >0.00325323</td> \n",
       "        <td id=\"T_4fab14d4_447c_11e9_832e_85e15676d974row16_col20\" class=\"data row16 col20\" >-0.00761756</td> \n",
       "        <td id=\"T_4fab14d4_447c_11e9_832e_85e15676d974row16_col21\" class=\"data row16 col21\" >-0.00633025</td> \n",
       "    </tr>    <tr> \n",
       "        <th id=\"T_4fab14d4_447c_11e9_832e_85e15676d974level0_row17\" class=\"row_heading level0 row17\" >sqft_living15</th> \n",
       "        <td id=\"T_4fab14d4_447c_11e9_832e_85e15676d974row17_col0\" class=\"data row17 col0\" >0.586419</td> \n",
       "        <td id=\"T_4fab14d4_447c_11e9_832e_85e15676d974row17_col1\" class=\"data row17 col1\" >0.407394</td> \n",
       "        <td id=\"T_4fab14d4_447c_11e9_832e_85e15676d974row17_col2\" class=\"data row17 col2\" >0.573541</td> \n",
       "        <td id=\"T_4fab14d4_447c_11e9_832e_85e15676d974row17_col3\" class=\"data row17 col3\" >0.760271</td> \n",
       "        <td id=\"T_4fab14d4_447c_11e9_832e_85e15676d974row17_col4\" class=\"data row17 col4\" >0.147562</td> \n",
       "        <td id=\"T_4fab14d4_447c_11e9_832e_85e15676d974row17_col5\" class=\"data row17 col5\" >0.287125</td> \n",
       "        <td id=\"T_4fab14d4_447c_11e9_832e_85e15676d974row17_col6\" class=\"data row17 col6\" >0.0918099</td> \n",
       "        <td id=\"T_4fab14d4_447c_11e9_832e_85e15676d974row17_col7\" class=\"data row17 col7\" >0.278267</td> \n",
       "        <td id=\"T_4fab14d4_447c_11e9_832e_85e15676d974row17_col8\" class=\"data row17 col8\" >-0.0914069</td> \n",
       "        <td id=\"T_4fab14d4_447c_11e9_832e_85e15676d974row17_col9\" class=\"data row17 col9\" >0.715321</td> \n",
       "        <td id=\"T_4fab14d4_447c_11e9_832e_85e15676d974row17_col10\" class=\"data row17 col10\" >0.737795</td> \n",
       "        <td id=\"T_4fab14d4_447c_11e9_832e_85e15676d974row17_col11\" class=\"data row17 col11\" >0.19838</td> \n",
       "        <td id=\"T_4fab14d4_447c_11e9_832e_85e15676d974row17_col12\" class=\"data row17 col12\" >0.324221</td> \n",
       "        <td id=\"T_4fab14d4_447c_11e9_832e_85e15676d974row17_col13\" class=\"data row17 col13\" >0.00799473</td> \n",
       "        <td id=\"T_4fab14d4_447c_11e9_832e_85e15676d974row17_col14\" class=\"data row17 col14\" >-0.274176</td> \n",
       "        <td id=\"T_4fab14d4_447c_11e9_832e_85e15676d974row17_col15\" class=\"data row17 col15\" >0.0489236</td> \n",
       "        <td id=\"T_4fab14d4_447c_11e9_832e_85e15676d974row17_col16\" class=\"data row17 col16\" >0.333673</td> \n",
       "        <td id=\"T_4fab14d4_447c_11e9_832e_85e15676d974row17_col17\" class=\"data row17 col17\" >1</td> \n",
       "        <td id=\"T_4fab14d4_447c_11e9_832e_85e15676d974row17_col18\" class=\"data row17 col18\" >0.183599</td> \n",
       "        <td id=\"T_4fab14d4_447c_11e9_832e_85e15676d974row17_col19\" class=\"data row17 col19\" >-0.0135231</td> \n",
       "        <td id=\"T_4fab14d4_447c_11e9_832e_85e15676d974row17_col20\" class=\"data row17 col20\" >-0.00106794</td> \n",
       "        <td id=\"T_4fab14d4_447c_11e9_832e_85e15676d974row17_col21\" class=\"data row17 col21\" >-0.00991401</td> \n",
       "    </tr>    <tr> \n",
       "        <th id=\"T_4fab14d4_447c_11e9_832e_85e15676d974level0_row18\" class=\"row_heading level0 row18\" >sqft_lot15</th> \n",
       "        <td id=\"T_4fab14d4_447c_11e9_832e_85e15676d974row18_col0\" class=\"data row18 col0\" >0.0863843</td> \n",
       "        <td id=\"T_4fab14d4_447c_11e9_832e_85e15676d974row18_col1\" class=\"data row18 col1\" >0.0272419</td> \n",
       "        <td id=\"T_4fab14d4_447c_11e9_832e_85e15676d974row18_col2\" class=\"data row18 col2\" >0.0881197</td> \n",
       "        <td id=\"T_4fab14d4_447c_11e9_832e_85e15676d974row18_col3\" class=\"data row18 col3\" >0.184176</td> \n",
       "        <td id=\"T_4fab14d4_447c_11e9_832e_85e15676d974row18_col4\" class=\"data row18 col4\" >0.728458</td> \n",
       "        <td id=\"T_4fab14d4_447c_11e9_832e_85e15676d974row18_col5\" class=\"data row18 col5\" >-0.0102874</td> \n",
       "        <td id=\"T_4fab14d4_447c_11e9_832e_85e15676d974row18_col6\" class=\"data row18 col6\" >0.0282548</td> \n",
       "        <td id=\"T_4fab14d4_447c_11e9_832e_85e15676d974row18_col7\" class=\"data row18 col7\" >0.0765012</td> \n",
       "        <td id=\"T_4fab14d4_447c_11e9_832e_85e15676d974row18_col8\" class=\"data row18 col8\" >-0.00387262</td> \n",
       "        <td id=\"T_4fab14d4_447c_11e9_832e_85e15676d974row18_col9\" class=\"data row18 col9\" >0.119734</td> \n",
       "        <td id=\"T_4fab14d4_447c_11e9_832e_85e15676d974row18_col10\" class=\"data row18 col10\" >0.194226</td> \n",
       "        <td id=\"T_4fab14d4_447c_11e9_832e_85e15676d974row18_col11\" class=\"data row18 col11\" >0.0188125</td> \n",
       "        <td id=\"T_4fab14d4_447c_11e9_832e_85e15676d974row18_col12\" class=\"data row18 col12\" >0.0760086</td> \n",
       "        <td id=\"T_4fab14d4_447c_11e9_832e_85e15676d974row18_col13\" class=\"data row18 col13\" >-0.000347868</td> \n",
       "        <td id=\"T_4fab14d4_447c_11e9_832e_85e15676d974row18_col14\" class=\"data row18 col14\" >-0.14571</td> \n",
       "        <td id=\"T_4fab14d4_447c_11e9_832e_85e15676d974row18_col15\" class=\"data row18 col15\" >-0.081725</td> \n",
       "        <td id=\"T_4fab14d4_447c_11e9_832e_85e15676d974row18_col16\" class=\"data row18 col16\" >0.256201</td> \n",
       "        <td id=\"T_4fab14d4_447c_11e9_832e_85e15676d974row18_col17\" class=\"data row18 col17\" >0.183599</td> \n",
       "        <td id=\"T_4fab14d4_447c_11e9_832e_85e15676d974row18_col18\" class=\"data row18 col18\" >1</td> \n",
       "        <td id=\"T_4fab14d4_447c_11e9_832e_85e15676d974row18_col19\" class=\"data row18 col19\" >0.00302196</td> \n",
       "        <td id=\"T_4fab14d4_447c_11e9_832e_85e15676d974row18_col20\" class=\"data row18 col20\" >0.00465134</td> \n",
       "        <td id=\"T_4fab14d4_447c_11e9_832e_85e15676d974row18_col21\" class=\"data row18 col21\" >0.00567777</td> \n",
       "    </tr>    <tr> \n",
       "        <th id=\"T_4fab14d4_447c_11e9_832e_85e15676d974level0_row19\" class=\"row_heading level0 row19\" >year</th> \n",
       "        <td id=\"T_4fab14d4_447c_11e9_832e_85e15676d974row19_col0\" class=\"data row19 col0\" >0.00801202</td> \n",
       "        <td id=\"T_4fab14d4_447c_11e9_832e_85e15676d974row19_col1\" class=\"data row19 col1\" >-0.00206669</td> \n",
       "        <td id=\"T_4fab14d4_447c_11e9_832e_85e15676d974row19_col2\" class=\"data row19 col2\" >-0.0221606</td> \n",
       "        <td id=\"T_4fab14d4_447c_11e9_832e_85e15676d974row19_col3\" class=\"data row19 col3\" >-0.0216383</td> \n",
       "        <td id=\"T_4fab14d4_447c_11e9_832e_85e15676d974row19_col4\" class=\"data row19 col4\" >0.00724319</td> \n",
       "        <td id=\"T_4fab14d4_447c_11e9_832e_85e15676d974row19_col5\" class=\"data row19 col5\" >-0.0208518</td> \n",
       "        <td id=\"T_4fab14d4_447c_11e9_832e_85e15676d974row19_col6\" class=\"data row19 col6\" >-0.00204111</td> \n",
       "        <td id=\"T_4fab14d4_447c_11e9_832e_85e15676d974row19_col7\" class=\"data row19 col7\" >0.014233</td> \n",
       "        <td id=\"T_4fab14d4_447c_11e9_832e_85e15676d974row19_col8\" class=\"data row19 col8\" >-0.0459685</td> \n",
       "        <td id=\"T_4fab14d4_447c_11e9_832e_85e15676d974row19_col9\" class=\"data row19 col9\" >-0.0226604</td> \n",
       "        <td id=\"T_4fab14d4_447c_11e9_832e_85e15676d974row19_col10\" class=\"data row19 col10\" >-0.0191237</td> \n",
       "        <td id=\"T_4fab14d4_447c_11e9_832e_85e15676d974row19_col11\" class=\"data row19 col11\" >-0.00918493</td> \n",
       "        <td id=\"T_4fab14d4_447c_11e9_832e_85e15676d974row19_col12\" class=\"data row19 col12\" >0.00438116</td> \n",
       "        <td id=\"T_4fab14d4_447c_11e9_832e_85e15676d974row19_col13\" class=\"data row19 col13\" >-0.0190745</td> \n",
       "        <td id=\"T_4fab14d4_447c_11e9_832e_85e15676d974row19_col14\" class=\"data row19 col14\" >-0.000742541</td> \n",
       "        <td id=\"T_4fab14d4_447c_11e9_832e_85e15676d974row19_col15\" class=\"data row19 col15\" >-0.0313888</td> \n",
       "        <td id=\"T_4fab14d4_447c_11e9_832e_85e15676d974row19_col16\" class=\"data row19 col16\" >0.00325323</td> \n",
       "        <td id=\"T_4fab14d4_447c_11e9_832e_85e15676d974row19_col17\" class=\"data row19 col17\" >-0.0135231</td> \n",
       "        <td id=\"T_4fab14d4_447c_11e9_832e_85e15676d974row19_col18\" class=\"data row19 col18\" >0.00302196</td> \n",
       "        <td id=\"T_4fab14d4_447c_11e9_832e_85e15676d974row19_col19\" class=\"data row19 col19\" >1</td> \n",
       "        <td id=\"T_4fab14d4_447c_11e9_832e_85e15676d974row19_col20\" class=\"data row19 col20\" >-0.781074</td> \n",
       "        <td id=\"T_4fab14d4_447c_11e9_832e_85e15676d974row19_col21\" class=\"data row19 col21\" >-0.00500256</td> \n",
       "    </tr>    <tr> \n",
       "        <th id=\"T_4fab14d4_447c_11e9_832e_85e15676d974level0_row20\" class=\"row_heading level0 row20\" >month</th> \n",
       "        <td id=\"T_4fab14d4_447c_11e9_832e_85e15676d974row20_col0\" class=\"data row20 col0\" >-0.0103516</td> \n",
       "        <td id=\"T_4fab14d4_447c_11e9_832e_85e15676d974row20_col1\" class=\"data row20 col1\" >-0.00738206</td> \n",
       "        <td id=\"T_4fab14d4_447c_11e9_832e_85e15676d974row20_col2\" class=\"data row20 col2\" >0.00775864</td> \n",
       "        <td id=\"T_4fab14d4_447c_11e9_832e_85e15676d974row20_col3\" class=\"data row20 col3\" >0.00976339</td> \n",
       "        <td id=\"T_4fab14d4_447c_11e9_832e_85e15676d974row20_col4\" class=\"data row20 col4\" >-0.00189669</td> \n",
       "        <td id=\"T_4fab14d4_447c_11e9_832e_85e15676d974row20_col5\" class=\"data row20 col5\" >0.0154412</td> \n",
       "        <td id=\"T_4fab14d4_447c_11e9_832e_85e15676d974row20_col6\" class=\"data row20 col6\" >0.00582762</td> \n",
       "        <td id=\"T_4fab14d4_447c_11e9_832e_85e15676d974row20_col7\" class=\"data row20 col7\" >-0.0144402</td> \n",
       "        <td id=\"T_4fab14d4_447c_11e9_832e_85e15676d974row20_col8\" class=\"data row20 col8\" >0.020182</td> \n",
       "        <td id=\"T_4fab14d4_447c_11e9_832e_85e15676d974row20_col9\" class=\"data row20 col9\" >0.00922962</td> \n",
       "        <td id=\"T_4fab14d4_447c_11e9_832e_85e15676d974row20_col10\" class=\"data row20 col10\" >0.0104271</td> \n",
       "        <td id=\"T_4fab14d4_447c_11e9_832e_85e15676d974row20_col11\" class=\"data row20 col11\" >0.000750109</td> \n",
       "        <td id=\"T_4fab14d4_447c_11e9_832e_85e15676d974row20_col12\" class=\"data row20 col12\" >-0.00142473</td> \n",
       "        <td id=\"T_4fab14d4_447c_11e9_832e_85e15676d974row20_col13\" class=\"data row20 col13\" >0.00680162</td> \n",
       "        <td id=\"T_4fab14d4_447c_11e9_832e_85e15676d974row20_col14\" class=\"data row20 col14\" >0.000281659</td> \n",
       "        <td id=\"T_4fab14d4_447c_11e9_832e_85e15676d974row20_col15\" class=\"data row20 col15\" >0.0198989</td> \n",
       "        <td id=\"T_4fab14d4_447c_11e9_832e_85e15676d974row20_col16\" class=\"data row20 col16\" >-0.00761756</td> \n",
       "        <td id=\"T_4fab14d4_447c_11e9_832e_85e15676d974row20_col17\" class=\"data row20 col17\" >-0.00106794</td> \n",
       "        <td id=\"T_4fab14d4_447c_11e9_832e_85e15676d974row20_col18\" class=\"data row20 col18\" >0.00465134</td> \n",
       "        <td id=\"T_4fab14d4_447c_11e9_832e_85e15676d974row20_col19\" class=\"data row20 col19\" >-0.781074</td> \n",
       "        <td id=\"T_4fab14d4_447c_11e9_832e_85e15676d974row20_col20\" class=\"data row20 col20\" >1</td> \n",
       "        <td id=\"T_4fab14d4_447c_11e9_832e_85e15676d974row20_col21\" class=\"data row20 col21\" >-0.0614574</td> \n",
       "    </tr>    <tr> \n",
       "        <th id=\"T_4fab14d4_447c_11e9_832e_85e15676d974level0_row21\" class=\"row_heading level0 row21\" >day</th> \n",
       "        <td id=\"T_4fab14d4_447c_11e9_832e_85e15676d974row21_col0\" class=\"data row21 col0\" >-0.0136253</td> \n",
       "        <td id=\"T_4fab14d4_447c_11e9_832e_85e15676d974row21_col1\" class=\"data row21 col1\" >-0.0126713</td> \n",
       "        <td id=\"T_4fab14d4_447c_11e9_832e_85e15676d974row21_col2\" class=\"data row21 col2\" >-0.0102563</td> \n",
       "        <td id=\"T_4fab14d4_447c_11e9_832e_85e15676d974row21_col3\" class=\"data row21 col3\" >-0.0111248</td> \n",
       "        <td id=\"T_4fab14d4_447c_11e9_832e_85e15676d974row21_col4\" class=\"data row21 col4\" >0.00380734</td> \n",
       "        <td id=\"T_4fab14d4_447c_11e9_832e_85e15676d974row21_col5\" class=\"data row21 col5\" >-0.00896531</td> \n",
       "        <td id=\"T_4fab14d4_447c_11e9_832e_85e15676d974row21_col6\" class=\"data row21 col6\" >0.014694</td> \n",
       "        <td id=\"T_4fab14d4_447c_11e9_832e_85e15676d974row21_col7\" class=\"data row21 col7\" >0.0132874</td> \n",
       "        <td id=\"T_4fab14d4_447c_11e9_832e_85e15676d974row21_col8\" class=\"data row21 col8\" >-0.00390739</td> \n",
       "        <td id=\"T_4fab14d4_447c_11e9_832e_85e15676d974row21_col9\" class=\"data row21 col9\" >-0.0197986</td> \n",
       "        <td id=\"T_4fab14d4_447c_11e9_832e_85e15676d974row21_col10\" class=\"data row21 col10\" >-0.00710818</td> \n",
       "        <td id=\"T_4fab14d4_447c_11e9_832e_85e15676d974row21_col11\" class=\"data row21 col11\" >-0.00986331</td> \n",
       "        <td id=\"T_4fab14d4_447c_11e9_832e_85e15676d974row21_col12\" class=\"data row21 col12\" >-0.0116378</td> \n",
       "        <td id=\"T_4fab14d4_447c_11e9_832e_85e15676d974row21_col13\" class=\"data row21 col13\" >0.0165327</td> \n",
       "        <td id=\"T_4fab14d4_447c_11e9_832e_85e15676d974row21_col14\" class=\"data row21 col14\" >-0.00756196</td> \n",
       "        <td id=\"T_4fab14d4_447c_11e9_832e_85e15676d974row21_col15\" class=\"data row21 col15\" >-0.0156899</td> \n",
       "        <td id=\"T_4fab14d4_447c_11e9_832e_85e15676d974row21_col16\" class=\"data row21 col16\" >-0.00633025</td> \n",
       "        <td id=\"T_4fab14d4_447c_11e9_832e_85e15676d974row21_col17\" class=\"data row21 col17\" >-0.00991401</td> \n",
       "        <td id=\"T_4fab14d4_447c_11e9_832e_85e15676d974row21_col18\" class=\"data row21 col18\" >0.00567777</td> \n",
       "        <td id=\"T_4fab14d4_447c_11e9_832e_85e15676d974row21_col19\" class=\"data row21 col19\" >-0.00500256</td> \n",
       "        <td id=\"T_4fab14d4_447c_11e9_832e_85e15676d974row21_col20\" class=\"data row21 col20\" >-0.0614574</td> \n",
       "        <td id=\"T_4fab14d4_447c_11e9_832e_85e15676d974row21_col21\" class=\"data row21 col21\" >1</td> \n",
       "    </tr></tbody> \n",
       "</table> "
      ],
      "text/plain": [
       "<pandas.io.formats.style.Styler at 0x2ba10ae7f60>"
      ]
     },
     "execution_count": 6,
     "metadata": {},
     "output_type": "execute_result"
    }
   ],
   "source": [
    "corr = train.iloc[:,1:].corr()\n",
    "corr.style.background_gradient(cmap='coolwarm')"
   ]
  },
  {
   "cell_type": "markdown",
   "metadata": {},
   "source": [
    "# date_type feature & target"
   ]
  },
  {
   "cell_type": "markdown",
   "metadata": {},
   "source": [
    "## date\n",
    "- 여기서 말한 날짜는 모두 구매한 날짜"
   ]
  },
  {
   "cell_type": "code",
   "execution_count": 7,
   "metadata": {
    "ExecuteTime": {
     "end_time": "2019-03-12T04:07:14.464792Z",
     "start_time": "2019-03-12T04:07:14.451801Z"
    }
   },
   "outputs": [
    {
     "name": "stdout",
     "output_type": "stream",
     "text": [
      "전체 데이터 개수 :  21503  /  구매한 날짜 유니크 수 :  372\n"
     ]
    }
   ],
   "source": [
    "print('전체 데이터 개수 : ', len(df),' / ', '구매한 날짜 유니크 수 : ', len(df.date.value_counts()))"
   ]
  },
  {
   "cell_type": "code",
   "execution_count": 8,
   "metadata": {
    "ExecuteTime": {
     "end_time": "2019-03-12T04:07:16.659561Z",
     "start_time": "2019-03-12T04:07:16.451117Z"
    }
   },
   "outputs": [
    {
     "data": {
      "image/png": "[encoded data removed]",
      "text/plain": [
       "<Figure size 576x216 with 1 Axes>"
      ]
     },
     "metadata": {
      "needs_background": "light"
     },
     "output_type": "display_data"
    }
   ],
   "source": [
    "plt.figure(figsize = (8,3))\n",
    "temp = pd.DataFrame(train.groupby('date')['price'].mean())\n",
    "temp.reset_index(inplace=True)\n",
    "\n",
    "plt.plot(temp.date, temp.price)\n",
    "plt.xticks(temp[::20]['date'], fontsize=10, rotation=45)\n",
    "\n",
    "plt.show()\n"
   ]
  },
  {
   "cell_type": "code",
   "execution_count": 9,
   "metadata": {
    "ExecuteTime": {
     "end_time": "2019-03-12T04:07:20.758909Z",
     "start_time": "2019-03-12T04:07:20.746944Z"
    }
   },
   "outputs": [
    {
     "data": {
      "text/html": [
       "<div>\n",
       "<style scoped>\n",
       "    .dataframe tbody tr th:only-of-type {\n",
       "        vertical-align: middle;\n",
       "    }\n",
       "\n",
       "    .dataframe tbody tr th {\n",
       "        vertical-align: top;\n",
       "    }\n",
       "\n",
       "    .dataframe thead th {\n",
       "        text-align: right;\n",
       "    }\n",
       "</style>\n",
       "<table border=\"1\" class=\"dataframe\">\n",
       "  <thead>\n",
       "    <tr style=\"text-align: right;\">\n",
       "      <th></th>\n",
       "      <th>date</th>\n",
       "      <th>price</th>\n",
       "    </tr>\n",
       "  </thead>\n",
       "  <tbody>\n",
       "    <tr>\n",
       "      <th>160</th>\n",
       "      <td>2014-10-11</td>\n",
       "      <td>3635000.0</td>\n",
       "    </tr>\n",
       "  </tbody>\n",
       "</table>\n",
       "</div>"
      ],
      "text/plain": [
       "           date      price\n",
       "160  2014-10-11  3635000.0"
      ]
     },
     "execution_count": 9,
     "metadata": {},
     "output_type": "execute_result"
    }
   ],
   "source": [
    "temp.loc[temp.price==temp.price.max()]"
   ]
  },
  {
   "cell_type": "code",
   "execution_count": 10,
   "metadata": {
    "ExecuteTime": {
     "end_time": "2019-03-12T04:07:25.210530Z",
     "start_time": "2019-03-12T04:07:25.199559Z"
    }
   },
   "outputs": [
    {
     "name": "stdout",
     "output_type": "stream",
     "text": [
      "train 데이터에서의 2014-10-11 거래 수 :  1\n",
      "test 데이터에서의 2014-10-11 거래 수 :  1\n"
     ]
    }
   ],
   "source": [
    "print('train 데이터에서의 2014-10-11 거래 수 : ',sum(train.date == '2014-10-11'))\n",
    "print('test 데이터에서의 2014-10-11 거래 수 : ',sum(test.date == '2014-10-11'))"
   ]
  },
  {
   "cell_type": "markdown",
   "metadata": {
    "ExecuteTime": {
     "end_time": "2019-03-11T12:15:27.126765Z",
     "start_time": "2019-03-11T12:15:27.117529Z"
    }
   },
   "source": [
    "- 거래 수가 각각 하루씩 존재\n",
    "- tran 데이터에서 삭제하는 것도 고려해볼 것."
   ]
  },
  {
   "cell_type": "markdown",
   "metadata": {},
   "source": [
    "## month"
   ]
  },
  {
   "cell_type": "code",
   "execution_count": 11,
   "metadata": {
    "ExecuteTime": {
     "end_time": "2019-03-12T04:07:30.139176Z",
     "start_time": "2019-03-12T04:07:29.652357Z"
    }
   },
   "outputs": [
    {
     "data": {
      "text/plain": [
       "Text(0.5, 0.98, 'Boxplot by year & month')"
      ]
     },
     "execution_count": 11,
     "metadata": {},
     "output_type": "execute_result"
    },
    {
     "data": {
      "image/png": "[encoded data removed]",
      "text/plain": [
       "<Figure size 864x288 with 2 Axes>"
      ]
     },
     "metadata": {
      "needs_background": "light"
     },
     "output_type": "display_data"
    }
   ],
   "source": [
    "fig, ax = plt.subplots(figsize=(12,4), ncols = 2)\n",
    "train.boxplot(column=['price'], by='year', ax=ax[0])\n",
    "train.boxplot(column=['price'], by='month', ax=ax[1])\n",
    "\n",
    "plt.suptitle('Boxplot by year & month')"
   ]
  },
  {
   "cell_type": "code",
   "execution_count": 12,
   "metadata": {
    "ExecuteTime": {
     "end_time": "2019-03-12T04:07:33.481599Z",
     "start_time": "2019-03-12T04:07:33.195296Z"
    }
   },
   "outputs": [
    {
     "data": {
      "text/plain": [
       "<matplotlib.axes._subplots.AxesSubplot at 0x2ba11a34b00>"
      ]
     },
     "execution_count": 12,
     "metadata": {},
     "output_type": "execute_result"
    },
    {
     "data": {
      "image/png": "[encoded data removed]",
      "text/plain": [
       "<Figure size 1152x360 with 2 Axes>"
      ]
     },
     "metadata": {
      "needs_background": "light"
     },
     "output_type": "display_data"
    }
   ],
   "source": [
    "plt.figure(figsize=(16,5))\n",
    "plt.subplot(1,2,1)\n",
    "train.groupby(['year'])['price'].mean().plot.bar()\n",
    "plt.subplot(1,2,2)\n",
    "train.groupby(['month'])['price'].mean().plot.bar()"
   ]
  },
  {
   "cell_type": "markdown",
   "metadata": {},
   "source": [
    "- 연도별, 월별로 확인했을 때는 뚜렷한 차이를 보이지 않는다."
   ]
  },
  {
   "cell_type": "markdown",
   "metadata": {},
   "source": [
    "## day"
   ]
  },
  {
   "cell_type": "code",
   "execution_count": 13,
   "metadata": {
    "ExecuteTime": {
     "end_time": "2019-03-12T04:07:51.413903Z",
     "start_time": "2019-03-12T04:07:51.141342Z"
    }
   },
   "outputs": [
    {
     "data": {
      "text/plain": [
       "<matplotlib.axes._subplots.AxesSubplot at 0x2ba11ae6c50>"
      ]
     },
     "execution_count": 13,
     "metadata": {},
     "output_type": "execute_result"
    },
    {
     "data": {
      "image/png": "[encoded data removed]",
      "text/plain": [
       "<Figure size 432x288 with 1 Axes>"
      ]
     },
     "metadata": {
      "needs_background": "light"
     },
     "output_type": "display_data"
    }
   ],
   "source": [
    "train.groupby(['day'])['price'].mean().plot.bar()"
   ]
  },
  {
   "cell_type": "markdown",
   "metadata": {},
   "source": [
    "## week - 요일"
   ]
  },
  {
   "cell_type": "code",
   "execution_count": 15,
   "metadata": {
    "ExecuteTime": {
     "end_time": "2019-03-12T04:07:57.795298Z",
     "start_time": "2019-03-12T04:07:57.788356Z"
    }
   },
   "outputs": [],
   "source": [
    "def to_week(x) :\n",
    "    year, month, day = (int(xx) for xx in x.split('-'))\n",
    "    return datetime.date(year, month, day).strftime('%A')"
   ]
  },
  {
   "cell_type": "code",
   "execution_count": 16,
   "metadata": {
    "ExecuteTime": {
     "end_time": "2019-03-12T04:07:59.004944Z",
     "start_time": "2019-03-12T04:07:58.844588Z"
    }
   },
   "outputs": [],
   "source": [
    "#map 함수는 only for Series\n",
    "train['week'] = train['date'].map(to_week)\n",
    "test['week'] = test['date'].map(to_week)"
   ]
  },
  {
   "cell_type": "code",
   "execution_count": 17,
   "metadata": {
    "ExecuteTime": {
     "end_time": "2019-03-12T04:08:01.122880Z",
     "start_time": "2019-03-12T04:08:01.108953Z"
    }
   },
   "outputs": [
    {
     "data": {
      "text/plain": [
       "Wednesday    3277\n",
       "Tuesday      3260\n",
       "Monday       2854\n",
       "Thursday     2782\n",
       "Friday       2527\n",
       "Saturday      198\n",
       "Sunday        137\n",
       "Name: week, dtype: int64"
      ]
     },
     "execution_count": 17,
     "metadata": {},
     "output_type": "execute_result"
    }
   ],
   "source": [
    "train.week.value_counts()"
   ]
  },
  {
   "cell_type": "code",
   "execution_count": 18,
   "metadata": {
    "ExecuteTime": {
     "end_time": "2019-03-12T04:08:03.118540Z",
     "start_time": "2019-03-12T04:08:03.109605Z"
    }
   },
   "outputs": [
    {
     "data": {
      "text/plain": [
       "Tuesday      1428\n",
       "Wednesday    1296\n",
       "Monday       1222\n",
       "Thursday     1191\n",
       "Friday       1150\n",
       "Sunday         92\n",
       "Saturday       89\n",
       "Name: week, dtype: int64"
      ]
     },
     "execution_count": 18,
     "metadata": {},
     "output_type": "execute_result"
    }
   ],
   "source": [
    "test.week.value_counts()"
   ]
  },
  {
   "cell_type": "markdown",
   "metadata": {},
   "source": [
    "- 거래 건수의 입장에서 보면, 주말을 제외하고는 비슷하다."
   ]
  },
  {
   "cell_type": "code",
   "execution_count": 19,
   "metadata": {
    "ExecuteTime": {
     "end_time": "2019-03-12T04:08:05.293345Z",
     "start_time": "2019-03-12T04:08:05.140320Z"
    }
   },
   "outputs": [
    {
     "data": {
      "text/plain": [
       "<matplotlib.axes._subplots.AxesSubplot at 0x2ba11e84780>"
      ]
     },
     "execution_count": 19,
     "metadata": {},
     "output_type": "execute_result"
    },
    {
     "data": {
      "image/png": "[encoded data removed]",
      "text/plain": [
       "<Figure size 432x288 with 1 Axes>"
      ]
     },
     "metadata": {
      "needs_background": "light"
     },
     "output_type": "display_data"
    }
   ],
   "source": [
    "train.groupby(['week'])['price'].mean().plot.bar()"
   ]
  },
  {
   "cell_type": "code",
   "execution_count": 20,
   "metadata": {
    "ExecuteTime": {
     "end_time": "2019-03-12T04:08:08.143004Z",
     "start_time": "2019-03-12T04:08:08.131033Z"
    }
   },
   "outputs": [],
   "source": [
    "train['week'] = train['week'].map({'Sunday' : 0,'Monday' : 1, \"Tuesday\" : 2, \"Wednesday\" : 3,\n",
    "                                     'Thursday' : 4, 'Friday' : 5, 'Saturday' : 6})\n",
    "test['week'] = test['week'].map({'Sunday' : 0,'Monday' : 1, \"Tuesday\" : 2, \"Wednesday\" : 3,\n",
    "                                     'Thursday' : 4, 'Friday' : 5, 'Saturday' : 6})"
   ]
  },
  {
   "cell_type": "markdown",
   "metadata": {},
   "source": [
    "## weekend_or_not"
   ]
  },
  {
   "cell_type": "code",
   "execution_count": 21,
   "metadata": {
    "ExecuteTime": {
     "end_time": "2019-03-12T04:08:09.914051Z",
     "start_time": "2019-03-12T04:08:09.883133Z"
    }
   },
   "outputs": [],
   "source": [
    "#Saturday or Sunday -> 1\n",
    "train['weekend'] = 0\n",
    "train.loc[(train['week'] == 0) | (train['week'] == 6),'weekend'] = 1\n",
    "\n",
    "test['weekend'] = 0\n",
    "test.loc[(train['week'] == 0) | (test['week'] == 6),'weekend'] = 1"
   ]
  },
  {
   "cell_type": "markdown",
   "metadata": {},
   "source": [
    "## yr_renovated\n",
    "- 집을 재건축한 년도"
   ]
  },
  {
   "cell_type": "code",
   "execution_count": 22,
   "metadata": {
    "ExecuteTime": {
     "end_time": "2019-03-12T04:08:12.346092Z",
     "start_time": "2019-03-12T04:08:12.339077Z"
    }
   },
   "outputs": [
    {
     "data": {
      "text/plain": [
       "0"
      ]
     },
     "execution_count": 22,
     "metadata": {},
     "output_type": "execute_result"
    }
   ],
   "source": [
    "#0보다 작은 값은 없다.\n",
    "sum(train.yr_renovated<0)"
   ]
  },
  {
   "cell_type": "markdown",
   "metadata": {},
   "source": [
    "- renovated_or_not : 재건축을 했으면 1 아니면 0"
   ]
  },
  {
   "cell_type": "code",
   "execution_count": 23,
   "metadata": {
    "ExecuteTime": {
     "end_time": "2019-03-12T04:08:14.767740Z",
     "start_time": "2019-03-12T04:08:14.747795Z"
    }
   },
   "outputs": [],
   "source": [
    "train['renovated_or_not'] = 0\n",
    "train.loc[train.yr_renovated>0,'renovated_or_not'] = 1\n",
    "test['renovated_or_not'] = 0\n",
    "test.loc[test.yr_renovated>0,'renovated_or_not'] = 1"
   ]
  },
  {
   "cell_type": "code",
   "execution_count": 24,
   "metadata": {
    "ExecuteTime": {
     "end_time": "2019-03-12T04:08:15.653095Z",
     "start_time": "2019-03-12T04:08:15.646152Z"
    }
   },
   "outputs": [
    {
     "name": "stdout",
     "output_type": "stream",
     "text": [
      "재건축 비율 :  0.04196873960758231\n"
     ]
    }
   ],
   "source": [
    "print('재건축 비율 : ', sum(train.renovated_or_not==1) / len(train))"
   ]
  },
  {
   "cell_type": "code",
   "execution_count": 26,
   "metadata": {
    "ExecuteTime": {
     "end_time": "2019-03-12T04:08:50.154525Z",
     "start_time": "2019-03-12T04:08:50.139003Z"
    }
   },
   "outputs": [],
   "source": [
    "import warnings\n",
    "warnings.simplefilter(action='ignore', category=FutureWarning)"
   ]
  },
  {
   "cell_type": "code",
   "execution_count": 27,
   "metadata": {
    "ExecuteTime": {
     "end_time": "2019-03-12T04:08:51.602292Z",
     "start_time": "2019-03-12T04:08:51.275265Z"
    }
   },
   "outputs": [
    {
     "data": {
      "text/plain": [
       "<matplotlib.axes._subplots.AxesSubplot at 0x2ba12349710>"
      ]
     },
     "execution_count": 27,
     "metadata": {},
     "output_type": "execute_result"
    },
    {
     "data": {
      "image/png": "[encoded data removed]",
      "text/plain": [
       "<Figure size 720x288 with 2 Axes>"
      ]
     },
     "metadata": {
      "needs_background": "light"
     },
     "output_type": "display_data"
    }
   ],
   "source": [
    "df1 = train[train.renovated_or_not == 1]\n",
    "df2 = train[train.renovated_or_not == 0]\n",
    "\n",
    "plt.figure(figsize=(10,4))\n",
    "plt.subplot(1,2,1)\n",
    "sns.kdeplot(df1['price'],label = 'renovated')\n",
    "sns.kdeplot(df2['price'],label = 'not')\n",
    "\n",
    "plt.subplot(1,2,2)\n",
    "sns.kdeplot(np.log(df1['price']),label = 'renovated')\n",
    "sns.kdeplot(np.log(df2['price']),label = 'not')"
   ]
  },
  {
   "cell_type": "markdown",
   "metadata": {},
   "source": [
    "- date_renovated_diff : 구매년도 - 재건축날짜(재건축을 하지 않았을 시, 건축년도)"
   ]
  },
  {
   "cell_type": "code",
   "execution_count": 28,
   "metadata": {
    "ExecuteTime": {
     "end_time": "2019-03-12T04:08:57.992873Z",
     "start_time": "2019-03-12T04:08:57.941047Z"
    }
   },
   "outputs": [
    {
     "data": {
      "text/html": [
       "<div>\n",
       "<style scoped>\n",
       "    .dataframe tbody tr th:only-of-type {\n",
       "        vertical-align: middle;\n",
       "    }\n",
       "\n",
       "    .dataframe tbody tr th {\n",
       "        vertical-align: top;\n",
       "    }\n",
       "\n",
       "    .dataframe thead th {\n",
       "        text-align: right;\n",
       "    }\n",
       "</style>\n",
       "<table border=\"1\" class=\"dataframe\">\n",
       "  <thead>\n",
       "    <tr style=\"text-align: right;\">\n",
       "      <th></th>\n",
       "      <th>id</th>\n",
       "      <th>date</th>\n",
       "      <th>price</th>\n",
       "      <th>bedrooms</th>\n",
       "      <th>bathrooms</th>\n",
       "      <th>sqft_living</th>\n",
       "      <th>sqft_lot</th>\n",
       "      <th>floors</th>\n",
       "      <th>waterfront</th>\n",
       "      <th>view</th>\n",
       "      <th>condition</th>\n",
       "      <th>grade</th>\n",
       "      <th>sqft_above</th>\n",
       "      <th>sqft_basement</th>\n",
       "      <th>yr_built</th>\n",
       "      <th>yr_renovated</th>\n",
       "      <th>zipcode</th>\n",
       "      <th>lat</th>\n",
       "      <th>long</th>\n",
       "      <th>sqft_living15</th>\n",
       "      <th>sqft_lot15</th>\n",
       "      <th>year</th>\n",
       "      <th>month</th>\n",
       "      <th>day</th>\n",
       "      <th>week</th>\n",
       "      <th>weekend</th>\n",
       "      <th>renovated_or_not</th>\n",
       "    </tr>\n",
       "  </thead>\n",
       "  <tbody>\n",
       "    <tr>\n",
       "      <th>1264</th>\n",
       "      <td>1264</td>\n",
       "      <td>2014-06-25</td>\n",
       "      <td>597326.0</td>\n",
       "      <td>4</td>\n",
       "      <td>4.00</td>\n",
       "      <td>3570</td>\n",
       "      <td>8250</td>\n",
       "      <td>2.0</td>\n",
       "      <td>0</td>\n",
       "      <td>0</td>\n",
       "      <td>3</td>\n",
       "      <td>10</td>\n",
       "      <td>2860</td>\n",
       "      <td>710</td>\n",
       "      <td>2015</td>\n",
       "      <td>0</td>\n",
       "      <td>98040</td>\n",
       "      <td>47.5784</td>\n",
       "      <td>-122.226</td>\n",
       "      <td>2230</td>\n",
       "      <td>10000</td>\n",
       "      <td>2014</td>\n",
       "      <td>6</td>\n",
       "      <td>25</td>\n",
       "      <td>3</td>\n",
       "      <td>0</td>\n",
       "      <td>0</td>\n",
       "    </tr>\n",
       "    <tr>\n",
       "      <th>1920</th>\n",
       "      <td>1920</td>\n",
       "      <td>2014-10-29</td>\n",
       "      <td>385195.0</td>\n",
       "      <td>1</td>\n",
       "      <td>1.00</td>\n",
       "      <td>710</td>\n",
       "      <td>6000</td>\n",
       "      <td>1.5</td>\n",
       "      <td>0</td>\n",
       "      <td>0</td>\n",
       "      <td>3</td>\n",
       "      <td>6</td>\n",
       "      <td>710</td>\n",
       "      <td>0</td>\n",
       "      <td>2015</td>\n",
       "      <td>0</td>\n",
       "      <td>98144</td>\n",
       "      <td>47.5756</td>\n",
       "      <td>-122.316</td>\n",
       "      <td>1440</td>\n",
       "      <td>4800</td>\n",
       "      <td>2014</td>\n",
       "      <td>10</td>\n",
       "      <td>29</td>\n",
       "      <td>3</td>\n",
       "      <td>0</td>\n",
       "      <td>0</td>\n",
       "    </tr>\n",
       "    <tr>\n",
       "      <th>5303</th>\n",
       "      <td>5303</td>\n",
       "      <td>2014-12-31</td>\n",
       "      <td>614285.0</td>\n",
       "      <td>5</td>\n",
       "      <td>2.75</td>\n",
       "      <td>2730</td>\n",
       "      <td>6401</td>\n",
       "      <td>2.0</td>\n",
       "      <td>0</td>\n",
       "      <td>0</td>\n",
       "      <td>3</td>\n",
       "      <td>8</td>\n",
       "      <td>2730</td>\n",
       "      <td>0</td>\n",
       "      <td>2015</td>\n",
       "      <td>0</td>\n",
       "      <td>98072</td>\n",
       "      <td>47.7685</td>\n",
       "      <td>-122.160</td>\n",
       "      <td>2520</td>\n",
       "      <td>6126</td>\n",
       "      <td>2014</td>\n",
       "      <td>12</td>\n",
       "      <td>31</td>\n",
       "      <td>3</td>\n",
       "      <td>0</td>\n",
       "      <td>0</td>\n",
       "    </tr>\n",
       "    <tr>\n",
       "      <th>5654</th>\n",
       "      <td>5654</td>\n",
       "      <td>2014-06-24</td>\n",
       "      <td>455000.0</td>\n",
       "      <td>2</td>\n",
       "      <td>1.50</td>\n",
       "      <td>1200</td>\n",
       "      <td>1259</td>\n",
       "      <td>2.0</td>\n",
       "      <td>0</td>\n",
       "      <td>0</td>\n",
       "      <td>3</td>\n",
       "      <td>8</td>\n",
       "      <td>1000</td>\n",
       "      <td>200</td>\n",
       "      <td>2015</td>\n",
       "      <td>0</td>\n",
       "      <td>98144</td>\n",
       "      <td>47.6001</td>\n",
       "      <td>-122.298</td>\n",
       "      <td>1320</td>\n",
       "      <td>1852</td>\n",
       "      <td>2014</td>\n",
       "      <td>6</td>\n",
       "      <td>24</td>\n",
       "      <td>2</td>\n",
       "      <td>0</td>\n",
       "      <td>0</td>\n",
       "    </tr>\n",
       "    <tr>\n",
       "      <th>10110</th>\n",
       "      <td>10110</td>\n",
       "      <td>2014-08-26</td>\n",
       "      <td>500000.0</td>\n",
       "      <td>2</td>\n",
       "      <td>2.25</td>\n",
       "      <td>1570</td>\n",
       "      <td>1269</td>\n",
       "      <td>2.0</td>\n",
       "      <td>0</td>\n",
       "      <td>0</td>\n",
       "      <td>3</td>\n",
       "      <td>9</td>\n",
       "      <td>1280</td>\n",
       "      <td>290</td>\n",
       "      <td>2015</td>\n",
       "      <td>0</td>\n",
       "      <td>98199</td>\n",
       "      <td>47.6514</td>\n",
       "      <td>-122.385</td>\n",
       "      <td>1570</td>\n",
       "      <td>6000</td>\n",
       "      <td>2014</td>\n",
       "      <td>8</td>\n",
       "      <td>26</td>\n",
       "      <td>2</td>\n",
       "      <td>0</td>\n",
       "      <td>0</td>\n",
       "    </tr>\n",
       "    <tr>\n",
       "      <th>11890</th>\n",
       "      <td>11890</td>\n",
       "      <td>2014-06-17</td>\n",
       "      <td>350000.0</td>\n",
       "      <td>3</td>\n",
       "      <td>2.00</td>\n",
       "      <td>1380</td>\n",
       "      <td>3600</td>\n",
       "      <td>3.0</td>\n",
       "      <td>0</td>\n",
       "      <td>0</td>\n",
       "      <td>3</td>\n",
       "      <td>8</td>\n",
       "      <td>1380</td>\n",
       "      <td>0</td>\n",
       "      <td>2015</td>\n",
       "      <td>0</td>\n",
       "      <td>98122</td>\n",
       "      <td>47.6074</td>\n",
       "      <td>-122.305</td>\n",
       "      <td>1480</td>\n",
       "      <td>3600</td>\n",
       "      <td>2014</td>\n",
       "      <td>6</td>\n",
       "      <td>17</td>\n",
       "      <td>2</td>\n",
       "      <td>0</td>\n",
       "      <td>0</td>\n",
       "    </tr>\n",
       "    <tr>\n",
       "      <th>14428</th>\n",
       "      <td>14428</td>\n",
       "      <td>2014-08-28</td>\n",
       "      <td>357000.0</td>\n",
       "      <td>5</td>\n",
       "      <td>2.50</td>\n",
       "      <td>2990</td>\n",
       "      <td>9240</td>\n",
       "      <td>2.0</td>\n",
       "      <td>0</td>\n",
       "      <td>0</td>\n",
       "      <td>3</td>\n",
       "      <td>8</td>\n",
       "      <td>2990</td>\n",
       "      <td>0</td>\n",
       "      <td>2015</td>\n",
       "      <td>0</td>\n",
       "      <td>98133</td>\n",
       "      <td>47.7384</td>\n",
       "      <td>-122.348</td>\n",
       "      <td>1970</td>\n",
       "      <td>18110</td>\n",
       "      <td>2014</td>\n",
       "      <td>8</td>\n",
       "      <td>28</td>\n",
       "      <td>4</td>\n",
       "      <td>0</td>\n",
       "      <td>0</td>\n",
       "    </tr>\n",
       "    <tr>\n",
       "      <th>14484</th>\n",
       "      <td>14484</td>\n",
       "      <td>2014-07-09</td>\n",
       "      <td>595000.0</td>\n",
       "      <td>4</td>\n",
       "      <td>3.25</td>\n",
       "      <td>3730</td>\n",
       "      <td>4560</td>\n",
       "      <td>2.0</td>\n",
       "      <td>0</td>\n",
       "      <td>0</td>\n",
       "      <td>3</td>\n",
       "      <td>9</td>\n",
       "      <td>2760</td>\n",
       "      <td>970</td>\n",
       "      <td>2015</td>\n",
       "      <td>0</td>\n",
       "      <td>98103</td>\n",
       "      <td>47.6725</td>\n",
       "      <td>-122.330</td>\n",
       "      <td>1800</td>\n",
       "      <td>4560</td>\n",
       "      <td>2014</td>\n",
       "      <td>7</td>\n",
       "      <td>9</td>\n",
       "      <td>3</td>\n",
       "      <td>0</td>\n",
       "      <td>0</td>\n",
       "    </tr>\n",
       "    <tr>\n",
       "      <th>14563</th>\n",
       "      <td>14563</td>\n",
       "      <td>2014-07-31</td>\n",
       "      <td>230000.0</td>\n",
       "      <td>3</td>\n",
       "      <td>1.50</td>\n",
       "      <td>1040</td>\n",
       "      <td>1264</td>\n",
       "      <td>2.0</td>\n",
       "      <td>0</td>\n",
       "      <td>0</td>\n",
       "      <td>3</td>\n",
       "      <td>9</td>\n",
       "      <td>900</td>\n",
       "      <td>140</td>\n",
       "      <td>2015</td>\n",
       "      <td>0</td>\n",
       "      <td>98144</td>\n",
       "      <td>47.5951</td>\n",
       "      <td>-122.301</td>\n",
       "      <td>1350</td>\n",
       "      <td>3000</td>\n",
       "      <td>2014</td>\n",
       "      <td>7</td>\n",
       "      <td>31</td>\n",
       "      <td>4</td>\n",
       "      <td>0</td>\n",
       "      <td>0</td>\n",
       "    </tr>\n",
       "    <tr>\n",
       "      <th>14776</th>\n",
       "      <td>14776</td>\n",
       "      <td>2014-11-25</td>\n",
       "      <td>559000.0</td>\n",
       "      <td>2</td>\n",
       "      <td>3.00</td>\n",
       "      <td>1650</td>\n",
       "      <td>960</td>\n",
       "      <td>3.0</td>\n",
       "      <td>0</td>\n",
       "      <td>0</td>\n",
       "      <td>3</td>\n",
       "      <td>8</td>\n",
       "      <td>1350</td>\n",
       "      <td>300</td>\n",
       "      <td>2015</td>\n",
       "      <td>0</td>\n",
       "      <td>98103</td>\n",
       "      <td>47.6611</td>\n",
       "      <td>-122.346</td>\n",
       "      <td>1650</td>\n",
       "      <td>3000</td>\n",
       "      <td>2014</td>\n",
       "      <td>11</td>\n",
       "      <td>25</td>\n",
       "      <td>2</td>\n",
       "      <td>0</td>\n",
       "      <td>0</td>\n",
       "    </tr>\n",
       "  </tbody>\n",
       "</table>\n",
       "</div>"
      ],
      "text/plain": [
       "          id        date     price  bedrooms  bathrooms  sqft_living  \\\n",
       "1264    1264  2014-06-25  597326.0         4       4.00         3570   \n",
       "1920    1920  2014-10-29  385195.0         1       1.00          710   \n",
       "5303    5303  2014-12-31  614285.0         5       2.75         2730   \n",
       "5654    5654  2014-06-24  455000.0         2       1.50         1200   \n",
       "10110  10110  2014-08-26  500000.0         2       2.25         1570   \n",
       "11890  11890  2014-06-17  350000.0         3       2.00         1380   \n",
       "14428  14428  2014-08-28  357000.0         5       2.50         2990   \n",
       "14484  14484  2014-07-09  595000.0         4       3.25         3730   \n",
       "14563  14563  2014-07-31  230000.0         3       1.50         1040   \n",
       "14776  14776  2014-11-25  559000.0         2       3.00         1650   \n",
       "\n",
       "       sqft_lot  floors  waterfront  view  condition  grade  sqft_above  \\\n",
       "1264       8250     2.0           0     0          3     10        2860   \n",
       "1920       6000     1.5           0     0          3      6         710   \n",
       "5303       6401     2.0           0     0          3      8        2730   \n",
       "5654       1259     2.0           0     0          3      8        1000   \n",
       "10110      1269     2.0           0     0          3      9        1280   \n",
       "11890      3600     3.0           0     0          3      8        1380   \n",
       "14428      9240     2.0           0     0          3      8        2990   \n",
       "14484      4560     2.0           0     0          3      9        2760   \n",
       "14563      1264     2.0           0     0          3      9         900   \n",
       "14776       960     3.0           0     0          3      8        1350   \n",
       "\n",
       "       sqft_basement  yr_built  yr_renovated  zipcode      lat     long  \\\n",
       "1264             710      2015             0    98040  47.5784 -122.226   \n",
       "1920               0      2015             0    98144  47.5756 -122.316   \n",
       "5303               0      2015             0    98072  47.7685 -122.160   \n",
       "5654             200      2015             0    98144  47.6001 -122.298   \n",
       "10110            290      2015             0    98199  47.6514 -122.385   \n",
       "11890              0      2015             0    98122  47.6074 -122.305   \n",
       "14428              0      2015             0    98133  47.7384 -122.348   \n",
       "14484            970      2015             0    98103  47.6725 -122.330   \n",
       "14563            140      2015             0    98144  47.5951 -122.301   \n",
       "14776            300      2015             0    98103  47.6611 -122.346   \n",
       "\n",
       "       sqft_living15  sqft_lot15  year  month  day  week  weekend  \\\n",
       "1264            2230       10000  2014      6   25     3        0   \n",
       "1920            1440        4800  2014     10   29     3        0   \n",
       "5303            2520        6126  2014     12   31     3        0   \n",
       "5654            1320        1852  2014      6   24     2        0   \n",
       "10110           1570        6000  2014      8   26     2        0   \n",
       "11890           1480        3600  2014      6   17     2        0   \n",
       "14428           1970       18110  2014      8   28     4        0   \n",
       "14484           1800        4560  2014      7    9     3        0   \n",
       "14563           1350        3000  2014      7   31     4        0   \n",
       "14776           1650        3000  2014     11   25     2        0   \n",
       "\n",
       "       renovated_or_not  \n",
       "1264                  0  \n",
       "1920                  0  \n",
       "5303                  0  \n",
       "5654                  0  \n",
       "10110                 0  \n",
       "11890                 0  \n",
       "14428                 0  \n",
       "14484                 0  \n",
       "14563                 0  \n",
       "14776                 0  "
      ]
     },
     "execution_count": 28,
     "metadata": {},
     "output_type": "execute_result"
    }
   ],
   "source": [
    "#다 짓기 전에 구매한 경우 있음.\n",
    "train[train['year'] - train['yr_built'] <0]"
   ]
  },
  {
   "cell_type": "code",
   "execution_count": 29,
   "metadata": {
    "ExecuteTime": {
     "end_time": "2019-03-12T04:09:01.971179Z",
     "start_time": "2019-03-12T04:09:01.947242Z"
    }
   },
   "outputs": [],
   "source": [
    "#재건축 안 한 경우\n",
    "train['date_renovated_diff'] = train['year'] - train['yr_built']\n",
    "#재건축을 한 경우\n",
    "ind = np.where(train['renovated_or_not'] == 1)\n",
    "train.loc[ind]['date_renovated_diff'] = train.loc[ind]['year'] - train.loc[ind]['yr_renovated']\n",
    "\n",
    "#재건축 안 한 경우\n",
    "test['date_renovated_diff'] = test['year'] - test['yr_built']\n",
    "#재건축을 한 경우\n",
    "ind = np.where(test['renovated_or_not'] == 1)\n",
    "test.loc[ind]['date_renovated_diff'] = test.loc[ind]['year'] - test.loc[ind]['yr_renovated']"
   ]
  },
  {
   "cell_type": "code",
   "execution_count": 30,
   "metadata": {
    "ExecuteTime": {
     "end_time": "2019-03-12T04:09:04.718412Z",
     "start_time": "2019-03-12T04:09:04.388213Z"
    },
    "scrolled": true
   },
   "outputs": [
    {
     "data": {
      "text/plain": [
       "<matplotlib.collections.PathCollection at 0x2ba1247f668>"
      ]
     },
     "execution_count": 30,
     "metadata": {},
     "output_type": "execute_result"
    },
    {
     "data": {
      "image/png": "[encoded data removed]",
      "text/plain": [
       "<Figure size 432x288 with 1 Axes>"
      ]
     },
     "metadata": {
      "needs_background": "light"
     },
     "output_type": "display_data"
    }
   ],
   "source": [
    "plt.scatter(train['date_renovated_diff'],train.price)"
   ]
  },
  {
   "cell_type": "code",
   "execution_count": 31,
   "metadata": {
    "ExecuteTime": {
     "end_time": "2019-03-12T04:09:06.777180Z",
     "start_time": "2019-03-12T04:09:06.764215Z"
    }
   },
   "outputs": [],
   "source": [
    "train['date_renovated_diff_log'] = np.log(train['date_renovated_diff']-train['date_renovated_diff'].min() + 0.00001)\n",
    "test['date_renovated_diff_log'] = np.log(test['date_renovated_diff']-test['date_renovated_diff'].min() + 0.00001)"
   ]
  },
  {
   "cell_type": "code",
   "execution_count": 32,
   "metadata": {
    "ExecuteTime": {
     "end_time": "2019-03-12T04:09:07.745861Z",
     "start_time": "2019-03-12T04:09:07.403567Z"
    }
   },
   "outputs": [
    {
     "data": {
      "text/plain": [
       "<matplotlib.collections.PathCollection at 0x2ba124d9e80>"
      ]
     },
     "execution_count": 32,
     "metadata": {},
     "output_type": "execute_result"
    },
    {
     "data": {
      "image/png": "[encoded data removed]",
      "text/plain": [
       "<Figure size 432x288 with 1 Axes>"
      ]
     },
     "metadata": {
      "needs_background": "light"
     },
     "output_type": "display_data"
    }
   ],
   "source": [
    "plt.scatter(train.date_renovated_diff_log,train.price)"
   ]
  },
  {
   "cell_type": "markdown",
   "metadata": {},
   "source": [
    "## yr_built\n",
    "- 지어진 년도"
   ]
  },
  {
   "cell_type": "markdown",
   "metadata": {},
   "source": [
    "- date_built_diff : 구매년도 - 처음에 지어진 날짜"
   ]
  },
  {
   "cell_type": "code",
   "execution_count": 33,
   "metadata": {
    "ExecuteTime": {
     "end_time": "2019-03-12T04:09:10.188310Z",
     "start_time": "2019-03-12T04:09:10.180333Z"
    }
   },
   "outputs": [],
   "source": [
    "train['date_built_diff'] = train['year'] - train['yr_built']\n",
    "test['date_built_diff'] = test['year'] - test['yr_built']"
   ]
  },
  {
   "cell_type": "code",
   "execution_count": 34,
   "metadata": {
    "ExecuteTime": {
     "end_time": "2019-03-12T04:09:11.164426Z",
     "start_time": "2019-03-12T04:09:10.821905Z"
    }
   },
   "outputs": [
    {
     "data": {
      "text/plain": [
       "<matplotlib.collections.PathCollection at 0x2ba11f29128>"
      ]
     },
     "execution_count": 34,
     "metadata": {},
     "output_type": "execute_result"
    },
    {
     "data": {
      "image/png": "[encoded data removed]",
      "text/plain": [
       "<Figure size 432x288 with 1 Axes>"
      ]
     },
     "metadata": {
      "needs_background": "light"
     },
     "output_type": "display_data"
    }
   ],
   "source": [
    "plt.scatter(train.date_built_diff,train.price)"
   ]
  },
  {
   "cell_type": "code",
   "execution_count": 35,
   "metadata": {
    "ExecuteTime": {
     "end_time": "2019-03-12T04:09:12.574588Z",
     "start_time": "2019-03-12T04:09:12.564619Z"
    }
   },
   "outputs": [],
   "source": [
    "train['date_built_diff_log'] = np.log(train['date_built_diff']-train['date_built_diff'].min() + 0.00001)\n",
    "test['date_built_diff_log'] = np.log(test['date_built_diff']-test['date_built_diff'].min() + 0.00001)"
   ]
  },
  {
   "cell_type": "markdown",
   "metadata": {},
   "source": [
    "- built_renovated_diff :지어진 날짜 - 재건축 날짜"
   ]
  },
  {
   "cell_type": "code",
   "execution_count": 36,
   "metadata": {
    "ExecuteTime": {
     "end_time": "2019-03-12T04:09:14.679249Z",
     "start_time": "2019-03-12T04:09:14.668312Z"
    }
   },
   "outputs": [],
   "source": [
    "train['built_renovated_diff'] = train['yr_built'] - train['yr_renovated']\n",
    "test['built_renovated_diff'] = test['yr_built'] - test['yr_renovated']"
   ]
  },
  {
   "cell_type": "code",
   "execution_count": 38,
   "metadata": {
    "ExecuteTime": {
     "end_time": "2019-03-12T04:09:32.147502Z",
     "start_time": "2019-03-12T04:09:31.388133Z"
    }
   },
   "outputs": [],
   "source": [
    "#train.to_csv('../input/train.csv',index = False)\n",
    "#test.to_csv('../input/test.csv',index = False)"
   ]
  },
  {
   "cell_type": "markdown",
   "metadata": {},
   "source": [
    "# location features"
   ]
  },
  {
   "cell_type": "code",
   "execution_count": 39,
   "metadata": {
    "ExecuteTime": {
     "end_time": "2019-03-12T04:12:07.579626Z",
     "start_time": "2019-03-12T04:12:07.549711Z"
    }
   },
   "outputs": [
    {
     "data": {
      "text/html": [
       "<div>\n",
       "<style scoped>\n",
       "    .dataframe tbody tr th:only-of-type {\n",
       "        vertical-align: middle;\n",
       "    }\n",
       "\n",
       "    .dataframe tbody tr th {\n",
       "        vertical-align: top;\n",
       "    }\n",
       "\n",
       "    .dataframe thead th {\n",
       "        text-align: right;\n",
       "    }\n",
       "</style>\n",
       "<table border=\"1\" class=\"dataframe\">\n",
       "  <thead>\n",
       "    <tr style=\"text-align: right;\">\n",
       "      <th></th>\n",
       "      <th>long</th>\n",
       "      <th>lat</th>\n",
       "    </tr>\n",
       "  </thead>\n",
       "  <tbody>\n",
       "    <tr>\n",
       "      <th>count</th>\n",
       "      <td>15035.000000</td>\n",
       "      <td>15035.000000</td>\n",
       "    </tr>\n",
       "    <tr>\n",
       "      <th>mean</th>\n",
       "      <td>-122.213677</td>\n",
       "      <td>47.560721</td>\n",
       "    </tr>\n",
       "    <tr>\n",
       "      <th>std</th>\n",
       "      <td>0.141294</td>\n",
       "      <td>0.138164</td>\n",
       "    </tr>\n",
       "    <tr>\n",
       "      <th>min</th>\n",
       "      <td>-122.519000</td>\n",
       "      <td>47.155900</td>\n",
       "    </tr>\n",
       "    <tr>\n",
       "      <th>25%</th>\n",
       "      <td>-122.328000</td>\n",
       "      <td>47.472700</td>\n",
       "    </tr>\n",
       "    <tr>\n",
       "      <th>50%</th>\n",
       "      <td>-122.231000</td>\n",
       "      <td>47.571900</td>\n",
       "    </tr>\n",
       "    <tr>\n",
       "      <th>75%</th>\n",
       "      <td>-122.126000</td>\n",
       "      <td>47.678300</td>\n",
       "    </tr>\n",
       "    <tr>\n",
       "      <th>max</th>\n",
       "      <td>-121.315000</td>\n",
       "      <td>47.777600</td>\n",
       "    </tr>\n",
       "  </tbody>\n",
       "</table>\n",
       "</div>"
      ],
      "text/plain": [
       "               long           lat\n",
       "count  15035.000000  15035.000000\n",
       "mean    -122.213677     47.560721\n",
       "std        0.141294      0.138164\n",
       "min     -122.519000     47.155900\n",
       "25%     -122.328000     47.472700\n",
       "50%     -122.231000     47.571900\n",
       "75%     -122.126000     47.678300\n",
       "max     -121.315000     47.777600"
      ]
     },
     "execution_count": 39,
     "metadata": {},
     "output_type": "execute_result"
    }
   ],
   "source": [
    "train[['long','lat']].describe()"
   ]
  },
  {
   "cell_type": "markdown",
   "metadata": {},
   "source": [
    "### histogram"
   ]
  },
  {
   "cell_type": "code",
   "execution_count": 5,
   "metadata": {
    "ExecuteTime": {
     "end_time": "2019-03-12T04:49:48.450708Z",
     "start_time": "2019-03-12T04:49:47.465091Z"
    }
   },
   "outputs": [
    {
     "data": {
      "text/plain": [
       "<matplotlib.axes._subplots.AxesSubplot at 0x266fd972278>"
      ]
     },
     "execution_count": 5,
     "metadata": {},
     "output_type": "execute_result"
    },
    {
     "data": {
      "image/png": "[encoded data removed]",
      "text/plain": [
       "<Figure size 720x288 with 2 Axes>"
      ]
     },
     "metadata": {
      "needs_background": "light"
     },
     "output_type": "display_data"
    }
   ],
   "source": [
    "plt.figure(figsize=(10,4))\n",
    "plt.subplot(1,2,1)\n",
    "plt.title('latitude')\n",
    "train.lat.plot.hist(bins = 50)\n",
    "\n",
    "plt.subplot(1,2,2)\n",
    "plt.title('longitude')\n",
    "train.long.plot.hist(bins = 50)"
   ]
  },
  {
   "cell_type": "markdown",
   "metadata": {},
   "source": [
    "### with target"
   ]
  },
  {
   "cell_type": "code",
   "execution_count": 6,
   "metadata": {
    "ExecuteTime": {
     "end_time": "2019-03-12T04:49:51.945292Z",
     "start_time": "2019-03-12T04:49:50.600611Z"
    }
   },
   "outputs": [
    {
     "data": {
      "text/plain": [
       "<matplotlib.collections.PathCollection at 0x266fe34bf98>"
      ]
     },
     "execution_count": 6,
     "metadata": {},
     "output_type": "execute_result"
    },
    {
     "data": {
      "image/png": "[encoded data removed]",
      "text/plain": [
       "<Figure size 864x288 with 2 Axes>"
      ]
     },
     "metadata": {
      "needs_background": "light"
     },
     "output_type": "display_data"
    }
   ],
   "source": [
    "plt.figure(figsize=(12,4))\n",
    "plt.subplot(1,2,1)\n",
    "plt.title('latitude')\n",
    "plt.scatter(train.lat, train.price)\n",
    "\n",
    "plt.subplot(1,2,2)\n",
    "plt.title('log_latitude')\n",
    "train['log_lat'] = np.log(train.lat)\n",
    "plt.scatter(np.log(train.log_lat), train.price)"
   ]
  },
  {
   "cell_type": "code",
   "execution_count": 7,
   "metadata": {
    "ExecuteTime": {
     "end_time": "2019-03-12T04:49:54.510886Z",
     "start_time": "2019-03-12T04:49:53.159075Z"
    }
   },
   "outputs": [
    {
     "data": {
      "text/plain": [
       "<matplotlib.collections.PathCollection at 0x266fe3e9e48>"
      ]
     },
     "execution_count": 7,
     "metadata": {},
     "output_type": "execute_result"
    },
    {
     "data": {
      "image/png": "[encoded data removed]",
      "text/plain": [
       "<Figure size 864x288 with 2 Axes>"
      ]
     },
     "metadata": {
      "needs_background": "light"
     },
     "output_type": "display_data"
    }
   ],
   "source": [
    "plt.figure(figsize=(12,4))\n",
    "plt.subplot(1,2,1)\n",
    "plt.title('longitude')\n",
    "plt.scatter(train.long, train.price)\n",
    "\n",
    "plt.subplot(1,2,2)\n",
    "plt.title('log_longitude')\n",
    "train['log_long'] = np.log(train.long - train.long.min() + 0.00001)\n",
    "plt.scatter(train.log_long, train.price)"
   ]
  },
  {
   "cell_type": "code",
   "execution_count": 8,
   "metadata": {
    "ExecuteTime": {
     "end_time": "2019-03-12T04:49:55.496132Z",
     "start_time": "2019-03-12T04:49:55.485163Z"
    }
   },
   "outputs": [],
   "source": [
    "test['log_lat'] = np.log(test.lat)\n",
    "test['log_long'] = np.log(test.long - test.long.min() + 0.00001)"
   ]
  },
  {
   "cell_type": "markdown",
   "metadata": {},
   "source": [
    "### clustering\n",
    "- longitude, latitude, price\n",
    "- 다시 생각해보자"
   ]
  },
  {
   "cell_type": "code",
   "execution_count": 57,
   "metadata": {
    "ExecuteTime": {
     "end_time": "2019-03-12T04:20:03.813930Z",
     "start_time": "2019-03-12T04:20:03.439282Z"
    }
   },
   "outputs": [],
   "source": [
    "from sklearn.cluster import KMeans"
   ]
  },
  {
   "cell_type": "code",
   "execution_count": 58,
   "metadata": {
    "ExecuteTime": {
     "end_time": "2019-03-12T04:20:04.906527Z",
     "start_time": "2019-03-12T04:20:04.901539Z"
    }
   },
   "outputs": [],
   "source": [
    "df_cluster = train[['long','lat','price']]"
   ]
  },
  {
   "cell_type": "code",
   "execution_count": 59,
   "metadata": {
    "ExecuteTime": {
     "end_time": "2019-03-12T04:20:13.148515Z",
     "start_time": "2019-03-12T04:20:05.652857Z"
    }
   },
   "outputs": [],
   "source": [
    "Sum_of_squared_distances = []\n",
    "K = range(1,15)\n",
    "for k in K:\n",
    "    km = KMeans(n_clusters=k)\n",
    "    km = km.fit(df_cluster)\n",
    "    Sum_of_squared_distances.append(km.inertia_)"
   ]
  },
  {
   "cell_type": "code",
   "execution_count": 60,
   "metadata": {
    "ExecuteTime": {
     "end_time": "2019-03-12T04:20:13.316098Z",
     "start_time": "2019-03-12T04:20:13.150511Z"
    }
   },
   "outputs": [
    {
     "data": {
      "image/png": "[encoded data removed]",
      "text/plain": [
       "<Figure size 432x288 with 1 Axes>"
      ]
     },
     "metadata": {
      "needs_background": "light"
     },
     "output_type": "display_data"
    }
   ],
   "source": [
    "plt.plot(K, Sum_of_squared_distances, 'bx-')\n",
    "plt.xlabel('k')\n",
    "plt.ylabel('Sum_of_squared_distances')\n",
    "plt.title('Elbow Method For Optimal k')\n",
    "plt.show()"
   ]
  },
  {
   "cell_type": "code",
   "execution_count": 61,
   "metadata": {
    "ExecuteTime": {
     "end_time": "2019-03-12T04:20:13.625565Z",
     "start_time": "2019-03-12T04:20:13.318126Z"
    }
   },
   "outputs": [],
   "source": [
    "k=4\n",
    "km = KMeans(n_clusters=4,algorithm='auto')\n",
    "km.fit(df_cluster)\n",
    "km_predict = pd.DataFrame(km.predict(df_cluster))\n",
    "km_predict.columns=['km_4_result']"
   ]
  },
  {
   "cell_type": "code",
   "execution_count": 62,
   "metadata": {
    "ExecuteTime": {
     "end_time": "2019-03-12T04:20:14.612535Z",
     "start_time": "2019-03-12T04:20:14.604558Z"
    }
   },
   "outputs": [
    {
     "data": {
      "text/plain": [
       "2    9018\n",
       "0    5035\n",
       "1     850\n",
       "3     132\n",
       "Name: km_4_result, dtype: int64"
      ]
     },
     "execution_count": 62,
     "metadata": {},
     "output_type": "execute_result"
    }
   ],
   "source": [
    "#predict 값들은 위치와 가격을 갖고 하우스별로 등급을 매긴 것.\n",
    "#따라서 비슷한 위치에 있는 test data 넣어서 등급 넣어줄 것.\n",
    "km_predict.km_4_result.value_counts()"
   ]
  },
  {
   "cell_type": "code",
   "execution_count": 72,
   "metadata": {
    "ExecuteTime": {
     "end_time": "2019-03-12T04:32:44.222402Z",
     "start_time": "2019-03-12T04:32:44.216415Z"
    }
   },
   "outputs": [],
   "source": [
    "train['km_4_result'] = km_predict['km_4_result']"
   ]
  },
  {
   "cell_type": "markdown",
   "metadata": {},
   "source": [
    "### visualization on the map"
   ]
  },
  {
   "cell_type": "code",
   "execution_count": 77,
   "metadata": {
    "ExecuteTime": {
     "end_time": "2019-03-12T04:36:03.157104Z",
     "start_time": "2019-03-12T04:36:03.128182Z"
    }
   },
   "outputs": [
    {
     "data": {
      "text/html": [
       "<div style=\"width:100%;\"><div style=\"position:relative;width:100%;height:0;padding-bottom:60%;\"><iframe src=\"data:text/html;charset=utf-8;base64,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\" style=\"position:absolute;width:100%;height:100%;left:0;top:0;border:none !important;\" allowfullscreen webkitallowfullscreen mozallowfullscreen></iframe></div></div>"
      ],
      "text/plain": [
       "<folium.folium.Map at 0x2ba19f94898>"
      ]
     },
     "execution_count": 77,
     "metadata": {},
     "output_type": "execute_result"
    }
   ],
   "source": [
    "houses_map = folium.Map(location = [train['lat'].mean(), train['long'].mean()], zoom_start = 10)\n",
    "lat_long_data = train.loc[train.km_4_result == 3,['lat','long']].values.tolist()\n",
    "h_cluster = folium.plugins.FastMarkerCluster(lat_long_data).add_to(houses_map)\n",
    "\n",
    "houses_map"
   ]
  },
  {
   "cell_type": "markdown",
   "metadata": {},
   "source": [
    "# Cateorical features & target"
   ]
  },
  {
   "cell_type": "code",
   "execution_count": 11,
   "metadata": {
    "ExecuteTime": {
     "end_time": "2019-03-12T04:52:41.694565Z",
     "start_time": "2019-03-12T04:52:41.686582Z"
    }
   },
   "outputs": [],
   "source": [
    "cat_var = ['bedrooms','bathrooms','floors','waterfront','view','condition','grade']"
   ]
  },
  {
   "cell_type": "code",
   "execution_count": 166,
   "metadata": {
    "ExecuteTime": {
     "end_time": "2019-03-11T12:44:23.882068Z",
     "start_time": "2019-03-11T12:44:23.863119Z"
    }
   },
   "outputs": [
    {
     "data": {
      "text/html": [
       "<div>\n",
       "<style scoped>\n",
       "    .dataframe tbody tr th:only-of-type {\n",
       "        vertical-align: middle;\n",
       "    }\n",
       "\n",
       "    .dataframe tbody tr th {\n",
       "        vertical-align: top;\n",
       "    }\n",
       "\n",
       "    .dataframe thead th {\n",
       "        text-align: right;\n",
       "    }\n",
       "</style>\n",
       "<table border=\"1\" class=\"dataframe\">\n",
       "  <thead>\n",
       "    <tr style=\"text-align: right;\">\n",
       "      <th></th>\n",
       "      <th>id</th>\n",
       "      <th>date</th>\n",
       "      <th>price</th>\n",
       "      <th>bedrooms</th>\n",
       "      <th>bathrooms</th>\n",
       "      <th>sqft_living</th>\n",
       "      <th>sqft_lot</th>\n",
       "      <th>floors</th>\n",
       "      <th>waterfront</th>\n",
       "      <th>view</th>\n",
       "      <th>condition</th>\n",
       "      <th>grade</th>\n",
       "      <th>sqft_above</th>\n",
       "      <th>sqft_basement</th>\n",
       "      <th>yr_built</th>\n",
       "      <th>yr_renovated</th>\n",
       "      <th>zipcode</th>\n",
       "      <th>lat</th>\n",
       "      <th>long</th>\n",
       "      <th>sqft_living15</th>\n",
       "      <th>sqft_lot15</th>\n",
       "      <th>year</th>\n",
       "      <th>month</th>\n",
       "      <th>day</th>\n",
       "      <th>week</th>\n",
       "      <th>weekend</th>\n",
       "    </tr>\n",
       "  </thead>\n",
       "  <tbody>\n",
       "    <tr>\n",
       "      <th>0</th>\n",
       "      <td>0</td>\n",
       "      <td>2014-10-13</td>\n",
       "      <td>221900.0</td>\n",
       "      <td>3</td>\n",
       "      <td>1.00</td>\n",
       "      <td>1180</td>\n",
       "      <td>5650</td>\n",
       "      <td>1.0</td>\n",
       "      <td>0</td>\n",
       "      <td>0</td>\n",
       "      <td>3</td>\n",
       "      <td>7</td>\n",
       "      <td>1180</td>\n",
       "      <td>0</td>\n",
       "      <td>1955</td>\n",
       "      <td>0</td>\n",
       "      <td>98178</td>\n",
       "      <td>47.5112</td>\n",
       "      <td>-122.257</td>\n",
       "      <td>1340</td>\n",
       "      <td>5650</td>\n",
       "      <td>2014</td>\n",
       "      <td>10</td>\n",
       "      <td>13</td>\n",
       "      <td>1</td>\n",
       "      <td>0</td>\n",
       "    </tr>\n",
       "    <tr>\n",
       "      <th>1</th>\n",
       "      <td>1</td>\n",
       "      <td>2014-12-09</td>\n",
       "      <td>538000.0</td>\n",
       "      <td>3</td>\n",
       "      <td>2.25</td>\n",
       "      <td>2570</td>\n",
       "      <td>7242</td>\n",
       "      <td>2.0</td>\n",
       "      <td>0</td>\n",
       "      <td>0</td>\n",
       "      <td>3</td>\n",
       "      <td>7</td>\n",
       "      <td>2170</td>\n",
       "      <td>400</td>\n",
       "      <td>1951</td>\n",
       "      <td>1991</td>\n",
       "      <td>98125</td>\n",
       "      <td>47.7210</td>\n",
       "      <td>-122.319</td>\n",
       "      <td>1690</td>\n",
       "      <td>7639</td>\n",
       "      <td>2014</td>\n",
       "      <td>12</td>\n",
       "      <td>9</td>\n",
       "      <td>2</td>\n",
       "      <td>0</td>\n",
       "    </tr>\n",
       "    <tr>\n",
       "      <th>2</th>\n",
       "      <td>2</td>\n",
       "      <td>2014-12-09</td>\n",
       "      <td>604000.0</td>\n",
       "      <td>4</td>\n",
       "      <td>3.00</td>\n",
       "      <td>1960</td>\n",
       "      <td>5000</td>\n",
       "      <td>1.0</td>\n",
       "      <td>0</td>\n",
       "      <td>0</td>\n",
       "      <td>5</td>\n",
       "      <td>7</td>\n",
       "      <td>1050</td>\n",
       "      <td>910</td>\n",
       "      <td>1965</td>\n",
       "      <td>0</td>\n",
       "      <td>98136</td>\n",
       "      <td>47.5208</td>\n",
       "      <td>-122.393</td>\n",
       "      <td>1360</td>\n",
       "      <td>5000</td>\n",
       "      <td>2014</td>\n",
       "      <td>12</td>\n",
       "      <td>9</td>\n",
       "      <td>2</td>\n",
       "      <td>0</td>\n",
       "    </tr>\n",
       "    <tr>\n",
       "      <th>3</th>\n",
       "      <td>3</td>\n",
       "      <td>2015-02-18</td>\n",
       "      <td>510000.0</td>\n",
       "      <td>3</td>\n",
       "      <td>2.00</td>\n",
       "      <td>1680</td>\n",
       "      <td>8080</td>\n",
       "      <td>1.0</td>\n",
       "      <td>0</td>\n",
       "      <td>0</td>\n",
       "      <td>3</td>\n",
       "      <td>8</td>\n",
       "      <td>1680</td>\n",
       "      <td>0</td>\n",
       "      <td>1987</td>\n",
       "      <td>0</td>\n",
       "      <td>98074</td>\n",
       "      <td>47.6168</td>\n",
       "      <td>-122.045</td>\n",
       "      <td>1800</td>\n",
       "      <td>7503</td>\n",
       "      <td>2015</td>\n",
       "      <td>2</td>\n",
       "      <td>18</td>\n",
       "      <td>3</td>\n",
       "      <td>0</td>\n",
       "    </tr>\n",
       "    <tr>\n",
       "      <th>4</th>\n",
       "      <td>4</td>\n",
       "      <td>2014-05-12</td>\n",
       "      <td>1225000.0</td>\n",
       "      <td>4</td>\n",
       "      <td>4.50</td>\n",
       "      <td>5420</td>\n",
       "      <td>101930</td>\n",
       "      <td>1.0</td>\n",
       "      <td>0</td>\n",
       "      <td>0</td>\n",
       "      <td>3</td>\n",
       "      <td>11</td>\n",
       "      <td>3890</td>\n",
       "      <td>1530</td>\n",
       "      <td>2001</td>\n",
       "      <td>0</td>\n",
       "      <td>98053</td>\n",
       "      <td>47.6561</td>\n",
       "      <td>-122.005</td>\n",
       "      <td>4760</td>\n",
       "      <td>101930</td>\n",
       "      <td>2014</td>\n",
       "      <td>5</td>\n",
       "      <td>12</td>\n",
       "      <td>1</td>\n",
       "      <td>0</td>\n",
       "    </tr>\n",
       "  </tbody>\n",
       "</table>\n",
       "</div>"
      ],
      "text/plain": [
       "   id        date      price  bedrooms  bathrooms  sqft_living  sqft_lot  \\\n",
       "0   0  2014-10-13   221900.0         3       1.00         1180      5650   \n",
       "1   1  2014-12-09   538000.0         3       2.25         2570      7242   \n",
       "2   2  2014-12-09   604000.0         4       3.00         1960      5000   \n",
       "3   3  2015-02-18   510000.0         3       2.00         1680      8080   \n",
       "4   4  2014-05-12  1225000.0         4       4.50         5420    101930   \n",
       "\n",
       "   floors  waterfront  view  condition  grade  sqft_above  sqft_basement  \\\n",
       "0     1.0           0     0          3      7        1180              0   \n",
       "1     2.0           0     0          3      7        2170            400   \n",
       "2     1.0           0     0          5      7        1050            910   \n",
       "3     1.0           0     0          3      8        1680              0   \n",
       "4     1.0           0     0          3     11        3890           1530   \n",
       "\n",
       "   yr_built  yr_renovated  zipcode      lat     long  sqft_living15  \\\n",
       "0      1955             0    98178  47.5112 -122.257           1340   \n",
       "1      1951          1991    98125  47.7210 -122.319           1690   \n",
       "2      1965             0    98136  47.5208 -122.393           1360   \n",
       "3      1987             0    98074  47.6168 -122.045           1800   \n",
       "4      2001             0    98053  47.6561 -122.005           4760   \n",
       "\n",
       "   sqft_lot15  year  month  day  week  weekend  \n",
       "0        5650  2014     10   13     1        0  \n",
       "1        7639  2014     12    9     2        0  \n",
       "2        5000  2014     12    9     2        0  \n",
       "3        7503  2015      2   18     3        0  \n",
       "4      101930  2014      5   12     1        0  "
      ]
     },
     "execution_count": 166,
     "metadata": {},
     "output_type": "execute_result"
    }
   ],
   "source": [
    "train.head()"
   ]
  },
  {
   "cell_type": "markdown",
   "metadata": {},
   "source": [
    "## plots with price"
   ]
  },
  {
   "cell_type": "code",
   "execution_count": 18,
   "metadata": {
    "ExecuteTime": {
     "end_time": "2019-03-12T04:56:40.358459Z",
     "start_time": "2019-03-12T04:56:38.393187Z"
    }
   },
   "outputs": [
    {
     "data": {
      "image/png": "[encoded data removed]",
      "text/plain": [
       "<Figure size 936x864 with 7 Axes>"
      ]
     },
     "metadata": {
      "needs_background": "light"
     },
     "output_type": "display_data"
    }
   ],
   "source": [
    "plt.figure(figsize = (13,12))\n",
    "for i in range(len(cat_var)) :\n",
    "    plt.subplot(3,3,i+1)\n",
    "    train.groupby(cat_var[i])['price'].mean().plot.bar()\n",
    "    plt.xlabel(cat_var[i],fontsize=8)\n",
    "plt.show()"
   ]
  },
  {
   "cell_type": "code",
   "execution_count": 19,
   "metadata": {
    "ExecuteTime": {
     "end_time": "2019-03-12T04:57:31.271270Z",
     "start_time": "2019-03-12T04:57:27.201186Z"
    }
   },
   "outputs": [
    {
     "data": {
      "image/png": "[encoded data removed]",
      "text/plain": [
       "<Figure size 936x864 with 7 Axes>"
      ]
     },
     "metadata": {
      "needs_background": "light"
     },
     "output_type": "display_data"
    }
   ],
   "source": [
    "plt.figure(figsize = (13,12))\n",
    "for i in range(len(cat_var)) :\n",
    "    plt.subplot(3,3,i+1)\n",
    "    plt.scatter(train[cat_var[i]], train.price)\n",
    "    plt.xlabel(cat_var[i],fontsize=8)\n",
    "plt.show()"
   ]
  },
  {
   "cell_type": "code",
   "execution_count": null,
   "metadata": {},
   "outputs": [],
   "source": [
    "plt.figure(figsize = (10,10))\n",
    "for i in range(len(cat_var)) :\n",
    "    plt.subplot(3,3,i+1)\n",
    "    train.groupby(cat_var[i])['price'].mean().plot.bar()\n",
    "plt.show()"
   ]
  },
  {
   "cell_type": "code",
   "execution_count": 12,
   "metadata": {
    "ExecuteTime": {
     "end_time": "2019-03-12T04:52:43.461675Z",
     "start_time": "2019-03-12T04:52:43.454377Z"
    }
   },
   "outputs": [
    {
     "data": {
      "text/plain": [
       "7"
      ]
     },
     "execution_count": 12,
     "metadata": {},
     "output_type": "execute_result"
    }
   ],
   "source": [
    "len(cat_var)"
   ]
  },
  {
   "cell_type": "code",
   "execution_count": 9,
   "metadata": {
    "ExecuteTime": {
     "end_time": "2019-03-12T04:50:38.953316Z",
     "start_time": "2019-03-12T04:50:38.663463Z"
    }
   },
   "outputs": [
    {
     "data": {
      "text/plain": [
       "<matplotlib.axes._subplots.AxesSubplot at 0x266fe8d2080>"
      ]
     },
     "execution_count": 9,
     "metadata": {},
     "output_type": "execute_result"
    },
    {
     "data": {
      "image/png": "[encoded data removed]",
      "text/plain": [
       "<Figure size 432x288 with 1 Axes>"
      ]
     },
     "metadata": {
      "needs_background": "light"
     },
     "output_type": "display_data"
    }
   ],
   "source": [
    "train.groupby('bedrooms')['price'].mean().plot.bar()"
   ]
  },
  {
   "cell_type": "code",
   "execution_count": null,
   "metadata": {},
   "outputs": [],
   "source": [
    "plt.bar(train.bedrooms, train.price)"
   ]
  },
  {
   "cell_type": "code",
   "execution_count": 1,
   "metadata": {
    "ExecuteTime": {
     "end_time": "2019-03-12T04:46:58.211470Z",
     "start_time": "2019-03-12T04:46:58.032626Z"
    }
   },
   "outputs": [
    {
     "ename": "NameError",
     "evalue": "name 'train' is not defined",
     "output_type": "error",
     "traceback": [
      "\u001b[1;31m---------------------------------------------------------------------------\u001b[0m",
      "\u001b[1;31mNameError\u001b[0m                                 Traceback (most recent call last)",
      "\u001b[1;32m<ipython-input-1-3536571a9bc3>\u001b[0m in \u001b[0;36m<module>\u001b[1;34m\u001b[0m\n\u001b[1;32m----> 1\u001b[1;33m \u001b[0mtrain\u001b[0m\u001b[1;33m\u001b[0m\u001b[1;33m\u001b[0m\u001b[0m\n\u001b[0m",
      "\u001b[1;31mNameError\u001b[0m: name 'train' is not defined"
     ]
    }
   ],
   "source": [
    "#train.to_csv('../input/train.csv',index = False)\n",
    "#test.to_csv('../input/test.csv',index = False)"
   ]
  },
  {
   "cell_type": "code",
   "execution_count": null,
   "metadata": {
    "ExecuteTime": {
     "start_time": "2019-03-12T04:46:17.190Z"
    }
   },
   "outputs": [
    {
     "data": {
      "text/plain": [
       "<BarContainer object of 15035 artists>"
      ]
     },
     "execution_count": 97,
     "metadata": {},
     "output_type": "execute_result"
    }
   ],
   "source": []
  },
  {
   "cell_type": "markdown",
   "metadata": {},
   "source": [
    "# Numerical features & target"
   ]
  },
  {
   "cell_type": "code",
   "execution_count": null,
   "metadata": {},
   "outputs": [],
   "source": []
  }
 ],
 "metadata": {
  "hide_input": false,
  "kernelspec": {
   "display_name": "Python 3",
   "language": "python",
   "name": "python3"
  },
  "language_info": {
   "codemirror_mode": {
    "name": "ipython",
    "version": 3
   },
   "file_extension": ".py",
   "mimetype": "text/x-python",
   "name": "python",
   "nbconvert_exporter": "python",
   "pygments_lexer": "ipython3",
   "version": "3.7.1"
  },
  "toc": {
   "base_numbering": 1,
   "nav_menu": {},
   "number_sections": true,
   "sideBar": true,
   "skip_h1_title": false,
   "title_cell": "Table of Contents",
   "title_sidebar": "Contents",
   "toc_cell": false,
   "toc_position": {},
   "toc_section_display": true,
   "toc_window_display": true
  }
 },
 "nbformat": 4,
 "nbformat_minor": 2
}
