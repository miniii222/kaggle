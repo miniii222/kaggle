{
 "cells": [
  {
   "cell_type": "code",
   "execution_count": 1,
   "metadata": {},
   "outputs": [],
   "source": [
    "import pandas as pd\n",
    "import numpy as np\n",
    "import matplotlib.pyplot as plt"
   ]
  },
  {
   "cell_type": "code",
   "execution_count": 2,
   "metadata": {},
   "outputs": [],
   "source": [
    "path = 'C:/Users/wjssm/Desktop/kaggle/Elo_Merchant_Category_Recommendation/data/'"
   ]
  },
  {
   "cell_type": "code",
   "execution_count": 3,
   "metadata": {},
   "outputs": [],
   "source": [
    "train = pd.read_csv(path + 'train.csv') #key : card_id\n",
    "test = pd.read_csv(path + 'test.csv') #key : card_id\n",
    "history = pd.read_csv(path + 'historical_transactions.csv') #key : card_id, merchant_id\n",
    "new_history = pd.read_csv(path + 'new_merchant_transactions.csv') #key : card_id, merchant_id\n",
    "merchant = pd.read_csv(path + 'merchants.csv') #key : merchant_id"
   ]
  },
  {
   "cell_type": "markdown",
   "metadata": {},
   "source": [
    "## card_id 기준"
   ]
  },
  {
   "cell_type": "markdown",
   "metadata": {},
   "source": [
    "#### card_id 기준으로 history가 new_history 모두 포함"
   ]
  },
  {
   "cell_type": "code",
   "execution_count": 4,
   "metadata": {},
   "outputs": [
    {
     "data": {
      "text/plain": [
       "True"
      ]
     },
     "execution_count": 4,
     "metadata": {},
     "output_type": "execute_result"
    }
   ],
   "source": [
    "# new_history가 history의 부분집합인가 - card_id 기준\n",
    "#포함관계 history <- new_history\n",
    "set(new_history.card_id.unique()).issubset(set(history.card_id.unique()))"
   ]
  },
  {
   "cell_type": "code",
   "execution_count": 36,
   "metadata": {},
   "outputs": [
    {
     "name": "stdout",
     "output_type": "stream",
     "text": [
      "new_history에서 history card_id 뺀 수 :  0\n",
      "history에서 new_history card_id 뺀 수 :  35539\n"
     ]
    }
   ],
   "source": [
    "print('new_history에서 history card_id 뺀 수 : ',len(set(new_history.card_id.unique()) - set(history.card_id.unique())))\n",
    "print('history에서 new_history card_id 뺀 수 : ',len(set(history.card_id.unique()) - set(new_history.card_id.unique())))"
   ]
  },
  {
   "cell_type": "code",
   "execution_count": 6,
   "metadata": {},
   "outputs": [
    {
     "data": {
      "text/plain": [
       "True"
      ]
     },
     "execution_count": 6,
     "metadata": {},
     "output_type": "execute_result"
    }
   ],
   "source": [
    "# train이 history의 부분집합인가\n",
    "set(train.card_id.unique()).issubset(set(history.card_id.unique()))"
   ]
  },
  {
   "cell_type": "code",
   "execution_count": 7,
   "metadata": {},
   "outputs": [
    {
     "data": {
      "text/plain": [
       "True"
      ]
     },
     "execution_count": 7,
     "metadata": {},
     "output_type": "execute_result"
    }
   ],
   "source": [
    "# test가 history의 부분집합인가\n",
    "set(test.card_id.unique()).issubset(set(history.card_id.unique()))"
   ]
  },
  {
   "cell_type": "code",
   "execution_count": 8,
   "metadata": {},
   "outputs": [
    {
     "data": {
      "text/plain": [
       "0"
      ]
     },
     "execution_count": 8,
     "metadata": {},
     "output_type": "execute_result"
    }
   ],
   "source": [
    "# train 과 test의 중복 확인 : 전체 unique 합친거 - 합집합 개수\n",
    "len(list(train.card_id.unique()) + list(test.card_id.unique())) - len(set(list(train.card_id.unique()) + list(test.card_id.unique())))"
   ]
  },
  {
   "cell_type": "code",
   "execution_count": 15,
   "metadata": {},
   "outputs": [
    {
     "data": {
      "text/plain": [
       "179986"
      ]
     },
     "execution_count": 15,
     "metadata": {},
     "output_type": "execute_result"
    }
   ],
   "source": [
    "# train과 new history 중복 확인\n",
    "len(list(new_history.card_id.unique()) + list(train.card_id.unique())) - len(set(list(new_history.card_id.unique()) + list(train.card_id.unique())))"
   ]
  },
  {
   "cell_type": "code",
   "execution_count": 16,
   "metadata": {},
   "outputs": [
    {
     "data": {
      "text/plain": [
       "110015"
      ]
     },
     "execution_count": 16,
     "metadata": {},
     "output_type": "execute_result"
    }
   ],
   "source": [
    "# test와 new history 중복 확인\n",
    "len(list(new_history.card_id.unique()) + list(test.card_id.unique())) - len(set(list(new_history.card_id.unique()) + list(test.card_id.unique())))"
   ]
  },
  {
   "cell_type": "markdown",
   "metadata": {},
   "source": [
    "#### train + test = history (card_id)"
   ]
  },
  {
   "cell_type": "code",
   "execution_count": 29,
   "metadata": {},
   "outputs": [
    {
     "data": {
      "text/plain": [
       "0"
      ]
     },
     "execution_count": 29,
     "metadata": {},
     "output_type": "execute_result"
    }
   ],
   "source": [
    "#history\n",
    "len(set(list(train.card_id.unique()) + list(test.card_id.unique())) - set(history.card_id))"
   ]
  },
  {
   "cell_type": "code",
   "execution_count": 26,
   "metadata": {},
   "outputs": [
    {
     "data": {
      "text/plain": [
       "0"
      ]
     },
     "execution_count": 26,
     "metadata": {},
     "output_type": "execute_result"
    }
   ],
   "source": [
    "#history\n",
    "len(set(history.card_id) - set(train.card_id) - set(test.card_id))"
   ]
  },
  {
   "cell_type": "markdown",
   "metadata": {},
   "source": [
    "### 결론\n",
    "\n",
    "* history의 고유 인덱스의 개수 = train의 고유 인덱스의 개수 + test의 고유 인덱스의 개수\n",
    "* new_history의 고유 인덱스는 history의 고유 인덱스의 부분집합 (new_history가 history의 부분집합이라는 소리가 아닙니다 !!)\n",
    "* new_history와 history 사이에 중복된 행은 없음\n",
    "* train의 고유 인덱스는 총 201917개, new_history와 train의 중복 인덱스는 총 179986개\n",
    "* test의 고유 인덱스는 총 123623개, new_history와 test의 중복인덱스는 총 110015개\n",
    "* 즉, train의 89%, test의 89%가 new_history와 관계있음"
   ]
  },
  {
   "cell_type": "markdown",
   "metadata": {},
   "source": [
    "## merchant_id"
   ]
  },
  {
   "cell_type": "code",
   "execution_count": 62,
   "metadata": {},
   "outputs": [
    {
     "data": {
      "text/plain": [
       "108504"
      ]
     },
     "execution_count": 62,
     "metadata": {},
     "output_type": "execute_result"
    }
   ],
   "source": [
    "#history 차집합 new_hitory\n",
    "len(set(history.merchant_id) - set(new_history.merchant_id))"
   ]
  },
  {
   "cell_type": "code",
   "execution_count": 63,
   "metadata": {},
   "outputs": [
    {
     "data": {
      "text/plain": [
       "8322"
      ]
     },
     "execution_count": 63,
     "metadata": {},
     "output_type": "execute_result"
    }
   ],
   "source": [
    "#new_history 차집합 history\n",
    "len(set(new_history.merchant_id) - set(history.merchant_id))"
   ]
  },
  {
   "cell_type": "code",
   "execution_count": 64,
   "metadata": {},
   "outputs": [
    {
     "data": {
      "text/plain": [
       "217808"
      ]
     },
     "execution_count": 64,
     "metadata": {},
     "output_type": "execute_result"
    }
   ],
   "source": [
    " # history 교집합 new history\n",
    "len(set(history.merchant_id.unique()).intersection(set(new_history.merchant_id.unique())))"
   ]
  },
  {
   "cell_type": "code",
   "execution_count": 65,
   "metadata": {},
   "outputs": [
    {
     "data": {
      "text/plain": [
       "334634"
      ]
     },
     "execution_count": 65,
     "metadata": {},
     "output_type": "execute_result"
    }
   ],
   "source": [
    "# history 합집합 new history\n",
    "len(set(list(history.merchant_id.unique()) + list(new_history.merchant_id.unique())))"
   ]
  },
  {
   "cell_type": "code",
   "execution_count": 61,
   "metadata": {},
   "outputs": [
    {
     "data": {
      "text/plain": [
       "334634"
      ]
     },
     "execution_count": 61,
     "metadata": {},
     "output_type": "execute_result"
    }
   ],
   "source": [
    "108504+8322+217808"
   ]
  },
  {
   "cell_type": "code",
   "execution_count": 43,
   "metadata": {},
   "outputs": [
    {
     "name": "stdout",
     "output_type": "stream",
     "text": [
      "new_history merchant_id null 개수 :  26216\n",
      "history merchant_id null 개수 :  138481\n"
     ]
    }
   ],
   "source": [
    "print('new_history merchant_id null 개수 : ',new_history.merchant_id.isna().sum())\n",
    "print('history merchant_id null 개수 : ',history.merchant_id.isna().sum())"
   ]
  },
  {
   "cell_type": "markdown",
   "metadata": {},
   "source": [
    "#### merchant = new_history + history (merchant_id)"
   ]
  },
  {
   "cell_type": "code",
   "execution_count": 51,
   "metadata": {},
   "outputs": [
    {
     "data": {
      "text/plain": [
       "0"
      ]
     },
     "execution_count": 51,
     "metadata": {},
     "output_type": "execute_result"
    }
   ],
   "source": [
    "len(set(merchant.merchant_id) - set(new_history.merchant_id.dropna()) - set(history.merchant_id.dropna()))"
   ]
  },
  {
   "cell_type": "code",
   "execution_count": 54,
   "metadata": {},
   "outputs": [
    {
     "data": {
      "text/plain": [
       "0"
      ]
     },
     "execution_count": 54,
     "metadata": {},
     "output_type": "execute_result"
    }
   ],
   "source": [
    "len(set(list(new_history.merchant_id.dropna()) + list(history.merchant_id.dropna())) - set(merchant.merchant_id))"
   ]
  },
  {
   "cell_type": "markdown",
   "metadata": {},
   "source": [
    "### 결론\n",
    "\n",
    "* history의 merchant_id의 고유 인덱스는 merchant의 merchant_id의 고유 인덱스의 부분 집합 (단, null 제거 시)\n",
    "* new_history의 merchant_id의 고유 인덱스는 merchant의 merchant_id의 고유 인덱스의 부분 집합 (단, null 제거 시)"
   ]
  },
  {
   "cell_type": "code",
   "execution_count": 66,
   "metadata": {},
   "outputs": [
    {
     "data": {
      "text/plain": [
       "0"
      ]
     },
     "execution_count": 66,
     "metadata": {},
     "output_type": "execute_result"
    }
   ],
   "source": [
    "len(set(history.merchant_id.dropna()) - set(merchant.merchant_id))"
   ]
  },
  {
   "cell_type": "code",
   "execution_count": 67,
   "metadata": {},
   "outputs": [
    {
     "data": {
      "text/plain": [
       "0"
      ]
     },
     "execution_count": 67,
     "metadata": {},
     "output_type": "execute_result"
    }
   ],
   "source": [
    "len(set(new_history.merchant_id.dropna()) - set(merchant.merchant_id))"
   ]
  }
 ],
 "metadata": {
  "kernelspec": {
   "display_name": "Python 3",
   "language": "python",
   "name": "python3"
  },
  "language_info": {
   "codemirror_mode": {
    "name": "ipython",
    "version": 3
   },
   "file_extension": ".py",
   "mimetype": "text/x-python",
   "name": "python",
   "nbconvert_exporter": "python",
   "pygments_lexer": "ipython3",
   "version": "3.6.5"
  }
 },
 "nbformat": 4,
 "nbformat_minor": 2
}
