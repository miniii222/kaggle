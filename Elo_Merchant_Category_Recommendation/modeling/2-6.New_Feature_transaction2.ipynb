{
 "cells": [
  {
   "cell_type": "code",
   "execution_count": 1,
   "metadata": {
    "ExecuteTime": {
     "end_time": "2019-02-25T09:49:41.837295Z",
     "start_time": "2019-02-25T09:49:41.008514Z"
    }
   },
   "outputs": [],
   "source": [
    "import pandas as pd\n",
    "import numpy as np\n",
    "import matplotlib.pyplot as plt"
   ]
  },
  {
   "cell_type": "code",
   "execution_count": 2,
   "metadata": {
    "ExecuteTime": {
     "end_time": "2019-02-25T09:49:41.845276Z",
     "start_time": "2019-02-25T09:49:41.840287Z"
    }
   },
   "outputs": [],
   "source": [
    "pd.set_option('display.max_columns', 200)"
   ]
  },
  {
   "cell_type": "code",
   "execution_count": 3,
   "metadata": {
    "ExecuteTime": {
     "end_time": "2019-02-25T09:50:09.611867Z",
     "start_time": "2019-02-25T09:49:41.847267Z"
    }
   },
   "outputs": [
    {
     "data": {
      "text/html": [
       "<div>\n",
       "<style scoped>\n",
       "    .dataframe tbody tr th:only-of-type {\n",
       "        vertical-align: middle;\n",
       "    }\n",
       "\n",
       "    .dataframe tbody tr th {\n",
       "        vertical-align: top;\n",
       "    }\n",
       "\n",
       "    .dataframe thead th {\n",
       "        text-align: right;\n",
       "    }\n",
       "</style>\n",
       "<table border=\"1\" class=\"dataframe\">\n",
       "  <thead>\n",
       "    <tr style=\"text-align: right;\">\n",
       "      <th></th>\n",
       "      <th>authorized_flag</th>\n",
       "      <th>card_id</th>\n",
       "      <th>city_id</th>\n",
       "      <th>category_1</th>\n",
       "      <th>installments</th>\n",
       "      <th>category_3</th>\n",
       "      <th>merchant_category_id</th>\n",
       "      <th>merchant_id</th>\n",
       "      <th>month_lag</th>\n",
       "      <th>purchase_amount</th>\n",
       "      <th>purchase_date</th>\n",
       "      <th>category_2</th>\n",
       "      <th>state_id</th>\n",
       "      <th>subsector_id</th>\n",
       "    </tr>\n",
       "  </thead>\n",
       "  <tbody>\n",
       "    <tr>\n",
       "      <th>0</th>\n",
       "      <td>Y</td>\n",
       "      <td>C_ID_00007093c1</td>\n",
       "      <td>244</td>\n",
       "      <td>N</td>\n",
       "      <td>2</td>\n",
       "      <td>C</td>\n",
       "      <td>705</td>\n",
       "      <td>M_ID_69423b34e4</td>\n",
       "      <td>-12</td>\n",
       "      <td>0.037176</td>\n",
       "      <td>2017-02-14 14:00:43</td>\n",
       "      <td>3.0</td>\n",
       "      <td>2</td>\n",
       "      <td>33</td>\n",
       "    </tr>\n",
       "    <tr>\n",
       "      <th>1</th>\n",
       "      <td>Y</td>\n",
       "      <td>C_ID_00007093c1</td>\n",
       "      <td>244</td>\n",
       "      <td>N</td>\n",
       "      <td>1</td>\n",
       "      <td>B</td>\n",
       "      <td>705</td>\n",
       "      <td>M_ID_a33355a1b7</td>\n",
       "      <td>-12</td>\n",
       "      <td>-0.467415</td>\n",
       "      <td>2017-02-14 15:47:45</td>\n",
       "      <td>3.0</td>\n",
       "      <td>2</td>\n",
       "      <td>33</td>\n",
       "    </tr>\n",
       "    <tr>\n",
       "      <th>2</th>\n",
       "      <td>Y</td>\n",
       "      <td>C_ID_00007093c1</td>\n",
       "      <td>244</td>\n",
       "      <td>N</td>\n",
       "      <td>1</td>\n",
       "      <td>B</td>\n",
       "      <td>307</td>\n",
       "      <td>M_ID_9400cf2342</td>\n",
       "      <td>-12</td>\n",
       "      <td>-0.572600</td>\n",
       "      <td>2017-02-16 15:37:58</td>\n",
       "      <td>3.0</td>\n",
       "      <td>2</td>\n",
       "      <td>19</td>\n",
       "    </tr>\n",
       "    <tr>\n",
       "      <th>3</th>\n",
       "      <td>Y</td>\n",
       "      <td>C_ID_00007093c1</td>\n",
       "      <td>244</td>\n",
       "      <td>N</td>\n",
       "      <td>3</td>\n",
       "      <td>C</td>\n",
       "      <td>705</td>\n",
       "      <td>M_ID_a33355a1b7</td>\n",
       "      <td>-12</td>\n",
       "      <td>-0.331575</td>\n",
       "      <td>2017-02-20 12:19:01</td>\n",
       "      <td>3.0</td>\n",
       "      <td>2</td>\n",
       "      <td>33</td>\n",
       "    </tr>\n",
       "    <tr>\n",
       "      <th>4</th>\n",
       "      <td>Y</td>\n",
       "      <td>C_ID_00007093c1</td>\n",
       "      <td>244</td>\n",
       "      <td>N</td>\n",
       "      <td>1</td>\n",
       "      <td>B</td>\n",
       "      <td>307</td>\n",
       "      <td>M_ID_9400cf2342</td>\n",
       "      <td>-11</td>\n",
       "      <td>-0.483944</td>\n",
       "      <td>2017-03-03 00:24:15</td>\n",
       "      <td>3.0</td>\n",
       "      <td>2</td>\n",
       "      <td>19</td>\n",
       "    </tr>\n",
       "  </tbody>\n",
       "</table>\n",
       "</div>"
      ],
      "text/plain": [
       "  authorized_flag          card_id  city_id category_1  installments  \\\n",
       "0               Y  C_ID_00007093c1      244          N             2   \n",
       "1               Y  C_ID_00007093c1      244          N             1   \n",
       "2               Y  C_ID_00007093c1      244          N             1   \n",
       "3               Y  C_ID_00007093c1      244          N             3   \n",
       "4               Y  C_ID_00007093c1      244          N             1   \n",
       "\n",
       "  category_3  merchant_category_id      merchant_id  month_lag  \\\n",
       "0          C                   705  M_ID_69423b34e4        -12   \n",
       "1          B                   705  M_ID_a33355a1b7        -12   \n",
       "2          B                   307  M_ID_9400cf2342        -12   \n",
       "3          C                   705  M_ID_a33355a1b7        -12   \n",
       "4          B                   307  M_ID_9400cf2342        -11   \n",
       "\n",
       "   purchase_amount        purchase_date  category_2  state_id  subsector_id  \n",
       "0         0.037176  2017-02-14 14:00:43         3.0         2            33  \n",
       "1        -0.467415  2017-02-14 15:47:45         3.0         2            33  \n",
       "2        -0.572600  2017-02-16 15:37:58         3.0         2            19  \n",
       "3        -0.331575  2017-02-20 12:19:01         3.0         2            33  \n",
       "4        -0.483944  2017-03-03 00:24:15         3.0         2            19  "
      ]
     },
     "execution_count": 3,
     "metadata": {},
     "output_type": "execute_result"
    }
   ],
   "source": [
    "path = 'C:/Users/wjssm/Desktop/kaggle/competition/Elo_Merchant_Category_Recommendation/data/'\n",
    "transaction = pd.read_pickle(path + 'merged_transaction.pkl')\n",
    "transaction.head()"
   ]
  },
  {
   "cell_type": "markdown",
   "metadata": {},
   "source": [
    "# 할부 or not = Category3 C or not\n",
    "- card_id 별로 할부 결제를 몇 번 했는지 -> 돈 없어도 사고 싶다!\n",
    "- card_id 별로 할부 수/전체 거래 수"
   ]
  },
  {
   "cell_type": "code",
   "execution_count": 4,
   "metadata": {
    "ExecuteTime": {
     "end_time": "2019-02-25T09:50:23.638287Z",
     "start_time": "2019-02-25T09:50:21.493025Z"
    }
   },
   "outputs": [],
   "source": [
    "#category_3 Null인 값 D로 바꿈\n",
    "transaction.loc[transaction.category_3.isnull(), 'category_3'] = 'D'"
   ]
  },
  {
   "cell_type": "code",
   "execution_count": 5,
   "metadata": {
    "ExecuteTime": {
     "end_time": "2019-02-25T09:50:30.057802Z",
     "start_time": "2019-02-25T09:50:23.640281Z"
    },
    "scrolled": true
   },
   "outputs": [
    {
     "data": {
      "text/plain": [
       "card_id          category_3\n",
       "C_ID_00007093c1  B             127\n",
       "                 C              24\n",
       "C_ID_0001238066  B             109\n",
       "                 C              36\n",
       "                 D               4\n",
       "C_ID_0001506ef0  A              67\n",
       "                 B               1\n",
       "C_ID_0001793786  A             242\n",
       "                 B               5\n",
       "C_ID_000183fdda  B             109\n",
       "                 C              41\n",
       "                 D               5\n",
       "C_ID_00024e244b  A              65\n",
       "                 B               5\n",
       "C_ID_0002709b5a  B              61\n",
       "                 C              13\n",
       "                 D               2\n",
       "C_ID_00027503e2  A              42\n",
       "C_ID_000298032a  A              31\n",
       "C_ID_0002ba3c2e  A              73\n",
       "C_ID_0002c7c2c1  A              73\n",
       "C_ID_00032df08f  B             139\n",
       "                 C              14\n",
       "C_ID_0003754056  A              37\n",
       "C_ID_000377f6a0  A              27\n",
       "                 B               1\n",
       "                 C               1\n",
       "C_ID_0003be3c83  B             136\n",
       "                 C              40\n",
       "                 D               1\n",
       "                              ... \n",
       "C_ID_fffe29a04a  A              91\n",
       "C_ID_fffe78b232  B             358\n",
       "                 C               4\n",
       "C_ID_fffe866457  B              60\n",
       "                 C               4\n",
       "                 D               2\n",
       "C_ID_fffea6de74  B             386\n",
       "                 C              23\n",
       "                 D               6\n",
       "C_ID_fffeced303  B             179\n",
       "                 C               9\n",
       "                 D               2\n",
       "C_ID_fffeed3a89  A               1\n",
       "                 B             191\n",
       "                 C              21\n",
       "                 D               6\n",
       "C_ID_ffff1d9928  B              13\n",
       "                 C               2\n",
       "                 D               1\n",
       "C_ID_ffff579d3a  A             112\n",
       "                 B               3\n",
       "C_ID_ffff756266  B              11\n",
       "                 C              13\n",
       "                 D               1\n",
       "C_ID_ffff828181  B             173\n",
       "                 C              23\n",
       "                 D               2\n",
       "C_ID_fffffd5772  B              82\n",
       "                 C               4\n",
       "                 D               1\n",
       "Name: category_3, Length: 664284, dtype: int64"
      ]
     },
     "execution_count": 5,
     "metadata": {},
     "output_type": "execute_result"
    }
   ],
   "source": [
    "#고객별 성향이 보인다 -> A가 있는 사람은 대부분 A,B / C는 대부분 B,C\n",
    "transaction.groupby(['card_id','category_3'])['category_3'].count()"
   ]
  },
  {
   "cell_type": "code",
   "execution_count": 6,
   "metadata": {
    "ExecuteTime": {
     "end_time": "2019-02-25T09:50:36.524506Z",
     "start_time": "2019-02-25T09:50:30.060794Z"
    }
   },
   "outputs": [
    {
     "data": {
      "text/html": [
       "<div>\n",
       "<style scoped>\n",
       "    .dataframe tbody tr th:only-of-type {\n",
       "        vertical-align: middle;\n",
       "    }\n",
       "\n",
       "    .dataframe tbody tr th {\n",
       "        vertical-align: top;\n",
       "    }\n",
       "\n",
       "    .dataframe thead th {\n",
       "        text-align: right;\n",
       "    }\n",
       "</style>\n",
       "<table border=\"1\" class=\"dataframe\">\n",
       "  <thead>\n",
       "    <tr style=\"text-align: right;\">\n",
       "      <th></th>\n",
       "      <th>card_id</th>\n",
       "      <th>category_3</th>\n",
       "      <th>values</th>\n",
       "    </tr>\n",
       "  </thead>\n",
       "  <tbody>\n",
       "    <tr>\n",
       "      <th>0</th>\n",
       "      <td>C_ID_00007093c1</td>\n",
       "      <td>B</td>\n",
       "      <td>127</td>\n",
       "    </tr>\n",
       "    <tr>\n",
       "      <th>1</th>\n",
       "      <td>C_ID_00007093c1</td>\n",
       "      <td>C</td>\n",
       "      <td>24</td>\n",
       "    </tr>\n",
       "    <tr>\n",
       "      <th>2</th>\n",
       "      <td>C_ID_0001238066</td>\n",
       "      <td>B</td>\n",
       "      <td>109</td>\n",
       "    </tr>\n",
       "    <tr>\n",
       "      <th>3</th>\n",
       "      <td>C_ID_0001238066</td>\n",
       "      <td>C</td>\n",
       "      <td>36</td>\n",
       "    </tr>\n",
       "    <tr>\n",
       "      <th>4</th>\n",
       "      <td>C_ID_0001238066</td>\n",
       "      <td>D</td>\n",
       "      <td>4</td>\n",
       "    </tr>\n",
       "  </tbody>\n",
       "</table>\n",
       "</div>"
      ],
      "text/plain": [
       "           card_id category_3  values\n",
       "0  C_ID_00007093c1          B     127\n",
       "1  C_ID_00007093c1          C      24\n",
       "2  C_ID_0001238066          B     109\n",
       "3  C_ID_0001238066          C      36\n",
       "4  C_ID_0001238066          D       4"
      ]
     },
     "execution_count": 6,
     "metadata": {},
     "output_type": "execute_result"
    }
   ],
   "source": [
    "category3_count = pd.DataFrame(transaction.groupby(['card_id','category_3'])['category_3'].count())\n",
    "category3_count.columns = ['values']\n",
    "category3_count.reset_index(inplace = True)\n",
    "category3_count.head()"
   ]
  },
  {
   "cell_type": "code",
   "execution_count": 7,
   "metadata": {
    "ExecuteTime": {
     "end_time": "2019-02-25T09:50:37.232614Z",
     "start_time": "2019-02-25T09:50:36.527499Z"
    },
    "scrolled": true
   },
   "outputs": [
    {
     "data": {
      "text/html": [
       "<div>\n",
       "<style scoped>\n",
       "    .dataframe tbody tr th:only-of-type {\n",
       "        vertical-align: middle;\n",
       "    }\n",
       "\n",
       "    .dataframe tbody tr th {\n",
       "        vertical-align: top;\n",
       "    }\n",
       "\n",
       "    .dataframe thead th {\n",
       "        text-align: right;\n",
       "    }\n",
       "</style>\n",
       "<table border=\"1\" class=\"dataframe\">\n",
       "  <thead>\n",
       "    <tr style=\"text-align: right;\">\n",
       "      <th>category_3</th>\n",
       "      <th>A</th>\n",
       "      <th>B</th>\n",
       "      <th>C</th>\n",
       "      <th>D</th>\n",
       "    </tr>\n",
       "    <tr>\n",
       "      <th>card_id</th>\n",
       "      <th></th>\n",
       "      <th></th>\n",
       "      <th></th>\n",
       "      <th></th>\n",
       "    </tr>\n",
       "  </thead>\n",
       "  <tbody>\n",
       "    <tr>\n",
       "      <th>C_ID_00007093c1</th>\n",
       "      <td>0.0</td>\n",
       "      <td>127.0</td>\n",
       "      <td>24.0</td>\n",
       "      <td>0.0</td>\n",
       "    </tr>\n",
       "    <tr>\n",
       "      <th>C_ID_0001238066</th>\n",
       "      <td>0.0</td>\n",
       "      <td>109.0</td>\n",
       "      <td>36.0</td>\n",
       "      <td>4.0</td>\n",
       "    </tr>\n",
       "    <tr>\n",
       "      <th>C_ID_0001506ef0</th>\n",
       "      <td>67.0</td>\n",
       "      <td>1.0</td>\n",
       "      <td>0.0</td>\n",
       "      <td>0.0</td>\n",
       "    </tr>\n",
       "    <tr>\n",
       "      <th>C_ID_0001793786</th>\n",
       "      <td>242.0</td>\n",
       "      <td>5.0</td>\n",
       "      <td>0.0</td>\n",
       "      <td>0.0</td>\n",
       "    </tr>\n",
       "    <tr>\n",
       "      <th>C_ID_000183fdda</th>\n",
       "      <td>0.0</td>\n",
       "      <td>109.0</td>\n",
       "      <td>41.0</td>\n",
       "      <td>5.0</td>\n",
       "    </tr>\n",
       "  </tbody>\n",
       "</table>\n",
       "</div>"
      ],
      "text/plain": [
       "category_3           A      B     C    D\n",
       "card_id                                 \n",
       "C_ID_00007093c1    0.0  127.0  24.0  0.0\n",
       "C_ID_0001238066    0.0  109.0  36.0  4.0\n",
       "C_ID_0001506ef0   67.0    1.0   0.0  0.0\n",
       "C_ID_0001793786  242.0    5.0   0.0  0.0\n",
       "C_ID_000183fdda    0.0  109.0  41.0  5.0"
      ]
     },
     "execution_count": 7,
     "metadata": {},
     "output_type": "execute_result"
    }
   ],
   "source": [
    "category3_count = category3_count.pivot(index = 'card_id', columns='category_3', values='values')\n",
    "category3_count.fillna(0,inplace=True) #NA는 진짜 값이 0\n",
    "category3_count.head()"
   ]
  },
  {
   "cell_type": "code",
   "execution_count": 52,
   "metadata": {
    "ExecuteTime": {
     "end_time": "2019-02-20T10:53:36.826316Z",
     "start_time": "2019-02-20T10:53:36.795534Z"
    }
   },
   "outputs": [
    {
     "data": {
      "text/plain": [
       "category_3\n",
       "A    16333991.0\n",
       "B    12513700.0\n",
       "C     1993620.0\n",
       "dtype: float64"
      ]
     },
     "execution_count": 52,
     "metadata": {},
     "output_type": "execute_result"
    }
   ],
   "source": [
    "category3_count.sum()"
   ]
  },
  {
   "cell_type": "code",
   "execution_count": 13,
   "metadata": {
    "ExecuteTime": {
     "end_time": "2019-02-18T10:15:32.575882Z",
     "start_time": "2019-02-18T10:15:32.477679Z"
    }
   },
   "outputs": [
    {
     "name": "stdout",
     "output_type": "stream",
     "text": [
      "category_3\n",
      "A           0.0\n",
      "B    11207208.0\n",
      "C     1817200.0\n",
      "D      216934.0\n",
      "dtype: float64\n",
      "0.9115077095936036\n"
     ]
    }
   ],
   "source": [
    "#category3 A를 한 번도 사용하지 않은 사람은 대부분 할부\n",
    "print(category3_count.loc[category3_count.A.isnull()].sum())\n",
    "print(1817200.0/1993620.0)"
   ]
  },
  {
   "cell_type": "code",
   "execution_count": 14,
   "metadata": {
    "ExecuteTime": {
     "end_time": "2019-02-18T10:15:34.067351Z",
     "start_time": "2019-02-18T10:15:34.028453Z"
    }
   },
   "outputs": [
    {
     "name": "stdout",
     "output_type": "stream",
     "text": [
      "category_3\n",
      "A    15384980.0\n",
      "B      876343.0\n",
      "C           0.0\n",
      "D        2534.0\n",
      "dtype: float64\n",
      "0.9418996251436651\n"
     ]
    }
   ],
   "source": [
    "#category3 할부를 한번도 안 한 사람들은 대부분 category3 : A\n",
    "print(category3_count.loc[category3_count.C.isnull()].sum())\n",
    "print(15384980.0/16333991.0)"
   ]
  },
  {
   "cell_type": "code",
   "execution_count": 7,
   "metadata": {
    "ExecuteTime": {
     "end_time": "2019-02-18T10:12:37.930035Z",
     "start_time": "2019-02-18T10:12:20.772204Z"
    }
   },
   "outputs": [
    {
     "data": {
      "text/html": [
       "<div>\n",
       "<style scoped>\n",
       "    .dataframe tbody tr th:only-of-type {\n",
       "        vertical-align: middle;\n",
       "    }\n",
       "\n",
       "    .dataframe tbody tr th {\n",
       "        vertical-align: top;\n",
       "    }\n",
       "\n",
       "    .dataframe thead th {\n",
       "        text-align: right;\n",
       "    }\n",
       "</style>\n",
       "<table border=\"1\" class=\"dataframe\">\n",
       "  <thead>\n",
       "    <tr style=\"text-align: right;\">\n",
       "      <th></th>\n",
       "      <th>authorized_flag</th>\n",
       "      <th>card_id</th>\n",
       "      <th>city_id</th>\n",
       "      <th>category_1</th>\n",
       "      <th>installments</th>\n",
       "      <th>category_3</th>\n",
       "      <th>merchant_category_id</th>\n",
       "      <th>merchant_id</th>\n",
       "      <th>month_lag</th>\n",
       "      <th>purchase_amount</th>\n",
       "      <th>purchase_date</th>\n",
       "      <th>category_2</th>\n",
       "      <th>state_id</th>\n",
       "      <th>subsector_id</th>\n",
       "      <th>target</th>\n",
       "    </tr>\n",
       "  </thead>\n",
       "  <tbody>\n",
       "    <tr>\n",
       "      <th>0</th>\n",
       "      <td>Y</td>\n",
       "      <td>C_ID_00007093c1</td>\n",
       "      <td>244</td>\n",
       "      <td>N</td>\n",
       "      <td>2</td>\n",
       "      <td>C</td>\n",
       "      <td>705</td>\n",
       "      <td>M_ID_69423b34e4</td>\n",
       "      <td>-12</td>\n",
       "      <td>0.037176</td>\n",
       "      <td>2017-02-14 14:00:43</td>\n",
       "      <td>3.0</td>\n",
       "      <td>2</td>\n",
       "      <td>33</td>\n",
       "      <td>0.134077</td>\n",
       "    </tr>\n",
       "    <tr>\n",
       "      <th>1</th>\n",
       "      <td>Y</td>\n",
       "      <td>C_ID_00007093c1</td>\n",
       "      <td>244</td>\n",
       "      <td>N</td>\n",
       "      <td>1</td>\n",
       "      <td>B</td>\n",
       "      <td>705</td>\n",
       "      <td>M_ID_a33355a1b7</td>\n",
       "      <td>-12</td>\n",
       "      <td>-0.467415</td>\n",
       "      <td>2017-02-14 15:47:45</td>\n",
       "      <td>3.0</td>\n",
       "      <td>2</td>\n",
       "      <td>33</td>\n",
       "      <td>0.134077</td>\n",
       "    </tr>\n",
       "    <tr>\n",
       "      <th>2</th>\n",
       "      <td>Y</td>\n",
       "      <td>C_ID_00007093c1</td>\n",
       "      <td>244</td>\n",
       "      <td>N</td>\n",
       "      <td>1</td>\n",
       "      <td>B</td>\n",
       "      <td>307</td>\n",
       "      <td>M_ID_9400cf2342</td>\n",
       "      <td>-12</td>\n",
       "      <td>-0.572600</td>\n",
       "      <td>2017-02-16 15:37:58</td>\n",
       "      <td>3.0</td>\n",
       "      <td>2</td>\n",
       "      <td>19</td>\n",
       "      <td>0.134077</td>\n",
       "    </tr>\n",
       "    <tr>\n",
       "      <th>3</th>\n",
       "      <td>Y</td>\n",
       "      <td>C_ID_00007093c1</td>\n",
       "      <td>244</td>\n",
       "      <td>N</td>\n",
       "      <td>3</td>\n",
       "      <td>C</td>\n",
       "      <td>705</td>\n",
       "      <td>M_ID_a33355a1b7</td>\n",
       "      <td>-12</td>\n",
       "      <td>-0.331575</td>\n",
       "      <td>2017-02-20 12:19:01</td>\n",
       "      <td>3.0</td>\n",
       "      <td>2</td>\n",
       "      <td>33</td>\n",
       "      <td>0.134077</td>\n",
       "    </tr>\n",
       "    <tr>\n",
       "      <th>4</th>\n",
       "      <td>Y</td>\n",
       "      <td>C_ID_00007093c1</td>\n",
       "      <td>244</td>\n",
       "      <td>N</td>\n",
       "      <td>1</td>\n",
       "      <td>B</td>\n",
       "      <td>307</td>\n",
       "      <td>M_ID_9400cf2342</td>\n",
       "      <td>-11</td>\n",
       "      <td>-0.483944</td>\n",
       "      <td>2017-03-03 00:24:15</td>\n",
       "      <td>3.0</td>\n",
       "      <td>2</td>\n",
       "      <td>19</td>\n",
       "      <td>0.134077</td>\n",
       "    </tr>\n",
       "  </tbody>\n",
       "</table>\n",
       "</div>"
      ],
      "text/plain": [
       "  authorized_flag          card_id  city_id category_1  installments  \\\n",
       "0               Y  C_ID_00007093c1      244          N             2   \n",
       "1               Y  C_ID_00007093c1      244          N             1   \n",
       "2               Y  C_ID_00007093c1      244          N             1   \n",
       "3               Y  C_ID_00007093c1      244          N             3   \n",
       "4               Y  C_ID_00007093c1      244          N             1   \n",
       "\n",
       "  category_3  merchant_category_id      merchant_id  month_lag  \\\n",
       "0          C                   705  M_ID_69423b34e4        -12   \n",
       "1          B                   705  M_ID_a33355a1b7        -12   \n",
       "2          B                   307  M_ID_9400cf2342        -12   \n",
       "3          C                   705  M_ID_a33355a1b7        -12   \n",
       "4          B                   307  M_ID_9400cf2342        -11   \n",
       "\n",
       "   purchase_amount        purchase_date  category_2  state_id  subsector_id  \\\n",
       "0         0.037176  2017-02-14 14:00:43         3.0         2            33   \n",
       "1        -0.467415  2017-02-14 15:47:45         3.0         2            33   \n",
       "2        -0.572600  2017-02-16 15:37:58         3.0         2            19   \n",
       "3        -0.331575  2017-02-20 12:19:01         3.0         2            33   \n",
       "4        -0.483944  2017-03-03 00:24:15         3.0         2            19   \n",
       "\n",
       "     target  \n",
       "0  0.134077  \n",
       "1  0.134077  \n",
       "2  0.134077  \n",
       "3  0.134077  \n",
       "4  0.134077  "
      ]
     },
     "execution_count": 7,
     "metadata": {},
     "output_type": "execute_result"
    }
   ],
   "source": [
    "#train_transaction = pd.merge(train_transaction, train[['card_id','target']], on = 'card_id' )\n",
    "train_transaction = pd.read_pickle(path + 'train_transaction.pkl')\n",
    "train_transaction.head()"
   ]
  },
  {
   "cell_type": "code",
   "execution_count": 64,
   "metadata": {
    "ExecuteTime": {
     "end_time": "2019-02-18T06:42:47.111853Z",
     "start_time": "2019-02-18T06:42:41.441913Z"
    }
   },
   "outputs": [
    {
     "data": {
      "text/plain": [
       "category_3\n",
       "A   -0.343042\n",
       "B   -0.583697\n",
       "C   -0.593040\n",
       "D   -0.294603\n",
       "Name: target, dtype: float64"
      ]
     },
     "execution_count": 64,
     "metadata": {},
     "output_type": "execute_result"
    }
   ],
   "source": [
    "train_transaction.groupby('category_3')['target'].mean()"
   ]
  },
  {
   "cell_type": "code",
   "execution_count": 18,
   "metadata": {
    "ExecuteTime": {
     "end_time": "2019-02-18T10:16:22.975098Z",
     "start_time": "2019-02-18T10:16:22.964127Z"
    }
   },
   "outputs": [
    {
     "data": {
      "text/html": [
       "<div>\n",
       "<style scoped>\n",
       "    .dataframe tbody tr th:only-of-type {\n",
       "        vertical-align: middle;\n",
       "    }\n",
       "\n",
       "    .dataframe tbody tr th {\n",
       "        vertical-align: top;\n",
       "    }\n",
       "\n",
       "    .dataframe thead th {\n",
       "        text-align: right;\n",
       "    }\n",
       "</style>\n",
       "<table border=\"1\" class=\"dataframe\">\n",
       "  <thead>\n",
       "    <tr style=\"text-align: right;\">\n",
       "      <th>category_3</th>\n",
       "      <th>A</th>\n",
       "      <th>B</th>\n",
       "      <th>C</th>\n",
       "      <th>D</th>\n",
       "    </tr>\n",
       "    <tr>\n",
       "      <th>card_id</th>\n",
       "      <th></th>\n",
       "      <th></th>\n",
       "      <th></th>\n",
       "      <th></th>\n",
       "    </tr>\n",
       "  </thead>\n",
       "  <tbody>\n",
       "    <tr>\n",
       "      <th>C_ID_00007093c1</th>\n",
       "      <td>0.0</td>\n",
       "      <td>127.0</td>\n",
       "      <td>24.0</td>\n",
       "      <td>0.0</td>\n",
       "    </tr>\n",
       "    <tr>\n",
       "      <th>C_ID_0001238066</th>\n",
       "      <td>0.0</td>\n",
       "      <td>109.0</td>\n",
       "      <td>36.0</td>\n",
       "      <td>4.0</td>\n",
       "    </tr>\n",
       "    <tr>\n",
       "      <th>C_ID_0001506ef0</th>\n",
       "      <td>67.0</td>\n",
       "      <td>1.0</td>\n",
       "      <td>0.0</td>\n",
       "      <td>0.0</td>\n",
       "    </tr>\n",
       "    <tr>\n",
       "      <th>C_ID_0001793786</th>\n",
       "      <td>242.0</td>\n",
       "      <td>5.0</td>\n",
       "      <td>0.0</td>\n",
       "      <td>0.0</td>\n",
       "    </tr>\n",
       "    <tr>\n",
       "      <th>C_ID_000183fdda</th>\n",
       "      <td>0.0</td>\n",
       "      <td>109.0</td>\n",
       "      <td>41.0</td>\n",
       "      <td>5.0</td>\n",
       "    </tr>\n",
       "  </tbody>\n",
       "</table>\n",
       "</div>"
      ],
      "text/plain": [
       "category_3           A      B     C    D\n",
       "card_id                                 \n",
       "C_ID_00007093c1    0.0  127.0  24.0  0.0\n",
       "C_ID_0001238066    0.0  109.0  36.0  4.0\n",
       "C_ID_0001506ef0   67.0    1.0   0.0  0.0\n",
       "C_ID_0001793786  242.0    5.0   0.0  0.0\n",
       "C_ID_000183fdda    0.0  109.0  41.0  5.0"
      ]
     },
     "execution_count": 18,
     "metadata": {},
     "output_type": "execute_result"
    }
   ],
   "source": [
    "category3_count.head()"
   ]
  },
  {
   "cell_type": "code",
   "execution_count": 9,
   "metadata": {
    "ExecuteTime": {
     "end_time": "2019-02-25T09:50:57.130857Z",
     "start_time": "2019-02-25T09:50:56.905459Z"
    }
   },
   "outputs": [],
   "source": [
    "#전체 거래들 중 A와 C의 비율\n",
    "category3_count['Category3_A_rate'] = category3_count['A']/category3_count[['A','B','C']].sum(axis = 1)\n",
    "category3_count['Category3_C_rate'] = category3_count['C']/category3_count[['A','B','C']].sum(axis = 1)"
   ]
  },
  {
   "cell_type": "code",
   "execution_count": 104,
   "metadata": {
    "ExecuteTime": {
     "end_time": "2019-02-18T11:14:25.617901Z",
     "start_time": "2019-02-18T11:14:18.250822Z"
    }
   },
   "outputs": [],
   "source": [
    "train = pd.read_csv(path + 'train2.csv')"
   ]
  },
  {
   "cell_type": "markdown",
   "metadata": {},
   "source": [
    "### test"
   ]
  },
  {
   "cell_type": "code",
   "execution_count": 73,
   "metadata": {
    "ExecuteTime": {
     "end_time": "2019-02-18T10:49:28.757484Z",
     "start_time": "2019-02-18T10:49:22.636185Z"
    }
   },
   "outputs": [
    {
     "data": {
      "text/plain": [
       "LGBMRegressor(boosting_type='gbdt', class_weight=None, colsample_bytree=1.0,\n",
       "       importance_type='split', learning_rate=0.1, max_depth=-1,\n",
       "       min_child_samples=20, min_child_weight=0.001, min_split_gain=0.0,\n",
       "       n_estimators=100, n_jobs=-1, num_leaves=31, objective=None,\n",
       "       random_state=None, reg_alpha=0.0, reg_lambda=0.0, silent=True,\n",
       "       subsample=1.0, subsample_for_bin=200000, subsample_freq=0)"
      ]
     },
     "execution_count": 73,
     "metadata": {},
     "output_type": "execute_result"
    }
   ],
   "source": [
    "x_train = train.drop(['card_id','target'], axis=1)\n",
    "y_train = train['target']\n",
    "lgb.fit(x_train, y_train)"
   ]
  },
  {
   "cell_type": "code",
   "execution_count": 74,
   "metadata": {
    "ExecuteTime": {
     "end_time": "2019-02-18T10:49:40.193669Z",
     "start_time": "2019-02-18T10:49:37.390951Z"
    }
   },
   "outputs": [
    {
     "data": {
      "text/html": [
       "<div>\n",
       "<style scoped>\n",
       "    .dataframe tbody tr th:only-of-type {\n",
       "        vertical-align: middle;\n",
       "    }\n",
       "\n",
       "    .dataframe tbody tr th {\n",
       "        vertical-align: top;\n",
       "    }\n",
       "\n",
       "    .dataframe thead th {\n",
       "        text-align: right;\n",
       "    }\n",
       "</style>\n",
       "<table border=\"1\" class=\"dataframe\">\n",
       "  <thead>\n",
       "    <tr style=\"text-align: right;\">\n",
       "      <th></th>\n",
       "      <th>feature_1</th>\n",
       "      <th>feature_2</th>\n",
       "      <th>feature_3</th>\n",
       "      <th>history_month_nunique</th>\n",
       "      <th>history_hour_nunique</th>\n",
       "      <th>history_weekofyear_nunique</th>\n",
       "      <th>history_dayofweek_nunique</th>\n",
       "      <th>history_year_nunique</th>\n",
       "      <th>history_subsector_id_nunique</th>\n",
       "      <th>history_merchant_id_nunique</th>\n",
       "      <th>history_merchant_category_id_nunique</th>\n",
       "      <th>history_city_id_nunique</th>\n",
       "      <th>history_state_id_nunique</th>\n",
       "      <th>history_installments_sum</th>\n",
       "      <th>history_installments_mean</th>\n",
       "      <th>history_installments_std</th>\n",
       "      <th>history_installments_min</th>\n",
       "      <th>history_installments_max</th>\n",
       "      <th>history_installments_percentile_25</th>\n",
       "      <th>history_installments_percentile_50</th>\n",
       "      <th>history_installments_percentile_75</th>\n",
       "      <th>history_purchase_amount_sum</th>\n",
       "      <th>history_purchase_amount_mean</th>\n",
       "      <th>history_purchase_amount_std</th>\n",
       "      <th>history_purchase_amount_min</th>\n",
       "      <th>history_purchase_amount_max</th>\n",
       "      <th>history_purchase_amount_percentile_25</th>\n",
       "      <th>history_purchase_amount_percentile_50</th>\n",
       "      <th>history_purchase_amount_percentile_75</th>\n",
       "      <th>history_purchase_amount_purchase_amount_over_550</th>\n",
       "      <th>history_purchase_date_purchase_date_duration</th>\n",
       "      <th>history_weekend_sum</th>\n",
       "      <th>history_weekend_mean</th>\n",
       "      <th>history_authorized_flag_authorized_flag_cnt_N</th>\n",
       "      <th>history_authorized_flag_authorized_flag_cnt_Y</th>\n",
       "      <th>history_category_1_category_1_cnt_N</th>\n",
       "      <th>history_category_1_category_1_cnt_Y</th>\n",
       "      <th>history_installments_installments_cnt_-1</th>\n",
       "      <th>history_installments_installments_cnt_0</th>\n",
       "      <th>history_installments_installments_cnt_1</th>\n",
       "      <th>history_installments_installments_cnt_10</th>\n",
       "      <th>history_installments_installments_cnt_11</th>\n",
       "      <th>history_installments_installments_cnt_12</th>\n",
       "      <th>history_installments_installments_cnt_2</th>\n",
       "      <th>history_installments_installments_cnt_3</th>\n",
       "      <th>history_installments_installments_cnt_4</th>\n",
       "      <th>history_installments_installments_cnt_5</th>\n",
       "      <th>history_installments_installments_cnt_6</th>\n",
       "      <th>history_installments_installments_cnt_7</th>\n",
       "      <th>history_installments_installments_cnt_8</th>\n",
       "      <th>history_installments_installments_cnt_9</th>\n",
       "      <th>history_installments_installments_cnt_999</th>\n",
       "      <th>history_category_3_category_3_cnt_A</th>\n",
       "      <th>history_category_3_category_3_cnt_B</th>\n",
       "      <th>history_category_3_category_3_cnt_C</th>\n",
       "      <th>history_category_3_category_3_cnt_NULL</th>\n",
       "      <th>history_month_lag_month_lag_cnt_-1</th>\n",
       "      <th>history_month_lag_month_lag_cnt_-10</th>\n",
       "      <th>history_month_lag_month_lag_cnt_-11</th>\n",
       "      <th>history_month_lag_month_lag_cnt_-12</th>\n",
       "      <th>history_month_lag_month_lag_cnt_-13</th>\n",
       "      <th>history_month_lag_month_lag_cnt_-2</th>\n",
       "      <th>history_month_lag_month_lag_cnt_-3</th>\n",
       "      <th>history_month_lag_month_lag_cnt_-4</th>\n",
       "      <th>history_month_lag_month_lag_cnt_-5</th>\n",
       "      <th>history_month_lag_month_lag_cnt_-6</th>\n",
       "      <th>history_month_lag_month_lag_cnt_-7</th>\n",
       "      <th>history_month_lag_month_lag_cnt_-8</th>\n",
       "      <th>history_month_lag_month_lag_cnt_-9</th>\n",
       "      <th>history_month_lag_month_lag_cnt_0</th>\n",
       "      <th>history_category_2_category_2_cnt_1.0</th>\n",
       "      <th>history_category_2_category_2_cnt_2.0</th>\n",
       "      <th>history_category_2_category_2_cnt_3.0</th>\n",
       "      <th>history_category_2_category_2_cnt_4.0</th>\n",
       "      <th>history_category_2_category_2_cnt_5.0</th>\n",
       "      <th>history_category_2_category_2_cnt_NULL</th>\n",
       "      <th>year</th>\n",
       "      <th>month</th>\n",
       "      <th>authorized</th>\n",
       "      <th>not_authorized</th>\n",
       "      <th>authorized_rate</th>\n",
       "      <th>visit_sum</th>\n",
       "      <th>visit_mean</th>\n",
       "      <th>visit_min</th>\n",
       "      <th>visit_max</th>\n",
       "      <th>visit_nunique</th>\n",
       "      <th>visit_size</th>\n",
       "      <th>visit_mode</th>\n",
       "      <th>try_mean</th>\n",
       "      <th>try_std</th>\n",
       "      <th>try_min</th>\n",
       "      <th>try_max</th>\n",
       "      <th>try_nunique</th>\n",
       "      <th>try_size</th>\n",
       "      <th>try_mode</th>\n",
       "      <th>Ref_mean</th>\n",
       "      <th>Ref_std</th>\n",
       "      <th>Ref_min</th>\n",
       "      <th>Ref_max</th>\n",
       "      <th>Ref_nunique</th>\n",
       "      <th>Ref_size</th>\n",
       "      <th>Ref_mode</th>\n",
       "      <th>Category3_A_rate</th>\n",
       "      <th>Category3_C_rate</th>\n",
       "    </tr>\n",
       "    <tr>\n",
       "      <th>card_id</th>\n",
       "      <th></th>\n",
       "      <th></th>\n",
       "      <th></th>\n",
       "      <th></th>\n",
       "      <th></th>\n",
       "      <th></th>\n",
       "      <th></th>\n",
       "      <th></th>\n",
       "      <th></th>\n",
       "      <th></th>\n",
       "      <th></th>\n",
       "      <th></th>\n",
       "      <th></th>\n",
       "      <th></th>\n",
       "      <th></th>\n",
       "      <th></th>\n",
       "      <th></th>\n",
       "      <th></th>\n",
       "      <th></th>\n",
       "      <th></th>\n",
       "      <th></th>\n",
       "      <th></th>\n",
       "      <th></th>\n",
       "      <th></th>\n",
       "      <th></th>\n",
       "      <th></th>\n",
       "      <th></th>\n",
       "      <th></th>\n",
       "      <th></th>\n",
       "      <th></th>\n",
       "      <th></th>\n",
       "      <th></th>\n",
       "      <th></th>\n",
       "      <th></th>\n",
       "      <th></th>\n",
       "      <th></th>\n",
       "      <th></th>\n",
       "      <th></th>\n",
       "      <th></th>\n",
       "      <th></th>\n",
       "      <th></th>\n",
       "      <th></th>\n",
       "      <th></th>\n",
       "      <th></th>\n",
       "      <th></th>\n",
       "      <th></th>\n",
       "      <th></th>\n",
       "      <th></th>\n",
       "      <th></th>\n",
       "      <th></th>\n",
       "      <th></th>\n",
       "      <th></th>\n",
       "      <th></th>\n",
       "      <th></th>\n",
       "      <th></th>\n",
       "      <th></th>\n",
       "      <th></th>\n",
       "      <th></th>\n",
       "      <th></th>\n",
       "      <th></th>\n",
       "      <th></th>\n",
       "      <th></th>\n",
       "      <th></th>\n",
       "      <th></th>\n",
       "      <th></th>\n",
       "      <th></th>\n",
       "      <th></th>\n",
       "      <th></th>\n",
       "      <th></th>\n",
       "      <th></th>\n",
       "      <th></th>\n",
       "      <th></th>\n",
       "      <th></th>\n",
       "      <th></th>\n",
       "      <th></th>\n",
       "      <th></th>\n",
       "      <th></th>\n",
       "      <th></th>\n",
       "      <th></th>\n",
       "      <th></th>\n",
       "      <th></th>\n",
       "      <th></th>\n",
       "      <th></th>\n",
       "      <th></th>\n",
       "      <th></th>\n",
       "      <th></th>\n",
       "      <th></th>\n",
       "      <th></th>\n",
       "      <th></th>\n",
       "      <th></th>\n",
       "      <th></th>\n",
       "      <th></th>\n",
       "      <th></th>\n",
       "      <th></th>\n",
       "      <th></th>\n",
       "      <th></th>\n",
       "      <th></th>\n",
       "      <th></th>\n",
       "      <th></th>\n",
       "      <th></th>\n",
       "      <th></th>\n",
       "      <th></th>\n",
       "      <th></th>\n",
       "      <th></th>\n",
       "    </tr>\n",
       "  </thead>\n",
       "  <tbody>\n",
       "    <tr>\n",
       "      <th>C_ID_0ab67a22ab</th>\n",
       "      <td>3</td>\n",
       "      <td>3</td>\n",
       "      <td>1</td>\n",
       "      <td>9</td>\n",
       "      <td>17</td>\n",
       "      <td>24</td>\n",
       "      <td>7</td>\n",
       "      <td>1</td>\n",
       "      <td>12</td>\n",
       "      <td>24</td>\n",
       "      <td>16</td>\n",
       "      <td>7</td>\n",
       "      <td>3</td>\n",
       "      <td>141</td>\n",
       "      <td>2.073529</td>\n",
       "      <td>2.061127</td>\n",
       "      <td>1</td>\n",
       "      <td>12</td>\n",
       "      <td>1.0</td>\n",
       "      <td>1.0</td>\n",
       "      <td>2.00</td>\n",
       "      <td>-40.733733</td>\n",
       "      <td>-0.599025</td>\n",
       "      <td>0.192268</td>\n",
       "      <td>-0.743902</td>\n",
       "      <td>0.235676</td>\n",
       "      <td>-0.716855</td>\n",
       "      <td>-0.689206</td>\n",
       "      <td>-0.552033</td>\n",
       "      <td>0.0</td>\n",
       "      <td>23179380</td>\n",
       "      <td>12</td>\n",
       "      <td>0.176471</td>\n",
       "      <td>24</td>\n",
       "      <td>44</td>\n",
       "      <td>45</td>\n",
       "      <td>23</td>\n",
       "      <td>0</td>\n",
       "      <td>0</td>\n",
       "      <td>46</td>\n",
       "      <td>0</td>\n",
       "      <td>0</td>\n",
       "      <td>1</td>\n",
       "      <td>7</td>\n",
       "      <td>2</td>\n",
       "      <td>4</td>\n",
       "      <td>1</td>\n",
       "      <td>7</td>\n",
       "      <td>0</td>\n",
       "      <td>0</td>\n",
       "      <td>0</td>\n",
       "      <td>0</td>\n",
       "      <td>0</td>\n",
       "      <td>46</td>\n",
       "      <td>22</td>\n",
       "      <td>0</td>\n",
       "      <td>4</td>\n",
       "      <td>0</td>\n",
       "      <td>0</td>\n",
       "      <td>0</td>\n",
       "      <td>0</td>\n",
       "      <td>11</td>\n",
       "      <td>9</td>\n",
       "      <td>11</td>\n",
       "      <td>2</td>\n",
       "      <td>11</td>\n",
       "      <td>6</td>\n",
       "      <td>4</td>\n",
       "      <td>0</td>\n",
       "      <td>10</td>\n",
       "      <td>45</td>\n",
       "      <td>0</td>\n",
       "      <td>0</td>\n",
       "      <td>0</td>\n",
       "      <td>0</td>\n",
       "      <td>23</td>\n",
       "      <td>2017.0</td>\n",
       "      <td>4.0</td>\n",
       "      <td>47.0</td>\n",
       "      <td>24.0</td>\n",
       "      <td>0.510638</td>\n",
       "      <td>71</td>\n",
       "      <td>2.629630</td>\n",
       "      <td>1</td>\n",
       "      <td>23</td>\n",
       "      <td>6</td>\n",
       "      <td>27</td>\n",
       "      <td>15</td>\n",
       "      <td>1.392157</td>\n",
       "      <td>0.801958</td>\n",
       "      <td>1</td>\n",
       "      <td>5</td>\n",
       "      <td>4</td>\n",
       "      <td>51</td>\n",
       "      <td>38</td>\n",
       "      <td>245.873239</td>\n",
       "      <td>81.013567</td>\n",
       "      <td>93</td>\n",
       "      <td>423</td>\n",
       "      <td>43</td>\n",
       "      <td>71</td>\n",
       "      <td>6</td>\n",
       "      <td>0.0</td>\n",
       "      <td>0.323944</td>\n",
       "    </tr>\n",
       "    <tr>\n",
       "      <th>C_ID_130fd0cbdd</th>\n",
       "      <td>2</td>\n",
       "      <td>3</td>\n",
       "      <td>0</td>\n",
       "      <td>5</td>\n",
       "      <td>18</td>\n",
       "      <td>20</td>\n",
       "      <td>7</td>\n",
       "      <td>2</td>\n",
       "      <td>12</td>\n",
       "      <td>27</td>\n",
       "      <td>16</td>\n",
       "      <td>4</td>\n",
       "      <td>3</td>\n",
       "      <td>83</td>\n",
       "      <td>1.064103</td>\n",
       "      <td>0.405794</td>\n",
       "      <td>1</td>\n",
       "      <td>4</td>\n",
       "      <td>1.0</td>\n",
       "      <td>1.0</td>\n",
       "      <td>1.00</td>\n",
       "      <td>-49.136513</td>\n",
       "      <td>-0.629955</td>\n",
       "      <td>0.154999</td>\n",
       "      <td>-0.731881</td>\n",
       "      <td>0.318818</td>\n",
       "      <td>-0.701723</td>\n",
       "      <td>-0.679288</td>\n",
       "      <td>-0.639367</td>\n",
       "      <td>0.0</td>\n",
       "      <td>34667913</td>\n",
       "      <td>17</td>\n",
       "      <td>0.217949</td>\n",
       "      <td>1</td>\n",
       "      <td>77</td>\n",
       "      <td>76</td>\n",
       "      <td>2</td>\n",
       "      <td>0</td>\n",
       "      <td>0</td>\n",
       "      <td>76</td>\n",
       "      <td>0</td>\n",
       "      <td>0</td>\n",
       "      <td>0</td>\n",
       "      <td>0</td>\n",
       "      <td>1</td>\n",
       "      <td>1</td>\n",
       "      <td>0</td>\n",
       "      <td>0</td>\n",
       "      <td>0</td>\n",
       "      <td>0</td>\n",
       "      <td>0</td>\n",
       "      <td>0</td>\n",
       "      <td>0</td>\n",
       "      <td>76</td>\n",
       "      <td>2</td>\n",
       "      <td>0</td>\n",
       "      <td>0</td>\n",
       "      <td>23</td>\n",
       "      <td>14</td>\n",
       "      <td>11</td>\n",
       "      <td>11</td>\n",
       "      <td>0</td>\n",
       "      <td>0</td>\n",
       "      <td>0</td>\n",
       "      <td>0</td>\n",
       "      <td>0</td>\n",
       "      <td>0</td>\n",
       "      <td>0</td>\n",
       "      <td>17</td>\n",
       "      <td>2</td>\n",
       "      <td>0</td>\n",
       "      <td>0</td>\n",
       "      <td>1</td>\n",
       "      <td>75</td>\n",
       "      <td>0</td>\n",
       "      <td>2</td>\n",
       "      <td>2017.0</td>\n",
       "      <td>1.0</td>\n",
       "      <td>86.0</td>\n",
       "      <td>1.0</td>\n",
       "      <td>0.011628</td>\n",
       "      <td>87</td>\n",
       "      <td>2.416667</td>\n",
       "      <td>1</td>\n",
       "      <td>8</td>\n",
       "      <td>7</td>\n",
       "      <td>36</td>\n",
       "      <td>20</td>\n",
       "      <td>1.011628</td>\n",
       "      <td>0.107833</td>\n",
       "      <td>1</td>\n",
       "      <td>2</td>\n",
       "      <td>2</td>\n",
       "      <td>86</td>\n",
       "      <td>85</td>\n",
       "      <td>130.022989</td>\n",
       "      <td>124.733947</td>\n",
       "      <td>12</td>\n",
       "      <td>474</td>\n",
       "      <td>66</td>\n",
       "      <td>87</td>\n",
       "      <td>6</td>\n",
       "      <td>0.0</td>\n",
       "      <td>0.034483</td>\n",
       "    </tr>\n",
       "    <tr>\n",
       "      <th>C_ID_b709037bc5</th>\n",
       "      <td>5</td>\n",
       "      <td>1</td>\n",
       "      <td>1</td>\n",
       "      <td>6</td>\n",
       "      <td>7</td>\n",
       "      <td>7</td>\n",
       "      <td>4</td>\n",
       "      <td>2</td>\n",
       "      <td>6</td>\n",
       "      <td>9</td>\n",
       "      <td>8</td>\n",
       "      <td>4</td>\n",
       "      <td>4</td>\n",
       "      <td>44</td>\n",
       "      <td>3.384615</td>\n",
       "      <td>3.686427</td>\n",
       "      <td>-1</td>\n",
       "      <td>10</td>\n",
       "      <td>1.0</td>\n",
       "      <td>4.0</td>\n",
       "      <td>4.00</td>\n",
       "      <td>4.528840</td>\n",
       "      <td>0.348372</td>\n",
       "      <td>0.906547</td>\n",
       "      <td>-0.536537</td>\n",
       "      <td>2.525866</td>\n",
       "      <td>-0.326466</td>\n",
       "      <td>0.214624</td>\n",
       "      <td>0.410134</td>\n",
       "      <td>0.0</td>\n",
       "      <td>13924886</td>\n",
       "      <td>0</td>\n",
       "      <td>0.000000</td>\n",
       "      <td>4</td>\n",
       "      <td>9</td>\n",
       "      <td>12</td>\n",
       "      <td>1</td>\n",
       "      <td>3</td>\n",
       "      <td>0</td>\n",
       "      <td>1</td>\n",
       "      <td>2</td>\n",
       "      <td>0</td>\n",
       "      <td>0</td>\n",
       "      <td>2</td>\n",
       "      <td>0</td>\n",
       "      <td>4</td>\n",
       "      <td>0</td>\n",
       "      <td>1</td>\n",
       "      <td>0</td>\n",
       "      <td>0</td>\n",
       "      <td>0</td>\n",
       "      <td>0</td>\n",
       "      <td>0</td>\n",
       "      <td>1</td>\n",
       "      <td>9</td>\n",
       "      <td>3</td>\n",
       "      <td>2</td>\n",
       "      <td>0</td>\n",
       "      <td>0</td>\n",
       "      <td>0</td>\n",
       "      <td>0</td>\n",
       "      <td>3</td>\n",
       "      <td>3</td>\n",
       "      <td>1</td>\n",
       "      <td>0</td>\n",
       "      <td>1</td>\n",
       "      <td>0</td>\n",
       "      <td>0</td>\n",
       "      <td>0</td>\n",
       "      <td>3</td>\n",
       "      <td>1</td>\n",
       "      <td>0</td>\n",
       "      <td>0</td>\n",
       "      <td>0</td>\n",
       "      <td>11</td>\n",
       "      <td>1</td>\n",
       "      <td>2017.0</td>\n",
       "      <td>8.0</td>\n",
       "      <td>11.0</td>\n",
       "      <td>4.0</td>\n",
       "      <td>0.363636</td>\n",
       "      <td>15</td>\n",
       "      <td>1.363636</td>\n",
       "      <td>1</td>\n",
       "      <td>3</td>\n",
       "      <td>3</td>\n",
       "      <td>11</td>\n",
       "      <td>8</td>\n",
       "      <td>1.153846</td>\n",
       "      <td>0.375534</td>\n",
       "      <td>1</td>\n",
       "      <td>2</td>\n",
       "      <td>2</td>\n",
       "      <td>13</td>\n",
       "      <td>11</td>\n",
       "      <td>351.666667</td>\n",
       "      <td>55.568062</td>\n",
       "      <td>236</td>\n",
       "      <td>436</td>\n",
       "      <td>9</td>\n",
       "      <td>15</td>\n",
       "      <td>3</td>\n",
       "      <td>0.0</td>\n",
       "      <td>0.833333</td>\n",
       "    </tr>\n",
       "    <tr>\n",
       "      <th>C_ID_d27d835a9f</th>\n",
       "      <td>2</td>\n",
       "      <td>1</td>\n",
       "      <td>0</td>\n",
       "      <td>3</td>\n",
       "      <td>9</td>\n",
       "      <td>6</td>\n",
       "      <td>7</td>\n",
       "      <td>2</td>\n",
       "      <td>11</td>\n",
       "      <td>23</td>\n",
       "      <td>18</td>\n",
       "      <td>1</td>\n",
       "      <td>1</td>\n",
       "      <td>38</td>\n",
       "      <td>1.461538</td>\n",
       "      <td>1.475961</td>\n",
       "      <td>-1</td>\n",
       "      <td>6</td>\n",
       "      <td>1.0</td>\n",
       "      <td>1.0</td>\n",
       "      <td>1.75</td>\n",
       "      <td>-13.690715</td>\n",
       "      <td>-0.526566</td>\n",
       "      <td>0.219162</td>\n",
       "      <td>-0.731881</td>\n",
       "      <td>0.087965</td>\n",
       "      <td>-0.672301</td>\n",
       "      <td>-0.587492</td>\n",
       "      <td>-0.473016</td>\n",
       "      <td>0.0</td>\n",
       "      <td>6734846</td>\n",
       "      <td>7</td>\n",
       "      <td>0.269231</td>\n",
       "      <td>0</td>\n",
       "      <td>26</td>\n",
       "      <td>26</td>\n",
       "      <td>0</td>\n",
       "      <td>2</td>\n",
       "      <td>0</td>\n",
       "      <td>17</td>\n",
       "      <td>0</td>\n",
       "      <td>0</td>\n",
       "      <td>0</td>\n",
       "      <td>3</td>\n",
       "      <td>2</td>\n",
       "      <td>0</td>\n",
       "      <td>1</td>\n",
       "      <td>1</td>\n",
       "      <td>0</td>\n",
       "      <td>0</td>\n",
       "      <td>0</td>\n",
       "      <td>0</td>\n",
       "      <td>0</td>\n",
       "      <td>17</td>\n",
       "      <td>7</td>\n",
       "      <td>2</td>\n",
       "      <td>2</td>\n",
       "      <td>0</td>\n",
       "      <td>0</td>\n",
       "      <td>0</td>\n",
       "      <td>0</td>\n",
       "      <td>15</td>\n",
       "      <td>0</td>\n",
       "      <td>0</td>\n",
       "      <td>0</td>\n",
       "      <td>0</td>\n",
       "      <td>0</td>\n",
       "      <td>0</td>\n",
       "      <td>0</td>\n",
       "      <td>9</td>\n",
       "      <td>26</td>\n",
       "      <td>0</td>\n",
       "      <td>0</td>\n",
       "      <td>0</td>\n",
       "      <td>0</td>\n",
       "      <td>0</td>\n",
       "      <td>2017.0</td>\n",
       "      <td>12.0</td>\n",
       "      <td>36.0</td>\n",
       "      <td>0.0</td>\n",
       "      <td>0.000000</td>\n",
       "      <td>36</td>\n",
       "      <td>1.090909</td>\n",
       "      <td>1</td>\n",
       "      <td>3</td>\n",
       "      <td>3</td>\n",
       "      <td>33</td>\n",
       "      <td>31</td>\n",
       "      <td>1.000000</td>\n",
       "      <td>0.000000</td>\n",
       "      <td>1</td>\n",
       "      <td>1</td>\n",
       "      <td>1</td>\n",
       "      <td>36</td>\n",
       "      <td>36</td>\n",
       "      <td>389.833333</td>\n",
       "      <td>45.811103</td>\n",
       "      <td>337</td>\n",
       "      <td>471</td>\n",
       "      <td>21</td>\n",
       "      <td>36</td>\n",
       "      <td>4</td>\n",
       "      <td>0.0</td>\n",
       "      <td>0.352941</td>\n",
       "    </tr>\n",
       "    <tr>\n",
       "      <th>C_ID_2b5e3df5c2</th>\n",
       "      <td>5</td>\n",
       "      <td>1</td>\n",
       "      <td>1</td>\n",
       "      <td>12</td>\n",
       "      <td>21</td>\n",
       "      <td>34</td>\n",
       "      <td>7</td>\n",
       "      <td>2</td>\n",
       "      <td>15</td>\n",
       "      <td>47</td>\n",
       "      <td>31</td>\n",
       "      <td>5</td>\n",
       "      <td>4</td>\n",
       "      <td>120</td>\n",
       "      <td>1.090909</td>\n",
       "      <td>0.439880</td>\n",
       "      <td>1</td>\n",
       "      <td>4</td>\n",
       "      <td>1.0</td>\n",
       "      <td>1.0</td>\n",
       "      <td>1.00</td>\n",
       "      <td>25.139384</td>\n",
       "      <td>0.228540</td>\n",
       "      <td>2.777764</td>\n",
       "      <td>-0.746758</td>\n",
       "      <td>15.782255</td>\n",
       "      <td>-0.722189</td>\n",
       "      <td>-0.671775</td>\n",
       "      <td>-0.365310</td>\n",
       "      <td>0.0</td>\n",
       "      <td>36283897</td>\n",
       "      <td>21</td>\n",
       "      <td>0.190909</td>\n",
       "      <td>23</td>\n",
       "      <td>87</td>\n",
       "      <td>110</td>\n",
       "      <td>0</td>\n",
       "      <td>0</td>\n",
       "      <td>0</td>\n",
       "      <td>104</td>\n",
       "      <td>0</td>\n",
       "      <td>0</td>\n",
       "      <td>0</td>\n",
       "      <td>4</td>\n",
       "      <td>0</td>\n",
       "      <td>2</td>\n",
       "      <td>0</td>\n",
       "      <td>0</td>\n",
       "      <td>0</td>\n",
       "      <td>0</td>\n",
       "      <td>0</td>\n",
       "      <td>0</td>\n",
       "      <td>0</td>\n",
       "      <td>104</td>\n",
       "      <td>6</td>\n",
       "      <td>0</td>\n",
       "      <td>4</td>\n",
       "      <td>8</td>\n",
       "      <td>18</td>\n",
       "      <td>2</td>\n",
       "      <td>9</td>\n",
       "      <td>5</td>\n",
       "      <td>1</td>\n",
       "      <td>10</td>\n",
       "      <td>7</td>\n",
       "      <td>5</td>\n",
       "      <td>8</td>\n",
       "      <td>2</td>\n",
       "      <td>8</td>\n",
       "      <td>23</td>\n",
       "      <td>4</td>\n",
       "      <td>0</td>\n",
       "      <td>5</td>\n",
       "      <td>101</td>\n",
       "      <td>0</td>\n",
       "      <td>0</td>\n",
       "      <td>2015.0</td>\n",
       "      <td>12.0</td>\n",
       "      <td>93.0</td>\n",
       "      <td>23.0</td>\n",
       "      <td>0.247312</td>\n",
       "      <td>116</td>\n",
       "      <td>2.188679</td>\n",
       "      <td>1</td>\n",
       "      <td>26</td>\n",
       "      <td>7</td>\n",
       "      <td>53</td>\n",
       "      <td>35</td>\n",
       "      <td>1.247312</td>\n",
       "      <td>0.732119</td>\n",
       "      <td>1</td>\n",
       "      <td>6</td>\n",
       "      <td>5</td>\n",
       "      <td>93</td>\n",
       "      <td>79</td>\n",
       "      <td>228.879310</td>\n",
       "      <td>146.461104</td>\n",
       "      <td>2</td>\n",
       "      <td>466</td>\n",
       "      <td>75</td>\n",
       "      <td>116</td>\n",
       "      <td>6</td>\n",
       "      <td>0.0</td>\n",
       "      <td>0.060870</td>\n",
       "    </tr>\n",
       "  </tbody>\n",
       "</table>\n",
       "</div>"
      ],
      "text/plain": [
       "                 feature_1  feature_2  feature_3  history_month_nunique  \\\n",
       "card_id                                                                   \n",
       "C_ID_0ab67a22ab          3          3          1                      9   \n",
       "C_ID_130fd0cbdd          2          3          0                      5   \n",
       "C_ID_b709037bc5          5          1          1                      6   \n",
       "C_ID_d27d835a9f          2          1          0                      3   \n",
       "C_ID_2b5e3df5c2          5          1          1                     12   \n",
       "\n",
       "                 history_hour_nunique  history_weekofyear_nunique  \\\n",
       "card_id                                                             \n",
       "C_ID_0ab67a22ab                    17                          24   \n",
       "C_ID_130fd0cbdd                    18                          20   \n",
       "C_ID_b709037bc5                     7                           7   \n",
       "C_ID_d27d835a9f                     9                           6   \n",
       "C_ID_2b5e3df5c2                    21                          34   \n",
       "\n",
       "                 history_dayofweek_nunique  history_year_nunique  \\\n",
       "card_id                                                            \n",
       "C_ID_0ab67a22ab                          7                     1   \n",
       "C_ID_130fd0cbdd                          7                     2   \n",
       "C_ID_b709037bc5                          4                     2   \n",
       "C_ID_d27d835a9f                          7                     2   \n",
       "C_ID_2b5e3df5c2                          7                     2   \n",
       "\n",
       "                 history_subsector_id_nunique  history_merchant_id_nunique  \\\n",
       "card_id                                                                      \n",
       "C_ID_0ab67a22ab                            12                           24   \n",
       "C_ID_130fd0cbdd                            12                           27   \n",
       "C_ID_b709037bc5                             6                            9   \n",
       "C_ID_d27d835a9f                            11                           23   \n",
       "C_ID_2b5e3df5c2                            15                           47   \n",
       "\n",
       "                 history_merchant_category_id_nunique  \\\n",
       "card_id                                                 \n",
       "C_ID_0ab67a22ab                                    16   \n",
       "C_ID_130fd0cbdd                                    16   \n",
       "C_ID_b709037bc5                                     8   \n",
       "C_ID_d27d835a9f                                    18   \n",
       "C_ID_2b5e3df5c2                                    31   \n",
       "\n",
       "                 history_city_id_nunique  history_state_id_nunique  \\\n",
       "card_id                                                              \n",
       "C_ID_0ab67a22ab                        7                         3   \n",
       "C_ID_130fd0cbdd                        4                         3   \n",
       "C_ID_b709037bc5                        4                         4   \n",
       "C_ID_d27d835a9f                        1                         1   \n",
       "C_ID_2b5e3df5c2                        5                         4   \n",
       "\n",
       "                 history_installments_sum  history_installments_mean  \\\n",
       "card_id                                                                \n",
       "C_ID_0ab67a22ab                       141                   2.073529   \n",
       "C_ID_130fd0cbdd                        83                   1.064103   \n",
       "C_ID_b709037bc5                        44                   3.384615   \n",
       "C_ID_d27d835a9f                        38                   1.461538   \n",
       "C_ID_2b5e3df5c2                       120                   1.090909   \n",
       "\n",
       "                 history_installments_std  history_installments_min  \\\n",
       "card_id                                                               \n",
       "C_ID_0ab67a22ab                  2.061127                         1   \n",
       "C_ID_130fd0cbdd                  0.405794                         1   \n",
       "C_ID_b709037bc5                  3.686427                        -1   \n",
       "C_ID_d27d835a9f                  1.475961                        -1   \n",
       "C_ID_2b5e3df5c2                  0.439880                         1   \n",
       "\n",
       "                 history_installments_max  history_installments_percentile_25  \\\n",
       "card_id                                                                         \n",
       "C_ID_0ab67a22ab                        12                                 1.0   \n",
       "C_ID_130fd0cbdd                         4                                 1.0   \n",
       "C_ID_b709037bc5                        10                                 1.0   \n",
       "C_ID_d27d835a9f                         6                                 1.0   \n",
       "C_ID_2b5e3df5c2                         4                                 1.0   \n",
       "\n",
       "                 history_installments_percentile_50  \\\n",
       "card_id                                               \n",
       "C_ID_0ab67a22ab                                 1.0   \n",
       "C_ID_130fd0cbdd                                 1.0   \n",
       "C_ID_b709037bc5                                 4.0   \n",
       "C_ID_d27d835a9f                                 1.0   \n",
       "C_ID_2b5e3df5c2                                 1.0   \n",
       "\n",
       "                 history_installments_percentile_75  \\\n",
       "card_id                                               \n",
       "C_ID_0ab67a22ab                                2.00   \n",
       "C_ID_130fd0cbdd                                1.00   \n",
       "C_ID_b709037bc5                                4.00   \n",
       "C_ID_d27d835a9f                                1.75   \n",
       "C_ID_2b5e3df5c2                                1.00   \n",
       "\n",
       "                 history_purchase_amount_sum  history_purchase_amount_mean  \\\n",
       "card_id                                                                      \n",
       "C_ID_0ab67a22ab                   -40.733733                     -0.599025   \n",
       "C_ID_130fd0cbdd                   -49.136513                     -0.629955   \n",
       "C_ID_b709037bc5                     4.528840                      0.348372   \n",
       "C_ID_d27d835a9f                   -13.690715                     -0.526566   \n",
       "C_ID_2b5e3df5c2                    25.139384                      0.228540   \n",
       "\n",
       "                 history_purchase_amount_std  history_purchase_amount_min  \\\n",
       "card_id                                                                     \n",
       "C_ID_0ab67a22ab                     0.192268                    -0.743902   \n",
       "C_ID_130fd0cbdd                     0.154999                    -0.731881   \n",
       "C_ID_b709037bc5                     0.906547                    -0.536537   \n",
       "C_ID_d27d835a9f                     0.219162                    -0.731881   \n",
       "C_ID_2b5e3df5c2                     2.777764                    -0.746758   \n",
       "\n",
       "                 history_purchase_amount_max  \\\n",
       "card_id                                        \n",
       "C_ID_0ab67a22ab                     0.235676   \n",
       "C_ID_130fd0cbdd                     0.318818   \n",
       "C_ID_b709037bc5                     2.525866   \n",
       "C_ID_d27d835a9f                     0.087965   \n",
       "C_ID_2b5e3df5c2                    15.782255   \n",
       "\n",
       "                 history_purchase_amount_percentile_25  \\\n",
       "card_id                                                  \n",
       "C_ID_0ab67a22ab                              -0.716855   \n",
       "C_ID_130fd0cbdd                              -0.701723   \n",
       "C_ID_b709037bc5                              -0.326466   \n",
       "C_ID_d27d835a9f                              -0.672301   \n",
       "C_ID_2b5e3df5c2                              -0.722189   \n",
       "\n",
       "                 history_purchase_amount_percentile_50  \\\n",
       "card_id                                                  \n",
       "C_ID_0ab67a22ab                              -0.689206   \n",
       "C_ID_130fd0cbdd                              -0.679288   \n",
       "C_ID_b709037bc5                               0.214624   \n",
       "C_ID_d27d835a9f                              -0.587492   \n",
       "C_ID_2b5e3df5c2                              -0.671775   \n",
       "\n",
       "                 history_purchase_amount_percentile_75  \\\n",
       "card_id                                                  \n",
       "C_ID_0ab67a22ab                              -0.552033   \n",
       "C_ID_130fd0cbdd                              -0.639367   \n",
       "C_ID_b709037bc5                               0.410134   \n",
       "C_ID_d27d835a9f                              -0.473016   \n",
       "C_ID_2b5e3df5c2                              -0.365310   \n",
       "\n",
       "                 history_purchase_amount_purchase_amount_over_550  \\\n",
       "card_id                                                             \n",
       "C_ID_0ab67a22ab                                               0.0   \n",
       "C_ID_130fd0cbdd                                               0.0   \n",
       "C_ID_b709037bc5                                               0.0   \n",
       "C_ID_d27d835a9f                                               0.0   \n",
       "C_ID_2b5e3df5c2                                               0.0   \n",
       "\n",
       "                 history_purchase_date_purchase_date_duration  \\\n",
       "card_id                                                         \n",
       "C_ID_0ab67a22ab                                      23179380   \n",
       "C_ID_130fd0cbdd                                      34667913   \n",
       "C_ID_b709037bc5                                      13924886   \n",
       "C_ID_d27d835a9f                                       6734846   \n",
       "C_ID_2b5e3df5c2                                      36283897   \n",
       "\n",
       "                 history_weekend_sum  history_weekend_mean  \\\n",
       "card_id                                                      \n",
       "C_ID_0ab67a22ab                   12              0.176471   \n",
       "C_ID_130fd0cbdd                   17              0.217949   \n",
       "C_ID_b709037bc5                    0              0.000000   \n",
       "C_ID_d27d835a9f                    7              0.269231   \n",
       "C_ID_2b5e3df5c2                   21              0.190909   \n",
       "\n",
       "                 history_authorized_flag_authorized_flag_cnt_N  \\\n",
       "card_id                                                          \n",
       "C_ID_0ab67a22ab                                             24   \n",
       "C_ID_130fd0cbdd                                              1   \n",
       "C_ID_b709037bc5                                              4   \n",
       "C_ID_d27d835a9f                                              0   \n",
       "C_ID_2b5e3df5c2                                             23   \n",
       "\n",
       "                 history_authorized_flag_authorized_flag_cnt_Y  \\\n",
       "card_id                                                          \n",
       "C_ID_0ab67a22ab                                             44   \n",
       "C_ID_130fd0cbdd                                             77   \n",
       "C_ID_b709037bc5                                              9   \n",
       "C_ID_d27d835a9f                                             26   \n",
       "C_ID_2b5e3df5c2                                             87   \n",
       "\n",
       "                 history_category_1_category_1_cnt_N  \\\n",
       "card_id                                                \n",
       "C_ID_0ab67a22ab                                   45   \n",
       "C_ID_130fd0cbdd                                   76   \n",
       "C_ID_b709037bc5                                   12   \n",
       "C_ID_d27d835a9f                                   26   \n",
       "C_ID_2b5e3df5c2                                  110   \n",
       "\n",
       "                 history_category_1_category_1_cnt_Y  \\\n",
       "card_id                                                \n",
       "C_ID_0ab67a22ab                                   23   \n",
       "C_ID_130fd0cbdd                                    2   \n",
       "C_ID_b709037bc5                                    1   \n",
       "C_ID_d27d835a9f                                    0   \n",
       "C_ID_2b5e3df5c2                                    0   \n",
       "\n",
       "                 history_installments_installments_cnt_-1  \\\n",
       "card_id                                                     \n",
       "C_ID_0ab67a22ab                                         0   \n",
       "C_ID_130fd0cbdd                                         0   \n",
       "C_ID_b709037bc5                                         3   \n",
       "C_ID_d27d835a9f                                         2   \n",
       "C_ID_2b5e3df5c2                                         0   \n",
       "\n",
       "                 history_installments_installments_cnt_0  \\\n",
       "card_id                                                    \n",
       "C_ID_0ab67a22ab                                        0   \n",
       "C_ID_130fd0cbdd                                        0   \n",
       "C_ID_b709037bc5                                        0   \n",
       "C_ID_d27d835a9f                                        0   \n",
       "C_ID_2b5e3df5c2                                        0   \n",
       "\n",
       "                 history_installments_installments_cnt_1  \\\n",
       "card_id                                                    \n",
       "C_ID_0ab67a22ab                                       46   \n",
       "C_ID_130fd0cbdd                                       76   \n",
       "C_ID_b709037bc5                                        1   \n",
       "C_ID_d27d835a9f                                       17   \n",
       "C_ID_2b5e3df5c2                                      104   \n",
       "\n",
       "                 history_installments_installments_cnt_10  \\\n",
       "card_id                                                     \n",
       "C_ID_0ab67a22ab                                         0   \n",
       "C_ID_130fd0cbdd                                         0   \n",
       "C_ID_b709037bc5                                         2   \n",
       "C_ID_d27d835a9f                                         0   \n",
       "C_ID_2b5e3df5c2                                         0   \n",
       "\n",
       "                 history_installments_installments_cnt_11  \\\n",
       "card_id                                                     \n",
       "C_ID_0ab67a22ab                                         0   \n",
       "C_ID_130fd0cbdd                                         0   \n",
       "C_ID_b709037bc5                                         0   \n",
       "C_ID_d27d835a9f                                         0   \n",
       "C_ID_2b5e3df5c2                                         0   \n",
       "\n",
       "                 history_installments_installments_cnt_12  \\\n",
       "card_id                                                     \n",
       "C_ID_0ab67a22ab                                         1   \n",
       "C_ID_130fd0cbdd                                         0   \n",
       "C_ID_b709037bc5                                         0   \n",
       "C_ID_d27d835a9f                                         0   \n",
       "C_ID_2b5e3df5c2                                         0   \n",
       "\n",
       "                 history_installments_installments_cnt_2  \\\n",
       "card_id                                                    \n",
       "C_ID_0ab67a22ab                                        7   \n",
       "C_ID_130fd0cbdd                                        0   \n",
       "C_ID_b709037bc5                                        2   \n",
       "C_ID_d27d835a9f                                        3   \n",
       "C_ID_2b5e3df5c2                                        4   \n",
       "\n",
       "                 history_installments_installments_cnt_3  \\\n",
       "card_id                                                    \n",
       "C_ID_0ab67a22ab                                        2   \n",
       "C_ID_130fd0cbdd                                        1   \n",
       "C_ID_b709037bc5                                        0   \n",
       "C_ID_d27d835a9f                                        2   \n",
       "C_ID_2b5e3df5c2                                        0   \n",
       "\n",
       "                 history_installments_installments_cnt_4  \\\n",
       "card_id                                                    \n",
       "C_ID_0ab67a22ab                                        4   \n",
       "C_ID_130fd0cbdd                                        1   \n",
       "C_ID_b709037bc5                                        4   \n",
       "C_ID_d27d835a9f                                        0   \n",
       "C_ID_2b5e3df5c2                                        2   \n",
       "\n",
       "                 history_installments_installments_cnt_5  \\\n",
       "card_id                                                    \n",
       "C_ID_0ab67a22ab                                        1   \n",
       "C_ID_130fd0cbdd                                        0   \n",
       "C_ID_b709037bc5                                        0   \n",
       "C_ID_d27d835a9f                                        1   \n",
       "C_ID_2b5e3df5c2                                        0   \n",
       "\n",
       "                 history_installments_installments_cnt_6  \\\n",
       "card_id                                                    \n",
       "C_ID_0ab67a22ab                                        7   \n",
       "C_ID_130fd0cbdd                                        0   \n",
       "C_ID_b709037bc5                                        1   \n",
       "C_ID_d27d835a9f                                        1   \n",
       "C_ID_2b5e3df5c2                                        0   \n",
       "\n",
       "                 history_installments_installments_cnt_7  \\\n",
       "card_id                                                    \n",
       "C_ID_0ab67a22ab                                        0   \n",
       "C_ID_130fd0cbdd                                        0   \n",
       "C_ID_b709037bc5                                        0   \n",
       "C_ID_d27d835a9f                                        0   \n",
       "C_ID_2b5e3df5c2                                        0   \n",
       "\n",
       "                 history_installments_installments_cnt_8  \\\n",
       "card_id                                                    \n",
       "C_ID_0ab67a22ab                                        0   \n",
       "C_ID_130fd0cbdd                                        0   \n",
       "C_ID_b709037bc5                                        0   \n",
       "C_ID_d27d835a9f                                        0   \n",
       "C_ID_2b5e3df5c2                                        0   \n",
       "\n",
       "                 history_installments_installments_cnt_9  \\\n",
       "card_id                                                    \n",
       "C_ID_0ab67a22ab                                        0   \n",
       "C_ID_130fd0cbdd                                        0   \n",
       "C_ID_b709037bc5                                        0   \n",
       "C_ID_d27d835a9f                                        0   \n",
       "C_ID_2b5e3df5c2                                        0   \n",
       "\n",
       "                 history_installments_installments_cnt_999  \\\n",
       "card_id                                                      \n",
       "C_ID_0ab67a22ab                                          0   \n",
       "C_ID_130fd0cbdd                                          0   \n",
       "C_ID_b709037bc5                                          0   \n",
       "C_ID_d27d835a9f                                          0   \n",
       "C_ID_2b5e3df5c2                                          0   \n",
       "\n",
       "                 history_category_3_category_3_cnt_A  \\\n",
       "card_id                                                \n",
       "C_ID_0ab67a22ab                                    0   \n",
       "C_ID_130fd0cbdd                                    0   \n",
       "C_ID_b709037bc5                                    0   \n",
       "C_ID_d27d835a9f                                    0   \n",
       "C_ID_2b5e3df5c2                                    0   \n",
       "\n",
       "                 history_category_3_category_3_cnt_B  \\\n",
       "card_id                                                \n",
       "C_ID_0ab67a22ab                                   46   \n",
       "C_ID_130fd0cbdd                                   76   \n",
       "C_ID_b709037bc5                                    1   \n",
       "C_ID_d27d835a9f                                   17   \n",
       "C_ID_2b5e3df5c2                                  104   \n",
       "\n",
       "                 history_category_3_category_3_cnt_C  \\\n",
       "card_id                                                \n",
       "C_ID_0ab67a22ab                                   22   \n",
       "C_ID_130fd0cbdd                                    2   \n",
       "C_ID_b709037bc5                                    9   \n",
       "C_ID_d27d835a9f                                    7   \n",
       "C_ID_2b5e3df5c2                                    6   \n",
       "\n",
       "                 history_category_3_category_3_cnt_NULL  \\\n",
       "card_id                                                   \n",
       "C_ID_0ab67a22ab                                       0   \n",
       "C_ID_130fd0cbdd                                       0   \n",
       "C_ID_b709037bc5                                       3   \n",
       "C_ID_d27d835a9f                                       2   \n",
       "C_ID_2b5e3df5c2                                       0   \n",
       "\n",
       "                 history_month_lag_month_lag_cnt_-1  \\\n",
       "card_id                                               \n",
       "C_ID_0ab67a22ab                                   4   \n",
       "C_ID_130fd0cbdd                                   0   \n",
       "C_ID_b709037bc5                                   2   \n",
       "C_ID_d27d835a9f                                   2   \n",
       "C_ID_2b5e3df5c2                                   4   \n",
       "\n",
       "                 history_month_lag_month_lag_cnt_-10  \\\n",
       "card_id                                                \n",
       "C_ID_0ab67a22ab                                    0   \n",
       "C_ID_130fd0cbdd                                   23   \n",
       "C_ID_b709037bc5                                    0   \n",
       "C_ID_d27d835a9f                                    0   \n",
       "C_ID_2b5e3df5c2                                    8   \n",
       "\n",
       "                 history_month_lag_month_lag_cnt_-11  \\\n",
       "card_id                                                \n",
       "C_ID_0ab67a22ab                                    0   \n",
       "C_ID_130fd0cbdd                                   14   \n",
       "C_ID_b709037bc5                                    0   \n",
       "C_ID_d27d835a9f                                    0   \n",
       "C_ID_2b5e3df5c2                                   18   \n",
       "\n",
       "                 history_month_lag_month_lag_cnt_-12  \\\n",
       "card_id                                                \n",
       "C_ID_0ab67a22ab                                    0   \n",
       "C_ID_130fd0cbdd                                   11   \n",
       "C_ID_b709037bc5                                    0   \n",
       "C_ID_d27d835a9f                                    0   \n",
       "C_ID_2b5e3df5c2                                    2   \n",
       "\n",
       "                 history_month_lag_month_lag_cnt_-13  \\\n",
       "card_id                                                \n",
       "C_ID_0ab67a22ab                                    0   \n",
       "C_ID_130fd0cbdd                                   11   \n",
       "C_ID_b709037bc5                                    0   \n",
       "C_ID_d27d835a9f                                    0   \n",
       "C_ID_2b5e3df5c2                                    9   \n",
       "\n",
       "                 history_month_lag_month_lag_cnt_-2  \\\n",
       "card_id                                               \n",
       "C_ID_0ab67a22ab                                  11   \n",
       "C_ID_130fd0cbdd                                   0   \n",
       "C_ID_b709037bc5                                   3   \n",
       "C_ID_d27d835a9f                                  15   \n",
       "C_ID_2b5e3df5c2                                   5   \n",
       "\n",
       "                 history_month_lag_month_lag_cnt_-3  \\\n",
       "card_id                                               \n",
       "C_ID_0ab67a22ab                                   9   \n",
       "C_ID_130fd0cbdd                                   0   \n",
       "C_ID_b709037bc5                                   3   \n",
       "C_ID_d27d835a9f                                   0   \n",
       "C_ID_2b5e3df5c2                                   1   \n",
       "\n",
       "                 history_month_lag_month_lag_cnt_-4  \\\n",
       "card_id                                               \n",
       "C_ID_0ab67a22ab                                  11   \n",
       "C_ID_130fd0cbdd                                   0   \n",
       "C_ID_b709037bc5                                   1   \n",
       "C_ID_d27d835a9f                                   0   \n",
       "C_ID_2b5e3df5c2                                  10   \n",
       "\n",
       "                 history_month_lag_month_lag_cnt_-5  \\\n",
       "card_id                                               \n",
       "C_ID_0ab67a22ab                                   2   \n",
       "C_ID_130fd0cbdd                                   0   \n",
       "C_ID_b709037bc5                                   0   \n",
       "C_ID_d27d835a9f                                   0   \n",
       "C_ID_2b5e3df5c2                                   7   \n",
       "\n",
       "                 history_month_lag_month_lag_cnt_-6  \\\n",
       "card_id                                               \n",
       "C_ID_0ab67a22ab                                  11   \n",
       "C_ID_130fd0cbdd                                   0   \n",
       "C_ID_b709037bc5                                   1   \n",
       "C_ID_d27d835a9f                                   0   \n",
       "C_ID_2b5e3df5c2                                   5   \n",
       "\n",
       "                 history_month_lag_month_lag_cnt_-7  \\\n",
       "card_id                                               \n",
       "C_ID_0ab67a22ab                                   6   \n",
       "C_ID_130fd0cbdd                                   0   \n",
       "C_ID_b709037bc5                                   0   \n",
       "C_ID_d27d835a9f                                   0   \n",
       "C_ID_2b5e3df5c2                                   8   \n",
       "\n",
       "                 history_month_lag_month_lag_cnt_-8  \\\n",
       "card_id                                               \n",
       "C_ID_0ab67a22ab                                   4   \n",
       "C_ID_130fd0cbdd                                   0   \n",
       "C_ID_b709037bc5                                   0   \n",
       "C_ID_d27d835a9f                                   0   \n",
       "C_ID_2b5e3df5c2                                   2   \n",
       "\n",
       "                 history_month_lag_month_lag_cnt_-9  \\\n",
       "card_id                                               \n",
       "C_ID_0ab67a22ab                                   0   \n",
       "C_ID_130fd0cbdd                                  17   \n",
       "C_ID_b709037bc5                                   0   \n",
       "C_ID_d27d835a9f                                   0   \n",
       "C_ID_2b5e3df5c2                                   8   \n",
       "\n",
       "                 history_month_lag_month_lag_cnt_0  \\\n",
       "card_id                                              \n",
       "C_ID_0ab67a22ab                                 10   \n",
       "C_ID_130fd0cbdd                                  2   \n",
       "C_ID_b709037bc5                                  3   \n",
       "C_ID_d27d835a9f                                  9   \n",
       "C_ID_2b5e3df5c2                                 23   \n",
       "\n",
       "                 history_category_2_category_2_cnt_1.0  \\\n",
       "card_id                                                  \n",
       "C_ID_0ab67a22ab                                     45   \n",
       "C_ID_130fd0cbdd                                      0   \n",
       "C_ID_b709037bc5                                      1   \n",
       "C_ID_d27d835a9f                                     26   \n",
       "C_ID_2b5e3df5c2                                      4   \n",
       "\n",
       "                 history_category_2_category_2_cnt_2.0  \\\n",
       "card_id                                                  \n",
       "C_ID_0ab67a22ab                                      0   \n",
       "C_ID_130fd0cbdd                                      0   \n",
       "C_ID_b709037bc5                                      0   \n",
       "C_ID_d27d835a9f                                      0   \n",
       "C_ID_2b5e3df5c2                                      0   \n",
       "\n",
       "                 history_category_2_category_2_cnt_3.0  \\\n",
       "card_id                                                  \n",
       "C_ID_0ab67a22ab                                      0   \n",
       "C_ID_130fd0cbdd                                      1   \n",
       "C_ID_b709037bc5                                      0   \n",
       "C_ID_d27d835a9f                                      0   \n",
       "C_ID_2b5e3df5c2                                      5   \n",
       "\n",
       "                 history_category_2_category_2_cnt_4.0  \\\n",
       "card_id                                                  \n",
       "C_ID_0ab67a22ab                                      0   \n",
       "C_ID_130fd0cbdd                                     75   \n",
       "C_ID_b709037bc5                                      0   \n",
       "C_ID_d27d835a9f                                      0   \n",
       "C_ID_2b5e3df5c2                                    101   \n",
       "\n",
       "                 history_category_2_category_2_cnt_5.0  \\\n",
       "card_id                                                  \n",
       "C_ID_0ab67a22ab                                      0   \n",
       "C_ID_130fd0cbdd                                      0   \n",
       "C_ID_b709037bc5                                     11   \n",
       "C_ID_d27d835a9f                                      0   \n",
       "C_ID_2b5e3df5c2                                      0   \n",
       "\n",
       "                 history_category_2_category_2_cnt_NULL    year  month  \\\n",
       "card_id                                                                  \n",
       "C_ID_0ab67a22ab                                      23  2017.0    4.0   \n",
       "C_ID_130fd0cbdd                                       2  2017.0    1.0   \n",
       "C_ID_b709037bc5                                       1  2017.0    8.0   \n",
       "C_ID_d27d835a9f                                       0  2017.0   12.0   \n",
       "C_ID_2b5e3df5c2                                       0  2015.0   12.0   \n",
       "\n",
       "                 authorized  not_authorized  authorized_rate  visit_sum  \\\n",
       "card_id                                                                   \n",
       "C_ID_0ab67a22ab        47.0            24.0         0.510638         71   \n",
       "C_ID_130fd0cbdd        86.0             1.0         0.011628         87   \n",
       "C_ID_b709037bc5        11.0             4.0         0.363636         15   \n",
       "C_ID_d27d835a9f        36.0             0.0         0.000000         36   \n",
       "C_ID_2b5e3df5c2        93.0            23.0         0.247312        116   \n",
       "\n",
       "                 visit_mean  visit_min  visit_max  visit_nunique  visit_size  \\\n",
       "card_id                                                                        \n",
       "C_ID_0ab67a22ab    2.629630          1         23              6          27   \n",
       "C_ID_130fd0cbdd    2.416667          1          8              7          36   \n",
       "C_ID_b709037bc5    1.363636          1          3              3          11   \n",
       "C_ID_d27d835a9f    1.090909          1          3              3          33   \n",
       "C_ID_2b5e3df5c2    2.188679          1         26              7          53   \n",
       "\n",
       "                 visit_mode  try_mean   try_std  try_min  try_max  \\\n",
       "card_id                                                             \n",
       "C_ID_0ab67a22ab          15  1.392157  0.801958        1        5   \n",
       "C_ID_130fd0cbdd          20  1.011628  0.107833        1        2   \n",
       "C_ID_b709037bc5           8  1.153846  0.375534        1        2   \n",
       "C_ID_d27d835a9f          31  1.000000  0.000000        1        1   \n",
       "C_ID_2b5e3df5c2          35  1.247312  0.732119        1        6   \n",
       "\n",
       "                 try_nunique  try_size  try_mode    Ref_mean     Ref_std  \\\n",
       "card_id                                                                    \n",
       "C_ID_0ab67a22ab            4        51        38  245.873239   81.013567   \n",
       "C_ID_130fd0cbdd            2        86        85  130.022989  124.733947   \n",
       "C_ID_b709037bc5            2        13        11  351.666667   55.568062   \n",
       "C_ID_d27d835a9f            1        36        36  389.833333   45.811103   \n",
       "C_ID_2b5e3df5c2            5        93        79  228.879310  146.461104   \n",
       "\n",
       "                 Ref_min  Ref_max  Ref_nunique  Ref_size  Ref_mode  \\\n",
       "card_id                                                              \n",
       "C_ID_0ab67a22ab       93      423           43        71         6   \n",
       "C_ID_130fd0cbdd       12      474           66        87         6   \n",
       "C_ID_b709037bc5      236      436            9        15         3   \n",
       "C_ID_d27d835a9f      337      471           21        36         4   \n",
       "C_ID_2b5e3df5c2        2      466           75       116         6   \n",
       "\n",
       "                 Category3_A_rate  Category3_C_rate  \n",
       "card_id                                              \n",
       "C_ID_0ab67a22ab               0.0          0.323944  \n",
       "C_ID_130fd0cbdd               0.0          0.034483  \n",
       "C_ID_b709037bc5               0.0          0.833333  \n",
       "C_ID_d27d835a9f               0.0          0.352941  \n",
       "C_ID_2b5e3df5c2               0.0          0.060870  "
      ]
     },
     "execution_count": 74,
     "metadata": {},
     "output_type": "execute_result"
    }
   ],
   "source": [
    "test = pd.read_csv(path + 'test2.csv')\n",
    "test = pd.merge(test, category3_count[['Category3_A_rate','Category3_C_rate']], on='card_id')\n",
    "test.set_index('card_id',inplace = True)\n",
    "test.head()"
   ]
  },
  {
   "cell_type": "code",
   "execution_count": 75,
   "metadata": {
    "ExecuteTime": {
     "end_time": "2019-02-18T10:49:43.441477Z",
     "start_time": "2019-02-18T10:49:42.604717Z"
    }
   },
   "outputs": [],
   "source": [
    "lgb_pred = lgb.predict(test)"
   ]
  },
  {
   "cell_type": "code",
   "execution_count": 76,
   "metadata": {
    "ExecuteTime": {
     "end_time": "2019-02-18T10:49:45.681725Z",
     "start_time": "2019-02-18T10:49:44.029148Z"
    }
   },
   "outputs": [
    {
     "data": {
      "image/png": "[encoded data removed]",
      "text/plain": [
       "<Figure size 1440x720 with 1 Axes>"
      ]
     },
     "metadata": {},
     "output_type": "display_data"
    }
   ],
   "source": [
    "import matplotlib.pyplot as plt\n",
    "import seaborn as sns\n",
    "import warnings\n",
    "warnings.simplefilter(action='ignore', category=FutureWarning)\n",
    "\n",
    "# sorted(zip(clf.feature_importances_, X.columns), reverse=True)\n",
    "feature_imp = pd.DataFrame(sorted(zip(lgb.feature_importances_, x_train.columns)), columns=['Value','Feature'])\n",
    "\n",
    "plt.figure(figsize=(20, 10))\n",
    "sns.barplot(x=\"Value\", y=\"Feature\", data=feature_imp.sort_values(by=\"Value\", ascending=False))\n",
    "plt.title('LightGBM Features (avg over folds)')\n",
    "plt.tight_layout()\n",
    "plt.show()\n",
    "#plt.savefig('lgbm_importances-01.png')\n"
   ]
  },
  {
   "cell_type": "code",
   "execution_count": 80,
   "metadata": {
    "ExecuteTime": {
     "end_time": "2019-02-18T10:51:24.743981Z",
     "start_time": "2019-02-18T10:51:23.963449Z"
    }
   },
   "outputs": [],
   "source": [
    "lgb_pred = pd.DataFrame(lgb_pred, index=test.index, columns=['target'])\n",
    "#lgb_pred.to_csv('190218_lgb.csv')\n",
    "#3.783"
   ]
  },
  {
   "cell_type": "markdown",
   "metadata": {},
   "source": [
    "# transaction purchase_amount / unique(merchant_id) - good!\n",
    "- 총 구매 amount / unique(merchant_id)\n",
    "- 구매 양이 많을 수록 / 가게 수는 적을수록 target이 높지 않을까"
   ]
  },
  {
   "cell_type": "code",
   "execution_count": 10,
   "metadata": {
    "ExecuteTime": {
     "end_time": "2019-02-25T09:51:20.607187Z",
     "start_time": "2019-02-25T09:51:10.635688Z"
    }
   },
   "outputs": [
    {
     "data": {
      "text/html": [
       "<div>\n",
       "<style scoped>\n",
       "    .dataframe tbody tr th:only-of-type {\n",
       "        vertical-align: middle;\n",
       "    }\n",
       "\n",
       "    .dataframe tbody tr th {\n",
       "        vertical-align: top;\n",
       "    }\n",
       "\n",
       "    .dataframe thead th {\n",
       "        text-align: right;\n",
       "    }\n",
       "</style>\n",
       "<table border=\"1\" class=\"dataframe\">\n",
       "  <thead>\n",
       "    <tr style=\"text-align: right;\">\n",
       "      <th></th>\n",
       "      <th>pur_sum</th>\n",
       "      <th>pur_mean</th>\n",
       "      <th>merchant_id</th>\n",
       "    </tr>\n",
       "    <tr>\n",
       "      <th>card_id</th>\n",
       "      <th></th>\n",
       "      <th></th>\n",
       "      <th></th>\n",
       "    </tr>\n",
       "  </thead>\n",
       "  <tbody>\n",
       "    <tr>\n",
       "      <th>C_ID_00007093c1</th>\n",
       "      <td>-78.173565</td>\n",
       "      <td>-0.517706</td>\n",
       "      <td>151</td>\n",
       "    </tr>\n",
       "    <tr>\n",
       "      <th>C_ID_0001238066</th>\n",
       "      <td>-87.297257</td>\n",
       "      <td>-0.585888</td>\n",
       "      <td>148</td>\n",
       "    </tr>\n",
       "    <tr>\n",
       "      <th>C_ID_0001506ef0</th>\n",
       "      <td>-36.049233</td>\n",
       "      <td>-0.530136</td>\n",
       "      <td>67</td>\n",
       "    </tr>\n",
       "    <tr>\n",
       "      <th>C_ID_0001793786</th>\n",
       "      <td>-37.015633</td>\n",
       "      <td>-0.149861</td>\n",
       "      <td>247</td>\n",
       "    </tr>\n",
       "    <tr>\n",
       "      <th>C_ID_000183fdda</th>\n",
       "      <td>-75.428717</td>\n",
       "      <td>-0.486637</td>\n",
       "      <td>155</td>\n",
       "    </tr>\n",
       "  </tbody>\n",
       "</table>\n",
       "</div>"
      ],
      "text/plain": [
       "                   pur_sum  pur_mean  merchant_id\n",
       "card_id                                          \n",
       "C_ID_00007093c1 -78.173565 -0.517706          151\n",
       "C_ID_0001238066 -87.297257 -0.585888          148\n",
       "C_ID_0001506ef0 -36.049233 -0.530136           67\n",
       "C_ID_0001793786 -37.015633 -0.149861          247\n",
       "C_ID_000183fdda -75.428717 -0.486637          155"
      ]
     },
     "execution_count": 10,
     "metadata": {},
     "output_type": "execute_result"
    }
   ],
   "source": [
    "purchase_merchant = transaction.groupby('card_id')['purchase_amount'].agg(['sum', 'mean'])\n",
    "purchase_merchant.columns = ['pur_sum','pur_mean']\n",
    "purchase_merchant = pd.merge(purchase_merchant,\n",
    "                                pd.DataFrame(transaction.groupby('card_id')['merchant_id'].count()), on = 'card_id')\n",
    "purchase_merchant.head()"
   ]
  },
  {
   "cell_type": "code",
   "execution_count": 11,
   "metadata": {
    "ExecuteTime": {
     "end_time": "2019-02-25T09:51:20.634115Z",
     "start_time": "2019-02-25T09:51:20.610181Z"
    }
   },
   "outputs": [
    {
     "data": {
      "text/html": [
       "<div>\n",
       "<style scoped>\n",
       "    .dataframe tbody tr th:only-of-type {\n",
       "        vertical-align: middle;\n",
       "    }\n",
       "\n",
       "    .dataframe tbody tr th {\n",
       "        vertical-align: top;\n",
       "    }\n",
       "\n",
       "    .dataframe thead th {\n",
       "        text-align: right;\n",
       "    }\n",
       "</style>\n",
       "<table border=\"1\" class=\"dataframe\">\n",
       "  <thead>\n",
       "    <tr style=\"text-align: right;\">\n",
       "      <th></th>\n",
       "      <th>pur_sum</th>\n",
       "      <th>pur_mean</th>\n",
       "      <th>merchant_id</th>\n",
       "      <th>pur_mer_sum</th>\n",
       "      <th>pur_mer_mean</th>\n",
       "    </tr>\n",
       "    <tr>\n",
       "      <th>card_id</th>\n",
       "      <th></th>\n",
       "      <th></th>\n",
       "      <th></th>\n",
       "      <th></th>\n",
       "      <th></th>\n",
       "    </tr>\n",
       "  </thead>\n",
       "  <tbody>\n",
       "    <tr>\n",
       "      <th>C_ID_00007093c1</th>\n",
       "      <td>-78.173565</td>\n",
       "      <td>-0.517706</td>\n",
       "      <td>151</td>\n",
       "      <td>-0.517706</td>\n",
       "      <td>-0.003429</td>\n",
       "    </tr>\n",
       "    <tr>\n",
       "      <th>C_ID_0001238066</th>\n",
       "      <td>-87.297257</td>\n",
       "      <td>-0.585888</td>\n",
       "      <td>148</td>\n",
       "      <td>-0.589846</td>\n",
       "      <td>-0.003959</td>\n",
       "    </tr>\n",
       "    <tr>\n",
       "      <th>C_ID_0001506ef0</th>\n",
       "      <td>-36.049233</td>\n",
       "      <td>-0.530136</td>\n",
       "      <td>67</td>\n",
       "      <td>-0.538048</td>\n",
       "      <td>-0.007912</td>\n",
       "    </tr>\n",
       "    <tr>\n",
       "      <th>C_ID_0001793786</th>\n",
       "      <td>-37.015633</td>\n",
       "      <td>-0.149861</td>\n",
       "      <td>247</td>\n",
       "      <td>-0.149861</td>\n",
       "      <td>-0.000607</td>\n",
       "    </tr>\n",
       "    <tr>\n",
       "      <th>C_ID_000183fdda</th>\n",
       "      <td>-75.428717</td>\n",
       "      <td>-0.486637</td>\n",
       "      <td>155</td>\n",
       "      <td>-0.486637</td>\n",
       "      <td>-0.003140</td>\n",
       "    </tr>\n",
       "  </tbody>\n",
       "</table>\n",
       "</div>"
      ],
      "text/plain": [
       "                   pur_sum  pur_mean  merchant_id  pur_mer_sum  pur_mer_mean\n",
       "card_id                                                                     \n",
       "C_ID_00007093c1 -78.173565 -0.517706          151    -0.517706     -0.003429\n",
       "C_ID_0001238066 -87.297257 -0.585888          148    -0.589846     -0.003959\n",
       "C_ID_0001506ef0 -36.049233 -0.530136           67    -0.538048     -0.007912\n",
       "C_ID_0001793786 -37.015633 -0.149861          247    -0.149861     -0.000607\n",
       "C_ID_000183fdda -75.428717 -0.486637          155    -0.486637     -0.003140"
      ]
     },
     "execution_count": 11,
     "metadata": {},
     "output_type": "execute_result"
    }
   ],
   "source": [
    "purchase_merchant['pur_mer_sum'] = purchase_merchant['pur_sum'] / purchase_merchant['merchant_id']\n",
    "purchase_merchant['pur_mer_mean'] = purchase_merchant['pur_mean'] / purchase_merchant['merchant_id']\n",
    "purchase_merchant.head()"
   ]
  },
  {
   "cell_type": "markdown",
   "metadata": {},
   "source": [
    "# transaction transaction 수 / unique(merchant_id) \n",
    "- 거래수 / unique(merchant_id)"
   ]
  },
  {
   "cell_type": "code",
   "execution_count": 12,
   "metadata": {
    "ExecuteTime": {
     "end_time": "2019-02-25T09:52:02.241060Z",
     "start_time": "2019-02-25T09:51:20.636111Z"
    },
    "scrolled": true
   },
   "outputs": [],
   "source": [
    "trans_merchant = pd.concat([transaction.groupby(['card_id'])['merchant_id'].nunique(),\n",
    "                     transaction.groupby('card_id')['merchant_id'].count()], axis = 1)"
   ]
  },
  {
   "cell_type": "code",
   "execution_count": 13,
   "metadata": {
    "ExecuteTime": {
     "end_time": "2019-02-25T09:52:02.260012Z",
     "start_time": "2019-02-25T09:52:02.245053Z"
    }
   },
   "outputs": [
    {
     "data": {
      "text/html": [
       "<div>\n",
       "<style scoped>\n",
       "    .dataframe tbody tr th:only-of-type {\n",
       "        vertical-align: middle;\n",
       "    }\n",
       "\n",
       "    .dataframe tbody tr th {\n",
       "        vertical-align: top;\n",
       "    }\n",
       "\n",
       "    .dataframe thead th {\n",
       "        text-align: right;\n",
       "    }\n",
       "</style>\n",
       "<table border=\"1\" class=\"dataframe\">\n",
       "  <thead>\n",
       "    <tr style=\"text-align: right;\">\n",
       "      <th></th>\n",
       "      <th>merchant_count</th>\n",
       "      <th>transaction_count</th>\n",
       "    </tr>\n",
       "    <tr>\n",
       "      <th>card_id</th>\n",
       "      <th></th>\n",
       "      <th></th>\n",
       "    </tr>\n",
       "  </thead>\n",
       "  <tbody>\n",
       "    <tr>\n",
       "      <th>C_ID_00007093c1</th>\n",
       "      <td>31</td>\n",
       "      <td>151</td>\n",
       "    </tr>\n",
       "    <tr>\n",
       "      <th>C_ID_0001238066</th>\n",
       "      <td>90</td>\n",
       "      <td>148</td>\n",
       "    </tr>\n",
       "    <tr>\n",
       "      <th>C_ID_0001506ef0</th>\n",
       "      <td>29</td>\n",
       "      <td>67</td>\n",
       "    </tr>\n",
       "    <tr>\n",
       "      <th>C_ID_0001793786</th>\n",
       "      <td>150</td>\n",
       "      <td>247</td>\n",
       "    </tr>\n",
       "    <tr>\n",
       "      <th>C_ID_000183fdda</th>\n",
       "      <td>84</td>\n",
       "      <td>155</td>\n",
       "    </tr>\n",
       "  </tbody>\n",
       "</table>\n",
       "</div>"
      ],
      "text/plain": [
       "                 merchant_count  transaction_count\n",
       "card_id                                           \n",
       "C_ID_00007093c1              31                151\n",
       "C_ID_0001238066              90                148\n",
       "C_ID_0001506ef0              29                 67\n",
       "C_ID_0001793786             150                247\n",
       "C_ID_000183fdda              84                155"
      ]
     },
     "execution_count": 13,
     "metadata": {},
     "output_type": "execute_result"
    }
   ],
   "source": [
    "trans_merchant.columns = ['merchant_count','transaction_count']\n",
    "trans_merchant.head()"
   ]
  },
  {
   "cell_type": "code",
   "execution_count": 14,
   "metadata": {
    "ExecuteTime": {
     "end_time": "2019-02-25T09:52:02.278961Z",
     "start_time": "2019-02-25T09:52:02.263003Z"
    }
   },
   "outputs": [],
   "source": [
    "trans_merchant['trans_merchant'] = trans_merchant['transaction_count'] / trans_merchant['merchant_count']"
   ]
  },
  {
   "cell_type": "code",
   "execution_count": null,
   "metadata": {},
   "outputs": [],
   "source": []
  },
  {
   "cell_type": "code",
   "execution_count": null,
   "metadata": {},
   "outputs": [],
   "source": []
  },
  {
   "cell_type": "code",
   "execution_count": 105,
   "metadata": {
    "ExecuteTime": {
     "end_time": "2019-02-18T11:14:38.492059Z",
     "start_time": "2019-02-18T11:14:35.728431Z"
    }
   },
   "outputs": [],
   "source": [
    "train = pd.merge(train, purchase_merchant[['pur_mer_sum','pur_mer_mean']], on='card_id')"
   ]
  },
  {
   "cell_type": "code",
   "execution_count": 111,
   "metadata": {
    "ExecuteTime": {
     "end_time": "2019-02-18T11:18:37.475077Z",
     "start_time": "2019-02-18T11:18:31.648612Z"
    }
   },
   "outputs": [],
   "source": [
    "test = pd.read_csv(path + 'test2.csv')\n",
    "test = pd.merge(test, purchase_merchant[['pur_mer_sum','pur_mer_mean']], on='card_id')\n",
    "test.set_index('card_id',inplace = True)"
   ]
  },
  {
   "cell_type": "markdown",
   "metadata": {},
   "source": [
    "### cv"
   ]
  },
  {
   "cell_type": "code",
   "execution_count": 106,
   "metadata": {
    "ExecuteTime": {
     "end_time": "2019-02-18T11:15:44.761222Z",
     "start_time": "2019-02-18T11:14:42.594503Z"
    }
   },
   "outputs": [
    {
     "name": "stdout",
     "output_type": "stream",
     "text": [
      "-----------LGB-----------\n",
      "[K = 0] train rmse = 3.4314548513719463, cv_rmse = 3.7168212945266825\n",
      "-----------LGB-----------\n",
      "[K = 1] train rmse = 3.4273225679947106, cv_rmse = 3.754442488842663\n",
      "-----------LGB-----------\n",
      "[K = 2] train rmse = 3.4330250544187364, cv_rmse = 3.7042759899026505\n",
      "-----------LGB-----------\n",
      "[K = 3] train rmse = 3.431787170492569, cv_rmse = 3.7003741237594645\n",
      "-----------LGB-----------\n",
      "[K = 4] train rmse = 3.4096563348716904, cv_rmse = 3.7633823395883543\n"
     ]
    }
   ],
   "source": [
    "for i, (idx_train, idx_cv) in enumerate(cv.split(train)):\n",
    "    df_train = train.iloc[idx_train]\n",
    "    df_cv = train.iloc[idx_cv]\n",
    "    \n",
    "    x_train = df_train.drop(['card_id','target'], axis=1)\n",
    "    y_train = df_train['target']\n",
    "    \n",
    "    x_cv = df_cv.drop(['target','card_id'], axis=1)\n",
    "    y_cv = df_cv['target']\n",
    "    \n",
    "    print('-----------LGB-----------')\n",
    "    lgb.fit(x_train, y_train)\n",
    "    print(\"[K = {}] train rmse = {}, cv_rmse = {}\".format(i, np.sqrt(np.mean((lgb.predict(x_train) - y_train) ** 2)), np.sqrt(np.mean((lgb.predict(x_cv) - y_cv) ** 2))))\n",
    "    "
   ]
  },
  {
   "cell_type": "code",
   "execution_count": 107,
   "metadata": {
    "ExecuteTime": {
     "end_time": "2019-02-18T11:15:59.006341Z",
     "start_time": "2019-02-18T11:15:49.177464Z"
    }
   },
   "outputs": [
    {
     "data": {
      "text/plain": [
       "LGBMRegressor(boosting_type='gbdt', class_weight=None, colsample_bytree=1.0,\n",
       "       importance_type='split', learning_rate=0.1, max_depth=-1,\n",
       "       min_child_samples=20, min_child_weight=0.001, min_split_gain=0.0,\n",
       "       n_estimators=100, n_jobs=-1, num_leaves=31, objective=None,\n",
       "       random_state=None, reg_alpha=0.0, reg_lambda=0.0, silent=True,\n",
       "       subsample=1.0, subsample_for_bin=200000, subsample_freq=0)"
      ]
     },
     "execution_count": 107,
     "metadata": {},
     "output_type": "execute_result"
    }
   ],
   "source": [
    "x_train = train.drop(['card_id','target'], axis=1)\n",
    "y_train = train['target']\n",
    "lgb.fit(x_train, y_train)"
   ]
  },
  {
   "cell_type": "code",
   "execution_count": 108,
   "metadata": {
    "ExecuteTime": {
     "end_time": "2019-02-18T11:16:02.778704Z",
     "start_time": "2019-02-18T11:15:59.010155Z"
    }
   },
   "outputs": [
    {
     "data": {
      "image/png": "[encoded data removed]",
      "text/plain": [
       "<Figure size 1440x720 with 1 Axes>"
      ]
     },
     "metadata": {},
     "output_type": "display_data"
    }
   ],
   "source": [
    "# sorted(zip(clf.feature_importances_, X.columns), reverse=True)\n",
    "feature_imp = pd.DataFrame(sorted(zip(lgb.feature_importances_, x_train.columns)), columns=['Value','Feature'])\n",
    "\n",
    "plt.figure(figsize=(20, 10))\n",
    "sns.barplot(x=\"Value\", y=\"Feature\", data=feature_imp.sort_values(by=\"Value\", ascending=False))\n",
    "plt.title('LightGBM Features (avg over folds)')\n",
    "plt.tight_layout()\n",
    "plt.show()"
   ]
  },
  {
   "cell_type": "code",
   "execution_count": 112,
   "metadata": {
    "ExecuteTime": {
     "end_time": "2019-02-18T11:18:39.210489Z",
     "start_time": "2019-02-18T11:18:37.479383Z"
    }
   },
   "outputs": [],
   "source": [
    "lgb_pred = lgb.predict(test)\n",
    "lgb_pred = pd.DataFrame(lgb_pred, index=test.index, columns=['target'])\n"
   ]
  },
  {
   "cell_type": "code",
   "execution_count": 113,
   "metadata": {
    "ExecuteTime": {
     "end_time": "2019-02-18T11:19:18.975562Z",
     "start_time": "2019-02-18T11:19:18.217285Z"
    }
   },
   "outputs": [],
   "source": [
    "#only pur_mer not category3 feature\n",
    "#lgb_pred.to_csv('190218_lgb_per_mer.csv')\n",
    "#3.777"
   ]
  },
  {
   "cell_type": "code",
   "execution_count": null,
   "metadata": {},
   "outputs": [],
   "source": []
  },
  {
   "cell_type": "markdown",
   "metadata": {},
   "source": [
    "# month_lag이용 - not bad"
   ]
  },
  {
   "cell_type": "code",
   "execution_count": 4,
   "metadata": {
    "ExecuteTime": {
     "end_time": "2019-02-21T07:46:39.684893Z",
     "start_time": "2019-02-21T07:46:39.669211Z"
    }
   },
   "outputs": [
    {
     "data": {
      "text/html": [
       "<div>\n",
       "<style scoped>\n",
       "    .dataframe tbody tr th:only-of-type {\n",
       "        vertical-align: middle;\n",
       "    }\n",
       "\n",
       "    .dataframe tbody tr th {\n",
       "        vertical-align: top;\n",
       "    }\n",
       "\n",
       "    .dataframe thead th {\n",
       "        text-align: right;\n",
       "    }\n",
       "</style>\n",
       "<table border=\"1\" class=\"dataframe\">\n",
       "  <thead>\n",
       "    <tr style=\"text-align: right;\">\n",
       "      <th></th>\n",
       "      <th>authorized_flag</th>\n",
       "      <th>card_id</th>\n",
       "      <th>city_id</th>\n",
       "      <th>category_1</th>\n",
       "      <th>installments</th>\n",
       "      <th>category_3</th>\n",
       "      <th>merchant_category_id</th>\n",
       "      <th>merchant_id</th>\n",
       "      <th>month_lag</th>\n",
       "      <th>purchase_amount</th>\n",
       "      <th>purchase_date</th>\n",
       "      <th>category_2</th>\n",
       "      <th>state_id</th>\n",
       "      <th>subsector_id</th>\n",
       "    </tr>\n",
       "  </thead>\n",
       "  <tbody>\n",
       "    <tr>\n",
       "      <th>0</th>\n",
       "      <td>Y</td>\n",
       "      <td>C_ID_00007093c1</td>\n",
       "      <td>244</td>\n",
       "      <td>N</td>\n",
       "      <td>2</td>\n",
       "      <td>C</td>\n",
       "      <td>705</td>\n",
       "      <td>M_ID_69423b34e4</td>\n",
       "      <td>-12</td>\n",
       "      <td>0.037176</td>\n",
       "      <td>2017-02-14 14:00:43</td>\n",
       "      <td>3.0</td>\n",
       "      <td>2</td>\n",
       "      <td>33</td>\n",
       "    </tr>\n",
       "    <tr>\n",
       "      <th>1</th>\n",
       "      <td>Y</td>\n",
       "      <td>C_ID_00007093c1</td>\n",
       "      <td>244</td>\n",
       "      <td>N</td>\n",
       "      <td>1</td>\n",
       "      <td>B</td>\n",
       "      <td>705</td>\n",
       "      <td>M_ID_a33355a1b7</td>\n",
       "      <td>-12</td>\n",
       "      <td>-0.467415</td>\n",
       "      <td>2017-02-14 15:47:45</td>\n",
       "      <td>3.0</td>\n",
       "      <td>2</td>\n",
       "      <td>33</td>\n",
       "    </tr>\n",
       "    <tr>\n",
       "      <th>2</th>\n",
       "      <td>Y</td>\n",
       "      <td>C_ID_00007093c1</td>\n",
       "      <td>244</td>\n",
       "      <td>N</td>\n",
       "      <td>1</td>\n",
       "      <td>B</td>\n",
       "      <td>307</td>\n",
       "      <td>M_ID_9400cf2342</td>\n",
       "      <td>-12</td>\n",
       "      <td>-0.572600</td>\n",
       "      <td>2017-02-16 15:37:58</td>\n",
       "      <td>3.0</td>\n",
       "      <td>2</td>\n",
       "      <td>19</td>\n",
       "    </tr>\n",
       "    <tr>\n",
       "      <th>3</th>\n",
       "      <td>Y</td>\n",
       "      <td>C_ID_00007093c1</td>\n",
       "      <td>244</td>\n",
       "      <td>N</td>\n",
       "      <td>3</td>\n",
       "      <td>C</td>\n",
       "      <td>705</td>\n",
       "      <td>M_ID_a33355a1b7</td>\n",
       "      <td>-12</td>\n",
       "      <td>-0.331575</td>\n",
       "      <td>2017-02-20 12:19:01</td>\n",
       "      <td>3.0</td>\n",
       "      <td>2</td>\n",
       "      <td>33</td>\n",
       "    </tr>\n",
       "    <tr>\n",
       "      <th>4</th>\n",
       "      <td>Y</td>\n",
       "      <td>C_ID_00007093c1</td>\n",
       "      <td>244</td>\n",
       "      <td>N</td>\n",
       "      <td>1</td>\n",
       "      <td>B</td>\n",
       "      <td>307</td>\n",
       "      <td>M_ID_9400cf2342</td>\n",
       "      <td>-11</td>\n",
       "      <td>-0.483944</td>\n",
       "      <td>2017-03-03 00:24:15</td>\n",
       "      <td>3.0</td>\n",
       "      <td>2</td>\n",
       "      <td>19</td>\n",
       "    </tr>\n",
       "  </tbody>\n",
       "</table>\n",
       "</div>"
      ],
      "text/plain": [
       "  authorized_flag          card_id  city_id category_1  installments  \\\n",
       "0               Y  C_ID_00007093c1      244          N             2   \n",
       "1               Y  C_ID_00007093c1      244          N             1   \n",
       "2               Y  C_ID_00007093c1      244          N             1   \n",
       "3               Y  C_ID_00007093c1      244          N             3   \n",
       "4               Y  C_ID_00007093c1      244          N             1   \n",
       "\n",
       "  category_3  merchant_category_id      merchant_id  month_lag  \\\n",
       "0          C                   705  M_ID_69423b34e4        -12   \n",
       "1          B                   705  M_ID_a33355a1b7        -12   \n",
       "2          B                   307  M_ID_9400cf2342        -12   \n",
       "3          C                   705  M_ID_a33355a1b7        -12   \n",
       "4          B                   307  M_ID_9400cf2342        -11   \n",
       "\n",
       "   purchase_amount        purchase_date  category_2  state_id  subsector_id  \n",
       "0         0.037176  2017-02-14 14:00:43         3.0         2            33  \n",
       "1        -0.467415  2017-02-14 15:47:45         3.0         2            33  \n",
       "2        -0.572600  2017-02-16 15:37:58         3.0         2            19  \n",
       "3        -0.331575  2017-02-20 12:19:01         3.0         2            33  \n",
       "4        -0.483944  2017-03-03 00:24:15         3.0         2            19  "
      ]
     },
     "execution_count": 4,
     "metadata": {},
     "output_type": "execute_result"
    }
   ],
   "source": [
    "transaction.head()"
   ]
  },
  {
   "cell_type": "code",
   "execution_count": 5,
   "metadata": {
    "ExecuteTime": {
     "end_time": "2019-02-21T07:46:44.883464Z",
     "start_time": "2019-02-21T07:46:44.016097Z"
    }
   },
   "outputs": [
    {
     "data": {
      "text/plain": [
       "-2     3857276\n",
       "-1     3627430\n",
       " 0     3470946\n",
       "-3     3095651\n",
       "-4     2639805\n",
       "-5     2364790\n",
       "-6     2050048\n",
       "-7     1769844\n",
       "-8     1427846\n",
       "-9     1234724\n",
       "-10    1085053\n",
       " 1     1027617\n",
       "-11    1007878\n",
       " 2      935414\n",
       "-12     791973\n",
       "-13     689097\n",
       "Name: month_lag, dtype: int64"
      ]
     },
     "execution_count": 5,
     "metadata": {},
     "output_type": "execute_result"
    }
   ],
   "source": [
    "transaction.month_lag.value_counts()"
   ]
  },
  {
   "cell_type": "code",
   "execution_count": 16,
   "metadata": {
    "ExecuteTime": {
     "end_time": "2019-02-25T09:52:52.954363Z",
     "start_time": "2019-02-25T09:52:49.724993Z"
    }
   },
   "outputs": [],
   "source": [
    "by_month_lag = transaction.groupby(['card_id'])['month_lag'].var()"
   ]
  },
  {
   "cell_type": "markdown",
   "metadata": {},
   "source": [
    "### cv"
   ]
  },
  {
   "cell_type": "code",
   "execution_count": 65,
   "metadata": {
    "ExecuteTime": {
     "end_time": "2019-02-20T10:58:52.445745Z",
     "start_time": "2019-02-20T10:58:39.660690Z"
    }
   },
   "outputs": [],
   "source": [
    "train = pd.read_csv(path + 'train2.csv')"
   ]
  },
  {
   "cell_type": "code",
   "execution_count": 58,
   "metadata": {
    "ExecuteTime": {
     "end_time": "2019-02-20T10:56:16.976161Z",
     "start_time": "2019-02-20T10:56:16.955915Z"
    }
   },
   "outputs": [
    {
     "name": "stdout",
     "output_type": "stream",
     "text": [
      "by_month_lag\t category3_count\t np\t path\t pd\t plt\t purchase_merchant\t train\t trans_merchant\t \n",
      "transaction\t \n"
     ]
    }
   ],
   "source": [
    "%who"
   ]
  },
  {
   "cell_type": "code",
   "execution_count": 66,
   "metadata": {
    "ExecuteTime": {
     "end_time": "2019-02-20T10:58:57.946560Z",
     "start_time": "2019-02-20T10:58:53.916029Z"
    }
   },
   "outputs": [],
   "source": [
    "train = pd.merge(train, trans_merchant[['trans_merchant']], on='card_id')\n",
    "train = pd.merge(train, purchase_merchant, on='card_id')\n",
    "train = pd.merge(train, category3_count, on='card_id')\n",
    "train = pd.merge(train, by_month_lag, on='card_id')"
   ]
  },
  {
   "cell_type": "code",
   "execution_count": 69,
   "metadata": {
    "ExecuteTime": {
     "end_time": "2019-02-20T11:01:24.956230Z",
     "start_time": "2019-02-20T11:01:24.949164Z"
    }
   },
   "outputs": [
    {
     "data": {
      "text/plain": [
       "Index(['card_id', 'feature_1', 'feature_2', 'feature_3', 'target',\n",
       "       'history_month_nunique', 'history_hour_nunique',\n",
       "       'history_weekofyear_nunique', 'history_dayofweek_nunique',\n",
       "       'history_year_nunique',\n",
       "       ...\n",
       "       'merchant_id', 'pur_mer_sum', 'pur_mer_mean', 'A', 'B', 'C',\n",
       "       'Category3_A_rate', 'Category3_C_rate', 'mean_by_month',\n",
       "       'var_by_month'],\n",
       "      dtype='object', length=117)"
      ]
     },
     "execution_count": 69,
     "metadata": {},
     "output_type": "execute_result"
    }
   ],
   "source": [
    "train.columns"
   ]
  },
  {
   "cell_type": "code",
   "execution_count": 90,
   "metadata": {
    "ExecuteTime": {
     "end_time": "2019-02-20T11:10:32.549961Z",
     "start_time": "2019-02-20T11:10:32.545189Z"
    }
   },
   "outputs": [],
   "source": [
    "from lightgbm import LGBMRegressor\n",
    "from sklearn.model_selection import KFold\n",
    "cv = KFold(5, shuffle=True, random_state=0)"
   ]
  },
  {
   "cell_type": "code",
   "execution_count": 91,
   "metadata": {
    "ExecuteTime": {
     "end_time": "2019-02-20T11:10:33.241129Z",
     "start_time": "2019-02-20T11:10:33.234975Z"
    }
   },
   "outputs": [],
   "source": [
    "lgb = LGBMRegressor()"
   ]
  },
  {
   "cell_type": "code",
   "execution_count": 92,
   "metadata": {
    "ExecuteTime": {
     "end_time": "2019-02-20T11:12:38.563134Z",
     "start_time": "2019-02-20T11:10:33.829589Z"
    }
   },
   "outputs": [
    {
     "name": "stdout",
     "output_type": "stream",
     "text": [
      "-----------original-----------\n",
      "[K = 0] train rmse = 3.4294740200344114, cv_rmse = 3.7143626441991775\n",
      "-----------add features-----------\n",
      "[K = 0] train rmse = 3.4253539778530646, cv_rmse = 3.7203504215633267\n",
      "-----------original-----------\n",
      "[K = 1] train rmse = 3.422465053159456, cv_rmse = 3.7633509403369723\n",
      "-----------add features-----------\n",
      "[K = 1] train rmse = 3.4122031383403506, cv_rmse = 3.7515432794837236\n",
      "-----------original-----------\n",
      "[K = 2] train rmse = 3.4352304208596283, cv_rmse = 3.7102718981587333\n",
      "-----------add features-----------\n",
      "[K = 2] train rmse = 3.430156116657895, cv_rmse = 3.700607705226732\n",
      "-----------original-----------\n",
      "[K = 3] train rmse = 3.43344271825645, cv_rmse = 3.705913399609291\n",
      "-----------add features-----------\n",
      "[K = 3] train rmse = 3.4272703043675223, cv_rmse = 3.6943255703999283\n",
      "-----------original-----------\n",
      "[K = 4] train rmse = 3.4148462276522835, cv_rmse = 3.7704592832469066\n",
      "-----------add features-----------\n",
      "[K = 4] train rmse = 3.404652461493068, cv_rmse = 3.765449642081258\n"
     ]
    }
   ],
   "source": [
    "for i, (idx_train, idx_cv) in enumerate(cv.split(train)):\n",
    "    df_train = train.iloc[idx_train]\n",
    "    df_cv = train.iloc[idx_cv]\n",
    "    \n",
    "    x_train = df_train.drop(['card_id','target'], axis=1).iloc[:,:102]\n",
    "    x_train_p = df_train.drop(['card_id','target'], axis=1)\n",
    "    y_train = df_train['target']\n",
    "    \n",
    "    x_cv = df_cv.drop(['target','card_id'], axis=1).iloc[:,:102]\n",
    "    x_cv_p = df_cv.drop(['target','card_id'], axis=1)\n",
    "    y_cv = df_cv['target']\n",
    "    \n",
    "    print('-----------original-----------')\n",
    "    lgb.fit(x_train, y_train)\n",
    "    print(\"[K = {}] train rmse = {}, cv_rmse = {}\".format(i, np.sqrt(np.mean((lgb.predict(x_train) - y_train) ** 2)), np.sqrt(np.mean((lgb.predict(x_cv) - y_cv) ** 2))))\n",
    "    print('-----------add features-----------')\n",
    "    lgb.fit(x_train_p, y_train)\n",
    "    print(\"[K = {}] train rmse = {}, cv_rmse = {}\".format(i, np.sqrt(np.mean((lgb.predict(x_train_p) - y_train) ** 2)), np.sqrt(np.mean((lgb.predict(x_cv_p) - y_cv) ** 2))))\n",
    "    "
   ]
  },
  {
   "cell_type": "markdown",
   "metadata": {},
   "source": [
    "### test"
   ]
  },
  {
   "cell_type": "code",
   "execution_count": 93,
   "metadata": {
    "ExecuteTime": {
     "end_time": "2019-02-20T11:13:15.221610Z",
     "start_time": "2019-02-20T11:13:11.187051Z"
    }
   },
   "outputs": [],
   "source": [
    "test = pd.read_csv(path + 'test2.csv')"
   ]
  },
  {
   "cell_type": "code",
   "execution_count": 94,
   "metadata": {
    "ExecuteTime": {
     "end_time": "2019-02-20T11:13:28.501436Z",
     "start_time": "2019-02-20T11:13:25.907358Z"
    }
   },
   "outputs": [],
   "source": [
    "test = pd.merge(test, trans_merchant[['trans_merchant']], on='card_id')\n",
    "test = pd.merge(test, purchase_merchant, on='card_id')\n",
    "test = pd.merge(test, category3_count, on='card_id')\n",
    "test = pd.merge(test, by_month_lag, on='card_id')"
   ]
  },
  {
   "cell_type": "code",
   "execution_count": 95,
   "metadata": {
    "ExecuteTime": {
     "end_time": "2019-02-20T11:13:37.369363Z",
     "start_time": "2019-02-20T11:13:37.364997Z"
    }
   },
   "outputs": [],
   "source": [
    "lgb = LGBMRegressor()"
   ]
  },
  {
   "cell_type": "code",
   "execution_count": 96,
   "metadata": {
    "ExecuteTime": {
     "end_time": "2019-02-20T11:14:59.172499Z",
     "start_time": "2019-02-20T11:14:46.731296Z"
    }
   },
   "outputs": [
    {
     "data": {
      "text/plain": [
       "LGBMRegressor(boosting_type='gbdt', class_weight=None, colsample_bytree=1.0,\n",
       "       importance_type='split', learning_rate=0.1, max_depth=-1,\n",
       "       min_child_samples=20, min_child_weight=0.001, min_split_gain=0.0,\n",
       "       n_estimators=100, n_jobs=-1, num_leaves=31, objective=None,\n",
       "       random_state=None, reg_alpha=0.0, reg_lambda=0.0, silent=True,\n",
       "       subsample=1.0, subsample_for_bin=200000, subsample_freq=0)"
      ]
     },
     "execution_count": 96,
     "metadata": {},
     "output_type": "execute_result"
    }
   ],
   "source": [
    "x_train = train.drop(['card_id','target'], axis=1)\n",
    "y_train = train['target']\n",
    "lgb.fit(x_train, y_train)"
   ]
  },
  {
   "cell_type": "code",
   "execution_count": 98,
   "metadata": {
    "ExecuteTime": {
     "end_time": "2019-02-20T11:17:03.824879Z",
     "start_time": "2019-02-20T11:17:03.439769Z"
    }
   },
   "outputs": [],
   "source": [
    "import seaborn as sns"
   ]
  },
  {
   "cell_type": "code",
   "execution_count": 99,
   "metadata": {
    "ExecuteTime": {
     "end_time": "2019-02-20T11:17:08.218535Z",
     "start_time": "2019-02-20T11:17:04.396872Z"
    }
   },
   "outputs": [
    {
     "data": {
      "image/png": "[encoded data removed]",
      "text/plain": [
       "<Figure size 1440x720 with 1 Axes>"
      ]
     },
     "metadata": {},
     "output_type": "display_data"
    }
   ],
   "source": [
    "# sorted(zip(clf.feature_importances_, X.columns), reverse=True)\n",
    "feature_imp = pd.DataFrame(sorted(zip(lgb.feature_importances_, x_train.columns)), columns=['Value','Feature'])\n",
    "\n",
    "plt.figure(figsize=(20, 10))\n",
    "sns.barplot(x=\"Value\", y=\"Feature\", data=feature_imp.sort_values(by=\"Value\", ascending=False))\n",
    "plt.title('LightGBM Features (avg over folds)')\n",
    "plt.tight_layout()\n",
    "plt.show()"
   ]
  },
  {
   "cell_type": "code",
   "execution_count": 108,
   "metadata": {
    "ExecuteTime": {
     "end_time": "2019-02-20T11:20:52.620074Z",
     "start_time": "2019-02-20T11:20:52.534396Z"
    }
   },
   "outputs": [],
   "source": [
    "test=test.set_index('card_id')"
   ]
  },
  {
   "cell_type": "code",
   "execution_count": 109,
   "metadata": {
    "ExecuteTime": {
     "end_time": "2019-02-20T11:21:13.417502Z",
     "start_time": "2019-02-20T11:21:11.486864Z"
    }
   },
   "outputs": [],
   "source": [
    "lgb_pred = lgb.predict(test)\n",
    "lgb_pred = pd.DataFrame(lgb_pred, index=test.index, columns=['target'])\n",
    "#lgb_pred.to_csv('190220_lgb.csv') - 3.767"
   ]
  },
  {
   "cell_type": "code",
   "execution_count": 104,
   "metadata": {
    "ExecuteTime": {
     "end_time": "2019-02-20T11:18:31.463965Z",
     "start_time": "2019-02-20T11:18:30.635440Z"
    }
   },
   "outputs": [],
   "source": []
  },
  {
   "cell_type": "code",
   "execution_count": 17,
   "metadata": {
    "ExecuteTime": {
     "end_time": "2019-02-25T09:53:43.812972Z",
     "start_time": "2019-02-25T09:53:43.803995Z"
    }
   },
   "outputs": [
    {
     "name": "stdout",
     "output_type": "stream",
     "text": [
      "by_month_lag\t category3_count\t np\t path\t pd\t plt\t purchase_merchant\t trans_merchant\t transaction\t \n",
      "\n"
     ]
    }
   ],
   "source": [
    "%who"
   ]
  },
  {
   "cell_type": "code",
   "execution_count": 29,
   "metadata": {
    "ExecuteTime": {
     "end_time": "2019-02-25T09:57:57.249942Z",
     "start_time": "2019-02-25T09:57:57.236977Z"
    }
   },
   "outputs": [
    {
     "data": {
      "text/html": [
       "<div>\n",
       "<style scoped>\n",
       "    .dataframe tbody tr th:only-of-type {\n",
       "        vertical-align: middle;\n",
       "    }\n",
       "\n",
       "    .dataframe tbody tr th {\n",
       "        vertical-align: top;\n",
       "    }\n",
       "\n",
       "    .dataframe thead th {\n",
       "        text-align: right;\n",
       "    }\n",
       "</style>\n",
       "<table border=\"1\" class=\"dataframe\">\n",
       "  <thead>\n",
       "    <tr style=\"text-align: right;\">\n",
       "      <th></th>\n",
       "      <th>month_lag</th>\n",
       "    </tr>\n",
       "    <tr>\n",
       "      <th>card_id</th>\n",
       "      <th></th>\n",
       "    </tr>\n",
       "  </thead>\n",
       "  <tbody>\n",
       "    <tr>\n",
       "      <th>C_ID_00007093c1</th>\n",
       "      <td>12.576247</td>\n",
       "    </tr>\n",
       "    <tr>\n",
       "      <th>C_ID_0001238066</th>\n",
       "      <td>2.856702</td>\n",
       "    </tr>\n",
       "    <tr>\n",
       "      <th>C_ID_0001506ef0</th>\n",
       "      <td>18.406277</td>\n",
       "    </tr>\n",
       "    <tr>\n",
       "      <th>C_ID_0001793786</th>\n",
       "      <td>7.060696</td>\n",
       "    </tr>\n",
       "    <tr>\n",
       "      <th>C_ID_000183fdda</th>\n",
       "      <td>4.269962</td>\n",
       "    </tr>\n",
       "  </tbody>\n",
       "</table>\n",
       "</div>"
      ],
      "text/plain": [
       "                 month_lag\n",
       "card_id                   \n",
       "C_ID_00007093c1  12.576247\n",
       "C_ID_0001238066   2.856702\n",
       "C_ID_0001506ef0  18.406277\n",
       "C_ID_0001793786   7.060696\n",
       "C_ID_000183fdda   4.269962"
      ]
     },
     "execution_count": 29,
     "metadata": {},
     "output_type": "execute_result"
    }
   ],
   "source": [
    "by_month_lag = pd.DataFrame(by_month_lag)\n",
    "by_month_lag.head()"
   ]
  },
  {
   "cell_type": "code",
   "execution_count": 20,
   "metadata": {
    "ExecuteTime": {
     "end_time": "2019-02-25T09:54:15.544355Z",
     "start_time": "2019-02-25T09:54:15.503467Z"
    }
   },
   "outputs": [
    {
     "data": {
      "text/html": [
       "<div>\n",
       "<style scoped>\n",
       "    .dataframe tbody tr th:only-of-type {\n",
       "        vertical-align: middle;\n",
       "    }\n",
       "\n",
       "    .dataframe tbody tr th {\n",
       "        vertical-align: top;\n",
       "    }\n",
       "\n",
       "    .dataframe thead th {\n",
       "        text-align: right;\n",
       "    }\n",
       "</style>\n",
       "<table border=\"1\" class=\"dataframe\">\n",
       "  <thead>\n",
       "    <tr style=\"text-align: right;\">\n",
       "      <th>category_3</th>\n",
       "      <th>Category3_A_rate</th>\n",
       "      <th>Category3_C_rate</th>\n",
       "    </tr>\n",
       "    <tr>\n",
       "      <th>card_id</th>\n",
       "      <th></th>\n",
       "      <th></th>\n",
       "    </tr>\n",
       "  </thead>\n",
       "  <tbody>\n",
       "    <tr>\n",
       "      <th>C_ID_00007093c1</th>\n",
       "      <td>0.000000</td>\n",
       "      <td>0.158940</td>\n",
       "    </tr>\n",
       "    <tr>\n",
       "      <th>C_ID_0001238066</th>\n",
       "      <td>0.000000</td>\n",
       "      <td>0.248276</td>\n",
       "    </tr>\n",
       "    <tr>\n",
       "      <th>C_ID_0001506ef0</th>\n",
       "      <td>0.985294</td>\n",
       "      <td>0.000000</td>\n",
       "    </tr>\n",
       "    <tr>\n",
       "      <th>C_ID_0001793786</th>\n",
       "      <td>0.979757</td>\n",
       "      <td>0.000000</td>\n",
       "    </tr>\n",
       "    <tr>\n",
       "      <th>C_ID_000183fdda</th>\n",
       "      <td>0.000000</td>\n",
       "      <td>0.273333</td>\n",
       "    </tr>\n",
       "  </tbody>\n",
       "</table>\n",
       "</div>"
      ],
      "text/plain": [
       "category_3       Category3_A_rate  Category3_C_rate\n",
       "card_id                                            \n",
       "C_ID_00007093c1          0.000000          0.158940\n",
       "C_ID_0001238066          0.000000          0.248276\n",
       "C_ID_0001506ef0          0.985294          0.000000\n",
       "C_ID_0001793786          0.979757          0.000000\n",
       "C_ID_000183fdda          0.000000          0.273333"
      ]
     },
     "execution_count": 20,
     "metadata": {},
     "output_type": "execute_result"
    }
   ],
   "source": [
    "category3_count[['Category3_A_rate','Category3_C_rate']].head()"
   ]
  },
  {
   "cell_type": "code",
   "execution_count": 22,
   "metadata": {
    "ExecuteTime": {
     "end_time": "2019-02-25T09:54:45.861905Z",
     "start_time": "2019-02-25T09:54:45.835977Z"
    }
   },
   "outputs": [
    {
     "data": {
      "text/html": [
       "<div>\n",
       "<style scoped>\n",
       "    .dataframe tbody tr th:only-of-type {\n",
       "        vertical-align: middle;\n",
       "    }\n",
       "\n",
       "    .dataframe tbody tr th {\n",
       "        vertical-align: top;\n",
       "    }\n",
       "\n",
       "    .dataframe thead th {\n",
       "        text-align: right;\n",
       "    }\n",
       "</style>\n",
       "<table border=\"1\" class=\"dataframe\">\n",
       "  <thead>\n",
       "    <tr style=\"text-align: right;\">\n",
       "      <th></th>\n",
       "      <th>pur_mer_sum</th>\n",
       "      <th>pur_mer_mean</th>\n",
       "    </tr>\n",
       "    <tr>\n",
       "      <th>card_id</th>\n",
       "      <th></th>\n",
       "      <th></th>\n",
       "    </tr>\n",
       "  </thead>\n",
       "  <tbody>\n",
       "    <tr>\n",
       "      <th>C_ID_00007093c1</th>\n",
       "      <td>-0.517706</td>\n",
       "      <td>-0.003429</td>\n",
       "    </tr>\n",
       "    <tr>\n",
       "      <th>C_ID_0001238066</th>\n",
       "      <td>-0.589846</td>\n",
       "      <td>-0.003959</td>\n",
       "    </tr>\n",
       "    <tr>\n",
       "      <th>C_ID_0001506ef0</th>\n",
       "      <td>-0.538048</td>\n",
       "      <td>-0.007912</td>\n",
       "    </tr>\n",
       "    <tr>\n",
       "      <th>C_ID_0001793786</th>\n",
       "      <td>-0.149861</td>\n",
       "      <td>-0.000607</td>\n",
       "    </tr>\n",
       "    <tr>\n",
       "      <th>C_ID_000183fdda</th>\n",
       "      <td>-0.486637</td>\n",
       "      <td>-0.003140</td>\n",
       "    </tr>\n",
       "  </tbody>\n",
       "</table>\n",
       "</div>"
      ],
      "text/plain": [
       "                 pur_mer_sum  pur_mer_mean\n",
       "card_id                                   \n",
       "C_ID_00007093c1    -0.517706     -0.003429\n",
       "C_ID_0001238066    -0.589846     -0.003959\n",
       "C_ID_0001506ef0    -0.538048     -0.007912\n",
       "C_ID_0001793786    -0.149861     -0.000607\n",
       "C_ID_000183fdda    -0.486637     -0.003140"
      ]
     },
     "execution_count": 22,
     "metadata": {},
     "output_type": "execute_result"
    }
   ],
   "source": [
    "purchase_merchant[['pur_mer_sum','pur_mer_mean']].head()"
   ]
  },
  {
   "cell_type": "code",
   "execution_count": 41,
   "metadata": {
    "ExecuteTime": {
     "end_time": "2019-02-25T10:01:35.895540Z",
     "start_time": "2019-02-25T10:01:35.884570Z"
    }
   },
   "outputs": [
    {
     "data": {
      "text/html": [
       "<div>\n",
       "<style scoped>\n",
       "    .dataframe tbody tr th:only-of-type {\n",
       "        vertical-align: middle;\n",
       "    }\n",
       "\n",
       "    .dataframe tbody tr th {\n",
       "        vertical-align: top;\n",
       "    }\n",
       "\n",
       "    .dataframe thead th {\n",
       "        text-align: right;\n",
       "    }\n",
       "</style>\n",
       "<table border=\"1\" class=\"dataframe\">\n",
       "  <thead>\n",
       "    <tr style=\"text-align: right;\">\n",
       "      <th></th>\n",
       "      <th>merchant_count</th>\n",
       "      <th>transaction_count</th>\n",
       "      <th>trans_merchant</th>\n",
       "    </tr>\n",
       "    <tr>\n",
       "      <th>card_id</th>\n",
       "      <th></th>\n",
       "      <th></th>\n",
       "      <th></th>\n",
       "    </tr>\n",
       "  </thead>\n",
       "  <tbody>\n",
       "    <tr>\n",
       "      <th>C_ID_00007093c1</th>\n",
       "      <td>31</td>\n",
       "      <td>151</td>\n",
       "      <td>4.870968</td>\n",
       "    </tr>\n",
       "    <tr>\n",
       "      <th>C_ID_0001238066</th>\n",
       "      <td>90</td>\n",
       "      <td>148</td>\n",
       "      <td>1.644444</td>\n",
       "    </tr>\n",
       "    <tr>\n",
       "      <th>C_ID_0001506ef0</th>\n",
       "      <td>29</td>\n",
       "      <td>67</td>\n",
       "      <td>2.310345</td>\n",
       "    </tr>\n",
       "    <tr>\n",
       "      <th>C_ID_0001793786</th>\n",
       "      <td>150</td>\n",
       "      <td>247</td>\n",
       "      <td>1.646667</td>\n",
       "    </tr>\n",
       "    <tr>\n",
       "      <th>C_ID_000183fdda</th>\n",
       "      <td>84</td>\n",
       "      <td>155</td>\n",
       "      <td>1.845238</td>\n",
       "    </tr>\n",
       "  </tbody>\n",
       "</table>\n",
       "</div>"
      ],
      "text/plain": [
       "                 merchant_count  transaction_count  trans_merchant\n",
       "card_id                                                           \n",
       "C_ID_00007093c1              31                151        4.870968\n",
       "C_ID_0001238066              90                148        1.644444\n",
       "C_ID_0001506ef0              29                 67        2.310345\n",
       "C_ID_0001793786             150                247        1.646667\n",
       "C_ID_000183fdda              84                155        1.845238"
      ]
     },
     "execution_count": 41,
     "metadata": {},
     "output_type": "execute_result"
    }
   ],
   "source": [
    "trans_merchant = pd.DataFrame(trans_merchant)\n",
    "trans_merchant.head()"
   ]
  },
  {
   "cell_type": "code",
   "execution_count": 45,
   "metadata": {
    "ExecuteTime": {
     "end_time": "2019-02-25T10:02:31.344967Z",
     "start_time": "2019-02-25T10:02:30.524163Z"
    }
   },
   "outputs": [],
   "source": [
    "train = pd.read_csv(path + 'train.csv')\n",
    "test = pd.read_csv(path + 'test.csv')\n",
    "train.set_index('card_id', inplace=True)\n",
    "test.set_index('card_id', inplace=True)"
   ]
  },
  {
   "cell_type": "code",
   "execution_count": 47,
   "metadata": {
    "ExecuteTime": {
     "end_time": "2019-02-25T10:02:37.682018Z",
     "start_time": "2019-02-25T10:02:37.147450Z"
    }
   },
   "outputs": [],
   "source": [
    "train = train.join(by_month_lag)\n",
    "train = train.join(category3_count[['Category3_A_rate','Category3_C_rate']])\n",
    "train = train.join(purchase_merchant[['pur_mer_sum','pur_mer_mean']])\n",
    "train = train.join(trans_merchant['trans_merchant'])"
   ]
  },
  {
   "cell_type": "code",
   "execution_count": 48,
   "metadata": {
    "ExecuteTime": {
     "end_time": "2019-02-25T10:02:38.989180Z",
     "start_time": "2019-02-25T10:02:38.971231Z"
    }
   },
   "outputs": [
    {
     "data": {
      "text/html": [
       "<div>\n",
       "<style scoped>\n",
       "    .dataframe tbody tr th:only-of-type {\n",
       "        vertical-align: middle;\n",
       "    }\n",
       "\n",
       "    .dataframe tbody tr th {\n",
       "        vertical-align: top;\n",
       "    }\n",
       "\n",
       "    .dataframe thead th {\n",
       "        text-align: right;\n",
       "    }\n",
       "</style>\n",
       "<table border=\"1\" class=\"dataframe\">\n",
       "  <thead>\n",
       "    <tr style=\"text-align: right;\">\n",
       "      <th></th>\n",
       "      <th>first_active_month</th>\n",
       "      <th>feature_1</th>\n",
       "      <th>feature_2</th>\n",
       "      <th>feature_3</th>\n",
       "      <th>target</th>\n",
       "      <th>month_lag</th>\n",
       "      <th>Category3_A_rate</th>\n",
       "      <th>Category3_C_rate</th>\n",
       "      <th>pur_mer_sum</th>\n",
       "      <th>pur_mer_mean</th>\n",
       "      <th>trans_merchant</th>\n",
       "    </tr>\n",
       "    <tr>\n",
       "      <th>card_id</th>\n",
       "      <th></th>\n",
       "      <th></th>\n",
       "      <th></th>\n",
       "      <th></th>\n",
       "      <th></th>\n",
       "      <th></th>\n",
       "      <th></th>\n",
       "      <th></th>\n",
       "      <th></th>\n",
       "      <th></th>\n",
       "      <th></th>\n",
       "    </tr>\n",
       "  </thead>\n",
       "  <tbody>\n",
       "    <tr>\n",
       "      <th>C_ID_92a2005557</th>\n",
       "      <td>2017-06</td>\n",
       "      <td>5</td>\n",
       "      <td>2</td>\n",
       "      <td>1</td>\n",
       "      <td>-0.820283</td>\n",
       "      <td>7.477132</td>\n",
       "      <td>0.985866</td>\n",
       "      <td>0.000000</td>\n",
       "      <td>-0.646978</td>\n",
       "      <td>-0.002286</td>\n",
       "      <td>2.367521</td>\n",
       "    </tr>\n",
       "    <tr>\n",
       "      <th>C_ID_3d0044924f</th>\n",
       "      <td>2017-01</td>\n",
       "      <td>4</td>\n",
       "      <td>1</td>\n",
       "      <td>0</td>\n",
       "      <td>0.392913</td>\n",
       "      <td>14.945909</td>\n",
       "      <td>0.000000</td>\n",
       "      <td>0.203390</td>\n",
       "      <td>-0.602141</td>\n",
       "      <td>-0.001691</td>\n",
       "      <td>2.405405</td>\n",
       "    </tr>\n",
       "    <tr>\n",
       "      <th>C_ID_d639edf6cd</th>\n",
       "      <td>2016-08</td>\n",
       "      <td>2</td>\n",
       "      <td>2</td>\n",
       "      <td>0</td>\n",
       "      <td>0.688056</td>\n",
       "      <td>16.980973</td>\n",
       "      <td>1.000000</td>\n",
       "      <td>0.000000</td>\n",
       "      <td>-0.678812</td>\n",
       "      <td>-0.015428</td>\n",
       "      <td>3.142857</td>\n",
       "    </tr>\n",
       "    <tr>\n",
       "      <th>C_ID_186d6a6901</th>\n",
       "      <td>2017-09</td>\n",
       "      <td>4</td>\n",
       "      <td>3</td>\n",
       "      <td>0</td>\n",
       "      <td>0.142495</td>\n",
       "      <td>4.588067</td>\n",
       "      <td>0.000000</td>\n",
       "      <td>0.086420</td>\n",
       "      <td>-0.644592</td>\n",
       "      <td>-0.007674</td>\n",
       "      <td>1.473684</td>\n",
       "    </tr>\n",
       "    <tr>\n",
       "      <th>C_ID_cdbd2c0db2</th>\n",
       "      <td>2017-11</td>\n",
       "      <td>1</td>\n",
       "      <td>3</td>\n",
       "      <td>0</td>\n",
       "      <td>-0.159749</td>\n",
       "      <td>2.242533</td>\n",
       "      <td>0.000000</td>\n",
       "      <td>0.047619</td>\n",
       "      <td>-0.408416</td>\n",
       "      <td>-0.002417</td>\n",
       "      <td>1.647059</td>\n",
       "    </tr>\n",
       "  </tbody>\n",
       "</table>\n",
       "</div>"
      ],
      "text/plain": [
       "                first_active_month  feature_1  feature_2  feature_3    target  \\\n",
       "card_id                                                                         \n",
       "C_ID_92a2005557            2017-06          5          2          1 -0.820283   \n",
       "C_ID_3d0044924f            2017-01          4          1          0  0.392913   \n",
       "C_ID_d639edf6cd            2016-08          2          2          0  0.688056   \n",
       "C_ID_186d6a6901            2017-09          4          3          0  0.142495   \n",
       "C_ID_cdbd2c0db2            2017-11          1          3          0 -0.159749   \n",
       "\n",
       "                 month_lag  Category3_A_rate  Category3_C_rate  pur_mer_sum  \\\n",
       "card_id                                                                       \n",
       "C_ID_92a2005557   7.477132          0.985866          0.000000    -0.646978   \n",
       "C_ID_3d0044924f  14.945909          0.000000          0.203390    -0.602141   \n",
       "C_ID_d639edf6cd  16.980973          1.000000          0.000000    -0.678812   \n",
       "C_ID_186d6a6901   4.588067          0.000000          0.086420    -0.644592   \n",
       "C_ID_cdbd2c0db2   2.242533          0.000000          0.047619    -0.408416   \n",
       "\n",
       "                 pur_mer_mean  trans_merchant  \n",
       "card_id                                        \n",
       "C_ID_92a2005557     -0.002286        2.367521  \n",
       "C_ID_3d0044924f     -0.001691        2.405405  \n",
       "C_ID_d639edf6cd     -0.015428        3.142857  \n",
       "C_ID_186d6a6901     -0.007674        1.473684  \n",
       "C_ID_cdbd2c0db2     -0.002417        1.647059  "
      ]
     },
     "execution_count": 48,
     "metadata": {},
     "output_type": "execute_result"
    }
   ],
   "source": [
    "train.head()"
   ]
  },
  {
   "cell_type": "code",
   "execution_count": 50,
   "metadata": {
    "ExecuteTime": {
     "end_time": "2019-02-25T10:03:06.216483Z",
     "start_time": "2019-02-25T10:03:05.885371Z"
    }
   },
   "outputs": [],
   "source": [
    "test = test.join(by_month_lag)\n",
    "test = test.join(category3_count[['Category3_A_rate','Category3_C_rate']])\n",
    "test = test.join(purchase_merchant[['pur_mer_sum','pur_mer_mean']])\n",
    "test = test.join(trans_merchant['trans_merchant'])"
   ]
  },
  {
   "cell_type": "code",
   "execution_count": 51,
   "metadata": {
    "ExecuteTime": {
     "end_time": "2019-02-25T10:03:06.860274Z",
     "start_time": "2019-02-25T10:03:06.843319Z"
    }
   },
   "outputs": [
    {
     "data": {
      "text/html": [
       "<div>\n",
       "<style scoped>\n",
       "    .dataframe tbody tr th:only-of-type {\n",
       "        vertical-align: middle;\n",
       "    }\n",
       "\n",
       "    .dataframe tbody tr th {\n",
       "        vertical-align: top;\n",
       "    }\n",
       "\n",
       "    .dataframe thead th {\n",
       "        text-align: right;\n",
       "    }\n",
       "</style>\n",
       "<table border=\"1\" class=\"dataframe\">\n",
       "  <thead>\n",
       "    <tr style=\"text-align: right;\">\n",
       "      <th></th>\n",
       "      <th>first_active_month</th>\n",
       "      <th>feature_1</th>\n",
       "      <th>feature_2</th>\n",
       "      <th>feature_3</th>\n",
       "      <th>month_lag</th>\n",
       "      <th>Category3_A_rate</th>\n",
       "      <th>Category3_C_rate</th>\n",
       "      <th>pur_mer_sum</th>\n",
       "      <th>pur_mer_mean</th>\n",
       "      <th>trans_merchant</th>\n",
       "    </tr>\n",
       "    <tr>\n",
       "      <th>card_id</th>\n",
       "      <th></th>\n",
       "      <th></th>\n",
       "      <th></th>\n",
       "      <th></th>\n",
       "      <th></th>\n",
       "      <th></th>\n",
       "      <th></th>\n",
       "      <th></th>\n",
       "      <th></th>\n",
       "      <th></th>\n",
       "    </tr>\n",
       "  </thead>\n",
       "  <tbody>\n",
       "    <tr>\n",
       "      <th>C_ID_0ab67a22ab</th>\n",
       "      <td>2017-04</td>\n",
       "      <td>3</td>\n",
       "      <td>3</td>\n",
       "      <td>1</td>\n",
       "      <td>7.070825</td>\n",
       "      <td>0.0</td>\n",
       "      <td>0.323944</td>\n",
       "      <td>-0.598745</td>\n",
       "      <td>-0.008433</td>\n",
       "      <td>2.629630</td>\n",
       "    </tr>\n",
       "    <tr>\n",
       "      <th>C_ID_130fd0cbdd</th>\n",
       "      <td>2017-01</td>\n",
       "      <td>2</td>\n",
       "      <td>3</td>\n",
       "      <td>0</td>\n",
       "      <td>17.407645</td>\n",
       "      <td>0.0</td>\n",
       "      <td>0.034483</td>\n",
       "      <td>-0.633117</td>\n",
       "      <td>-0.007277</td>\n",
       "      <td>2.416667</td>\n",
       "    </tr>\n",
       "    <tr>\n",
       "      <th>C_ID_b709037bc5</th>\n",
       "      <td>2017-08</td>\n",
       "      <td>5</td>\n",
       "      <td>1</td>\n",
       "      <td>1</td>\n",
       "      <td>3.809524</td>\n",
       "      <td>0.0</td>\n",
       "      <td>0.833333</td>\n",
       "      <td>0.313932</td>\n",
       "      <td>0.020929</td>\n",
       "      <td>1.363636</td>\n",
       "    </tr>\n",
       "    <tr>\n",
       "      <th>C_ID_d27d835a9f</th>\n",
       "      <td>2017-12</td>\n",
       "      <td>2</td>\n",
       "      <td>1</td>\n",
       "      <td>0</td>\n",
       "      <td>2.027778</td>\n",
       "      <td>0.0</td>\n",
       "      <td>0.352941</td>\n",
       "      <td>-0.539844</td>\n",
       "      <td>-0.014996</td>\n",
       "      <td>1.090909</td>\n",
       "    </tr>\n",
       "    <tr>\n",
       "      <th>C_ID_2b5e3df5c2</th>\n",
       "      <td>2015-12</td>\n",
       "      <td>5</td>\n",
       "      <td>1</td>\n",
       "      <td>1</td>\n",
       "      <td>22.167016</td>\n",
       "      <td>0.0</td>\n",
       "      <td>0.060870</td>\n",
       "      <td>0.320727</td>\n",
       "      <td>0.002765</td>\n",
       "      <td>2.188679</td>\n",
       "    </tr>\n",
       "  </tbody>\n",
       "</table>\n",
       "</div>"
      ],
      "text/plain": [
       "                first_active_month  feature_1  feature_2  feature_3  \\\n",
       "card_id                                                               \n",
       "C_ID_0ab67a22ab            2017-04          3          3          1   \n",
       "C_ID_130fd0cbdd            2017-01          2          3          0   \n",
       "C_ID_b709037bc5            2017-08          5          1          1   \n",
       "C_ID_d27d835a9f            2017-12          2          1          0   \n",
       "C_ID_2b5e3df5c2            2015-12          5          1          1   \n",
       "\n",
       "                 month_lag  Category3_A_rate  Category3_C_rate  pur_mer_sum  \\\n",
       "card_id                                                                       \n",
       "C_ID_0ab67a22ab   7.070825               0.0          0.323944    -0.598745   \n",
       "C_ID_130fd0cbdd  17.407645               0.0          0.034483    -0.633117   \n",
       "C_ID_b709037bc5   3.809524               0.0          0.833333     0.313932   \n",
       "C_ID_d27d835a9f   2.027778               0.0          0.352941    -0.539844   \n",
       "C_ID_2b5e3df5c2  22.167016               0.0          0.060870     0.320727   \n",
       "\n",
       "                 pur_mer_mean  trans_merchant  \n",
       "card_id                                        \n",
       "C_ID_0ab67a22ab     -0.008433        2.629630  \n",
       "C_ID_130fd0cbdd     -0.007277        2.416667  \n",
       "C_ID_b709037bc5      0.020929        1.363636  \n",
       "C_ID_d27d835a9f     -0.014996        1.090909  \n",
       "C_ID_2b5e3df5c2      0.002765        2.188679  "
      ]
     },
     "execution_count": 51,
     "metadata": {},
     "output_type": "execute_result"
    }
   ],
   "source": [
    "test.head()"
   ]
  },
  {
   "cell_type": "code",
   "execution_count": 52,
   "metadata": {
    "ExecuteTime": {
     "end_time": "2019-02-25T10:03:55.994599Z",
     "start_time": "2019-02-25T10:03:51.076754Z"
    }
   },
   "outputs": [],
   "source": [
    "train.to_csv('sm_feature_train.csv')\n",
    "test.to_csv('sm_feature_test.csv')"
   ]
  },
  {
   "cell_type": "markdown",
   "metadata": {},
   "source": [
    "# category_1 이용 - category2가  NA인지 아닌지 \n"
   ]
  },
  {
   "cell_type": "code",
   "execution_count": 4,
   "metadata": {
    "ExecuteTime": {
     "end_time": "2019-02-19T09:26:41.528082Z",
     "start_time": "2019-02-19T09:26:41.286424Z"
    },
    "scrolled": true
   },
   "outputs": [
    {
     "data": {
      "text/plain": [
       "308"
      ]
     },
     "execution_count": 4,
     "metadata": {},
     "output_type": "execute_result"
    }
   ],
   "source": [
    "len(transaction.city_id.unique())"
   ]
  },
  {
   "cell_type": "code",
   "execution_count": 13,
   "metadata": {
    "ExecuteTime": {
     "end_time": "2019-02-20T09:43:42.624649Z",
     "start_time": "2019-02-20T09:43:36.327809Z"
    }
   },
   "outputs": [
    {
     "data": {
      "text/plain": [
       "Y    28558483\n",
       "N     2516909\n",
       "Name: authorized_flag, dtype: int64"
      ]
     },
     "execution_count": 13,
     "metadata": {},
     "output_type": "execute_result"
    }
   ],
   "source": [
    "transaction.authorized_flag.value_counts()"
   ]
  },
  {
   "cell_type": "code",
   "execution_count": 5,
   "metadata": {
    "ExecuteTime": {
     "end_time": "2019-02-18T02:51:32.585175Z",
     "start_time": "2019-02-18T02:51:26.189861Z"
    }
   },
   "outputs": [
    {
     "data": {
      "text/plain": [
       "N    28928267\n",
       "Y     2147125\n",
       "Name: category_1, dtype: int64"
      ]
     },
     "execution_count": 5,
     "metadata": {},
     "output_type": "execute_result"
    }
   ],
   "source": [
    "transaction.category_1.value_counts()"
   ]
  },
  {
   "cell_type": "code",
   "execution_count": 12,
   "metadata": {
    "ExecuteTime": {
     "end_time": "2019-02-20T09:40:33.032329Z",
     "start_time": "2019-02-20T09:40:24.903918Z"
    }
   },
   "outputs": [
    {
     "data": {
      "text/html": [
       "<div>\n",
       "<style scoped>\n",
       "    .dataframe tbody tr th:only-of-type {\n",
       "        vertical-align: middle;\n",
       "    }\n",
       "\n",
       "    .dataframe tbody tr th {\n",
       "        vertical-align: top;\n",
       "    }\n",
       "\n",
       "    .dataframe thead th {\n",
       "        text-align: right;\n",
       "    }\n",
       "</style>\n",
       "<table border=\"1\" class=\"dataframe\">\n",
       "  <thead>\n",
       "    <tr style=\"text-align: right;\">\n",
       "      <th></th>\n",
       "      <th>city_id</th>\n",
       "      <th>installments</th>\n",
       "      <th>merchant_category_id</th>\n",
       "      <th>month_lag</th>\n",
       "      <th>purchase_amount</th>\n",
       "      <th>category_2</th>\n",
       "      <th>state_id</th>\n",
       "      <th>subsector_id</th>\n",
       "    </tr>\n",
       "  </thead>\n",
       "  <tbody>\n",
       "    <tr>\n",
       "      <th>count</th>\n",
       "      <td>2147125.0</td>\n",
       "      <td>2.147125e+06</td>\n",
       "      <td>2.147125e+06</td>\n",
       "      <td>2.147125e+06</td>\n",
       "      <td>2.147125e+06</td>\n",
       "      <td>0.0</td>\n",
       "      <td>2147125.0</td>\n",
       "      <td>2.147125e+06</td>\n",
       "    </tr>\n",
       "    <tr>\n",
       "      <th>mean</th>\n",
       "      <td>-1.0</td>\n",
       "      <td>1.909399e+00</td>\n",
       "      <td>6.928823e+02</td>\n",
       "      <td>-3.876229e+00</td>\n",
       "      <td>-4.134305e-01</td>\n",
       "      <td>NaN</td>\n",
       "      <td>-1.0</td>\n",
       "      <td>2.020342e+01</td>\n",
       "    </tr>\n",
       "    <tr>\n",
       "      <th>std</th>\n",
       "      <td>0.0</td>\n",
       "      <td>2.933223e+00</td>\n",
       "      <td>1.980809e+02</td>\n",
       "      <td>3.455989e+00</td>\n",
       "      <td>2.176215e+01</td>\n",
       "      <td>NaN</td>\n",
       "      <td>0.0</td>\n",
       "      <td>1.078952e+01</td>\n",
       "    </tr>\n",
       "    <tr>\n",
       "      <th>min</th>\n",
       "      <td>-1.0</td>\n",
       "      <td>-1.000000e+00</td>\n",
       "      <td>-1.000000e+00</td>\n",
       "      <td>-1.300000e+01</td>\n",
       "      <td>-7.468928e-01</td>\n",
       "      <td>NaN</td>\n",
       "      <td>-1.0</td>\n",
       "      <td>-1.000000e+00</td>\n",
       "    </tr>\n",
       "    <tr>\n",
       "      <th>25%</th>\n",
       "      <td>-1.0</td>\n",
       "      <td>1.000000e+00</td>\n",
       "      <td>5.740000e+02</td>\n",
       "      <td>-6.000000e+00</td>\n",
       "      <td>-7.251194e-01</td>\n",
       "      <td>NaN</td>\n",
       "      <td>-1.0</td>\n",
       "      <td>8.000000e+00</td>\n",
       "    </tr>\n",
       "    <tr>\n",
       "      <th>50%</th>\n",
       "      <td>-1.0</td>\n",
       "      <td>1.000000e+00</td>\n",
       "      <td>7.550000e+02</td>\n",
       "      <td>-3.000000e+00</td>\n",
       "      <td>-6.943150e-01</td>\n",
       "      <td>NaN</td>\n",
       "      <td>-1.0</td>\n",
       "      <td>2.700000e+01</td>\n",
       "    </tr>\n",
       "    <tr>\n",
       "      <th>75%</th>\n",
       "      <td>-1.0</td>\n",
       "      <td>1.000000e+00</td>\n",
       "      <td>8.390000e+02</td>\n",
       "      <td>-1.000000e+00</td>\n",
       "      <td>-5.591065e-01</td>\n",
       "      <td>NaN</td>\n",
       "      <td>-1.0</td>\n",
       "      <td>2.900000e+01</td>\n",
       "    </tr>\n",
       "    <tr>\n",
       "      <th>max</th>\n",
       "      <td>-1.0</td>\n",
       "      <td>9.990000e+02</td>\n",
       "      <td>8.910000e+02</td>\n",
       "      <td>2.000000e+00</td>\n",
       "      <td>3.155499e+04</td>\n",
       "      <td>NaN</td>\n",
       "      <td>-1.0</td>\n",
       "      <td>4.100000e+01</td>\n",
       "    </tr>\n",
       "  </tbody>\n",
       "</table>\n",
       "</div>"
      ],
      "text/plain": [
       "         city_id  installments  merchant_category_id     month_lag  \\\n",
       "count  2147125.0  2.147125e+06          2.147125e+06  2.147125e+06   \n",
       "mean        -1.0  1.909399e+00          6.928823e+02 -3.876229e+00   \n",
       "std          0.0  2.933223e+00          1.980809e+02  3.455989e+00   \n",
       "min         -1.0 -1.000000e+00         -1.000000e+00 -1.300000e+01   \n",
       "25%         -1.0  1.000000e+00          5.740000e+02 -6.000000e+00   \n",
       "50%         -1.0  1.000000e+00          7.550000e+02 -3.000000e+00   \n",
       "75%         -1.0  1.000000e+00          8.390000e+02 -1.000000e+00   \n",
       "max         -1.0  9.990000e+02          8.910000e+02  2.000000e+00   \n",
       "\n",
       "       purchase_amount  category_2   state_id  subsector_id  \n",
       "count     2.147125e+06         0.0  2147125.0  2.147125e+06  \n",
       "mean     -4.134305e-01         NaN       -1.0  2.020342e+01  \n",
       "std       2.176215e+01         NaN        0.0  1.078952e+01  \n",
       "min      -7.468928e-01         NaN       -1.0 -1.000000e+00  \n",
       "25%      -7.251194e-01         NaN       -1.0  8.000000e+00  \n",
       "50%      -6.943150e-01         NaN       -1.0  2.700000e+01  \n",
       "75%      -5.591065e-01         NaN       -1.0  2.900000e+01  \n",
       "max       3.155499e+04         NaN       -1.0  4.100000e+01  "
      ]
     },
     "execution_count": 12,
     "metadata": {},
     "output_type": "execute_result"
    }
   ],
   "source": [
    "transaction.loc[transaction.category_1 == 'Y'].describe()"
   ]
  },
  {
   "cell_type": "code",
   "execution_count": 15,
   "metadata": {
    "ExecuteTime": {
     "end_time": "2019-02-20T09:49:55.023728Z",
     "start_time": "2019-02-20T09:49:51.634447Z"
    },
    "scrolled": true
   },
   "outputs": [
    {
     "data": {
      "text/plain": [
       " 69     5164357\n",
       " 19     1222038\n",
       " 158    1197975\n",
       " 17     1037014\n",
       " 331     755843\n",
       " 143     722766\n",
       " 88      705629\n",
       " 137     648030\n",
       " 333     592498\n",
       " 87      478907\n",
       " 212     438339\n",
       "-1       430848\n",
       " 57      405746\n",
       " 25      385072\n",
       " 149     381828\n",
       " 233     381790\n",
       " 117     342914\n",
       " 160     340749\n",
       " 213     269413\n",
       " 277     263918\n",
       " 286     247907\n",
       " 76      230472\n",
       " 4       229075\n",
       " 107     225811\n",
       " 53      223987\n",
       " 291     222095\n",
       " 20      220767\n",
       " 140     208190\n",
       " 344     187530\n",
       " 161     182424\n",
       "         ...   \n",
       " 81        8938\n",
       " 54        8877\n",
       " 32        8821\n",
       " 326       8538\n",
       " 235       8438\n",
       " 293       8314\n",
       " 327       8116\n",
       " 112       7921\n",
       " 84        7868\n",
       " 237       7825\n",
       " 254       7608\n",
       " 227       7590\n",
       " 71        7293\n",
       " 204       7036\n",
       " 221       6547\n",
       " 306       6390\n",
       " 130       6101\n",
       " 205       5760\n",
       " 122       5755\n",
       " 89        5036\n",
       " 215       4936\n",
       " 178       4675\n",
       " 263       4245\n",
       " 315       4107\n",
       " 207       4057\n",
       " 319       1702\n",
       " 92         783\n",
       " 273        643\n",
       " 316        164\n",
       " 185         50\n",
       "Name: city_id, Length: 308, dtype: int64"
      ]
     },
     "execution_count": 15,
     "metadata": {},
     "output_type": "execute_result"
    }
   ],
   "source": [
    "transaction.loc[transaction.category_1 == 'N', 'city_id'].value_counts()"
   ]
  },
  {
   "cell_type": "code",
   "execution_count": 20,
   "metadata": {
    "ExecuteTime": {
     "end_time": "2019-02-20T10:00:03.897197Z",
     "start_time": "2019-02-20T10:00:01.448776Z"
    }
   },
   "outputs": [
    {
     "data": {
      "text/plain": [
       "Series([], Name: category_2, dtype: int64)"
      ]
     },
     "execution_count": 20,
     "metadata": {},
     "output_type": "execute_result"
    }
   ],
   "source": [
    "transaction.loc[transaction.category_1 == 'Y', 'category_2'].value_counts()"
   ]
  },
  {
   "cell_type": "code",
   "execution_count": 16,
   "metadata": {
    "ExecuteTime": {
     "end_time": "2019-02-20T09:51:01.858259Z",
     "start_time": "2019-02-20T09:50:58.808270Z"
    }
   },
   "outputs": [
    {
     "data": {
      "text/plain": [
       "1.0    16235441\n",
       "3.0     4201320\n",
       "5.0     3985181\n",
       "4.0     2796643\n",
       "2.0     1092198\n",
       "Name: category_2, dtype: int64"
      ]
     },
     "execution_count": 16,
     "metadata": {},
     "output_type": "execute_result"
    }
   ],
   "source": [
    "transaction.loc[transaction.category_1 == 'N', 'category_2'].value_counts()"
   ]
  },
  {
   "cell_type": "code",
   "execution_count": 17,
   "metadata": {
    "ExecuteTime": {
     "end_time": "2019-02-20T09:53:28.905803Z",
     "start_time": "2019-02-20T09:53:26.449159Z"
    }
   },
   "outputs": [
    {
     "data": {
      "text/plain": [
       "Series([], Name: category_2, dtype: int64)"
      ]
     },
     "execution_count": 17,
     "metadata": {},
     "output_type": "execute_result"
    }
   ],
   "source": [
    "#all NA\n",
    "transaction.loc[transaction.category_1 == 'Y', 'category_2'].value_counts()"
   ]
  },
  {
   "cell_type": "code",
   "execution_count": 18,
   "metadata": {
    "ExecuteTime": {
     "end_time": "2019-02-20T09:53:44.652762Z",
     "start_time": "2019-02-20T09:53:41.864383Z"
    }
   },
   "outputs": [
    {
     "data": {
      "text/plain": [
       "-1    2147125\n",
       "Name: state_id, dtype: int64"
      ]
     },
     "execution_count": 18,
     "metadata": {},
     "output_type": "execute_result"
    }
   ],
   "source": [
    "transaction.loc[transaction.category_1 == 'Y', 'state_id'].value_counts()"
   ]
  },
  {
   "cell_type": "code",
   "execution_count": 19,
   "metadata": {
    "ExecuteTime": {
     "end_time": "2019-02-20T09:53:51.596713Z",
     "start_time": "2019-02-20T09:53:48.871701Z"
    }
   },
   "outputs": [
    {
     "data": {
      "text/plain": [
       " 9     11302027\n",
       " 16     2283185\n",
       " 15     2237559\n",
       " 5      1775282\n",
       " 19     1292267\n",
       " 20     1220150\n",
       " 22     1037014\n",
       " 21      989749\n",
       " 4       904352\n",
       " 7       690054\n",
       " 11      678032\n",
       " 13      673438\n",
       "-1       617484\n",
       " 3       581128\n",
       " 12      412670\n",
       " 18      407015\n",
       " 2       399542\n",
       " 1       265661\n",
       " 10      239736\n",
       " 23      219080\n",
       " 24      218777\n",
       " 14      181839\n",
       " 8       170047\n",
       " 17      124589\n",
       " 6         7590\n",
       "Name: state_id, dtype: int64"
      ]
     },
     "execution_count": 19,
     "metadata": {},
     "output_type": "execute_result"
    }
   ],
   "source": [
    "transaction.loc[transaction.category_1 == 'N', 'state_id'].value_counts()"
   ]
  },
  {
   "cell_type": "markdown",
   "metadata": {},
   "source": [
    "# category_2이용"
   ]
  },
  {
   "cell_type": "code",
   "execution_count": null,
   "metadata": {},
   "outputs": [],
   "source": []
  }
 ],
 "metadata": {
  "kernelspec": {
   "display_name": "Python 3",
   "language": "python",
   "name": "python3"
  },
  "language_info": {
   "codemirror_mode": {
    "name": "ipython",
    "version": 3
   },
   "file_extension": ".py",
   "mimetype": "text/x-python",
   "name": "python",
   "nbconvert_exporter": "python",
   "pygments_lexer": "ipython3",
   "version": "3.7.1"
  },
  "latex_envs": {
   "LaTeX_envs_menu_present": true,
   "autoclose": false,
   "autocomplete": true,
   "bibliofile": "biblio.bib",
   "cite_by": "apalike",
   "current_citInitial": 1,
   "eqLabelWithNumbers": true,
   "eqNumInitial": 1,
   "hotkeys": {
    "equation": "Ctrl-E",
    "itemize": "Ctrl-I"
   },
   "labels_anchors": false,
   "latex_user_defs": false,
   "report_style_numbering": false,
   "user_envs_cfg": false
  },
  "notify_time": "10"
 },
 "nbformat": 4,
 "nbformat_minor": 2
}
