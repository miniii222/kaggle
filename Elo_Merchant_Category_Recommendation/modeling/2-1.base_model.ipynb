{
 "cells": [
  {
   "cell_type": "code",
   "execution_count": 1,
   "metadata": {},
   "outputs": [],
   "source": [
    "import pandas as pd\n",
    "import numpy as np\n",
    "import matplotlib.pyplot as plt"
   ]
  },
  {
   "cell_type": "code",
   "execution_count": 104,
   "metadata": {},
   "outputs": [],
   "source": [
    "path = 'C:/Users/wjssm/Desktop/kaggle/Elo_Merchant_Category_Recommendation/data/'\n",
    "\n",
    "train = pd.read_csv(path + 'train.csv') #key : card_id\n",
    "test = pd.read_csv(path + 'test.csv') #key : card_id\n",
    "history = pd.read_csv(path + 'historical_transactions.csv') #key : card_id, merchant_id\n",
    "new_history = pd.read_csv(path + 'new_merchant_transactions.csv') #key : card_id, merchant_id\n",
    "merchant = pd.read_csv(path + 'merchants.csv') #key : merchant_id"
   ]
  },
  {
   "cell_type": "code",
   "execution_count": 105,
   "metadata": {},
   "outputs": [
    {
     "data": {
      "text/plain": [
       "29112361"
      ]
     },
     "execution_count": 105,
     "metadata": {},
     "output_type": "execute_result"
    }
   ],
   "source": [
    "history.shape[0]"
   ]
  },
  {
   "cell_type": "code",
   "execution_count": 106,
   "metadata": {},
   "outputs": [],
   "source": [
    "mean_history = history.groupby('card_id').mean()"
   ]
  },
  {
   "cell_type": "code",
   "execution_count": 107,
   "metadata": {},
   "outputs": [],
   "source": [
    "train = pd.merge(train, mean_history, on='card_id' ,how='left')\n",
    "test = pd.merge(test, mean_history, on='card_id' ,how='left')"
   ]
  },
  {
   "cell_type": "code",
   "execution_count": 108,
   "metadata": {},
   "outputs": [
    {
     "data": {
      "text/html": [
       "<div>\n",
       "<style scoped>\n",
       "    .dataframe tbody tr th:only-of-type {\n",
       "        vertical-align: middle;\n",
       "    }\n",
       "\n",
       "    .dataframe tbody tr th {\n",
       "        vertical-align: top;\n",
       "    }\n",
       "\n",
       "    .dataframe thead th {\n",
       "        text-align: right;\n",
       "    }\n",
       "</style>\n",
       "<table border=\"1\" class=\"dataframe\">\n",
       "  <thead>\n",
       "    <tr style=\"text-align: right;\">\n",
       "      <th></th>\n",
       "      <th>first_active_month</th>\n",
       "      <th>card_id</th>\n",
       "      <th>feature_1</th>\n",
       "      <th>feature_2</th>\n",
       "      <th>feature_3</th>\n",
       "      <th>city_id</th>\n",
       "      <th>installments</th>\n",
       "      <th>merchant_category_id</th>\n",
       "      <th>month_lag</th>\n",
       "      <th>purchase_amount</th>\n",
       "      <th>category_2</th>\n",
       "      <th>state_id</th>\n",
       "      <th>subsector_id</th>\n",
       "    </tr>\n",
       "  </thead>\n",
       "  <tbody>\n",
       "    <tr>\n",
       "      <th>0</th>\n",
       "      <td>2017-04</td>\n",
       "      <td>C_ID_0ab67a22ab</td>\n",
       "      <td>3</td>\n",
       "      <td>3</td>\n",
       "      <td>1</td>\n",
       "      <td>108.235294</td>\n",
       "      <td>2.073529</td>\n",
       "      <td>545.029412</td>\n",
       "      <td>-3.632353</td>\n",
       "      <td>-0.599025</td>\n",
       "      <td>1.000000</td>\n",
       "      <td>7.470588</td>\n",
       "      <td>25.205882</td>\n",
       "    </tr>\n",
       "    <tr>\n",
       "      <th>1</th>\n",
       "      <td>2017-01</td>\n",
       "      <td>C_ID_130fd0cbdd</td>\n",
       "      <td>2</td>\n",
       "      <td>3</td>\n",
       "      <td>0</td>\n",
       "      <td>118.756410</td>\n",
       "      <td>1.064103</td>\n",
       "      <td>457.820513</td>\n",
       "      <td>-10.410256</td>\n",
       "      <td>-0.629955</td>\n",
       "      <td>3.986842</td>\n",
       "      <td>12.692308</td>\n",
       "      <td>28.679487</td>\n",
       "    </tr>\n",
       "    <tr>\n",
       "      <th>2</th>\n",
       "      <td>2017-08</td>\n",
       "      <td>C_ID_b709037bc5</td>\n",
       "      <td>5</td>\n",
       "      <td>1</td>\n",
       "      <td>1</td>\n",
       "      <td>147.000000</td>\n",
       "      <td>3.384615</td>\n",
       "      <td>445.692308</td>\n",
       "      <td>-2.076923</td>\n",
       "      <td>0.348372</td>\n",
       "      <td>4.666667</td>\n",
       "      <td>6.000000</td>\n",
       "      <td>25.769231</td>\n",
       "    </tr>\n",
       "    <tr>\n",
       "      <th>3</th>\n",
       "      <td>2017-12</td>\n",
       "      <td>C_ID_d27d835a9f</td>\n",
       "      <td>2</td>\n",
       "      <td>1</td>\n",
       "      <td>0</td>\n",
       "      <td>69.000000</td>\n",
       "      <td>1.461538</td>\n",
       "      <td>428.961538</td>\n",
       "      <td>-1.230769</td>\n",
       "      <td>-0.526566</td>\n",
       "      <td>1.000000</td>\n",
       "      <td>9.000000</td>\n",
       "      <td>25.730769</td>\n",
       "    </tr>\n",
       "    <tr>\n",
       "      <th>4</th>\n",
       "      <td>2015-12</td>\n",
       "      <td>C_ID_2b5e3df5c2</td>\n",
       "      <td>5</td>\n",
       "      <td>1</td>\n",
       "      <td>1</td>\n",
       "      <td>268.190909</td>\n",
       "      <td>1.090909</td>\n",
       "      <td>461.154545</td>\n",
       "      <td>-6.227273</td>\n",
       "      <td>0.228540</td>\n",
       "      <td>3.845455</td>\n",
       "      <td>12.318182</td>\n",
       "      <td>24.945455</td>\n",
       "    </tr>\n",
       "  </tbody>\n",
       "</table>\n",
       "</div>"
      ],
      "text/plain": [
       "  first_active_month          card_id  feature_1  feature_2  feature_3  \\\n",
       "0            2017-04  C_ID_0ab67a22ab          3          3          1   \n",
       "1            2017-01  C_ID_130fd0cbdd          2          3          0   \n",
       "2            2017-08  C_ID_b709037bc5          5          1          1   \n",
       "3            2017-12  C_ID_d27d835a9f          2          1          0   \n",
       "4            2015-12  C_ID_2b5e3df5c2          5          1          1   \n",
       "\n",
       "      city_id  installments  merchant_category_id  month_lag  purchase_amount  \\\n",
       "0  108.235294      2.073529            545.029412  -3.632353        -0.599025   \n",
       "1  118.756410      1.064103            457.820513 -10.410256        -0.629955   \n",
       "2  147.000000      3.384615            445.692308  -2.076923         0.348372   \n",
       "3   69.000000      1.461538            428.961538  -1.230769        -0.526566   \n",
       "4  268.190909      1.090909            461.154545  -6.227273         0.228540   \n",
       "\n",
       "   category_2   state_id  subsector_id  \n",
       "0    1.000000   7.470588     25.205882  \n",
       "1    3.986842  12.692308     28.679487  \n",
       "2    4.666667   6.000000     25.769231  \n",
       "3    1.000000   9.000000     25.730769  \n",
       "4    3.845455  12.318182     24.945455  "
      ]
     },
     "execution_count": 108,
     "metadata": {},
     "output_type": "execute_result"
    }
   ],
   "source": [
    "test.head()"
   ]
  },
  {
   "cell_type": "code",
   "execution_count": 109,
   "metadata": {},
   "outputs": [],
   "source": [
    "#train drop 다 제거\n",
    "train.dropna(inplace=True)"
   ]
  },
  {
   "cell_type": "code",
   "execution_count": 110,
   "metadata": {},
   "outputs": [],
   "source": [
    "train['year'] = pd.DatetimeIndex(train['first_active_month']).year\n",
    "train['month'] = pd.DatetimeIndex(train['first_active_month']).month\n",
    "\n",
    "test['year'] = pd.DatetimeIndex(test['first_active_month']).year\n",
    "test['month'] = pd.DatetimeIndex(test['first_active_month']).month"
   ]
  },
  {
   "cell_type": "code",
   "execution_count": 111,
   "metadata": {},
   "outputs": [],
   "source": [
    "train.drop(['first_active_month'], axis = 1, inplace=True)\n",
    "test.drop(['first_active_month'], axis = 1, inplace=True)"
   ]
  },
  {
   "cell_type": "code",
   "execution_count": 112,
   "metadata": {},
   "outputs": [
    {
     "data": {
      "text/plain": [
       "(123623, 14)"
      ]
     },
     "execution_count": 112,
     "metadata": {},
     "output_type": "execute_result"
    }
   ],
   "source": [
    "test.shape"
   ]
  },
  {
   "cell_type": "code",
   "execution_count": 113,
   "metadata": {},
   "outputs": [],
   "source": [
    "import statsmodels.api as sm\n",
    "from sklearn.linear_model import LinearRegression"
   ]
  },
  {
   "cell_type": "code",
   "execution_count": 114,
   "metadata": {},
   "outputs": [
    {
     "data": {
      "text/html": [
       "<div>\n",
       "<style scoped>\n",
       "    .dataframe tbody tr th:only-of-type {\n",
       "        vertical-align: middle;\n",
       "    }\n",
       "\n",
       "    .dataframe tbody tr th {\n",
       "        vertical-align: top;\n",
       "    }\n",
       "\n",
       "    .dataframe thead th {\n",
       "        text-align: right;\n",
       "    }\n",
       "</style>\n",
       "<table border=\"1\" class=\"dataframe\">\n",
       "  <thead>\n",
       "    <tr style=\"text-align: right;\">\n",
       "      <th></th>\n",
       "      <th>card_id</th>\n",
       "      <th>feature_1</th>\n",
       "      <th>feature_2</th>\n",
       "      <th>feature_3</th>\n",
       "      <th>target</th>\n",
       "      <th>city_id</th>\n",
       "      <th>installments</th>\n",
       "      <th>merchant_category_id</th>\n",
       "      <th>month_lag</th>\n",
       "      <th>purchase_amount</th>\n",
       "      <th>category_2</th>\n",
       "      <th>state_id</th>\n",
       "      <th>subsector_id</th>\n",
       "      <th>year</th>\n",
       "      <th>month</th>\n",
       "    </tr>\n",
       "  </thead>\n",
       "  <tbody>\n",
       "    <tr>\n",
       "      <th>0</th>\n",
       "      <td>C_ID_92a2005557</td>\n",
       "      <td>5</td>\n",
       "      <td>2</td>\n",
       "      <td>1</td>\n",
       "      <td>-0.820283</td>\n",
       "      <td>75.276923</td>\n",
       "      <td>0.015385</td>\n",
       "      <td>431.561538</td>\n",
       "      <td>-3.911538</td>\n",
       "      <td>-0.638341</td>\n",
       "      <td>1.046154</td>\n",
       "      <td>9.011538</td>\n",
       "      <td>31.465385</td>\n",
       "      <td>2017</td>\n",
       "      <td>6</td>\n",
       "    </tr>\n",
       "    <tr>\n",
       "      <th>1</th>\n",
       "      <td>C_ID_3d0044924f</td>\n",
       "      <td>4</td>\n",
       "      <td>1</td>\n",
       "      <td>0</td>\n",
       "      <td>0.392913</td>\n",
       "      <td>70.282857</td>\n",
       "      <td>1.551429</td>\n",
       "      <td>413.128571</td>\n",
       "      <td>-5.031429</td>\n",
       "      <td>-0.600018</td>\n",
       "      <td>1.000000</td>\n",
       "      <td>8.285714</td>\n",
       "      <td>27.028571</td>\n",
       "      <td>2017</td>\n",
       "      <td>1</td>\n",
       "    </tr>\n",
       "    <tr>\n",
       "      <th>2</th>\n",
       "      <td>C_ID_d639edf6cd</td>\n",
       "      <td>2</td>\n",
       "      <td>2</td>\n",
       "      <td>0</td>\n",
       "      <td>0.688056</td>\n",
       "      <td>142.023256</td>\n",
       "      <td>0.000000</td>\n",
       "      <td>627.348837</td>\n",
       "      <td>-8.604651</td>\n",
       "      <td>-0.678311</td>\n",
       "      <td>4.627907</td>\n",
       "      <td>5.372093</td>\n",
       "      <td>31.279070</td>\n",
       "      <td>2016</td>\n",
       "      <td>8</td>\n",
       "    </tr>\n",
       "    <tr>\n",
       "      <th>3</th>\n",
       "      <td>C_ID_186d6a6901</td>\n",
       "      <td>4</td>\n",
       "      <td>3</td>\n",
       "      <td>0</td>\n",
       "      <td>0.142495</td>\n",
       "      <td>24.051948</td>\n",
       "      <td>1.090909</td>\n",
       "      <td>463.597403</td>\n",
       "      <td>-2.831169</td>\n",
       "      <td>-0.642745</td>\n",
       "      <td>3.446154</td>\n",
       "      <td>16.337662</td>\n",
       "      <td>28.792208</td>\n",
       "      <td>2017</td>\n",
       "      <td>9</td>\n",
       "    </tr>\n",
       "    <tr>\n",
       "      <th>4</th>\n",
       "      <td>C_ID_cdbd2c0db2</td>\n",
       "      <td>1</td>\n",
       "      <td>3</td>\n",
       "      <td>0</td>\n",
       "      <td>-0.159749</td>\n",
       "      <td>24.849624</td>\n",
       "      <td>1.368421</td>\n",
       "      <td>415.601504</td>\n",
       "      <td>-1.285714</td>\n",
       "      <td>-0.366073</td>\n",
       "      <td>3.754237</td>\n",
       "      <td>17.458647</td>\n",
       "      <td>32.383459</td>\n",
       "      <td>2017</td>\n",
       "      <td>11</td>\n",
       "    </tr>\n",
       "  </tbody>\n",
       "</table>\n",
       "</div>"
      ],
      "text/plain": [
       "           card_id  feature_1  feature_2  feature_3    target     city_id  \\\n",
       "0  C_ID_92a2005557          5          2          1 -0.820283   75.276923   \n",
       "1  C_ID_3d0044924f          4          1          0  0.392913   70.282857   \n",
       "2  C_ID_d639edf6cd          2          2          0  0.688056  142.023256   \n",
       "3  C_ID_186d6a6901          4          3          0  0.142495   24.051948   \n",
       "4  C_ID_cdbd2c0db2          1          3          0 -0.159749   24.849624   \n",
       "\n",
       "   installments  merchant_category_id  month_lag  purchase_amount  category_2  \\\n",
       "0      0.015385            431.561538  -3.911538        -0.638341    1.046154   \n",
       "1      1.551429            413.128571  -5.031429        -0.600018    1.000000   \n",
       "2      0.000000            627.348837  -8.604651        -0.678311    4.627907   \n",
       "3      1.090909            463.597403  -2.831169        -0.642745    3.446154   \n",
       "4      1.368421            415.601504  -1.285714        -0.366073    3.754237   \n",
       "\n",
       "    state_id  subsector_id  year  month  \n",
       "0   9.011538     31.465385  2017      6  \n",
       "1   8.285714     27.028571  2017      1  \n",
       "2   5.372093     31.279070  2016      8  \n",
       "3  16.337662     28.792208  2017      9  \n",
       "4  17.458647     32.383459  2017     11  "
      ]
     },
     "execution_count": 114,
     "metadata": {},
     "output_type": "execute_result"
    }
   ],
   "source": [
    "train.head()"
   ]
  },
  {
   "cell_type": "code",
   "execution_count": 119,
   "metadata": {},
   "outputs": [],
   "source": [
    "train.set_index('card_id', inplace=True)\n",
    "test.set_index('card_id', inplace=True)"
   ]
  },
  {
   "cell_type": "code",
   "execution_count": 120,
   "metadata": {},
   "outputs": [],
   "source": [
    "x_train = train.drop(['target'], axis=1)\n",
    "y_train = train['target']"
   ]
  },
  {
   "cell_type": "markdown",
   "metadata": {},
   "source": [
    "### Elastic Net"
   ]
  },
  {
   "cell_type": "code",
   "execution_count": 121,
   "metadata": {},
   "outputs": [],
   "source": [
    "# Statsmodel.Api Method\n",
    "model1 = sm.OLS(y_train,x_train)\n",
    "result1 = model1.fit()"
   ]
  },
  {
   "cell_type": "code",
   "execution_count": 122,
   "metadata": {},
   "outputs": [
    {
     "name": "stdout",
     "output_type": "stream",
     "text": [
      "                            OLS Regression Results                            \n",
      "==============================================================================\n",
      "Dep. Variable:                 target   R-squared:                       0.013\n",
      "Model:                            OLS   Adj. R-squared:                  0.013\n",
      "Method:                 Least Squares   F-statistic:                     194.6\n",
      "Date:                Mon, 28 Jan 2019   Prob (F-statistic):               0.00\n",
      "Time:                        22:41:40   Log-Likelihood:            -5.4739e+05\n",
      "No. Observations:              198314   AIC:                         1.095e+06\n",
      "Df Residuals:                  198301   BIC:                         1.095e+06\n",
      "Df Model:                          13                                         \n",
      "Covariance Type:            nonrobust                                         \n",
      "========================================================================================\n",
      "                           coef    std err          t      P>|t|      [0.025      0.975]\n",
      "----------------------------------------------------------------------------------------\n",
      "feature_1               -0.0464      0.009     -4.904      0.000      -0.065      -0.028\n",
      "feature_2               -0.0620      0.012     -5.226      0.000      -0.085      -0.039\n",
      "feature_3               -0.0230      0.023     -1.019      0.308      -0.067       0.021\n",
      "city_id                  0.0005      0.000      4.761      0.000       0.000       0.001\n",
      "installments            -0.0236      0.009     -2.716      0.007      -0.041      -0.007\n",
      "merchant_category_id    -0.0005   9.56e-05     -5.284      0.000      -0.001      -0.000\n",
      "month_lag               -0.0332      0.004     -7.702      0.000      -0.042      -0.025\n",
      "purchase_amount       1.296e-06   7.63e-06      0.170      0.865   -1.37e-05    1.63e-05\n",
      "category_2               0.0200      0.006      3.147      0.002       0.008       0.032\n",
      "state_id                 0.0032      0.002      1.873      0.061      -0.000       0.007\n",
      "subsector_id             0.0121      0.002      5.267      0.000       0.008       0.017\n",
      "year                    -0.0004   4.73e-05     -7.927      0.000      -0.000      -0.000\n",
      "month                    0.0424      0.003     15.620      0.000       0.037       0.048\n",
      "==============================================================================\n",
      "Omnibus:                   240721.364   Durbin-Watson:                   2.005\n",
      "Prob(Omnibus):                  0.000   Jarque-Bera (JB):         26795333.889\n",
      "Skew:                          -6.723   Prob(JB):                         0.00\n",
      "Kurtosis:                      58.335   Cond. No.                     5.71e+03\n",
      "==============================================================================\n",
      "\n",
      "Warnings:\n",
      "[1] Standard Errors assume that the covariance matrix of the errors is correctly specified.\n",
      "[2] The condition number is large, 5.71e+03. This might indicate that there are\n",
      "strong multicollinearity or other numerical problems.\n"
     ]
    }
   ],
   "source": [
    "print(result1.summary())"
   ]
  },
  {
   "cell_type": "code",
   "execution_count": 123,
   "metadata": {},
   "outputs": [
    {
     "data": {
      "text/html": [
       "<div>\n",
       "<style scoped>\n",
       "    .dataframe tbody tr th:only-of-type {\n",
       "        vertical-align: middle;\n",
       "    }\n",
       "\n",
       "    .dataframe tbody tr th {\n",
       "        vertical-align: top;\n",
       "    }\n",
       "\n",
       "    .dataframe thead th {\n",
       "        text-align: right;\n",
       "    }\n",
       "</style>\n",
       "<table border=\"1\" class=\"dataframe\">\n",
       "  <thead>\n",
       "    <tr style=\"text-align: right;\">\n",
       "      <th></th>\n",
       "      <th>predict</th>\n",
       "      <th>actual</th>\n",
       "    </tr>\n",
       "  </thead>\n",
       "  <tbody>\n",
       "    <tr>\n",
       "      <th>74027</th>\n",
       "      <td>0.356416</td>\n",
       "      <td>-1.257478</td>\n",
       "    </tr>\n",
       "    <tr>\n",
       "      <th>21400</th>\n",
       "      <td>0.335973</td>\n",
       "      <td>-3.439235</td>\n",
       "    </tr>\n",
       "    <tr>\n",
       "      <th>184841</th>\n",
       "      <td>0.332294</td>\n",
       "      <td>1.379520</td>\n",
       "    </tr>\n",
       "    <tr>\n",
       "      <th>76982</th>\n",
       "      <td>0.321072</td>\n",
       "      <td>-0.073606</td>\n",
       "    </tr>\n",
       "    <tr>\n",
       "      <th>101883</th>\n",
       "      <td>0.319710</td>\n",
       "      <td>-0.439408</td>\n",
       "    </tr>\n",
       "    <tr>\n",
       "      <th>9013</th>\n",
       "      <td>0.314519</td>\n",
       "      <td>-0.569811</td>\n",
       "    </tr>\n",
       "    <tr>\n",
       "      <th>78778</th>\n",
       "      <td>0.308086</td>\n",
       "      <td>-0.373205</td>\n",
       "    </tr>\n",
       "    <tr>\n",
       "      <th>193387</th>\n",
       "      <td>0.304643</td>\n",
       "      <td>-0.072221</td>\n",
       "    </tr>\n",
       "    <tr>\n",
       "      <th>131488</th>\n",
       "      <td>0.296899</td>\n",
       "      <td>2.587645</td>\n",
       "    </tr>\n",
       "    <tr>\n",
       "      <th>41573</th>\n",
       "      <td>0.296493</td>\n",
       "      <td>1.953911</td>\n",
       "    </tr>\n",
       "    <tr>\n",
       "      <th>187920</th>\n",
       "      <td>0.293817</td>\n",
       "      <td>-0.394507</td>\n",
       "    </tr>\n",
       "    <tr>\n",
       "      <th>73552</th>\n",
       "      <td>0.292426</td>\n",
       "      <td>-0.290565</td>\n",
       "    </tr>\n",
       "    <tr>\n",
       "      <th>181100</th>\n",
       "      <td>0.283839</td>\n",
       "      <td>0.542804</td>\n",
       "    </tr>\n",
       "    <tr>\n",
       "      <th>91515</th>\n",
       "      <td>0.273030</td>\n",
       "      <td>0.136540</td>\n",
       "    </tr>\n",
       "    <tr>\n",
       "      <th>128931</th>\n",
       "      <td>0.267308</td>\n",
       "      <td>1.338172</td>\n",
       "    </tr>\n",
       "    <tr>\n",
       "      <th>25691</th>\n",
       "      <td>0.267149</td>\n",
       "      <td>-0.659415</td>\n",
       "    </tr>\n",
       "    <tr>\n",
       "      <th>51012</th>\n",
       "      <td>0.264891</td>\n",
       "      <td>-0.209961</td>\n",
       "    </tr>\n",
       "    <tr>\n",
       "      <th>191753</th>\n",
       "      <td>0.262767</td>\n",
       "      <td>-0.868095</td>\n",
       "    </tr>\n",
       "    <tr>\n",
       "      <th>2454</th>\n",
       "      <td>0.261669</td>\n",
       "      <td>-0.451479</td>\n",
       "    </tr>\n",
       "    <tr>\n",
       "      <th>67332</th>\n",
       "      <td>0.253020</td>\n",
       "      <td>-3.804979</td>\n",
       "    </tr>\n",
       "  </tbody>\n",
       "</table>\n",
       "</div>"
      ],
      "text/plain": [
       "         predict    actual\n",
       "74027   0.356416 -1.257478\n",
       "21400   0.335973 -3.439235\n",
       "184841  0.332294  1.379520\n",
       "76982   0.321072 -0.073606\n",
       "101883  0.319710 -0.439408\n",
       "9013    0.314519 -0.569811\n",
       "78778   0.308086 -0.373205\n",
       "193387  0.304643 -0.072221\n",
       "131488  0.296899  2.587645\n",
       "41573   0.296493  1.953911\n",
       "187920  0.293817 -0.394507\n",
       "73552   0.292426 -0.290565\n",
       "181100  0.283839  0.542804\n",
       "91515   0.273030  0.136540\n",
       "128931  0.267308  1.338172\n",
       "25691   0.267149 -0.659415\n",
       "51012   0.264891 -0.209961\n",
       "191753  0.262767 -0.868095\n",
       "2454    0.261669 -0.451479\n",
       "67332   0.253020 -3.804979"
      ]
     },
     "execution_count": 123,
     "metadata": {},
     "output_type": "execute_result"
    }
   ],
   "source": [
    "y_predict = result1.predict(x_train)\n",
    "pd.DataFrame({'predict':list(y_predict.values),'actual':list(y_train.values)}).sort_values(by=['predict'],ascending=False).head(20)"
   ]
  },
  {
   "cell_type": "code",
   "execution_count": 124,
   "metadata": {},
   "outputs": [
    {
     "name": "stdout",
     "output_type": "stream",
     "text": [
      "train shape :  (198314, 14)\n",
      "test shape :  (123623, 13)\n"
     ]
    }
   ],
   "source": [
    "print('train shape : ', train.shape)\n",
    "print('test shape : ', test.shape)"
   ]
  },
  {
   "cell_type": "code",
   "execution_count": 125,
   "metadata": {},
   "outputs": [],
   "source": [
    "elastic_net_pred = pd.DataFrame(result1.predict(test), index=test.index, columns=['target'])"
   ]
  },
  {
   "cell_type": "code",
   "execution_count": 134,
   "metadata": {},
   "outputs": [
    {
     "data": {
      "text/plain": [
       "(123623, 1)"
      ]
     },
     "execution_count": 134,
     "metadata": {},
     "output_type": "execute_result"
    }
   ],
   "source": [
    "elastic_net_pred.shape"
   ]
  },
  {
   "cell_type": "code",
   "execution_count": 132,
   "metadata": {},
   "outputs": [],
   "source": [
    "elastic_net_pred.fillna(0, inplace=True)"
   ]
  },
  {
   "cell_type": "code",
   "execution_count": 135,
   "metadata": {},
   "outputs": [],
   "source": [
    "#3.928\n",
    "elastic_net_pred.to_csv('190128_elastic_net.csv')"
   ]
  },
  {
   "cell_type": "markdown",
   "metadata": {},
   "source": [
    "## LightGBM"
   ]
  },
  {
   "cell_type": "code",
   "execution_count": 137,
   "metadata": {},
   "outputs": [],
   "source": [
    "from lightgbm import LGBMRegressor"
   ]
  },
  {
   "cell_type": "code",
   "execution_count": 139,
   "metadata": {},
   "outputs": [],
   "source": [
    "lgb = LGBMRegressor()"
   ]
  },
  {
   "cell_type": "code",
   "execution_count": 146,
   "metadata": {},
   "outputs": [],
   "source": [
    "result2 = lgb.fit(x_train, y_train)\n",
    "lgb_pred = result2.predict(test)"
   ]
  },
  {
   "cell_type": "code",
   "execution_count": 157,
   "metadata": {},
   "outputs": [],
   "source": [
    "lgb_pred = pd.DataFrame(lgb_pred, index=test.index, columns=['target'])"
   ]
  },
  {
   "cell_type": "code",
   "execution_count": 159,
   "metadata": {},
   "outputs": [],
   "source": [
    "#3.905\n",
    "lgb_pred.to_csv('190128_lgb.csv')"
   ]
  },
  {
   "cell_type": "code",
   "execution_count": null,
   "metadata": {},
   "outputs": [],
   "source": []
  }
 ],
 "metadata": {
  "kernelspec": {
   "display_name": "Python 3",
   "language": "python",
   "name": "python3"
  },
  "language_info": {
   "codemirror_mode": {
    "name": "ipython",
    "version": 3
   },
   "file_extension": ".py",
   "mimetype": "text/x-python",
   "name": "python",
   "nbconvert_exporter": "python",
   "pygments_lexer": "ipython3",
   "version": "3.6.5"
  }
 },
 "nbformat": 4,
 "nbformat_minor": 2
}
