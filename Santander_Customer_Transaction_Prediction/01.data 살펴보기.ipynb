{
  "cells": [
    {
      "metadata": {
        "_uuid": "8f2839f25d086af736a60e9eeb907d3b93b6e0e5",
        "_cell_guid": "b1076dfc-b9ad-4769-8c92-a6c4dae69d19",
        "trusted": true
      },
      "cell_type": "code",
      "source": "# This Python 3 environment comes with many helpful analytics libraries installed\n# It is defined by the kaggle/python docker image: https://github.com/kaggle/docker-python\n# For example, here's several helpful packages to load in \n\nimport numpy as np # linear algebra\nimport pandas as pd # data processing, CSV file I/O (e.g. pd.read_csv)\n\n# Input data files are available in the \"../input/\" directory.\n# For example, running this (by clicking run or pressing Shift+Enter) will list the files in the input directory\n\nimport os\nprint(os.listdir(\"../input\"))\n\n# Any results you write to the current directory are saved as output.",
      "execution_count": null,
      "outputs": []
    },
    {
      "metadata": {
        "_uuid": "1dc9be25e8010098176c11f9f826250331bc77ee"
      },
      "cell_type": "markdown",
      "source": "- 어느 소비자들이 훗날에 현금을 인출할 것인지를 구분하는 것이 목표\n- 모든 변수들은 익명화되어 있어 무엇을 의미하는지 알 수 없음"
    },
    {
      "metadata": {
        "_cell_guid": "79c7e3d0-c299-4dcb-8224-4455121ee9b0",
        "_uuid": "d629ff2d2480ee46fbb7e2d37f6b5fab8052498a",
        "trusted": true
      },
      "cell_type": "code",
      "source": "train = pd.read_csv('../input/train.csv')\ntest = pd.read_csv('../input/test.csv')",
      "execution_count": null,
      "outputs": []
    },
    {
      "metadata": {
        "trusted": true,
        "_uuid": "be2c73f1f8d6ff10601362d93f4362252ac25123"
      },
      "cell_type": "code",
      "source": "print('train shape : ', train.shape)\nprint('test shape : ', test.shape)",
      "execution_count": null,
      "outputs": []
    },
    {
      "metadata": {
        "trusted": true,
        "scrolled": true,
        "_uuid": "a69ab7547ee36c4e16b1c4016109105148b2bb0f"
      },
      "cell_type": "code",
      "source": "print('train ID_code is unique!' ) if len(train) == len(train.ID_code.unique()) else print('NO!')\nprint('test ID_code is unique!' ) if len(test) == len(test.ID_code.unique()) else print('NO!')",
      "execution_count": null,
      "outputs": []
    },
    {
      "metadata": {
        "trusted": true,
        "_uuid": "e6a541b3ce35f6e1314c7cf4a600818363eae23f"
      },
      "cell_type": "code",
      "source": "print('All features of train are float64') if len(train.columns[2:]) == sum([True for col in train.columns[2:] if train[col].dtype == 'float64']) else print('NO!')\nprint('All features of test are float64') if len(test.columns[1:]) == sum([True for col in train.columns[1:] if train[col].dtype == 'float64']) else print('NO!')",
      "execution_count": null,
      "outputs": []
    },
    {
      "metadata": {
        "trusted": true,
        "_uuid": "07169171f6a5a942a24e66182b83058e50a1e5ac"
      },
      "cell_type": "code",
      "source": "print('train data has no NAs') if train.isnull().sum().sum() == 0 else print('No')\nprint('test data has no NAs') if test.isnull().sum().sum() == 0 else print('No')",
      "execution_count": null,
      "outputs": []
    },
    {
      "metadata": {
        "_uuid": "f927fc7842987c8db49d95cc566a2cb3b0246dec"
      },
      "cell_type": "markdown",
      "source": "## target"
    },
    {
      "metadata": {
        "trusted": true,
        "_uuid": "f981e7a4ff43203bfd73ebd0475ed9efe9d5cacc"
      },
      "cell_type": "code",
      "source": "train.target.hist()",
      "execution_count": null,
      "outputs": []
    },
    {
      "metadata": {
        "trusted": true,
        "_uuid": "0ba1ede73ff48268894ca429a20a96a28e4be8b4"
      },
      "cell_type": "code",
      "source": "#1의 개수가 전체 데잍어ㅢ 약 10%를 차지하므로 1을 잘 맞추는 것(훗날 인출할 사람 찾는 것)이 중요\nprint('1의 개수 : ', sum(train.target == 1))\nprint('1의 비율 : ',sum(train.target == 1) / len(train))",
      "execution_count": null,
      "outputs": []
    },
    {
      "metadata": {
        "_uuid": "8f99626b523d7ddb856d7956f4e3d8cc2fa1d172"
      },
      "cell_type": "markdown",
      "source": ""
    },
    {
      "metadata": {
        "_uuid": "a6e4e797f7e14cf44c4a8fc89f5f08ab71f3b20f"
      },
      "cell_type": "markdown",
      "source": "### var_0 ~var_199"
    },
    {
      "metadata": {
        "trusted": true,
        "_uuid": "02cba2572793b765e1ab95072f5dc128cfe987c0"
      },
      "cell_type": "code",
      "source": "train.describe()",
      "execution_count": null,
      "outputs": []
    },
    {
      "metadata": {
        "_uuid": "c409c3f9dba05f269d4b727fa52bead8fdc86821"
      },
      "cell_type": "markdown",
      "source": "#### mean"
    },
    {
      "metadata": {
        "trusted": true,
        "_uuid": "1ca7c049a30e6b655115ce10f20e447def093388"
      },
      "cell_type": "code",
      "source": "import matplotlib.pyplot as plt",
      "execution_count": null,
      "outputs": []
    },
    {
      "metadata": {
        "trusted": true,
        "_uuid": "ddf3a692bbdcdfa4240352907136a66062f35ba1"
      },
      "cell_type": "code",
      "source": "#except target\ntrain_mean = train.iloc[:,2:].mean()",
      "execution_count": null,
      "outputs": []
    },
    {
      "metadata": {
        "trusted": true,
        "_uuid": "71bd24505d59029bdcfed607d66a3001d6932c0e"
      },
      "cell_type": "code",
      "source": "plt.figure(figsize = (20,10))\ntrain_mean.plot()\nplt.ylabel('mean')\nplt.axhline(y=0, color='r', linestyle='-')\nplt.title('mean by variables')",
      "execution_count": null,
      "outputs": []
    },
    {
      "metadata": {
        "trusted": true,
        "_uuid": "fd417398249445efbd53812ae340f4c1c04065d7"
      },
      "cell_type": "code",
      "source": "#변수별 평균이 0보다 작은 값은 몇 개 되지 않음.\ntrain_mean[train_mean < 0]",
      "execution_count": null,
      "outputs": []
    },
    {
      "metadata": {
        "_uuid": "7aca91ba1d7555e02b65cb1d7727ce81f5322dec"
      },
      "cell_type": "markdown",
      "source": "### variance"
    },
    {
      "metadata": {
        "trusted": true,
        "_uuid": "021777f2e2f3772959702eec989a35fce0a08eb7"
      },
      "cell_type": "code",
      "source": "#except target\ntrain_var = train.iloc[:,2:].var()",
      "execution_count": null,
      "outputs": []
    },
    {
      "metadata": {
        "trusted": true,
        "_uuid": "d6e9629ca8af4d9c5585cf20668dc617c48f70fc"
      },
      "cell_type": "code",
      "source": "plt.figure(figsize = (20,10))\ntrain_var.plot()\nplt.ylabel('variance')\nplt.title('variance by variables')",
      "execution_count": null,
      "outputs": []
    },
    {
      "metadata": {
        "trusted": true,
        "_uuid": "3b13eff7f8d6be62af722503374e02c65d377fd3"
      },
      "cell_type": "code",
      "source": "#대부분 변수들의 분산은 0근처에\ntrain_var.hist(bins = 50)",
      "execution_count": null,
      "outputs": []
    },
    {
      "metadata": {
        "trusted": true,
        "scrolled": true,
        "_uuid": "1e6a76f233f3c21f715f8bb5fd4c4e7ad18a28b4"
      },
      "cell_type": "code",
      "source": "train_var.sort_values(ascending=False)[:5]",
      "execution_count": null,
      "outputs": []
    }
  ],
  "metadata": {
    "kernelspec": {
      "display_name": "Python 3",
      "language": "python",
      "name": "python3"
    },
    "language_info": {
      "name": "python",
      "version": "3.6.6",
      "mimetype": "text/x-python",
      "codemirror_mode": {
        "name": "ipython",
        "version": 3
      },
      "pygments_lexer": "ipython3",
      "nbconvert_exporter": "python",
      "file_extension": ".py"
    }
  },
  "nbformat": 4,
  "nbformat_minor": 1
}